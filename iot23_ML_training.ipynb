{
 "cells": [
  {
   "cell_type": "code",
   "execution_count": 104,
   "id": "336d7582-17d9-4c65-9120-f0f40d5d66ce",
   "metadata": {},
   "outputs": [],
   "source": [
    "import os\n",
    "import random\n",
    "import numpy as np\n",
    "import pandas as pd\n",
    "import tensorflow as tf\n",
    "from sklearn.model_selection import train_test_split\n",
    "from sklearn.metrics import confusion_matrix, f1_score, ConfusionMatrixDisplay, precision_score"
   ]
  },
  {
   "cell_type": "code",
   "execution_count": 2,
   "id": "bd4891b1-de09-419a-9bcb-be22dfdfb614",
   "metadata": {},
   "outputs": [
    {
     "name": "stdout",
     "output_type": "stream",
     "text": [
      "Device mapping:\n",
      "/job:localhost/replica:0/task:0/device:GPU:0 -> device: 0, name: NVIDIA GeForce RTX 3070, pci bus id: 0000:06:00.0, compute capability: 8.6\n",
      "\n"
     ]
    }
   ],
   "source": [
    "sess = tf.compat.v1.Session(config=tf.compat.v1.ConfigProto(log_device_placement=True))"
   ]
  },
  {
   "cell_type": "code",
   "execution_count": 58,
   "id": "dd891bd2-9f6b-422b-8581-d71d293cb8a8",
   "metadata": {},
   "outputs": [],
   "source": [
    "shuffled_folder = 'dataset/shuffled/'\n",
    "shuffled_files = [shuffled_folder + file for file in os.listdir(shuffled_folder)]\n",
    "random.shuffle(shuffled_files)"
   ]
  },
  {
   "cell_type": "code",
   "execution_count": 59,
   "id": "ad5153c8-026d-4ca5-956b-2cf8b7b7d041",
   "metadata": {},
   "outputs": [],
   "source": [
    "num_files = len(shuffled_files)\n",
    "training_cut = round(0.4 * num_files)\n",
    "cross_cut = round(0.7 * num_files)"
   ]
  },
  {
   "cell_type": "code",
   "execution_count": 60,
   "id": "f9fbf028-09e5-4221-967f-9e15f1f35c7d",
   "metadata": {},
   "outputs": [],
   "source": [
    "training_files = shuffled_files[:training_cut]\n",
    "cross_validation_files = shuffled_files[training_cut:cross_cut]\n",
    "test_files = shuffled_files[cross_cut:]"
   ]
  },
  {
   "cell_type": "code",
   "execution_count": 10,
   "id": "9f2c5511-0478-4186-bb25-ea79893d3555",
   "metadata": {},
   "outputs": [],
   "source": [
    "def get_train_test_dfs(file):\n",
    "    df = pd.read_parquet(file)\n",
    "    df = df.fillna(0)\n",
    "    X = df[[i for i in df.columns if not i == 'label']]\n",
    "    y = df[['label']]\n",
    "    return train_test_split(X, y, test_size=0.3, stratify=y)"
   ]
  },
  {
   "cell_type": "code",
   "execution_count": 72,
   "id": "9d6cc557-49e2-487b-9b96-59fa70e5012a",
   "metadata": {},
   "outputs": [],
   "source": [
    "X_train, X_test, y_train, y_test = get_train_test_dfs(training_files[8])"
   ]
  },
  {
   "cell_type": "code",
   "execution_count": 12,
   "id": "a7574a10-f911-4422-883b-51e8a9136d6f",
   "metadata": {},
   "outputs": [],
   "source": [
    "def check_distrib(df):\n",
    "    df = df[['label']]\n",
    "    ones = len(df[df['label'] == 1])\n",
    "    return ones / len(df)"
   ]
  },
  {
   "cell_type": "code",
   "execution_count": 73,
   "id": "cffd8369-6f17-41bb-b2ab-df3c7d5b2d86",
   "metadata": {},
   "outputs": [
    {
     "data": {
      "text/plain": [
       "(6587395, 6587395, 2823170, 2823170)"
      ]
     },
     "execution_count": 73,
     "metadata": {},
     "output_type": "execute_result"
    }
   ],
   "source": [
    "len(X_train), len(y_train), len(X_test), len(y_test)"
   ]
  },
  {
   "cell_type": "code",
   "execution_count": 74,
   "id": "ea383be6-487b-4762-875c-03a527a20f06",
   "metadata": {},
   "outputs": [
    {
     "data": {
      "text/plain": [
       "(0.739918890547781, 0.7399189563504854)"
      ]
     },
     "execution_count": 74,
     "metadata": {},
     "output_type": "execute_result"
    }
   ],
   "source": [
    "check_distrib(y_train), check_distrib(y_test)"
   ]
  },
  {
   "cell_type": "code",
   "execution_count": 15,
   "id": "30c31e41-34aa-498c-84e8-ac661af8bf50",
   "metadata": {},
   "outputs": [],
   "source": [
    "def plot_confusion_matrix(y_true, y_pred):\n",
    "    conf_mat = ConfusionMatrixDisplay(confusion_matrix(y_true, y_pred))\n",
    "    conf_mat.plot()"
   ]
  },
  {
   "cell_type": "markdown",
   "id": "f93c3ab4-3fef-4f0b-a248-b80e73a899d5",
   "metadata": {},
   "source": [
    "---"
   ]
  },
  {
   "cell_type": "code",
   "execution_count": 118,
   "id": "3741d7be-fb18-40a9-94a6-cd97e2f55bf2",
   "metadata": {},
   "outputs": [],
   "source": [
    "from keras.models import Sequential\n",
    "from keras.layers import InputLayer, Dense, Flatten, Reshape, Dropout, Conv1D\n",
    "from keras.regularizers import L1L2"
   ]
  },
  {
   "cell_type": "code",
   "execution_count": 134,
   "id": "58df66e7-4c6b-408c-b146-e19a745306bc",
   "metadata": {},
   "outputs": [],
   "source": [
    "model = Sequential()\n",
    "model.add(Dense(units=50, activation='relu', kernel_regularizer=L1L2(1e-5, 1e-5)))\n",
    "model.add(Dense(units=200, activation='relu', kernel_regularizer=L1L2(1e-5, 1e-5)))\n",
    "model.add(Dense(units=500, activation='relu', kernel_regularizer=L1L2(1e-5, 1e-5)))\n",
    "# model.add(Dropout(0.2))\n",
    "model.add(Dense(units=100, activation='relu', kernel_regularizer=L1L2(1e-5, 1e-5)))\n",
    "model.add(Dense(units=1, activation='sigmoid', kernel_regularizer=L1L2(1e-5, 1e-5)))\n",
    "model.compile(optimizer='adam', loss='binary_crossentropy', metrics=[tf.keras.metrics.Precision(), tf.keras.metrics.FalsePositives(), tf.keras.metrics.TrueNegatives()])"
   ]
  },
  {
   "cell_type": "code",
   "execution_count": 135,
   "id": "59d19b5f-53cb-43f9-bea2-097d5ced0c2e",
   "metadata": {},
   "outputs": [
    {
     "name": "stdout",
     "output_type": "stream",
     "text": [
      "205857/205857 [==============================] - 1329s 6ms/step - loss: 0.5440 - precision_9: 0.7402 - false_positives_9: 428465.3804 - true_negatives_9: 0.0000e+00\n"
     ]
    },
    {
     "data": {
      "text/plain": [
       "<keras.callbacks.History at 0x1808285d070>"
      ]
     },
     "execution_count": 135,
     "metadata": {},
     "output_type": "execute_result"
    }
   ],
   "source": [
    "model.fit(X_train, y_train)"
   ]
  },
  {
   "cell_type": "code",
   "execution_count": 136,
   "id": "8c5f6097-16c1-406d-a82b-6cea7f2e247b",
   "metadata": {},
   "outputs": [],
   "source": [
    "y_pred = model.predict(X_test)\n",
    "y_pred = np.round(y_pred)"
   ]
  },
  {
   "cell_type": "code",
   "execution_count": 141,
   "id": "192170e1-4e98-4df5-ae36-e55f5e3d56d0",
   "metadata": {},
   "outputs": [
    {
     "name": "stdout",
     "output_type": "stream",
     "text": [
      "F1 = 0.8505211735867056\n",
      "Precision = 0.7399189563504854 \n",
      "\n"
     ]
    },
    {
     "data": {
      "image/png": "[encoded data removed]",
      "text/plain": [
       "<Figure size 432x288 with 2 Axes>"
      ]
     },
     "metadata": {
      "needs_background": "light"
     },
     "output_type": "display_data"
    }
   ],
   "source": [
    "print(f'F1 =', f1_score(y_test, y_pred))\n",
    "print(f'Precision =', precision_score(y_test, y_pred), '\\n')\n",
    "plot_confusion_matrix(y_test, y_pred)"
   ]
  },
  {
   "cell_type": "code",
   "execution_count": 142,
   "id": "8df96f95-3498-46de-8b31-ab382dc8f325",
   "metadata": {},
   "outputs": [],
   "source": [
    "model = Sequential()\n",
    "model.add(Dense(units=1, activation='relu', kernel_regularizer=L1L2(1e-5, 1e-5)))\n",
    "model.add(Dense(units=1, activation='sigmoid', kernel_regularizer=L1L2(1e-5, 1e-5)))\n",
    "model.compile(optimizer='adam', loss='binary_crossentropy', metrics=[tf.keras.metrics.Precision(), tf.keras.metrics.FalsePositives(), tf.keras.metrics.TrueNegatives()])"
   ]
  },
  {
   "cell_type": "code",
   "execution_count": 143,
   "id": "c1648a2d-3a5b-4011-b93e-36c3de55b6a6",
   "metadata": {},
   "outputs": [
    {
     "name": "stdout",
     "output_type": "stream",
     "text": [
      "205857/205857 [==============================] - 1000s 5ms/step - loss: 0.5434 - precision_10: 0.7406 - false_positives_10: 427910.3043 - true_negatives_10: 123.5893\n"
     ]
    },
    {
     "data": {
      "text/plain": [
       "<keras.callbacks.History at 0x180834b1a90>"
      ]
     },
     "execution_count": 143,
     "metadata": {},
     "output_type": "execute_result"
    }
   ],
   "source": [
    "model.fit(X_train, y_train)"
   ]
  },
  {
   "cell_type": "code",
   "execution_count": 144,
   "id": "f3834eee-761d-4ee3-9501-bd71640bec93",
   "metadata": {},
   "outputs": [],
   "source": [
    "y_pred = model.predict(X_test)\n",
    "y_pred = np.round(y_pred)"
   ]
  },
  {
   "cell_type": "code",
   "execution_count": 145,
   "id": "182ee413-530e-494d-b6b0-865aec487fe4",
   "metadata": {},
   "outputs": [
    {
     "name": "stdout",
     "output_type": "stream",
     "text": [
      "F1 = 0.8506587435005278\n",
      "Precision = 0.74014111430911 \n",
      "\n"
     ]
    },
    {
     "data": {
      "image/png": "[encoded data removed]",
      "text/plain": [
       "<Figure size 432x288 with 2 Axes>"
      ]
     },
     "metadata": {
      "needs_background": "light"
     },
     "output_type": "display_data"
    }
   ],
   "source": [
    "print(f'F1 =', f1_score(y_test, y_pred))\n",
    "print(f'Precision =', precision_score(y_test, y_pred), '\\n')\n",
    "plot_confusion_matrix(y_test, y_pred)"
   ]
  }
 ],
 "metadata": {
  "kernelspec": {
   "display_name": "Python 3",
   "language": "python",
   "name": "python3"
  },
  "language_info": {
   "codemirror_mode": {
    "name": "ipython",
    "version": 3
   },
   "file_extension": ".py",
   "mimetype": "text/x-python",
   "name": "python",
   "nbconvert_exporter": "python",
   "pygments_lexer": "ipython3",
   "version": "3.8.8"
  }
 },
 "nbformat": 4,
 "nbformat_minor": 5
}
