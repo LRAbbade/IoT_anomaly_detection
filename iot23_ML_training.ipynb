{
 "cells": [
  {
   "cell_type": "code",
   "execution_count": 1,
   "id": "336d7582-17d9-4c65-9120-f0f40d5d66ce",
   "metadata": {},
   "outputs": [],
   "source": [
    "import os\n",
    "import random\n",
    "import numpy as np\n",
    "import pandas as pd\n",
    "import tensorflow as tf\n",
    "from sklearn.model_selection import train_test_split\n",
    "from sklearn.metrics import confusion_matrix, f1_score, ConfusionMatrixDisplay, precision_score, recall_score\n",
    "from keras.models import Sequential\n",
    "from keras.layers import InputLayer, Dense, Flatten, Reshape, Dropout, Conv1D\n",
    "from keras.regularizers import L1L2\n",
    "from sklearn.utils import resample"
   ]
  },
  {
   "cell_type": "code",
   "execution_count": 2,
   "id": "bd4891b1-de09-419a-9bcb-be22dfdfb614",
   "metadata": {},
   "outputs": [
    {
     "name": "stdout",
     "output_type": "stream",
     "text": [
      "Device mapping:\n",
      "/job:localhost/replica:0/task:0/device:GPU:0 -> device: 0, name: NVIDIA GeForce RTX 3070, pci bus id: 0000:06:00.0, compute capability: 8.6\n",
      "\n"
     ]
    }
   ],
   "source": [
    "sess = tf.compat.v1.Session(config=tf.compat.v1.ConfigProto(log_device_placement=True))"
   ]
  },
  {
   "cell_type": "code",
   "execution_count": 3,
   "id": "dd891bd2-9f6b-422b-8581-d71d293cb8a8",
   "metadata": {},
   "outputs": [],
   "source": [
    "shuffled_folder = 'dataset/shuffled/'\n",
    "shuffled_files = [shuffled_folder + file for file in os.listdir(shuffled_folder)]\n",
    "random.shuffle(shuffled_files)"
   ]
  },
  {
   "cell_type": "code",
   "execution_count": 4,
   "id": "ad5153c8-026d-4ca5-956b-2cf8b7b7d041",
   "metadata": {},
   "outputs": [],
   "source": [
    "num_files = len(shuffled_files)\n",
    "training_cut = round(0.4 * num_files)\n",
    "cross_cut = round(0.7 * num_files)"
   ]
  },
  {
   "cell_type": "code",
   "execution_count": 5,
   "id": "f9fbf028-09e5-4221-967f-9e15f1f35c7d",
   "metadata": {},
   "outputs": [],
   "source": [
    "training_files = shuffled_files[:training_cut]\n",
    "cross_validation_files = shuffled_files[training_cut:cross_cut]\n",
    "test_files = shuffled_files[cross_cut:]"
   ]
  },
  {
   "cell_type": "code",
   "execution_count": 6,
   "id": "9f2c5511-0478-4186-bb25-ea79893d3555",
   "metadata": {},
   "outputs": [],
   "source": [
    "def get_train_test_dfs(file):\n",
    "    df = pd.read_parquet(file)\n",
    "    df = df.fillna(0)\n",
    "    X = df[[i for i in df.columns if not i == 'label']]\n",
    "    y = df[['label']]\n",
    "    return train_test_split(X, y, test_size=0.3, stratify=y)"
   ]
  },
  {
   "cell_type": "code",
   "execution_count": 7,
   "id": "9d6cc557-49e2-487b-9b96-59fa70e5012a",
   "metadata": {},
   "outputs": [],
   "source": [
    "X_train, X_test, y_train, y_test = get_train_test_dfs('dataset/shuffled/part_6')"
   ]
  },
  {
   "cell_type": "code",
   "execution_count": 8,
   "id": "a7574a10-f911-4422-883b-51e8a9136d6f",
   "metadata": {},
   "outputs": [],
   "source": [
    "def check_distrib(df):\n",
    "    df = df[['label']]\n",
    "    ones = len(df[df['label'] == 1])\n",
    "    return ones / len(df)"
   ]
  },
  {
   "cell_type": "code",
   "execution_count": 9,
   "id": "cffd8369-6f17-41bb-b2ab-df3c7d5b2d86",
   "metadata": {},
   "outputs": [
    {
     "data": {
      "text/plain": [
       "(6587395, 6587395, 2823170, 2823170)"
      ]
     },
     "execution_count": 9,
     "metadata": {},
     "output_type": "execute_result"
    }
   ],
   "source": [
    "len(X_train), len(y_train), len(X_test), len(y_test)"
   ]
  },
  {
   "cell_type": "code",
   "execution_count": 10,
   "id": "ea383be6-487b-4762-875c-03a527a20f06",
   "metadata": {},
   "outputs": [
    {
     "data": {
      "text/plain": [
       "(0.739918890547781, 0.7399189563504854)"
      ]
     },
     "execution_count": 10,
     "metadata": {},
     "output_type": "execute_result"
    }
   ],
   "source": [
    "check_distrib(y_train), check_distrib(y_test)"
   ]
  },
  {
   "cell_type": "code",
   "execution_count": 11,
   "id": "30c31e41-34aa-498c-84e8-ac661af8bf50",
   "metadata": {},
   "outputs": [],
   "source": [
    "def plot_confusion_matrix(y_true, y_pred):\n",
    "    conf_mat = ConfusionMatrixDisplay(confusion_matrix(y_true, y_pred))\n",
    "    conf_mat.plot()"
   ]
  },
  {
   "cell_type": "markdown",
   "id": "f93c3ab4-3fef-4f0b-a248-b80e73a899d5",
   "metadata": {},
   "source": [
    "---"
   ]
  },
  {
   "cell_type": "code",
   "execution_count": 134,
   "id": "58df66e7-4c6b-408c-b146-e19a745306bc",
   "metadata": {},
   "outputs": [],
   "source": [
    "model = Sequential()\n",
    "model.add(Dense(units=50, activation='relu', kernel_regularizer=L1L2(1e-5, 1e-5)))\n",
    "model.add(Dense(units=200, activation='relu', kernel_regularizer=L1L2(1e-5, 1e-5)))\n",
    "model.add(Dense(units=500, activation='relu', kernel_regularizer=L1L2(1e-5, 1e-5)))\n",
    "# model.add(Dropout(0.2))\n",
    "model.add(Dense(units=100, activation='relu', kernel_regularizer=L1L2(1e-5, 1e-5)))\n",
    "model.add(Dense(units=1, activation='sigmoid', kernel_regularizer=L1L2(1e-5, 1e-5)))\n",
    "model.compile(optimizer='adam', loss='binary_crossentropy', metrics=[tf.keras.metrics.Precision(), tf.keras.metrics.FalsePositives(), tf.keras.metrics.TrueNegatives()])"
   ]
  },
  {
   "cell_type": "code",
   "execution_count": 135,
   "id": "59d19b5f-53cb-43f9-bea2-097d5ced0c2e",
   "metadata": {},
   "outputs": [
    {
     "name": "stdout",
     "output_type": "stream",
     "text": [
      "205857/205857 [==============================] - 1329s 6ms/step - loss: 0.5440 - precision_9: 0.7402 - false_positives_9: 428465.3804 - true_negatives_9: 0.0000e+00\n"
     ]
    },
    {
     "data": {
      "text/plain": [
       "<keras.callbacks.History at 0x1808285d070>"
      ]
     },
     "execution_count": 135,
     "metadata": {},
     "output_type": "execute_result"
    }
   ],
   "source": [
    "model.fit(X_train, y_train)"
   ]
  },
  {
   "cell_type": "code",
   "execution_count": 136,
   "id": "8c5f6097-16c1-406d-a82b-6cea7f2e247b",
   "metadata": {},
   "outputs": [],
   "source": [
    "y_pred = model.predict(X_test)\n",
    "y_pred = np.round(y_pred)"
   ]
  },
  {
   "cell_type": "code",
   "execution_count": 141,
   "id": "192170e1-4e98-4df5-ae36-e55f5e3d56d0",
   "metadata": {},
   "outputs": [
    {
     "name": "stdout",
     "output_type": "stream",
     "text": [
      "F1 = 0.8505211735867056\n",
      "Precision = 0.7399189563504854 \n",
      "\n"
     ]
    },
    {
     "data": {
      "image/png": "[encoded data removed]",
      "text/plain": [
       "<Figure size 432x288 with 2 Axes>"
      ]
     },
     "metadata": {
      "needs_background": "light"
     },
     "output_type": "display_data"
    }
   ],
   "source": [
    "print(f'F1 =', f1_score(y_test, y_pred))\n",
    "print(f'Precision =', precision_score(y_test, y_pred), '\\n')\n",
    "plot_confusion_matrix(y_test, y_pred)"
   ]
  },
  {
   "cell_type": "code",
   "execution_count": 142,
   "id": "8df96f95-3498-46de-8b31-ab382dc8f325",
   "metadata": {},
   "outputs": [],
   "source": [
    "model = Sequential()\n",
    "model.add(Dense(units=1, activation='relu', kernel_regularizer=L1L2(1e-5, 1e-5)))\n",
    "model.add(Dense(units=1, activation='sigmoid', kernel_regularizer=L1L2(1e-5, 1e-5)))\n",
    "model.compile(optimizer='adam', loss='binary_crossentropy', metrics=[tf.keras.metrics.Precision(), tf.keras.metrics.FalsePositives(), tf.keras.metrics.TrueNegatives()])"
   ]
  },
  {
   "cell_type": "code",
   "execution_count": 143,
   "id": "c1648a2d-3a5b-4011-b93e-36c3de55b6a6",
   "metadata": {},
   "outputs": [
    {
     "name": "stdout",
     "output_type": "stream",
     "text": [
      "205857/205857 [==============================] - 1000s 5ms/step - loss: 0.5434 - precision_10: 0.7406 - false_positives_10: 427910.3043 - true_negatives_10: 123.5893\n"
     ]
    },
    {
     "data": {
      "text/plain": [
       "<keras.callbacks.History at 0x180834b1a90>"
      ]
     },
     "execution_count": 143,
     "metadata": {},
     "output_type": "execute_result"
    }
   ],
   "source": [
    "model.fit(X_train, y_train)"
   ]
  },
  {
   "cell_type": "code",
   "execution_count": 144,
   "id": "f3834eee-761d-4ee3-9501-bd71640bec93",
   "metadata": {},
   "outputs": [],
   "source": [
    "y_pred = model.predict(X_test)\n",
    "y_pred = np.round(y_pred)"
   ]
  },
  {
   "cell_type": "code",
   "execution_count": 145,
   "id": "182ee413-530e-494d-b6b0-865aec487fe4",
   "metadata": {},
   "outputs": [
    {
     "name": "stdout",
     "output_type": "stream",
     "text": [
      "F1 = 0.8506587435005278\n",
      "Precision = 0.74014111430911 \n",
      "\n"
     ]
    },
    {
     "data": {
      "image/png": "[encoded data removed]",
      "text/plain": [
       "<Figure size 432x288 with 2 Axes>"
      ]
     },
     "metadata": {
      "needs_background": "light"
     },
     "output_type": "display_data"
    }
   ],
   "source": [
    "print(f'F1 =', f1_score(y_test, y_pred))\n",
    "print(f'Precision =', precision_score(y_test, y_pred), '\\n')\n",
    "plot_confusion_matrix(y_test, y_pred)"
   ]
  },
  {
   "cell_type": "markdown",
   "id": "a62c888f-4224-467d-b6da-128b7b3e5570",
   "metadata": {},
   "source": [
    "---"
   ]
  },
  {
   "cell_type": "markdown",
   "id": "059b7c32-1b28-4f92-842a-bf30f90afc4a",
   "metadata": {},
   "source": [
    "### Try undersampling"
   ]
  },
  {
   "cell_type": "code",
   "execution_count": 12,
   "id": "259e1a88-7d9d-4ac2-bca4-88d681d85b27",
   "metadata": {},
   "outputs": [],
   "source": [
    "def shuffle_df(df):\n",
    "    return df.sample(frac=1).reset_index(drop=True)"
   ]
  },
  {
   "cell_type": "code",
   "execution_count": 15,
   "id": "5688a1b8-c6f0-4470-aeb7-c8966af5d6bb",
   "metadata": {},
   "outputs": [],
   "source": [
    "def get_undersampled_df(file):\n",
    "    X_train, X_test, y_train, y_test = get_train_test_dfs(file)\n",
    "    train = pd.concat([X_train, y_train], axis=1)\n",
    "    negative = train[train['label'] == 0]\n",
    "    positive = train[train['label'] == 1]\n",
    "    us_positive = shuffle_df(positive).iloc[:len(negative)]\n",
    "    train = pd.concat([us_positive, negative])\n",
    "    train = shuffle_df(train)\n",
    "    X_train = train[[i for i in train.columns if i != 'label']]\n",
    "    y_train = train[['label']]\n",
    "    return X_train, X_test, y_train, y_test"
   ]
  },
  {
   "cell_type": "code",
   "execution_count": 16,
   "id": "be8a49aa-0217-49a2-975a-575ff0315456",
   "metadata": {},
   "outputs": [],
   "source": [
    "X_train, X_test, y_train, y_test = get_undersampled_df('dataset/shuffled/part_6')"
   ]
  },
  {
   "cell_type": "code",
   "execution_count": 17,
   "id": "94cce43a-8735-4a31-9a64-74f6b6f46b81",
   "metadata": {},
   "outputs": [
    {
     "data": {
      "text/plain": [
       "(3426514, 3426514, 2823170, 2823170)"
      ]
     },
     "execution_count": 17,
     "metadata": {},
     "output_type": "execute_result"
    }
   ],
   "source": [
    "len(X_train), len(y_train), len(X_test), len(y_test)"
   ]
  },
  {
   "cell_type": "code",
   "execution_count": 18,
   "id": "5de75eb5-843a-4a44-9451-b875e6499659",
   "metadata": {},
   "outputs": [
    {
     "data": {
      "text/plain": [
       "(0.5, 0.7399189563504854)"
      ]
     },
     "execution_count": 18,
     "metadata": {},
     "output_type": "execute_result"
    }
   ],
   "source": [
    "check_distrib(y_train), check_distrib(y_test)"
   ]
  },
  {
   "cell_type": "code",
   "execution_count": 82,
   "id": "52549aab-de6e-499c-a528-f31556b6348b",
   "metadata": {},
   "outputs": [],
   "source": [
    "model = Sequential()\n",
    "model.add(Dense(units=1, activation='relu', kernel_regularizer=L1L2(1e-5, 1e-5)))\n",
    "model.add(Dense(units=1, activation='sigmoid', kernel_regularizer=L1L2(1e-5, 1e-5)))\n",
    "model.compile(optimizer='adam', loss='binary_crossentropy', metrics=[tf.keras.metrics.Recall(), tf.keras.metrics.FalseNegatives(), tf.keras.metrics.Precision()])"
   ]
  },
  {
   "cell_type": "code",
   "execution_count": 83,
   "id": "94ff2019-5eea-4b51-a884-e3aa87c23aa7",
   "metadata": {},
   "outputs": [
    {
     "name": "stdout",
     "output_type": "stream",
     "text": [
      "107079/107079 [==============================] - 537s 5ms/step - loss: 0.6484 - recall_3: 0.1939 - false_negatives: 367743.4495 - precision_5: 0.8413\n"
     ]
    },
    {
     "data": {
      "text/plain": [
       "<keras.callbacks.History at 0x1f5666c4280>"
      ]
     },
     "execution_count": 83,
     "metadata": {},
     "output_type": "execute_result"
    }
   ],
   "source": [
    "model.fit(X_train, y_train)"
   ]
  },
  {
   "cell_type": "code",
   "execution_count": 84,
   "id": "f90df72e-29b7-436e-8081-86bc932ddf5c",
   "metadata": {},
   "outputs": [],
   "source": [
    "y_pred = model.predict(X_test)\n",
    "y_pred = np.round(y_pred)"
   ]
  },
  {
   "cell_type": "code",
   "execution_count": 85,
   "id": "0ca215cc-c301-48a4-adaf-4d251e43b522",
   "metadata": {},
   "outputs": [
    {
     "name": "stdout",
     "output_type": "stream",
     "text": [
      "F1 = 0.23103900739399005\n",
      "Precision = 0.999875396714871 \n",
      "\n",
      "Recall = 0.13060930616199687 \n",
      "\n"
     ]
    },
    {
     "data": {
      "image/png": "[encoded data removed]",
      "text/plain": [
       "<Figure size 432x288 with 2 Axes>"
      ]
     },
     "metadata": {
      "needs_background": "light"
     },
     "output_type": "display_data"
    }
   ],
   "source": [
    "print(f'F1 =', f1_score(y_test, y_pred))\n",
    "print(f'Precision =', precision_score(y_test, y_pred))\n",
    "print(f'Recall =', recall_score(y_test, y_pred), '\\n')\n",
    "plot_confusion_matrix(y_test, y_pred)"
   ]
  },
  {
   "cell_type": "code",
   "execution_count": 86,
   "id": "90908f79-8c2d-4f8e-887a-daf751c55aca",
   "metadata": {},
   "outputs": [],
   "source": [
    "model = Sequential()\n",
    "model.add(Dense(units=50, activation='relu', kernel_regularizer=L1L2(1e-5, 1e-5)))\n",
    "model.add(Dense(units=200, activation='relu', kernel_regularizer=L1L2(1e-5, 1e-5)))\n",
    "model.add(Dense(units=500, activation='relu', kernel_regularizer=L1L2(1e-5, 1e-5)))\n",
    "# model.add(Dropout(0.2))\n",
    "model.add(Dense(units=100, activation='relu', kernel_regularizer=L1L2(1e-5, 1e-5)))\n",
    "model.add(Dense(units=1, activation='sigmoid', kernel_regularizer=L1L2(1e-5, 1e-5)))\n",
    "model.compile(optimizer='adam', loss='binary_crossentropy', metrics=[tf.keras.metrics.Recall(), tf.keras.metrics.FalseNegatives(), tf.keras.metrics.Precision()])"
   ]
  },
  {
   "cell_type": "code",
   "execution_count": 87,
   "id": "f34a45f0-8b11-491b-8235-aa09307efed3",
   "metadata": {},
   "outputs": [
    {
     "name": "stdout",
     "output_type": "stream",
     "text": [
      "107079/107079 [==============================] - 698s 6ms/step - loss: 0.6472 - recall_4: 0.1375 - false_negatives_1: 371654.1647 - precision_6: 0.9643\n"
     ]
    },
    {
     "data": {
      "text/plain": [
       "<keras.callbacks.History at 0x1f548dabe20>"
      ]
     },
     "execution_count": 87,
     "metadata": {},
     "output_type": "execute_result"
    }
   ],
   "source": [
    "model.fit(X_train, y_train)"
   ]
  },
  {
   "cell_type": "code",
   "execution_count": 88,
   "id": "c3499d8f-a6ca-4e0a-81ae-99fc3775f377",
   "metadata": {},
   "outputs": [],
   "source": [
    "y_pred = model.predict(X_test)\n",
    "y_pred = np.round(y_pred)"
   ]
  },
  {
   "cell_type": "code",
   "execution_count": 89,
   "id": "9969702c-b3a5-43f9-9e47-ae851e387140",
   "metadata": {},
   "outputs": [
    {
     "name": "stdout",
     "output_type": "stream",
     "text": [
      "F1 = 0.23101133034482205\n",
      "Precision = 0.999989002690675 \n",
      "\n",
      "Recall = 0.13058967876655703 \n",
      "\n"
     ]
    },
    {
     "data": {
      "image/png": "[encoded data removed]",
      "text/plain": [
       "<Figure size 432x288 with 2 Axes>"
      ]
     },
     "metadata": {
      "needs_background": "light"
     },
     "output_type": "display_data"
    }
   ],
   "source": [
    "print(f'F1 =', f1_score(y_test, y_pred))\n",
    "print(f'Precision =', precision_score(y_test, y_pred))\n",
    "print(f'Recall =', recall_score(y_test, y_pred), '\\n')\n",
    "plot_confusion_matrix(y_test, y_pred)"
   ]
  },
  {
   "cell_type": "markdown",
   "id": "2bfd2945-9803-4073-a571-04881fb728b5",
   "metadata": {},
   "source": [
    "---"
   ]
  },
  {
   "cell_type": "markdown",
   "id": "23191905-9322-4a5a-949b-a0ed5ee66428",
   "metadata": {},
   "source": [
    "### Try oversampling"
   ]
  },
  {
   "cell_type": "code",
   "execution_count": 100,
   "id": "5370e6ad-ffaf-438d-954a-4c5f1a85960b",
   "metadata": {},
   "outputs": [],
   "source": [
    "X_train, X_test, y_train, y_test = get_train_test_dfs('dataset/shuffled/part_6')"
   ]
  },
  {
   "cell_type": "code",
   "execution_count": 101,
   "id": "e55239d2-6e4f-4744-b891-89ea5046371f",
   "metadata": {},
   "outputs": [
    {
     "data": {
      "text/plain": [
       "(6587395, 6587395, 2823170, 2823170)"
      ]
     },
     "execution_count": 101,
     "metadata": {},
     "output_type": "execute_result"
    }
   ],
   "source": [
    "len(X_train), len(y_train), len(X_test), len(y_test)"
   ]
  },
  {
   "cell_type": "code",
   "execution_count": 102,
   "id": "bc251371-bec6-4791-904c-c5963d6c5259",
   "metadata": {},
   "outputs": [
    {
     "data": {
      "text/plain": [
       "(0.739918890547781, 0.7399189563504854)"
      ]
     },
     "execution_count": 102,
     "metadata": {},
     "output_type": "execute_result"
    }
   ],
   "source": [
    "check_distrib(y_train), check_distrib(y_test)"
   ]
  },
  {
   "cell_type": "code",
   "execution_count": 103,
   "id": "55d1bcd1-61c6-4815-9082-7339593c8155",
   "metadata": {},
   "outputs": [],
   "source": [
    "train = pd.concat([X_train, y_train], axis=1)\n",
    "negative = train[train['label'] == 0]\n",
    "positive = train[train['label'] == 1]"
   ]
  },
  {
   "cell_type": "code",
   "execution_count": 104,
   "id": "82d4f92b-cb3e-42c5-969a-cf5a3e33dbce",
   "metadata": {},
   "outputs": [
    {
     "data": {
      "text/plain": [
       "(1713257, 4874138)"
      ]
     },
     "execution_count": 104,
     "metadata": {},
     "output_type": "execute_result"
    }
   ],
   "source": [
    "len(negative), len(positive)"
   ]
  },
  {
   "cell_type": "code",
   "execution_count": 105,
   "id": "ed20efed-9ca6-4911-83a8-715eddd2fb1f",
   "metadata": {},
   "outputs": [],
   "source": [
    "neg_upsampled = resample(negative, n_samples=len(positive))"
   ]
  },
  {
   "cell_type": "code",
   "execution_count": 106,
   "id": "5e6a9a8b-b02e-46f1-b474-c1ec5d4b67a0",
   "metadata": {},
   "outputs": [
    {
     "data": {
      "text/plain": [
       "(4874138, 4874138)"
      ]
     },
     "execution_count": 106,
     "metadata": {},
     "output_type": "execute_result"
    }
   ],
   "source": [
    "len(neg_upsampled), len(positive)"
   ]
  },
  {
   "cell_type": "code",
   "execution_count": 107,
   "id": "d912fed9-f11c-4d58-a93a-d5bd4f78b6d4",
   "metadata": {},
   "outputs": [],
   "source": [
    "train = pd.concat([neg_upsampled, positive])\n",
    "train = shuffle_df(train)\n",
    "X_train = train[[i for i in train.columns if i != 'label']]\n",
    "y_train = train[['label']]"
   ]
  },
  {
   "cell_type": "code",
   "execution_count": 108,
   "id": "4f0680c4-cdc3-48f4-8038-1b2d013d16fd",
   "metadata": {},
   "outputs": [
    {
     "data": {
      "text/plain": [
       "9748276"
      ]
     },
     "execution_count": 108,
     "metadata": {},
     "output_type": "execute_result"
    }
   ],
   "source": [
    "len(X_train)"
   ]
  },
  {
   "cell_type": "code",
   "execution_count": 109,
   "id": "9eaf6651-d7a9-475b-9f4e-8ec74152c51c",
   "metadata": {},
   "outputs": [
    {
     "data": {
      "text/plain": [
       "0.5"
      ]
     },
     "execution_count": 109,
     "metadata": {},
     "output_type": "execute_result"
    }
   ],
   "source": [
    "check_distrib(y_train)"
   ]
  },
  {
   "cell_type": "code",
   "execution_count": 110,
   "id": "148fbef5-5274-4854-b6d7-5488c06d6d50",
   "metadata": {},
   "outputs": [],
   "source": [
    "model = Sequential()\n",
    "model.add(Dense(units=1, activation='relu', kernel_regularizer=L1L2(1e-5, 1e-5)))\n",
    "model.add(Dense(units=1, activation='sigmoid', kernel_regularizer=L1L2(1e-5, 1e-5)))\n",
    "model.compile(optimizer='adam', loss='binary_crossentropy', metrics=[tf.keras.metrics.Recall(), tf.keras.metrics.FalseNegatives(), tf.keras.metrics.Precision()])"
   ]
  },
  {
   "cell_type": "code",
   "execution_count": 111,
   "id": "8cef80bc-f96c-462c-a523-b70bda004a04",
   "metadata": {},
   "outputs": [
    {
     "name": "stdout",
     "output_type": "stream",
     "text": [
      "304634/304634 [==============================] - 1516s 5ms/step - loss: 0.6931 - recall_5: 0.5493 - false_negatives_2: 574033.9203 - precision_7: 0.4996\n"
     ]
    },
    {
     "data": {
      "text/plain": [
       "<keras.callbacks.History at 0x1f6b71feb20>"
      ]
     },
     "execution_count": 111,
     "metadata": {},
     "output_type": "execute_result"
    }
   ],
   "source": [
    "model.fit(X_train, y_train)"
   ]
  },
  {
   "cell_type": "code",
   "execution_count": 112,
   "id": "8c36a9fe-7e46-4b45-93a7-ec58fcdf1f4f",
   "metadata": {},
   "outputs": [],
   "source": [
    "y_pred = model.predict(X_test)\n",
    "y_pred = np.round(y_pred)"
   ]
  },
  {
   "cell_type": "code",
   "execution_count": 113,
   "id": "3a555ae9-e1c6-4a0b-bd18-2640bead92bf",
   "metadata": {},
   "outputs": [
    {
     "name": "stdout",
     "output_type": "stream",
     "text": [
      "F1 = 0.0\n"
     ]
    },
    {
     "name": "stderr",
     "output_type": "stream",
     "text": [
      "C:\\Users\\Lucas\\anaconda3\\lib\\site-packages\\sklearn\\metrics\\_classification.py:1245: UndefinedMetricWarning: Precision is ill-defined and being set to 0.0 due to no predicted samples. Use `zero_division` parameter to control this behavior.\n",
      "  _warn_prf(average, modifier, msg_start, len(result))\n"
     ]
    },
    {
     "name": "stdout",
     "output_type": "stream",
     "text": [
      "Precision = 0.0\n",
      "Recall = 0.0 \n",
      "\n"
     ]
    },
    {
     "data": {
      "image/png": "[encoded data removed]",
      "text/plain": [
       "<Figure size 432x288 with 2 Axes>"
      ]
     },
     "metadata": {
      "needs_background": "light"
     },
     "output_type": "display_data"
    }
   ],
   "source": [
    "print(f'F1 =', f1_score(y_test, y_pred))\n",
    "print(f'Precision =', precision_score(y_test, y_pred))\n",
    "print(f'Recall =', recall_score(y_test, y_pred), '\\n')\n",
    "plot_confusion_matrix(y_test, y_pred)"
   ]
  },
  {
   "cell_type": "code",
   "execution_count": 118,
   "id": "1a33e0da-b8e3-4188-ac30-a2faf7aa6325",
   "metadata": {},
   "outputs": [],
   "source": [
    "model = Sequential()\n",
    "model.add(Dense(units=50, activation='relu', kernel_regularizer=L1L2(1e-5, 1e-5)))\n",
    "model.add(Dense(units=200, activation='relu', kernel_regularizer=L1L2(1e-5, 1e-5)))\n",
    "model.add(Dense(units=500, activation='relu', kernel_regularizer=L1L2(1e-5, 1e-5)))\n",
    "# model.add(Dropout(0.2))\n",
    "model.add(Dense(units=100, activation='relu', kernel_regularizer=L1L2(1e-5, 1e-5)))\n",
    "model.add(Dense(units=1, activation='sigmoid', kernel_regularizer=L1L2(1e-5, 1e-5)))\n",
    "model.compile(optimizer='adam', loss='binary_crossentropy', metrics=[tf.keras.metrics.Recall(), tf.keras.metrics.FalseNegatives(), tf.keras.metrics.Precision()])"
   ]
  },
  {
   "cell_type": "code",
   "execution_count": 119,
   "id": "eadf617b-0878-417b-893a-3705554de80c",
   "metadata": {},
   "outputs": [
    {
     "name": "stdout",
     "output_type": "stream",
     "text": [
      "304634/304634 [==============================] - 2028s 7ms/step - loss: 0.6467 - recall_7: 0.1323 - false_negatives_4: 1059197.5009 - precision_9: 0.9916\n"
     ]
    },
    {
     "data": {
      "text/plain": [
       "<keras.callbacks.History at 0x1f5659e5f70>"
      ]
     },
     "execution_count": 119,
     "metadata": {},
     "output_type": "execute_result"
    }
   ],
   "source": [
    "model.fit(X_train, y_train)"
   ]
  },
  {
   "cell_type": "code",
   "execution_count": 120,
   "id": "3c722708-b2ea-4cf0-a65b-c21456cfe336",
   "metadata": {},
   "outputs": [],
   "source": [
    "y_pred = model.predict(X_test)\n",
    "y_pred = np.round(y_pred)"
   ]
  },
  {
   "cell_type": "code",
   "execution_count": 121,
   "id": "61ce48aa-11ee-47d6-89cb-0c080350641c",
   "metadata": {},
   "outputs": [
    {
     "name": "stdout",
     "output_type": "stream",
     "text": [
      "F1 = 0.2314173085682645\n",
      "Precision = 0.9999926829714453\n",
      "Recall = 0.13084914335993245 \n",
      "\n"
     ]
    },
    {
     "data": {
      "image/png": "[encoded data removed]",
      "text/plain": [
       "<Figure size 432x288 with 2 Axes>"
      ]
     },
     "metadata": {
      "needs_background": "light"
     },
     "output_type": "display_data"
    }
   ],
   "source": [
    "print(f'F1 =', f1_score(y_test, y_pred))\n",
    "print(f'Precision =', precision_score(y_test, y_pred))\n",
    "print(f'Recall =', recall_score(y_test, y_pred), '\\n')\n",
    "plot_confusion_matrix(y_test, y_pred)"
   ]
  },
  {
   "cell_type": "markdown",
   "id": "5a1c3d88-fb0e-428e-a45c-fe9b2abc8cb0",
   "metadata": {},
   "source": [
    "### Trying both again with 60% of positives"
   ]
  },
  {
   "cell_type": "markdown",
   "id": "734b9144-f52b-46a3-ab03-b4d6585514cf",
   "metadata": {},
   "source": [
    "#### Undersampling"
   ]
  },
  {
   "cell_type": "code",
   "execution_count": 133,
   "id": "402fbe6d-a06c-4a80-bc0d-46d5c010113c",
   "metadata": {},
   "outputs": [],
   "source": [
    "X_train, X_test, y_train, y_test = get_train_test_dfs('dataset/shuffled/part_6')"
   ]
  },
  {
   "cell_type": "code",
   "execution_count": 134,
   "id": "147ef827-0443-4ede-a9b5-901932665164",
   "metadata": {},
   "outputs": [
    {
     "data": {
      "text/plain": [
       "(6587395, 6587395, 2823170, 2823170)"
      ]
     },
     "execution_count": 134,
     "metadata": {},
     "output_type": "execute_result"
    }
   ],
   "source": [
    "len(X_train), len(y_train), len(X_test), len(y_test)"
   ]
  },
  {
   "cell_type": "code",
   "execution_count": 135,
   "id": "a58f876d-7894-464e-bf6a-68cb6c6134dc",
   "metadata": {},
   "outputs": [
    {
     "data": {
      "text/plain": [
       "(0.739918890547781, 0.7399189563504854)"
      ]
     },
     "execution_count": 135,
     "metadata": {},
     "output_type": "execute_result"
    }
   ],
   "source": [
    "check_distrib(y_train), check_distrib(y_test)"
   ]
  },
  {
   "cell_type": "code",
   "execution_count": 136,
   "id": "c491264c-d0ef-49e2-bc74-558fa8ca4273",
   "metadata": {},
   "outputs": [
    {
     "data": {
      "text/plain": [
       "(1713257, 4874138)"
      ]
     },
     "execution_count": 136,
     "metadata": {},
     "output_type": "execute_result"
    }
   ],
   "source": [
    "train = pd.concat([X_train, y_train], axis=1)\n",
    "negative = train[train['label'] == 0]\n",
    "positive = train[train['label'] == 1]\n",
    "len(negative), len(positive)"
   ]
  },
  {
   "cell_type": "code",
   "execution_count": 137,
   "id": "d5eac31e-f8c7-4c6e-af03-a01f2e14a773",
   "metadata": {},
   "outputs": [],
   "source": [
    "positive = shuffle_df(positive).iloc[:int(len(negative) * 1.5)]\n",
    "train = pd.concat([positive, negative])\n",
    "train = shuffle_df(train)\n",
    "X_train = train[[i for i in train.columns if i != 'label']]\n",
    "y_train = train[['label']]"
   ]
  },
  {
   "cell_type": "code",
   "execution_count": 138,
   "id": "f3507f28-6061-49a2-aa3f-fa7cd67a28a0",
   "metadata": {},
   "outputs": [
    {
     "data": {
      "text/plain": [
       "4283142"
      ]
     },
     "execution_count": 138,
     "metadata": {},
     "output_type": "execute_result"
    }
   ],
   "source": [
    "len(X_train)"
   ]
  },
  {
   "cell_type": "code",
   "execution_count": 139,
   "id": "06e333d4-2406-43ee-b1e8-5569837930fa",
   "metadata": {},
   "outputs": [
    {
     "data": {
      "text/plain": [
       "0.5999999533053072"
      ]
     },
     "execution_count": 139,
     "metadata": {},
     "output_type": "execute_result"
    }
   ],
   "source": [
    "check_distrib(y_train)"
   ]
  },
  {
   "cell_type": "code",
   "execution_count": 142,
   "id": "ec07e0bd-7462-49f0-abe2-ff204acae9a8",
   "metadata": {},
   "outputs": [],
   "source": [
    "model = Sequential()\n",
    "model.add(Dense(units=1, activation='relu', kernel_regularizer=L1L2(1e-5, 1e-5)))\n",
    "model.add(Dense(units=1, activation='sigmoid', kernel_regularizer=L1L2(1e-5, 1e-5)))\n",
    "model.compile(optimizer='adam', loss='binary_crossentropy', metrics=[tf.keras.metrics.Precision(), tf.keras.metrics.FalsePositives()])"
   ]
  },
  {
   "cell_type": "code",
   "execution_count": 143,
   "id": "d5dca379-a527-4c61-8540-5ee62718ca4f",
   "metadata": {},
   "outputs": [
    {
     "name": "stdout",
     "output_type": "stream",
     "text": [
      "133849/133849 [==============================] - 585s 4ms/step - loss: 0.6433 - precision_12: 0.5971 - false_positives_2: 427015.1576\n"
     ]
    },
    {
     "data": {
      "text/plain": [
       "<keras.callbacks.History at 0x1f5e0d37370>"
      ]
     },
     "execution_count": 143,
     "metadata": {},
     "output_type": "execute_result"
    }
   ],
   "source": [
    "model.fit(X_train, y_train)"
   ]
  },
  {
   "cell_type": "code",
   "execution_count": 144,
   "id": "9d5cecd3-6d67-442a-8bbf-69e6585bf156",
   "metadata": {},
   "outputs": [],
   "source": [
    "y_pred = model.predict(X_test)\n",
    "y_pred = np.round(y_pred)"
   ]
  },
  {
   "cell_type": "code",
   "execution_count": 145,
   "id": "21ebbf8d-c6d7-4f44-9c24-28656167bfa1",
   "metadata": {},
   "outputs": [
    {
     "name": "stdout",
     "output_type": "stream",
     "text": [
      "F1 = 0.8506150641390436\n",
      "Precision = 0.7400728851714885\n",
      "Recall = 0.9999784577367123 \n",
      "\n"
     ]
    },
    {
     "data": {
      "image/png": "[encoded data removed]",
      "text/plain": [
       "<Figure size 432x288 with 2 Axes>"
      ]
     },
     "metadata": {
      "needs_background": "light"
     },
     "output_type": "display_data"
    }
   ],
   "source": [
    "print(f'F1 =', f1_score(y_test, y_pred))\n",
    "print(f'Precision =', precision_score(y_test, y_pred))\n",
    "print(f'Recall =', recall_score(y_test, y_pred), '\\n')\n",
    "plot_confusion_matrix(y_test, y_pred)"
   ]
  },
  {
   "cell_type": "code",
   "execution_count": 146,
   "id": "f9edba96-b73b-4799-9b9c-c086a498b77f",
   "metadata": {},
   "outputs": [],
   "source": [
    "model = Sequential()\n",
    "model.add(Dense(units=50, activation='relu', kernel_regularizer=L1L2(1e-5, 1e-5)))\n",
    "model.add(Dense(units=200, activation='relu', kernel_regularizer=L1L2(1e-5, 1e-5)))\n",
    "model.add(Dense(units=500, activation='relu', kernel_regularizer=L1L2(1e-5, 1e-5)))\n",
    "# model.add(Dropout(0.2))\n",
    "model.add(Dense(units=100, activation='relu', kernel_regularizer=L1L2(1e-5, 1e-5)))\n",
    "model.add(Dense(units=1, activation='sigmoid', kernel_regularizer=L1L2(1e-5, 1e-5)))\n",
    "model.compile(optimizer='adam', loss='binary_crossentropy', metrics=[tf.keras.metrics.Precision(), tf.keras.metrics.FalsePositives()])"
   ]
  },
  {
   "cell_type": "code",
   "execution_count": 147,
   "id": "e1415658-652d-44a8-aeb7-51404a0b3bf5",
   "metadata": {},
   "outputs": [
    {
     "name": "stdout",
     "output_type": "stream",
     "text": [
      "133849/133849 [==============================] - 815s 6ms/step - loss: 0.6327 - precision_13: 0.5992 - false_positives_3: 428830.3528\n"
     ]
    },
    {
     "data": {
      "text/plain": [
       "<keras.callbacks.History at 0x1f54aeae370>"
      ]
     },
     "execution_count": 147,
     "metadata": {},
     "output_type": "execute_result"
    }
   ],
   "source": [
    "model.fit(X_train, y_train)"
   ]
  },
  {
   "cell_type": "code",
   "execution_count": 148,
   "id": "525ce54b-e8c0-40fb-8a41-6f39ee1bbde8",
   "metadata": {},
   "outputs": [],
   "source": [
    "y_pred = model.predict(X_test)\n",
    "y_pred = np.round(y_pred)"
   ]
  },
  {
   "cell_type": "code",
   "execution_count": 149,
   "id": "593c88e0-8e2f-4b59-ad09-8984ab2db09f",
   "metadata": {},
   "outputs": [
    {
     "name": "stdout",
     "output_type": "stream",
     "text": [
      "F1 = 0.8505211735867056\n",
      "Precision = 0.7399189563504854\n",
      "Recall = 1.0 \n",
      "\n"
     ]
    },
    {
     "data": {
      "image/png": "[encoded data removed]",
      "text/plain": [
       "<Figure size 432x288 with 2 Axes>"
      ]
     },
     "metadata": {
      "needs_background": "light"
     },
     "output_type": "display_data"
    }
   ],
   "source": [
    "print(f'F1 =', f1_score(y_test, y_pred))\n",
    "print(f'Precision =', precision_score(y_test, y_pred))\n",
    "print(f'Recall =', recall_score(y_test, y_pred), '\\n')\n",
    "plot_confusion_matrix(y_test, y_pred)"
   ]
  },
  {
   "cell_type": "markdown",
   "id": "df9693fd-a9b9-42e7-99d5-dabe9f9c070d",
   "metadata": {},
   "source": [
    "#### Oversampling"
   ]
  },
  {
   "cell_type": "code",
   "execution_count": 150,
   "id": "a7b129ee-c567-4b55-8b42-ce5949a27124",
   "metadata": {},
   "outputs": [],
   "source": [
    "X_train, X_test, y_train, y_test = get_train_test_dfs('dataset/shuffled/part_6')"
   ]
  },
  {
   "cell_type": "code",
   "execution_count": 151,
   "id": "fb81ee1e-49b8-484d-ad29-dc4081b066f8",
   "metadata": {},
   "outputs": [
    {
     "data": {
      "text/plain": [
       "(6587395, 6587395, 2823170, 2823170)"
      ]
     },
     "execution_count": 151,
     "metadata": {},
     "output_type": "execute_result"
    }
   ],
   "source": [
    "len(X_train), len(y_train), len(X_test), len(y_test)"
   ]
  },
  {
   "cell_type": "code",
   "execution_count": 152,
   "id": "59ec69b5-b193-4bae-a917-232d685140d7",
   "metadata": {},
   "outputs": [
    {
     "data": {
      "text/plain": [
       "(0.739918890547781, 0.7399189563504854)"
      ]
     },
     "execution_count": 152,
     "metadata": {},
     "output_type": "execute_result"
    }
   ],
   "source": [
    "check_distrib(y_train), check_distrib(y_test)"
   ]
  },
  {
   "cell_type": "code",
   "execution_count": 153,
   "id": "039850be-3763-4547-a18b-7f298983ec68",
   "metadata": {},
   "outputs": [
    {
     "data": {
      "text/plain": [
       "(1713257, 4874138)"
      ]
     },
     "execution_count": 153,
     "metadata": {},
     "output_type": "execute_result"
    }
   ],
   "source": [
    "train = pd.concat([X_train, y_train], axis=1)\n",
    "negative = train[train['label'] == 0]\n",
    "positive = train[train['label'] == 1]\n",
    "len(negative), len(positive)"
   ]
  },
  {
   "cell_type": "code",
   "execution_count": 155,
   "id": "13aff222-7584-4218-804e-010dbf704f35",
   "metadata": {},
   "outputs": [],
   "source": [
    "neg_upsampled = resample(negative, n_samples=int(0.6666 * len(positive)))"
   ]
  },
  {
   "cell_type": "code",
   "execution_count": 156,
   "id": "828f746f-28b0-4799-ac46-279a1f0d4ee7",
   "metadata": {},
   "outputs": [
    {
     "data": {
      "text/plain": [
       "(3249100, 4874138)"
      ]
     },
     "execution_count": 156,
     "metadata": {},
     "output_type": "execute_result"
    }
   ],
   "source": [
    "len(neg_upsampled), len(positive)"
   ]
  },
  {
   "cell_type": "code",
   "execution_count": 157,
   "id": "2e3cbd5e-e130-41a4-9cb2-8275a8ef14e6",
   "metadata": {},
   "outputs": [],
   "source": [
    "train = pd.concat([neg_upsampled, positive])\n",
    "train = shuffle_df(train)\n",
    "X_train = train[[i for i in train.columns if i != 'label']]\n",
    "y_train = train[['label']]"
   ]
  },
  {
   "cell_type": "code",
   "execution_count": 158,
   "id": "92aa3d42-1ec7-4d8e-9d55-b0a1898dfd8f",
   "metadata": {},
   "outputs": [
    {
     "data": {
      "text/plain": [
       "8123238"
      ]
     },
     "execution_count": 158,
     "metadata": {},
     "output_type": "execute_result"
    }
   ],
   "source": [
    "len(X_train)"
   ]
  },
  {
   "cell_type": "code",
   "execution_count": 159,
   "id": "3b6baffe-5399-41b3-afcc-46b9edbc66f0",
   "metadata": {},
   "outputs": [
    {
     "data": {
      "text/plain": [
       "0.6000240298265298"
      ]
     },
     "execution_count": 159,
     "metadata": {},
     "output_type": "execute_result"
    }
   ],
   "source": [
    "check_distrib(y_train)"
   ]
  },
  {
   "cell_type": "code",
   "execution_count": 160,
   "id": "c1e3b31d-c8ca-431a-bf72-f1b82db16365",
   "metadata": {},
   "outputs": [],
   "source": [
    "model = Sequential()\n",
    "model.add(Dense(units=1, activation='relu', kernel_regularizer=L1L2(1e-5, 1e-5)))\n",
    "model.add(Dense(units=1, activation='sigmoid', kernel_regularizer=L1L2(1e-5, 1e-5)))\n",
    "model.compile(optimizer='adam', loss='binary_crossentropy', metrics=[tf.keras.metrics.Precision(), tf.keras.metrics.FalsePositives()])"
   ]
  },
  {
   "cell_type": "code",
   "execution_count": 161,
   "id": "237ddbba-8fd9-4bea-be0a-f32e0d4e2091",
   "metadata": {},
   "outputs": [
    {
     "name": "stdout",
     "output_type": "stream",
     "text": [
      "253852/253852 [==============================] - 1100s 4ms/step - loss: 0.6731 - precision_14: 0.6006 - false_positives_4: 812435.4165\n"
     ]
    },
    {
     "data": {
      "text/plain": [
       "<keras.callbacks.History at 0x1f54b939910>"
      ]
     },
     "execution_count": 161,
     "metadata": {},
     "output_type": "execute_result"
    }
   ],
   "source": [
    "model.fit(X_train, y_train)"
   ]
  },
  {
   "cell_type": "code",
   "execution_count": 162,
   "id": "0099747e-f771-410e-a002-589b52fac87d",
   "metadata": {},
   "outputs": [],
   "source": [
    "y_pred = model.predict(X_test)\n",
    "y_pred = np.round(y_pred)"
   ]
  },
  {
   "cell_type": "code",
   "execution_count": 163,
   "id": "754457c1-2a4b-4734-8636-999440565fe4",
   "metadata": {},
   "outputs": [
    {
     "name": "stdout",
     "output_type": "stream",
     "text": [
      "F1 = 0.8505211735867056\n",
      "Precision = 0.7399189563504854\n",
      "Recall = 1.0 \n",
      "\n"
     ]
    },
    {
     "data": {
      "image/png": "[encoded data removed]",
      "text/plain": [
       "<Figure size 432x288 with 2 Axes>"
      ]
     },
     "metadata": {
      "needs_background": "light"
     },
     "output_type": "display_data"
    }
   ],
   "source": [
    "print(f'F1 =', f1_score(y_test, y_pred))\n",
    "print(f'Precision =', precision_score(y_test, y_pred))\n",
    "print(f'Recall =', recall_score(y_test, y_pred), '\\n')\n",
    "plot_confusion_matrix(y_test, y_pred)"
   ]
  },
  {
   "cell_type": "code",
   "execution_count": 164,
   "id": "ef824ab5-cc7e-4528-921c-58c7a5272103",
   "metadata": {},
   "outputs": [],
   "source": [
    "model = Sequential()\n",
    "model.add(Dense(units=50, activation='relu', kernel_regularizer=L1L2(1e-5, 1e-5)))\n",
    "model.add(Dense(units=200, activation='relu', kernel_regularizer=L1L2(1e-5, 1e-5)))\n",
    "model.add(Dense(units=500, activation='relu', kernel_regularizer=L1L2(1e-5, 1e-5)))\n",
    "# model.add(Dropout(0.2))\n",
    "model.add(Dense(units=100, activation='relu', kernel_regularizer=L1L2(1e-5, 1e-5)))\n",
    "model.add(Dense(units=1, activation='sigmoid', kernel_regularizer=L1L2(1e-5, 1e-5)))\n",
    "model.compile(optimizer='adam', loss='binary_crossentropy', metrics=[tf.keras.metrics.Precision(), tf.keras.metrics.FalsePositives()])"
   ]
  },
  {
   "cell_type": "code",
   "execution_count": 165,
   "id": "cd4e990c-676f-45bb-ac46-7d7dcfb87712",
   "metadata": {},
   "outputs": [
    {
     "name": "stdout",
     "output_type": "stream",
     "text": [
      "253852/253852 [==============================] - 1482s 6ms/step - loss: 0.6320 - precision_15: 0.6003 - false_positives_5: 812276.5018\n"
     ]
    },
    {
     "data": {
      "text/plain": [
       "<keras.callbacks.History at 0x1f573e26220>"
      ]
     },
     "execution_count": 165,
     "metadata": {},
     "output_type": "execute_result"
    }
   ],
   "source": [
    "model.fit(X_train, y_train)"
   ]
  },
  {
   "cell_type": "code",
   "execution_count": 166,
   "id": "1bd211b7-19c5-4bfd-af37-c635ec729798",
   "metadata": {},
   "outputs": [],
   "source": [
    "y_pred = model.predict(X_test)\n",
    "y_pred = np.round(y_pred)"
   ]
  },
  {
   "cell_type": "code",
   "execution_count": 168,
   "id": "264d9ec9-7079-4ce9-b0bc-de40c2821a69",
   "metadata": {},
   "outputs": [
    {
     "name": "stdout",
     "output_type": "stream",
     "text": [
      "F1 = 0.8505211735867056\n",
      "Precision = 0.7399189563504854\n",
      "Recall = 1.0 \n",
      "\n"
     ]
    },
    {
     "data": {
      "image/png": "[encoded data removed]",
      "text/plain": [
       "<Figure size 432x288 with 2 Axes>"
      ]
     },
     "metadata": {
      "needs_background": "light"
     },
     "output_type": "display_data"
    }
   ],
   "source": [
    "print(f'F1 =', f1_score(y_test, y_pred))\n",
    "print(f'Precision =', precision_score(y_test, y_pred))\n",
    "print(f'Recall =', recall_score(y_test, y_pred), '\\n')\n",
    "plot_confusion_matrix(y_test, y_pred)"
   ]
  },
  {
   "cell_type": "markdown",
   "id": "62c9a4b6-b865-4446-9ed0-5e8f76745848",
   "metadata": {},
   "source": [
    "---"
   ]
  },
  {
   "cell_type": "markdown",
   "id": "6ee9b398-5e2c-48d5-bfca-120efcaaf3e8",
   "metadata": {},
   "source": [
    "### Try Grid search on undersampled df"
   ]
  },
  {
   "cell_type": "code",
   "execution_count": 29,
   "id": "ae0af10a-2f97-4683-9449-0bfa529adf1f",
   "metadata": {},
   "outputs": [],
   "source": [
    "X_train, X_test, y_train, y_test = get_undersampled_df('dataset/shuffled/part_6')"
   ]
  },
  {
   "cell_type": "code",
   "execution_count": 30,
   "id": "7066b24c-f900-480c-9b80-7de1843a6f93",
   "metadata": {},
   "outputs": [
    {
     "data": {
      "text/plain": [
       "(3426514, 3426514, 2823170, 2823170)"
      ]
     },
     "execution_count": 30,
     "metadata": {},
     "output_type": "execute_result"
    }
   ],
   "source": [
    "len(X_train), len(y_train), len(X_test), len(y_test)"
   ]
  },
  {
   "cell_type": "code",
   "execution_count": 31,
   "id": "e99d0618-c1e1-46f3-9269-eacd5bd164dc",
   "metadata": {},
   "outputs": [
    {
     "data": {
      "text/plain": [
       "(0.5, 0.7399189563504854)"
      ]
     },
     "execution_count": 31,
     "metadata": {},
     "output_type": "execute_result"
    }
   ],
   "source": [
    "check_distrib(y_train), check_distrib(y_test)"
   ]
  },
  {
   "cell_type": "code",
   "execution_count": 32,
   "id": "f0ad2cbb-1893-4314-b094-235966a0353e",
   "metadata": {},
   "outputs": [],
   "source": [
    "X_train, X_val, y_train, y_val = train_test_split(X_train, y_train, test_size=0.3, stratify=y_train)"
   ]
  },
  {
   "cell_type": "code",
   "execution_count": 33,
   "id": "3c21079c-b703-44a5-9d8d-4b39fd6af487",
   "metadata": {},
   "outputs": [
    {
     "data": {
      "text/plain": [
       "(2398559, 2398559, 1027955, 1027955)"
      ]
     },
     "execution_count": 33,
     "metadata": {},
     "output_type": "execute_result"
    }
   ],
   "source": [
    "len(X_train), len(y_train), len(X_val), len(y_val)"
   ]
  },
  {
   "cell_type": "code",
   "execution_count": 34,
   "id": "8760e663-4a06-4852-a0c8-000a39f5dc58",
   "metadata": {},
   "outputs": [
    {
     "data": {
      "text/plain": [
       "(0.4999997915415047, 0.5000004864026149)"
      ]
     },
     "execution_count": 34,
     "metadata": {},
     "output_type": "execute_result"
    }
   ],
   "source": [
    "check_distrib(y_train), check_distrib(y_val)"
   ]
  },
  {
   "cell_type": "code",
   "execution_count": 22,
   "id": "16e8cc55-974f-4532-989e-ae5f4e31fcf8",
   "metadata": {},
   "outputs": [],
   "source": [
    "def make_model(layers, activation, regularizer, optimizer, loss, metrics):\n",
    "    model = Sequential([\n",
    "        Dense(units=n, activation=activation, kernel_regularizer=regularizer)\n",
    "        for n in layers\n",
    "    ])\n",
    "    model.add(Dense(units=1, activation='sigmoid', kernel_regularizer=L1L2(1e-5, 1e-5)))\n",
    "    model.compile(optimizer=optimizer, loss=loss, metrics=metrics)\n",
    "    return model"
   ]
  },
  {
   "cell_type": "code",
   "execution_count": 41,
   "id": "c46ab5d8-b63e-4b26-a629-82d6dad5de7c",
   "metadata": {},
   "outputs": [],
   "source": [
    "def get_scores(model):\n",
    "    y_pred = model.predict(X_val)\n",
    "    y_pred = np.round(y_pred)\n",
    "    return f1_score(y_val, y_pred), precision_score(y_val, y_pred), recall_score(y_val, y_pred)"
   ]
  },
  {
   "cell_type": "code",
   "execution_count": 49,
   "id": "13176ffb-6447-41b5-b57b-54c84745fa51",
   "metadata": {},
   "outputs": [],
   "source": [
    "def grid_search(params_list):\n",
    "    best_model = None\n",
    "    df = pd.DataFrame()\n",
    "    for params in params_list:\n",
    "        print('running params:', params)\n",
    "        model = make_model(*params, metrics=[tf.keras.metrics.Recall(), tf.keras.metrics.FalseNegatives(), tf.keras.metrics.Precision()])\n",
    "        model.fit(X_train, y_train)\n",
    "        f1, precision, recall = get_scores(model)\n",
    "        df = df.append(pd.DataFrame(data={\n",
    "            'layers': len(params[0]),\n",
    "            'nodes': params[0],\n",
    "            'activation': params[1],\n",
    "            'regulatrizer': params[2],\n",
    "            'optimizer': params[3],\n",
    "            'loss': params[4],\n",
    "            'f1': f1,\n",
    "            'precision': precision,\n",
    "            'recall': recall\n",
    "        }))\n",
    "        if best_model is None or f1 > df['f1'].max():\n",
    "            best_model = model\n",
    "        \n",
    "    return df, best_model"
   ]
  },
  {
   "cell_type": "code",
   "execution_count": 50,
   "id": "74481873-0d4b-486e-915f-3066f7ec9793",
   "metadata": {},
   "outputs": [
    {
     "name": "stdout",
     "output_type": "stream",
     "text": [
      "running params: [[1], 'relu', <keras.regularizers.L1L2 object at 0x00000197D9E7B430>, 'adam', 'binary_crossentropy']\n",
      "74955/74955 [==============================] - 367s 5ms/step - loss: 0.6599 - recall_4: 0.1238 - false_negatives_4: 260759.3819 - precision_4: 0.9779\n",
      "running params: [[50, 50], 'relu', <keras.regularizers.L1L2 object at 0x00000197D9E7B8B0>, 'adam', 'binary_crossentropy']\n",
      "74955/74955 [==============================] - 412s 5ms/step - loss: 0.6470 - recall_5: 0.1644 - false_negatives_5: 257997.8997 - precision_5: 0.8641\n",
      "running params: [[100, 100], 'relu', <keras.regularizers.L1L2 object at 0x00000197D9E7BE80>, 'adam', 'binary_crossentropy']\n",
      "74955/74955 [==============================] - 408s 5ms/step - loss: 0.6469 - recall_6: 0.1572 - false_negatives_6: 259446.8309 - precision_6: 0.9047\n",
      "running params: [[200, 200], 'relu', <keras.regularizers.L1L2 object at 0x00000197D9E7B3D0>, 'adam', 'binary_crossentropy']\n",
      "74955/74955 [==============================] - 432s 6ms/step - loss: 0.6470 - recall_7: 0.1409 - false_negatives_7: 259634.9176 - precision_7: 0.9414\n",
      "running params: [[10, 10, 10, 10], 'relu', <keras.regularizers.L1L2 object at 0x00000197D9E7BF10>, 'adam', 'binary_crossentropy']\n",
      "74955/74955 [==============================] - 501s 7ms/step - loss: 0.6470 - recall_8: 0.1402 - false_negatives_8: 260044.5841 - precision_8: 0.9387\n",
      "running params: [[20, 20, 20], 'relu', <keras.regularizers.L1L2 object at 0x00000197DA00D0A0>, 'adam', 'binary_crossentropy']\n",
      "74955/74955 [==============================] - 458s 6ms/step - loss: 0.6471 - recall_9: 0.1583 - false_negatives_9: 258817.3943 - precision_9: 0.8778\n"
     ]
    }
   ],
   "source": [
    "res_df, best = grid_search([\n",
    "    [[1], 'relu', L1L2(1e-5, 1e-5), 'adam', 'binary_crossentropy'],\n",
    "    [[50, 50], 'relu', L1L2(1e-5, 1e-5), 'adam', 'binary_crossentropy'],\n",
    "    [[100, 100], 'relu', L1L2(1e-5, 1e-5), 'adam', 'binary_crossentropy'],\n",
    "    [[200, 200], 'relu', L1L2(1e-5, 1e-5), 'adam', 'binary_crossentropy'],\n",
    "    [[10, 10, 10, 10], 'relu', L1L2(1e-5, 1e-5), 'adam', 'binary_crossentropy'],\n",
    "    [[20, 20, 20], 'relu', L1L2(1e-5, 1e-5), 'adam', 'binary_crossentropy'],\n",
    "])"
   ]
  },
  {
   "cell_type": "code",
   "execution_count": 51,
   "id": "74c57c8d-cfb4-44d6-9e62-a6ee8bd21e66",
   "metadata": {},
   "outputs": [
    {
     "data": {
      "text/html": [
       "<div>\n",
       "<style scoped>\n",
       "    .dataframe tbody tr th:only-of-type {\n",
       "        vertical-align: middle;\n",
       "    }\n",
       "\n",
       "    .dataframe tbody tr th {\n",
       "        vertical-align: top;\n",
       "    }\n",
       "\n",
       "    .dataframe thead th {\n",
       "        text-align: right;\n",
       "    }\n",
       "</style>\n",
       "<table border=\"1\" class=\"dataframe\">\n",
       "  <thead>\n",
       "    <tr style=\"text-align: right;\">\n",
       "      <th></th>\n",
       "      <th>layers</th>\n",
       "      <th>nodes</th>\n",
       "      <th>activation</th>\n",
       "      <th>regulatrizer</th>\n",
       "      <th>optimizer</th>\n",
       "      <th>loss</th>\n",
       "      <th>f1</th>\n",
       "      <th>precision</th>\n",
       "      <th>recall</th>\n",
       "    </tr>\n",
       "  </thead>\n",
       "  <tbody>\n",
       "    <tr>\n",
       "      <th>0</th>\n",
       "      <td>2</td>\n",
       "      <td>200</td>\n",
       "      <td>relu</td>\n",
       "      <td>&lt;keras.regularizers.L1L2 object at 0x00000197D...</td>\n",
       "      <td>adam</td>\n",
       "      <td>binary_crossentropy</td>\n",
       "      <td>0.230428</td>\n",
       "      <td>0.999731</td>\n",
       "      <td>0.130222</td>\n",
       "    </tr>\n",
       "    <tr>\n",
       "      <th>1</th>\n",
       "      <td>2</td>\n",
       "      <td>200</td>\n",
       "      <td>relu</td>\n",
       "      <td>&lt;keras.regularizers.L1L2 object at 0x00000197D...</td>\n",
       "      <td>adam</td>\n",
       "      <td>binary_crossentropy</td>\n",
       "      <td>0.230428</td>\n",
       "      <td>0.999731</td>\n",
       "      <td>0.130222</td>\n",
       "    </tr>\n",
       "    <tr>\n",
       "      <th>0</th>\n",
       "      <td>2</td>\n",
       "      <td>50</td>\n",
       "      <td>relu</td>\n",
       "      <td>&lt;keras.regularizers.L1L2 object at 0x00000197D...</td>\n",
       "      <td>adam</td>\n",
       "      <td>binary_crossentropy</td>\n",
       "      <td>0.230426</td>\n",
       "      <td>0.999985</td>\n",
       "      <td>0.130216</td>\n",
       "    </tr>\n",
       "    <tr>\n",
       "      <th>1</th>\n",
       "      <td>2</td>\n",
       "      <td>50</td>\n",
       "      <td>relu</td>\n",
       "      <td>&lt;keras.regularizers.L1L2 object at 0x00000197D...</td>\n",
       "      <td>adam</td>\n",
       "      <td>binary_crossentropy</td>\n",
       "      <td>0.230426</td>\n",
       "      <td>0.999985</td>\n",
       "      <td>0.130216</td>\n",
       "    </tr>\n",
       "    <tr>\n",
       "      <th>0</th>\n",
       "      <td>2</td>\n",
       "      <td>100</td>\n",
       "      <td>relu</td>\n",
       "      <td>&lt;keras.regularizers.L1L2 object at 0x00000197D...</td>\n",
       "      <td>adam</td>\n",
       "      <td>binary_crossentropy</td>\n",
       "      <td>0.230426</td>\n",
       "      <td>0.999985</td>\n",
       "      <td>0.130216</td>\n",
       "    </tr>\n",
       "    <tr>\n",
       "      <th>1</th>\n",
       "      <td>2</td>\n",
       "      <td>100</td>\n",
       "      <td>relu</td>\n",
       "      <td>&lt;keras.regularizers.L1L2 object at 0x00000197D...</td>\n",
       "      <td>adam</td>\n",
       "      <td>binary_crossentropy</td>\n",
       "      <td>0.230426</td>\n",
       "      <td>0.999985</td>\n",
       "      <td>0.130216</td>\n",
       "    </tr>\n",
       "    <tr>\n",
       "      <th>0</th>\n",
       "      <td>4</td>\n",
       "      <td>10</td>\n",
       "      <td>relu</td>\n",
       "      <td>&lt;keras.regularizers.L1L2 object at 0x00000197D...</td>\n",
       "      <td>adam</td>\n",
       "      <td>binary_crossentropy</td>\n",
       "      <td>0.230426</td>\n",
       "      <td>0.999985</td>\n",
       "      <td>0.130216</td>\n",
       "    </tr>\n",
       "    <tr>\n",
       "      <th>1</th>\n",
       "      <td>4</td>\n",
       "      <td>10</td>\n",
       "      <td>relu</td>\n",
       "      <td>&lt;keras.regularizers.L1L2 object at 0x00000197D...</td>\n",
       "      <td>adam</td>\n",
       "      <td>binary_crossentropy</td>\n",
       "      <td>0.230426</td>\n",
       "      <td>0.999985</td>\n",
       "      <td>0.130216</td>\n",
       "    </tr>\n",
       "    <tr>\n",
       "      <th>2</th>\n",
       "      <td>4</td>\n",
       "      <td>10</td>\n",
       "      <td>relu</td>\n",
       "      <td>&lt;keras.regularizers.L1L2 object at 0x00000197D...</td>\n",
       "      <td>adam</td>\n",
       "      <td>binary_crossentropy</td>\n",
       "      <td>0.230426</td>\n",
       "      <td>0.999985</td>\n",
       "      <td>0.130216</td>\n",
       "    </tr>\n",
       "    <tr>\n",
       "      <th>3</th>\n",
       "      <td>4</td>\n",
       "      <td>10</td>\n",
       "      <td>relu</td>\n",
       "      <td>&lt;keras.regularizers.L1L2 object at 0x00000197D...</td>\n",
       "      <td>adam</td>\n",
       "      <td>binary_crossentropy</td>\n",
       "      <td>0.230426</td>\n",
       "      <td>0.999985</td>\n",
       "      <td>0.130216</td>\n",
       "    </tr>\n",
       "    <tr>\n",
       "      <th>0</th>\n",
       "      <td>3</td>\n",
       "      <td>20</td>\n",
       "      <td>relu</td>\n",
       "      <td>&lt;keras.regularizers.L1L2 object at 0x00000197D...</td>\n",
       "      <td>adam</td>\n",
       "      <td>binary_crossentropy</td>\n",
       "      <td>0.230426</td>\n",
       "      <td>0.999985</td>\n",
       "      <td>0.130216</td>\n",
       "    </tr>\n",
       "    <tr>\n",
       "      <th>1</th>\n",
       "      <td>3</td>\n",
       "      <td>20</td>\n",
       "      <td>relu</td>\n",
       "      <td>&lt;keras.regularizers.L1L2 object at 0x00000197D...</td>\n",
       "      <td>adam</td>\n",
       "      <td>binary_crossentropy</td>\n",
       "      <td>0.230426</td>\n",
       "      <td>0.999985</td>\n",
       "      <td>0.130216</td>\n",
       "    </tr>\n",
       "    <tr>\n",
       "      <th>2</th>\n",
       "      <td>3</td>\n",
       "      <td>20</td>\n",
       "      <td>relu</td>\n",
       "      <td>&lt;keras.regularizers.L1L2 object at 0x00000197D...</td>\n",
       "      <td>adam</td>\n",
       "      <td>binary_crossentropy</td>\n",
       "      <td>0.230426</td>\n",
       "      <td>0.999985</td>\n",
       "      <td>0.130216</td>\n",
       "    </tr>\n",
       "    <tr>\n",
       "      <th>0</th>\n",
       "      <td>1</td>\n",
       "      <td>1</td>\n",
       "      <td>relu</td>\n",
       "      <td>&lt;keras.regularizers.L1L2 object at 0x00000197D...</td>\n",
       "      <td>adam</td>\n",
       "      <td>binary_crossentropy</td>\n",
       "      <td>0.230354</td>\n",
       "      <td>0.996946</td>\n",
       "      <td>0.130222</td>\n",
       "    </tr>\n",
       "  </tbody>\n",
       "</table>\n",
       "</div>"
      ],
      "text/plain": [
       "   layers  nodes activation  \\\n",
       "0       2    200       relu   \n",
       "1       2    200       relu   \n",
       "0       2     50       relu   \n",
       "1       2     50       relu   \n",
       "0       2    100       relu   \n",
       "1       2    100       relu   \n",
       "0       4     10       relu   \n",
       "1       4     10       relu   \n",
       "2       4     10       relu   \n",
       "3       4     10       relu   \n",
       "0       3     20       relu   \n",
       "1       3     20       relu   \n",
       "2       3     20       relu   \n",
       "0       1      1       relu   \n",
       "\n",
       "                                        regulatrizer optimizer  \\\n",
       "0  <keras.regularizers.L1L2 object at 0x00000197D...      adam   \n",
       "1  <keras.regularizers.L1L2 object at 0x00000197D...      adam   \n",
       "0  <keras.regularizers.L1L2 object at 0x00000197D...      adam   \n",
       "1  <keras.regularizers.L1L2 object at 0x00000197D...      adam   \n",
       "0  <keras.regularizers.L1L2 object at 0x00000197D...      adam   \n",
       "1  <keras.regularizers.L1L2 object at 0x00000197D...      adam   \n",
       "0  <keras.regularizers.L1L2 object at 0x00000197D...      adam   \n",
       "1  <keras.regularizers.L1L2 object at 0x00000197D...      adam   \n",
       "2  <keras.regularizers.L1L2 object at 0x00000197D...      adam   \n",
       "3  <keras.regularizers.L1L2 object at 0x00000197D...      adam   \n",
       "0  <keras.regularizers.L1L2 object at 0x00000197D...      adam   \n",
       "1  <keras.regularizers.L1L2 object at 0x00000197D...      adam   \n",
       "2  <keras.regularizers.L1L2 object at 0x00000197D...      adam   \n",
       "0  <keras.regularizers.L1L2 object at 0x00000197D...      adam   \n",
       "\n",
       "                  loss        f1  precision    recall  \n",
       "0  binary_crossentropy  0.230428   0.999731  0.130222  \n",
       "1  binary_crossentropy  0.230428   0.999731  0.130222  \n",
       "0  binary_crossentropy  0.230426   0.999985  0.130216  \n",
       "1  binary_crossentropy  0.230426   0.999985  0.130216  \n",
       "0  binary_crossentropy  0.230426   0.999985  0.130216  \n",
       "1  binary_crossentropy  0.230426   0.999985  0.130216  \n",
       "0  binary_crossentropy  0.230426   0.999985  0.130216  \n",
       "1  binary_crossentropy  0.230426   0.999985  0.130216  \n",
       "2  binary_crossentropy  0.230426   0.999985  0.130216  \n",
       "3  binary_crossentropy  0.230426   0.999985  0.130216  \n",
       "0  binary_crossentropy  0.230426   0.999985  0.130216  \n",
       "1  binary_crossentropy  0.230426   0.999985  0.130216  \n",
       "2  binary_crossentropy  0.230426   0.999985  0.130216  \n",
       "0  binary_crossentropy  0.230354   0.996946  0.130222  "
      ]
     },
     "execution_count": 51,
     "metadata": {},
     "output_type": "execute_result"
    }
   ],
   "source": [
    "res_df.sort_values('f1', ascending=False)"
   ]
  },
  {
   "cell_type": "code",
   "execution_count": 52,
   "id": "230357f8-fae3-4c48-8f61-697a06cfecb4",
   "metadata": {},
   "outputs": [],
   "source": [
    "y_pred = best.predict(X_test)\n",
    "y_pred = np.round(y_pred)"
   ]
  },
  {
   "cell_type": "code",
   "execution_count": 53,
   "id": "52fc2bdd-55b3-4292-8fa6-15c5000e81b3",
   "metadata": {},
   "outputs": [
    {
     "name": "stdout",
     "output_type": "stream",
     "text": [
      "F1 = 0.2303335905517547\n",
      "Precision = 0.9988466101726045\n",
      "Recall = 0.13017606731143458 \n",
      "\n"
     ]
    },
    {
     "data": {
      "image/png": "[encoded data removed]",
      "text/plain": [
       "<Figure size 432x288 with 2 Axes>"
      ]
     },
     "metadata": {
      "needs_background": "light"
     },
     "output_type": "display_data"
    }
   ],
   "source": [
    "print(f'F1 =', f1_score(y_test, y_pred))\n",
    "print(f'Precision =', precision_score(y_test, y_pred))\n",
    "print(f'Recall =', recall_score(y_test, y_pred), '\\n')\n",
    "plot_confusion_matrix(y_test, y_pred)"
   ]
  }
 ],
 "metadata": {
  "kernelspec": {
   "display_name": "Python 3",
   "language": "python",
   "name": "python3"
  },
  "language_info": {
   "codemirror_mode": {
    "name": "ipython",
    "version": 3
   },
   "file_extension": ".py",
   "mimetype": "text/x-python",
   "name": "python",
   "nbconvert_exporter": "python",
   "pygments_lexer": "ipython3",
   "version": "3.8.8"
  }
 },
 "nbformat": 4,
 "nbformat_minor": 5
}
