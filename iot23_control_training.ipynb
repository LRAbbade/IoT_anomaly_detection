{
 "cells": [
  {
   "cell_type": "code",
   "execution_count": 41,
   "id": "b30c47c8-c024-41a5-bffd-0b51cda10052",
   "metadata": {},
   "outputs": [],
   "source": [
    "import os\n",
    "import random\n",
    "import pandas as pd\n",
    "import tensorflow as tf\n",
    "import xgboost as xgb\n",
    "from sklearn.model_selection import train_test_split\n",
    "from sklearn.ensemble import RandomForestClassifier, GradientBoostingClassifier\n",
    "from sklearn.metrics import classification_report, confusion_matrix, f1_score, ConfusionMatrixDisplay, precision_score, recall_score, accuracy_score, plot_roc_curve, roc_curve, RocCurveDisplay, auc\n",
    "from sklearn.model_selection import GridSearchCV, StratifiedKFold\n",
    "from progressbar import progressbar\n",
    "import plotly.graph_objects as go\n",
    "import plotly.express as px\n",
    "import plotly.figure_factory as ff"
   ]
  },
  {
   "cell_type": "code",
   "execution_count": 2,
   "id": "dae06659-30b4-46e4-9b08-1a744594c257",
   "metadata": {},
   "outputs": [
    {
     "name": "stdout",
     "output_type": "stream",
     "text": [
      "Device mapping:\n",
      "/job:localhost/replica:0/task:0/device:GPU:0 -> device: 0, name: NVIDIA GeForce RTX 3070, pci bus id: 0000:06:00.0, compute capability: 8.6\n",
      "\n"
     ]
    }
   ],
   "source": [
    "sess = tf.compat.v1.Session(config=tf.compat.v1.ConfigProto(log_device_placement=True))"
   ]
  },
  {
   "cell_type": "code",
   "execution_count": 3,
   "id": "39fc8201-69d8-4f1d-bac0-ac5248d3fa2b",
   "metadata": {},
   "outputs": [],
   "source": [
    "shuffled_folder = 'dataset/shuffled/'\n",
    "shuffled_files = [shuffled_folder + file for file in os.listdir(shuffled_folder)]\n",
    "random.shuffle(shuffled_files)"
   ]
  },
  {
   "cell_type": "code",
   "execution_count": 7,
   "id": "aa663ddb-fb67-426e-b7a6-7ca6b5a7536b",
   "metadata": {},
   "outputs": [],
   "source": [
    "num_files = len(shuffled_files)\n",
    "training_cut = round(0.6 * num_files)"
   ]
  },
  {
   "cell_type": "code",
   "execution_count": 8,
   "id": "26e8e4f7-bb86-40a7-b1e6-083f8e1cfcdc",
   "metadata": {},
   "outputs": [],
   "source": [
    "training_files = shuffled_files[:training_cut]\n",
    "test_files = shuffled_files[training_cut:]"
   ]
  },
  {
   "cell_type": "code",
   "execution_count": 6,
   "id": "815938af-74ff-4f1e-9468-ec9241b50f9f",
   "metadata": {},
   "outputs": [],
   "source": [
    "def count_rows_in_files(files):\n",
    "    res = 0\n",
    "    for file in files:\n",
    "        df = pd.read_parquet(file)\n",
    "        res += len(df)\n",
    "    \n",
    "    return res"
   ]
  },
  {
   "cell_type": "code",
   "execution_count": 8,
   "id": "abcf642f-1605-437a-b46e-d905f6ae1b26",
   "metadata": {},
   "outputs": [],
   "source": [
    "training_rows = count_rows_in_files(training_files)\n",
    "cross_val_rows = count_rows_in_files(cross_validation_files)\n",
    "test_rows = count_rows_in_files(test_files)"
   ]
  },
  {
   "cell_type": "code",
   "execution_count": 9,
   "id": "bad73012-fd8b-449b-b103-f3debe723d6a",
   "metadata": {},
   "outputs": [
    {
     "data": {
      "text/plain": [
       "(126960106, 95696597, 102653243)"
      ]
     },
     "execution_count": 9,
     "metadata": {},
     "output_type": "execute_result"
    }
   ],
   "source": [
    "training_rows, cross_val_rows, test_rows"
   ]
  },
  {
   "cell_type": "code",
   "execution_count": 10,
   "id": "e736006b-d609-46ff-b1c6-5ba02f41201d",
   "metadata": {},
   "outputs": [],
   "source": [
    "total_rows = training_rows + cross_val_rows + test_rows"
   ]
  },
  {
   "cell_type": "code",
   "execution_count": 11,
   "id": "764b012e-ccef-4c05-b786-2e00c37c1479",
   "metadata": {},
   "outputs": [
    {
     "data": {
      "text/plain": [
       "325309946"
      ]
     },
     "execution_count": 11,
     "metadata": {},
     "output_type": "execute_result"
    }
   ],
   "source": [
    "total_rows"
   ]
  },
  {
   "cell_type": "code",
   "execution_count": 12,
   "id": "ebc941d6-245d-41d0-9ba2-1b4c70eca428",
   "metadata": {},
   "outputs": [
    {
     "name": "stdout",
     "output_type": "stream",
     "text": [
      "training 39.03%\n",
      "cross 29.42%\n",
      "test 31.56%\n"
     ]
    }
   ],
   "source": [
    "print(f'training {100 * training_rows / total_rows:.2f}%')\n",
    "print(f'cross {100 * cross_val_rows / total_rows:.2f}%')\n",
    "print(f'test {100 * test_rows / total_rows:.2f}%')"
   ]
  },
  {
   "cell_type": "markdown",
   "id": "0817435a-f5f4-492c-a1af-4ff2987c64c7",
   "metadata": {},
   "source": [
    "### Base DFs for cross validation"
   ]
  },
  {
   "cell_type": "markdown",
   "id": "6a9b3c2e-4663-4d49-ab1e-22b806a6b7ea",
   "metadata": {},
   "source": [
    "starting with only one df (10 million rows), should be enough to have an idea of the performance of different models, I will escalate later"
   ]
  },
  {
   "cell_type": "code",
   "execution_count": 10,
   "id": "18f3e7bd-3083-4ddf-818a-528aab1c8b3f",
   "metadata": {},
   "outputs": [],
   "source": [
    "def get_train_test_dfs(file):\n",
    "    df = pd.read_parquet(file)\n",
    "    df = df.fillna(0)\n",
    "    X = df[[i for i in df.columns if not i == 'label']]\n",
    "    y = df[['label']]\n",
    "    return train_test_split(X, y, test_size=0.3, stratify=y)"
   ]
  },
  {
   "cell_type": "code",
   "execution_count": 9,
   "id": "fda96056-24af-493d-be0a-e284a8fa7e41",
   "metadata": {},
   "outputs": [],
   "source": [
    "X_train, X_test, y_train, y_test = get_train_test_dfs('dataset/shuffled/part_6')"
   ]
  },
  {
   "cell_type": "code",
   "execution_count": 10,
   "id": "ff62781c-6916-4af3-b14d-236e0e24b58e",
   "metadata": {},
   "outputs": [
    {
     "data": {
      "text/plain": [
       "6587395"
      ]
     },
     "execution_count": 10,
     "metadata": {},
     "output_type": "execute_result"
    }
   ],
   "source": [
    "len(X_train)"
   ]
  },
  {
   "cell_type": "code",
   "execution_count": 11,
   "id": "e81edbfd-9dcc-49c2-b761-bd1e61d08128",
   "metadata": {},
   "outputs": [
    {
     "data": {
      "text/plain": [
       "2823170"
      ]
     },
     "execution_count": 11,
     "metadata": {},
     "output_type": "execute_result"
    }
   ],
   "source": [
    "len(X_test)"
   ]
  },
  {
   "cell_type": "code",
   "execution_count": 12,
   "id": "8512f77d-9ba1-4dd1-95d6-f495f33efcc1",
   "metadata": {},
   "outputs": [
    {
     "data": {
      "text/plain": [
       "6587395"
      ]
     },
     "execution_count": 12,
     "metadata": {},
     "output_type": "execute_result"
    }
   ],
   "source": [
    "len(y_train)"
   ]
  },
  {
   "cell_type": "code",
   "execution_count": 13,
   "id": "499abeed-88f8-4429-92fa-53732584e13f",
   "metadata": {},
   "outputs": [
    {
     "data": {
      "text/plain": [
       "2823170"
      ]
     },
     "execution_count": 13,
     "metadata": {},
     "output_type": "execute_result"
    }
   ],
   "source": [
    "len(y_test)"
   ]
  },
  {
   "cell_type": "code",
   "execution_count": 9,
   "id": "224dcaec-d9cc-4067-9561-137acf060dc7",
   "metadata": {},
   "outputs": [],
   "source": [
    "def check_distrib(df):\n",
    "    df = df[['label']]\n",
    "    ones = len(df[df['label'] == 1])\n",
    "    return ones / len(df)"
   ]
  },
  {
   "cell_type": "markdown",
   "id": "99aeee4e-eff2-42fa-959a-60f718b56ce2",
   "metadata": {},
   "source": [
    "just checking the stratify"
   ]
  },
  {
   "cell_type": "code",
   "execution_count": 15,
   "id": "eee5d047-6a83-4616-b16f-cc3afcdb63f3",
   "metadata": {},
   "outputs": [
    {
     "data": {
      "text/plain": [
       "0.739918890547781"
      ]
     },
     "execution_count": 15,
     "metadata": {},
     "output_type": "execute_result"
    }
   ],
   "source": [
    "check_distrib(y_train)"
   ]
  },
  {
   "cell_type": "code",
   "execution_count": 16,
   "id": "280c7881-19c7-4bc3-8315-4a5267e5d83d",
   "metadata": {},
   "outputs": [
    {
     "data": {
      "text/plain": [
       "0.7399189563504854"
      ]
     },
     "execution_count": 16,
     "metadata": {},
     "output_type": "execute_result"
    }
   ],
   "source": [
    "check_distrib(y_test)"
   ]
  },
  {
   "cell_type": "markdown",
   "id": "7b2e9bae-7e17-4bed-af7f-c79b50cb6cca",
   "metadata": {},
   "source": [
    "### Helper functions"
   ]
  },
  {
   "cell_type": "code",
   "execution_count": 11,
   "id": "7fefa46b-6b98-45d2-adf3-3c1b9448cba0",
   "metadata": {},
   "outputs": [],
   "source": [
    "def plot_confusion_matrix(y_true, y_pred):\n",
    "    conf_mat = ConfusionMatrixDisplay(confusion_matrix(y_true, y_pred))\n",
    "    conf_mat.plot()"
   ]
  },
  {
   "cell_type": "code",
   "execution_count": 12,
   "id": "655cedd9-dd82-4614-b584-50b6f20f2a79",
   "metadata": {},
   "outputs": [],
   "source": [
    "def get_results_from_cv(cv):\n",
    "    return pd.DataFrame(cv.cv_results_).drop(['params'], axis=1).sort_values('mean_test_score', ascending=False)"
   ]
  },
  {
   "cell_type": "code",
   "execution_count": 13,
   "id": "56879570-84a5-4e40-b002-315be1bc8cb5",
   "metadata": {},
   "outputs": [],
   "source": [
    "def show_feature_importances(estimator, columns):\n",
    "    return pd.DataFrame(data={'importance': estimator.feature_importances_}, index=columns).sort_values('importance', ascending=False).applymap(lambda v: f'{100 * v:.2f}%')"
   ]
  },
  {
   "cell_type": "code",
   "execution_count": 14,
   "id": "0aa78ebd-05bb-4b46-9eeb-31b95611bed9",
   "metadata": {},
   "outputs": [],
   "source": [
    "def plot_roc(y_test, y_pred):\n",
    "    fpr, tpr, thresholds = roc_curve(y_test, y_pred)\n",
    "    return RocCurveDisplay(fpr=fpr, tpr=tpr, roc_auc=auc(fpr, tpr)).plot()"
   ]
  },
  {
   "cell_type": "markdown",
   "id": "30ec88d8-0f69-4da6-a1bc-8449b1d877c9",
   "metadata": {},
   "source": [
    "### Starting with a random forest as control"
   ]
  },
  {
   "cell_type": "code",
   "execution_count": 107,
   "id": "7fd590f6-1f08-44ad-bdac-a13dacb94a93",
   "metadata": {},
   "outputs": [],
   "source": [
    "cv = GridSearchCV(RandomForestClassifier(), {\n",
    "    'n_estimators': [1, 10, 100],\n",
    "    'criterion': ['gini', 'entropy'],\n",
    "    'max_depth': [1, 10, 100, None]\n",
    "}, scoring='f1', n_jobs=16, verbose=3, cv=StratifiedKFold())"
   ]
  },
  {
   "cell_type": "code",
   "execution_count": 57,
   "id": "ed64e224-9527-4b37-9887-8c3b908b0a81",
   "metadata": {},
   "outputs": [
    {
     "name": "stdout",
     "output_type": "stream",
     "text": [
      "Fitting 5 folds for each of 32 candidates, totalling 160 fits\n"
     ]
    },
    {
     "name": "stderr",
     "output_type": "stream",
     "text": [
      "C:\\Users\\Lucas\\anaconda3\\lib\\site-packages\\sklearn\\model_selection\\_search.py:880: DataConversionWarning: A column-vector y was passed when a 1d array was expected. Please change the shape of y to (n_samples,), for example using ravel().\n",
      "  self.best_estimator_.fit(X, y, **fit_params)\n"
     ]
    },
    {
     "data": {
      "text/plain": [
       "GridSearchCV(estimator=RandomForestClassifier(), n_jobs=16,\n",
       "             param_grid={'criterion': ['gini', 'entropy'],\n",
       "                         'max_depth': [1, 10, 100, None],\n",
       "                         'n_estimators': [1, 10, 100, 1000]},\n",
       "             scoring='f1', verbose=3)"
      ]
     },
     "execution_count": 57,
     "metadata": {},
     "output_type": "execute_result"
    }
   ],
   "source": [
    "cv.fit(X_train, y_train)"
   ]
  },
  {
   "cell_type": "code",
   "execution_count": 75,
   "id": "7ca69bc3-4068-4de4-8f8c-3c1f29561bfb",
   "metadata": {},
   "outputs": [
    {
     "data": {
      "text/html": [
       "<div>\n",
       "<style scoped>\n",
       "    .dataframe tbody tr th:only-of-type {\n",
       "        vertical-align: middle;\n",
       "    }\n",
       "\n",
       "    .dataframe tbody tr th {\n",
       "        vertical-align: top;\n",
       "    }\n",
       "\n",
       "    .dataframe thead th {\n",
       "        text-align: right;\n",
       "    }\n",
       "</style>\n",
       "<table border=\"1\" class=\"dataframe\">\n",
       "  <thead>\n",
       "    <tr style=\"text-align: right;\">\n",
       "      <th></th>\n",
       "      <th>mean_fit_time</th>\n",
       "      <th>std_fit_time</th>\n",
       "      <th>mean_score_time</th>\n",
       "      <th>std_score_time</th>\n",
       "      <th>param_criterion</th>\n",
       "      <th>param_max_depth</th>\n",
       "      <th>param_n_estimators</th>\n",
       "      <th>split0_test_score</th>\n",
       "      <th>split1_test_score</th>\n",
       "      <th>split2_test_score</th>\n",
       "      <th>split3_test_score</th>\n",
       "      <th>split4_test_score</th>\n",
       "      <th>mean_test_score</th>\n",
       "      <th>std_test_score</th>\n",
       "      <th>rank_test_score</th>\n",
       "    </tr>\n",
       "  </thead>\n",
       "  <tbody>\n",
       "    <tr>\n",
       "      <th>22</th>\n",
       "      <td>43.867459</td>\n",
       "      <td>3.240281</td>\n",
       "      <td>1.639186</td>\n",
       "      <td>0.119938</td>\n",
       "      <td>entropy</td>\n",
       "      <td>10</td>\n",
       "      <td>100</td>\n",
       "      <td>0.884714</td>\n",
       "      <td>0.884934</td>\n",
       "      <td>0.884720</td>\n",
       "      <td>0.884480</td>\n",
       "      <td>0.885018</td>\n",
       "      <td>0.884773</td>\n",
       "      <td>0.000189</td>\n",
       "      <td>1</td>\n",
       "    </tr>\n",
       "    <tr>\n",
       "      <th>5</th>\n",
       "      <td>5.215665</td>\n",
       "      <td>0.267522</td>\n",
       "      <td>0.339433</td>\n",
       "      <td>0.082126</td>\n",
       "      <td>gini</td>\n",
       "      <td>10</td>\n",
       "      <td>10</td>\n",
       "      <td>0.884715</td>\n",
       "      <td>0.884930</td>\n",
       "      <td>0.884720</td>\n",
       "      <td>0.884480</td>\n",
       "      <td>0.885018</td>\n",
       "      <td>0.884773</td>\n",
       "      <td>0.000188</td>\n",
       "      <td>2</td>\n",
       "    </tr>\n",
       "    <tr>\n",
       "      <th>6</th>\n",
       "      <td>40.408750</td>\n",
       "      <td>1.648401</td>\n",
       "      <td>1.468573</td>\n",
       "      <td>0.164781</td>\n",
       "      <td>gini</td>\n",
       "      <td>10</td>\n",
       "      <td>100</td>\n",
       "      <td>0.884715</td>\n",
       "      <td>0.884930</td>\n",
       "      <td>0.884720</td>\n",
       "      <td>0.884480</td>\n",
       "      <td>0.885018</td>\n",
       "      <td>0.884773</td>\n",
       "      <td>0.000188</td>\n",
       "      <td>2</td>\n",
       "    </tr>\n",
       "    <tr>\n",
       "      <th>23</th>\n",
       "      <td>382.526772</td>\n",
       "      <td>4.300434</td>\n",
       "      <td>12.294869</td>\n",
       "      <td>0.172509</td>\n",
       "      <td>entropy</td>\n",
       "      <td>10</td>\n",
       "      <td>1000</td>\n",
       "      <td>0.884709</td>\n",
       "      <td>0.884934</td>\n",
       "      <td>0.884720</td>\n",
       "      <td>0.884480</td>\n",
       "      <td>0.885018</td>\n",
       "      <td>0.884772</td>\n",
       "      <td>0.000189</td>\n",
       "      <td>4</td>\n",
       "    </tr>\n",
       "    <tr>\n",
       "      <th>30</th>\n",
       "      <td>38.990859</td>\n",
       "      <td>1.193481</td>\n",
       "      <td>1.422491</td>\n",
       "      <td>0.028443</td>\n",
       "      <td>entropy</td>\n",
       "      <td>None</td>\n",
       "      <td>100</td>\n",
       "      <td>0.884709</td>\n",
       "      <td>0.884934</td>\n",
       "      <td>0.884720</td>\n",
       "      <td>0.884480</td>\n",
       "      <td>0.885018</td>\n",
       "      <td>0.884772</td>\n",
       "      <td>0.000189</td>\n",
       "      <td>4</td>\n",
       "    </tr>\n",
       "    <tr>\n",
       "      <th>7</th>\n",
       "      <td>390.429645</td>\n",
       "      <td>13.011543</td>\n",
       "      <td>12.899477</td>\n",
       "      <td>0.642416</td>\n",
       "      <td>gini</td>\n",
       "      <td>10</td>\n",
       "      <td>1000</td>\n",
       "      <td>0.884709</td>\n",
       "      <td>0.884934</td>\n",
       "      <td>0.884720</td>\n",
       "      <td>0.884480</td>\n",
       "      <td>0.885018</td>\n",
       "      <td>0.884772</td>\n",
       "      <td>0.000189</td>\n",
       "      <td>4</td>\n",
       "    </tr>\n",
       "    <tr>\n",
       "      <th>10</th>\n",
       "      <td>42.922745</td>\n",
       "      <td>1.921866</td>\n",
       "      <td>1.765949</td>\n",
       "      <td>0.270186</td>\n",
       "      <td>gini</td>\n",
       "      <td>100</td>\n",
       "      <td>100</td>\n",
       "      <td>0.884709</td>\n",
       "      <td>0.884930</td>\n",
       "      <td>0.884720</td>\n",
       "      <td>0.884480</td>\n",
       "      <td>0.885018</td>\n",
       "      <td>0.884771</td>\n",
       "      <td>0.000189</td>\n",
       "      <td>7</td>\n",
       "    </tr>\n",
       "    <tr>\n",
       "      <th>11</th>\n",
       "      <td>399.425347</td>\n",
       "      <td>12.275884</td>\n",
       "      <td>12.649745</td>\n",
       "      <td>0.378638</td>\n",
       "      <td>gini</td>\n",
       "      <td>100</td>\n",
       "      <td>1000</td>\n",
       "      <td>0.884709</td>\n",
       "      <td>0.884930</td>\n",
       "      <td>0.884720</td>\n",
       "      <td>0.884480</td>\n",
       "      <td>0.885018</td>\n",
       "      <td>0.884771</td>\n",
       "      <td>0.000189</td>\n",
       "      <td>7</td>\n",
       "    </tr>\n",
       "    <tr>\n",
       "      <th>13</th>\n",
       "      <td>5.767909</td>\n",
       "      <td>0.608522</td>\n",
       "      <td>0.350185</td>\n",
       "      <td>0.044068</td>\n",
       "      <td>gini</td>\n",
       "      <td>None</td>\n",
       "      <td>10</td>\n",
       "      <td>0.884705</td>\n",
       "      <td>0.884930</td>\n",
       "      <td>0.884720</td>\n",
       "      <td>0.884480</td>\n",
       "      <td>0.885018</td>\n",
       "      <td>0.884771</td>\n",
       "      <td>0.000189</td>\n",
       "      <td>9</td>\n",
       "    </tr>\n",
       "    <tr>\n",
       "      <th>26</th>\n",
       "      <td>39.847090</td>\n",
       "      <td>1.374815</td>\n",
       "      <td>1.560764</td>\n",
       "      <td>0.130976</td>\n",
       "      <td>entropy</td>\n",
       "      <td>100</td>\n",
       "      <td>100</td>\n",
       "      <td>0.884705</td>\n",
       "      <td>0.884930</td>\n",
       "      <td>0.884720</td>\n",
       "      <td>0.884480</td>\n",
       "      <td>0.885018</td>\n",
       "      <td>0.884771</td>\n",
       "      <td>0.000189</td>\n",
       "      <td>9</td>\n",
       "    </tr>\n",
       "    <tr>\n",
       "      <th>27</th>\n",
       "      <td>324.527347</td>\n",
       "      <td>2.335355</td>\n",
       "      <td>7.633353</td>\n",
       "      <td>0.456428</td>\n",
       "      <td>entropy</td>\n",
       "      <td>100</td>\n",
       "      <td>1000</td>\n",
       "      <td>0.884705</td>\n",
       "      <td>0.884930</td>\n",
       "      <td>0.884720</td>\n",
       "      <td>0.884480</td>\n",
       "      <td>0.885018</td>\n",
       "      <td>0.884771</td>\n",
       "      <td>0.000189</td>\n",
       "      <td>9</td>\n",
       "    </tr>\n",
       "    <tr>\n",
       "      <th>15</th>\n",
       "      <td>389.451968</td>\n",
       "      <td>6.574809</td>\n",
       "      <td>13.479001</td>\n",
       "      <td>0.678301</td>\n",
       "      <td>gini</td>\n",
       "      <td>None</td>\n",
       "      <td>1000</td>\n",
       "      <td>0.884705</td>\n",
       "      <td>0.884930</td>\n",
       "      <td>0.884720</td>\n",
       "      <td>0.884480</td>\n",
       "      <td>0.885018</td>\n",
       "      <td>0.884771</td>\n",
       "      <td>0.000189</td>\n",
       "      <td>9</td>\n",
       "    </tr>\n",
       "    <tr>\n",
       "      <th>14</th>\n",
       "      <td>42.811971</td>\n",
       "      <td>2.233805</td>\n",
       "      <td>1.607584</td>\n",
       "      <td>0.109964</td>\n",
       "      <td>gini</td>\n",
       "      <td>None</td>\n",
       "      <td>100</td>\n",
       "      <td>0.884705</td>\n",
       "      <td>0.884930</td>\n",
       "      <td>0.884720</td>\n",
       "      <td>0.884480</td>\n",
       "      <td>0.885018</td>\n",
       "      <td>0.884771</td>\n",
       "      <td>0.000189</td>\n",
       "      <td>9</td>\n",
       "    </tr>\n",
       "    <tr>\n",
       "      <th>31</th>\n",
       "      <td>285.678283</td>\n",
       "      <td>9.680100</td>\n",
       "      <td>4.957356</td>\n",
       "      <td>0.742212</td>\n",
       "      <td>entropy</td>\n",
       "      <td>None</td>\n",
       "      <td>1000</td>\n",
       "      <td>0.884705</td>\n",
       "      <td>0.884930</td>\n",
       "      <td>0.884720</td>\n",
       "      <td>0.884480</td>\n",
       "      <td>0.885018</td>\n",
       "      <td>0.884771</td>\n",
       "      <td>0.000189</td>\n",
       "      <td>9</td>\n",
       "    </tr>\n",
       "    <tr>\n",
       "      <th>9</th>\n",
       "      <td>5.287192</td>\n",
       "      <td>0.248259</td>\n",
       "      <td>0.340550</td>\n",
       "      <td>0.052183</td>\n",
       "      <td>gini</td>\n",
       "      <td>100</td>\n",
       "      <td>10</td>\n",
       "      <td>0.884705</td>\n",
       "      <td>0.884930</td>\n",
       "      <td>0.884720</td>\n",
       "      <td>0.884480</td>\n",
       "      <td>0.885018</td>\n",
       "      <td>0.884771</td>\n",
       "      <td>0.000189</td>\n",
       "      <td>9</td>\n",
       "    </tr>\n",
       "    <tr>\n",
       "      <th>21</th>\n",
       "      <td>5.579796</td>\n",
       "      <td>0.670929</td>\n",
       "      <td>0.371929</td>\n",
       "      <td>0.066656</td>\n",
       "      <td>entropy</td>\n",
       "      <td>10</td>\n",
       "      <td>10</td>\n",
       "      <td>0.884709</td>\n",
       "      <td>0.884926</td>\n",
       "      <td>0.884720</td>\n",
       "      <td>0.884480</td>\n",
       "      <td>0.885018</td>\n",
       "      <td>0.884771</td>\n",
       "      <td>0.000188</td>\n",
       "      <td>16</td>\n",
       "    </tr>\n",
       "    <tr>\n",
       "      <th>29</th>\n",
       "      <td>5.107969</td>\n",
       "      <td>0.286639</td>\n",
       "      <td>0.309016</td>\n",
       "      <td>0.016863</td>\n",
       "      <td>entropy</td>\n",
       "      <td>None</td>\n",
       "      <td>10</td>\n",
       "      <td>0.884705</td>\n",
       "      <td>0.884926</td>\n",
       "      <td>0.884720</td>\n",
       "      <td>0.884480</td>\n",
       "      <td>0.885018</td>\n",
       "      <td>0.884770</td>\n",
       "      <td>0.000188</td>\n",
       "      <td>17</td>\n",
       "    </tr>\n",
       "    <tr>\n",
       "      <th>25</th>\n",
       "      <td>5.334609</td>\n",
       "      <td>0.285734</td>\n",
       "      <td>0.314008</td>\n",
       "      <td>0.015600</td>\n",
       "      <td>entropy</td>\n",
       "      <td>100</td>\n",
       "      <td>10</td>\n",
       "      <td>0.884706</td>\n",
       "      <td>0.884934</td>\n",
       "      <td>0.884720</td>\n",
       "      <td>0.884476</td>\n",
       "      <td>0.885010</td>\n",
       "      <td>0.884769</td>\n",
       "      <td>0.000189</td>\n",
       "      <td>18</td>\n",
       "    </tr>\n",
       "    <tr>\n",
       "      <th>20</th>\n",
       "      <td>1.536682</td>\n",
       "      <td>0.043557</td>\n",
       "      <td>0.220547</td>\n",
       "      <td>0.018618</td>\n",
       "      <td>entropy</td>\n",
       "      <td>10</td>\n",
       "      <td>1</td>\n",
       "      <td>0.884690</td>\n",
       "      <td>0.884934</td>\n",
       "      <td>0.884720</td>\n",
       "      <td>0.884476</td>\n",
       "      <td>0.885022</td>\n",
       "      <td>0.884768</td>\n",
       "      <td>0.000193</td>\n",
       "      <td>19</td>\n",
       "    </tr>\n",
       "    <tr>\n",
       "      <th>24</th>\n",
       "      <td>1.415792</td>\n",
       "      <td>0.056633</td>\n",
       "      <td>0.205141</td>\n",
       "      <td>0.011181</td>\n",
       "      <td>entropy</td>\n",
       "      <td>100</td>\n",
       "      <td>1</td>\n",
       "      <td>0.884709</td>\n",
       "      <td>0.884930</td>\n",
       "      <td>0.884681</td>\n",
       "      <td>0.884469</td>\n",
       "      <td>0.885011</td>\n",
       "      <td>0.884760</td>\n",
       "      <td>0.000192</td>\n",
       "      <td>20</td>\n",
       "    </tr>\n",
       "    <tr>\n",
       "      <th>8</th>\n",
       "      <td>1.460909</td>\n",
       "      <td>0.095718</td>\n",
       "      <td>0.195395</td>\n",
       "      <td>0.011911</td>\n",
       "      <td>gini</td>\n",
       "      <td>100</td>\n",
       "      <td>1</td>\n",
       "      <td>0.884709</td>\n",
       "      <td>0.884889</td>\n",
       "      <td>0.856924</td>\n",
       "      <td>0.884469</td>\n",
       "      <td>0.885018</td>\n",
       "      <td>0.879202</td>\n",
       "      <td>0.011141</td>\n",
       "      <td>21</td>\n",
       "    </tr>\n",
       "    <tr>\n",
       "      <th>4</th>\n",
       "      <td>1.448561</td>\n",
       "      <td>0.105268</td>\n",
       "      <td>0.185234</td>\n",
       "      <td>0.019572</td>\n",
       "      <td>gini</td>\n",
       "      <td>10</td>\n",
       "      <td>1</td>\n",
       "      <td>0.856872</td>\n",
       "      <td>0.884823</td>\n",
       "      <td>0.884720</td>\n",
       "      <td>0.884399</td>\n",
       "      <td>0.885008</td>\n",
       "      <td>0.879164</td>\n",
       "      <td>0.011148</td>\n",
       "      <td>22</td>\n",
       "    </tr>\n",
       "    <tr>\n",
       "      <th>12</th>\n",
       "      <td>1.732575</td>\n",
       "      <td>0.189008</td>\n",
       "      <td>0.204028</td>\n",
       "      <td>0.017370</td>\n",
       "      <td>gini</td>\n",
       "      <td>None</td>\n",
       "      <td>1</td>\n",
       "      <td>0.884706</td>\n",
       "      <td>0.884914</td>\n",
       "      <td>0.856921</td>\n",
       "      <td>0.856959</td>\n",
       "      <td>0.885018</td>\n",
       "      <td>0.873704</td>\n",
       "      <td>0.013688</td>\n",
       "      <td>23</td>\n",
       "    </tr>\n",
       "    <tr>\n",
       "      <th>28</th>\n",
       "      <td>1.401976</td>\n",
       "      <td>0.056048</td>\n",
       "      <td>0.195214</td>\n",
       "      <td>0.016413</td>\n",
       "      <td>entropy</td>\n",
       "      <td>None</td>\n",
       "      <td>1</td>\n",
       "      <td>0.856863</td>\n",
       "      <td>0.857025</td>\n",
       "      <td>0.884720</td>\n",
       "      <td>0.884469</td>\n",
       "      <td>0.857005</td>\n",
       "      <td>0.868016</td>\n",
       "      <td>0.013536</td>\n",
       "      <td>24</td>\n",
       "    </tr>\n",
       "    <tr>\n",
       "      <th>0</th>\n",
       "      <td>1.314403</td>\n",
       "      <td>0.098992</td>\n",
       "      <td>0.153242</td>\n",
       "      <td>0.005019</td>\n",
       "      <td>gini</td>\n",
       "      <td>1</td>\n",
       "      <td>1</td>\n",
       "      <td>0.856710</td>\n",
       "      <td>0.857005</td>\n",
       "      <td>0.884532</td>\n",
       "      <td>0.884230</td>\n",
       "      <td>0.856912</td>\n",
       "      <td>0.867878</td>\n",
       "      <td>0.013475</td>\n",
       "      <td>25</td>\n",
       "    </tr>\n",
       "    <tr>\n",
       "      <th>17</th>\n",
       "      <td>3.558149</td>\n",
       "      <td>0.075037</td>\n",
       "      <td>0.356154</td>\n",
       "      <td>0.031169</td>\n",
       "      <td>entropy</td>\n",
       "      <td>1</td>\n",
       "      <td>10</td>\n",
       "      <td>0.856901</td>\n",
       "      <td>0.856854</td>\n",
       "      <td>0.884640</td>\n",
       "      <td>0.856876</td>\n",
       "      <td>0.856849</td>\n",
       "      <td>0.862424</td>\n",
       "      <td>0.011108</td>\n",
       "      <td>26</td>\n",
       "    </tr>\n",
       "    <tr>\n",
       "      <th>16</th>\n",
       "      <td>1.278918</td>\n",
       "      <td>0.026612</td>\n",
       "      <td>0.222938</td>\n",
       "      <td>0.010216</td>\n",
       "      <td>entropy</td>\n",
       "      <td>1</td>\n",
       "      <td>1</td>\n",
       "      <td>0.856710</td>\n",
       "      <td>0.856846</td>\n",
       "      <td>0.884536</td>\n",
       "      <td>0.856890</td>\n",
       "      <td>0.856898</td>\n",
       "      <td>0.862376</td>\n",
       "      <td>0.011080</td>\n",
       "      <td>27</td>\n",
       "    </tr>\n",
       "    <tr>\n",
       "      <th>1</th>\n",
       "      <td>3.072905</td>\n",
       "      <td>0.141682</td>\n",
       "      <td>0.253131</td>\n",
       "      <td>0.027391</td>\n",
       "      <td>gini</td>\n",
       "      <td>1</td>\n",
       "      <td>10</td>\n",
       "      <td>0.856889</td>\n",
       "      <td>0.857002</td>\n",
       "      <td>0.856876</td>\n",
       "      <td>0.856831</td>\n",
       "      <td>0.856939</td>\n",
       "      <td>0.856907</td>\n",
       "      <td>0.000059</td>\n",
       "      <td>28</td>\n",
       "    </tr>\n",
       "    <tr>\n",
       "      <th>19</th>\n",
       "      <td>237.105364</td>\n",
       "      <td>14.761951</td>\n",
       "      <td>11.937924</td>\n",
       "      <td>0.844836</td>\n",
       "      <td>entropy</td>\n",
       "      <td>1</td>\n",
       "      <td>1000</td>\n",
       "      <td>0.856858</td>\n",
       "      <td>0.856869</td>\n",
       "      <td>0.856864</td>\n",
       "      <td>0.856876</td>\n",
       "      <td>0.856913</td>\n",
       "      <td>0.856876</td>\n",
       "      <td>0.000020</td>\n",
       "      <td>29</td>\n",
       "    </tr>\n",
       "    <tr>\n",
       "      <th>18</th>\n",
       "      <td>25.194683</td>\n",
       "      <td>1.944608</td>\n",
       "      <td>1.444234</td>\n",
       "      <td>0.153421</td>\n",
       "      <td>entropy</td>\n",
       "      <td>1</td>\n",
       "      <td>100</td>\n",
       "      <td>0.856833</td>\n",
       "      <td>0.856936</td>\n",
       "      <td>0.856849</td>\n",
       "      <td>0.856833</td>\n",
       "      <td>0.856916</td>\n",
       "      <td>0.856873</td>\n",
       "      <td>0.000044</td>\n",
       "      <td>30</td>\n",
       "    </tr>\n",
       "    <tr>\n",
       "      <th>2</th>\n",
       "      <td>23.550292</td>\n",
       "      <td>0.817103</td>\n",
       "      <td>1.263083</td>\n",
       "      <td>0.054376</td>\n",
       "      <td>gini</td>\n",
       "      <td>1</td>\n",
       "      <td>100</td>\n",
       "      <td>0.856897</td>\n",
       "      <td>0.856877</td>\n",
       "      <td>0.856833</td>\n",
       "      <td>0.856876</td>\n",
       "      <td>0.856863</td>\n",
       "      <td>0.856869</td>\n",
       "      <td>0.000021</td>\n",
       "      <td>31</td>\n",
       "    </tr>\n",
       "    <tr>\n",
       "      <th>3</th>\n",
       "      <td>231.063717</td>\n",
       "      <td>8.177062</td>\n",
       "      <td>11.951460</td>\n",
       "      <td>0.679347</td>\n",
       "      <td>gini</td>\n",
       "      <td>1</td>\n",
       "      <td>1000</td>\n",
       "      <td>0.856858</td>\n",
       "      <td>0.856901</td>\n",
       "      <td>0.856856</td>\n",
       "      <td>0.856831</td>\n",
       "      <td>0.856886</td>\n",
       "      <td>0.856866</td>\n",
       "      <td>0.000025</td>\n",
       "      <td>32</td>\n",
       "    </tr>\n",
       "  </tbody>\n",
       "</table>\n",
       "</div>"
      ],
      "text/plain": [
       "    mean_fit_time  std_fit_time  mean_score_time  std_score_time  \\\n",
       "22      43.867459      3.240281         1.639186        0.119938   \n",
       "5        5.215665      0.267522         0.339433        0.082126   \n",
       "6       40.408750      1.648401         1.468573        0.164781   \n",
       "23     382.526772      4.300434        12.294869        0.172509   \n",
       "30      38.990859      1.193481         1.422491        0.028443   \n",
       "7      390.429645     13.011543        12.899477        0.642416   \n",
       "10      42.922745      1.921866         1.765949        0.270186   \n",
       "11     399.425347     12.275884        12.649745        0.378638   \n",
       "13       5.767909      0.608522         0.350185        0.044068   \n",
       "26      39.847090      1.374815         1.560764        0.130976   \n",
       "27     324.527347      2.335355         7.633353        0.456428   \n",
       "15     389.451968      6.574809        13.479001        0.678301   \n",
       "14      42.811971      2.233805         1.607584        0.109964   \n",
       "31     285.678283      9.680100         4.957356        0.742212   \n",
       "9        5.287192      0.248259         0.340550        0.052183   \n",
       "21       5.579796      0.670929         0.371929        0.066656   \n",
       "29       5.107969      0.286639         0.309016        0.016863   \n",
       "25       5.334609      0.285734         0.314008        0.015600   \n",
       "20       1.536682      0.043557         0.220547        0.018618   \n",
       "24       1.415792      0.056633         0.205141        0.011181   \n",
       "8        1.460909      0.095718         0.195395        0.011911   \n",
       "4        1.448561      0.105268         0.185234        0.019572   \n",
       "12       1.732575      0.189008         0.204028        0.017370   \n",
       "28       1.401976      0.056048         0.195214        0.016413   \n",
       "0        1.314403      0.098992         0.153242        0.005019   \n",
       "17       3.558149      0.075037         0.356154        0.031169   \n",
       "16       1.278918      0.026612         0.222938        0.010216   \n",
       "1        3.072905      0.141682         0.253131        0.027391   \n",
       "19     237.105364     14.761951        11.937924        0.844836   \n",
       "18      25.194683      1.944608         1.444234        0.153421   \n",
       "2       23.550292      0.817103         1.263083        0.054376   \n",
       "3      231.063717      8.177062        11.951460        0.679347   \n",
       "\n",
       "   param_criterion param_max_depth param_n_estimators  split0_test_score  \\\n",
       "22         entropy              10                100           0.884714   \n",
       "5             gini              10                 10           0.884715   \n",
       "6             gini              10                100           0.884715   \n",
       "23         entropy              10               1000           0.884709   \n",
       "30         entropy            None                100           0.884709   \n",
       "7             gini              10               1000           0.884709   \n",
       "10            gini             100                100           0.884709   \n",
       "11            gini             100               1000           0.884709   \n",
       "13            gini            None                 10           0.884705   \n",
       "26         entropy             100                100           0.884705   \n",
       "27         entropy             100               1000           0.884705   \n",
       "15            gini            None               1000           0.884705   \n",
       "14            gini            None                100           0.884705   \n",
       "31         entropy            None               1000           0.884705   \n",
       "9             gini             100                 10           0.884705   \n",
       "21         entropy              10                 10           0.884709   \n",
       "29         entropy            None                 10           0.884705   \n",
       "25         entropy             100                 10           0.884706   \n",
       "20         entropy              10                  1           0.884690   \n",
       "24         entropy             100                  1           0.884709   \n",
       "8             gini             100                  1           0.884709   \n",
       "4             gini              10                  1           0.856872   \n",
       "12            gini            None                  1           0.884706   \n",
       "28         entropy            None                  1           0.856863   \n",
       "0             gini               1                  1           0.856710   \n",
       "17         entropy               1                 10           0.856901   \n",
       "16         entropy               1                  1           0.856710   \n",
       "1             gini               1                 10           0.856889   \n",
       "19         entropy               1               1000           0.856858   \n",
       "18         entropy               1                100           0.856833   \n",
       "2             gini               1                100           0.856897   \n",
       "3             gini               1               1000           0.856858   \n",
       "\n",
       "    split1_test_score  split2_test_score  split3_test_score  \\\n",
       "22           0.884934           0.884720           0.884480   \n",
       "5            0.884930           0.884720           0.884480   \n",
       "6            0.884930           0.884720           0.884480   \n",
       "23           0.884934           0.884720           0.884480   \n",
       "30           0.884934           0.884720           0.884480   \n",
       "7            0.884934           0.884720           0.884480   \n",
       "10           0.884930           0.884720           0.884480   \n",
       "11           0.884930           0.884720           0.884480   \n",
       "13           0.884930           0.884720           0.884480   \n",
       "26           0.884930           0.884720           0.884480   \n",
       "27           0.884930           0.884720           0.884480   \n",
       "15           0.884930           0.884720           0.884480   \n",
       "14           0.884930           0.884720           0.884480   \n",
       "31           0.884930           0.884720           0.884480   \n",
       "9            0.884930           0.884720           0.884480   \n",
       "21           0.884926           0.884720           0.884480   \n",
       "29           0.884926           0.884720           0.884480   \n",
       "25           0.884934           0.884720           0.884476   \n",
       "20           0.884934           0.884720           0.884476   \n",
       "24           0.884930           0.884681           0.884469   \n",
       "8            0.884889           0.856924           0.884469   \n",
       "4            0.884823           0.884720           0.884399   \n",
       "12           0.884914           0.856921           0.856959   \n",
       "28           0.857025           0.884720           0.884469   \n",
       "0            0.857005           0.884532           0.884230   \n",
       "17           0.856854           0.884640           0.856876   \n",
       "16           0.856846           0.884536           0.856890   \n",
       "1            0.857002           0.856876           0.856831   \n",
       "19           0.856869           0.856864           0.856876   \n",
       "18           0.856936           0.856849           0.856833   \n",
       "2            0.856877           0.856833           0.856876   \n",
       "3            0.856901           0.856856           0.856831   \n",
       "\n",
       "    split4_test_score  mean_test_score  std_test_score  rank_test_score  \n",
       "22           0.885018         0.884773        0.000189                1  \n",
       "5            0.885018         0.884773        0.000188                2  \n",
       "6            0.885018         0.884773        0.000188                2  \n",
       "23           0.885018         0.884772        0.000189                4  \n",
       "30           0.885018         0.884772        0.000189                4  \n",
       "7            0.885018         0.884772        0.000189                4  \n",
       "10           0.885018         0.884771        0.000189                7  \n",
       "11           0.885018         0.884771        0.000189                7  \n",
       "13           0.885018         0.884771        0.000189                9  \n",
       "26           0.885018         0.884771        0.000189                9  \n",
       "27           0.885018         0.884771        0.000189                9  \n",
       "15           0.885018         0.884771        0.000189                9  \n",
       "14           0.885018         0.884771        0.000189                9  \n",
       "31           0.885018         0.884771        0.000189                9  \n",
       "9            0.885018         0.884771        0.000189                9  \n",
       "21           0.885018         0.884771        0.000188               16  \n",
       "29           0.885018         0.884770        0.000188               17  \n",
       "25           0.885010         0.884769        0.000189               18  \n",
       "20           0.885022         0.884768        0.000193               19  \n",
       "24           0.885011         0.884760        0.000192               20  \n",
       "8            0.885018         0.879202        0.011141               21  \n",
       "4            0.885008         0.879164        0.011148               22  \n",
       "12           0.885018         0.873704        0.013688               23  \n",
       "28           0.857005         0.868016        0.013536               24  \n",
       "0            0.856912         0.867878        0.013475               25  \n",
       "17           0.856849         0.862424        0.011108               26  \n",
       "16           0.856898         0.862376        0.011080               27  \n",
       "1            0.856939         0.856907        0.000059               28  \n",
       "19           0.856913         0.856876        0.000020               29  \n",
       "18           0.856916         0.856873        0.000044               30  \n",
       "2            0.856863         0.856869        0.000021               31  \n",
       "3            0.856886         0.856866        0.000025               32  "
      ]
     },
     "execution_count": 75,
     "metadata": {},
     "output_type": "execute_result"
    }
   ],
   "source": [
    "get_results_from_cv(cv)"
   ]
  },
  {
   "cell_type": "code",
   "execution_count": 63,
   "id": "97feff68-b2e8-4132-ac9f-f3e5842f580b",
   "metadata": {},
   "outputs": [
    {
     "data": {
      "text/plain": [
       "{'criterion': 'entropy', 'max_depth': 10, 'n_estimators': 100}"
      ]
     },
     "execution_count": 63,
     "metadata": {},
     "output_type": "execute_result"
    }
   ],
   "source": [
    "cv.best_params_"
   ]
  },
  {
   "cell_type": "code",
   "execution_count": 58,
   "id": "3a84f8b0-8791-4be7-8a4f-f242775d1aba",
   "metadata": {},
   "outputs": [
    {
     "data": {
      "text/plain": [
       "RandomForestClassifier(criterion='entropy', max_depth=10)"
      ]
     },
     "execution_count": 58,
     "metadata": {},
     "output_type": "execute_result"
    }
   ],
   "source": [
    "best = cv.best_estimator_\n",
    "y_pred = best.predict(X_test)"
   ]
  },
  {
   "cell_type": "markdown",
   "id": "4863cdef-6b23-4bd4-bb39-003d38c52f2c",
   "metadata": {},
   "source": [
    "---"
   ]
  },
  {
   "cell_type": "markdown",
   "id": "93272fd6-0987-4534-af07-37ffe1ea3dea",
   "metadata": {},
   "source": [
    "### Training best params on 10 M rows to check"
   ]
  },
  {
   "cell_type": "code",
   "execution_count": 37,
   "id": "ce62a3af-b65c-4df4-b012-95f6f21f607f",
   "metadata": {},
   "outputs": [],
   "source": [
    "model_rf = RandomForestClassifier(criterion='entropy', max_depth=10, n_estimators=100)"
   ]
  },
  {
   "cell_type": "code",
   "execution_count": 38,
   "id": "32171e38-4d36-4662-b9fc-f1c385ea45a6",
   "metadata": {},
   "outputs": [
    {
     "name": "stderr",
     "output_type": "stream",
     "text": [
      "<ipython-input-38-2d0ea5064a37>:1: DataConversionWarning: A column-vector y was passed when a 1d array was expected. Please change the shape of y to (n_samples,), for example using ravel().\n",
      "  model_rf.fit(X_train, y_train)\n"
     ]
    },
    {
     "data": {
      "text/plain": [
       "RandomForestClassifier(criterion='entropy', max_depth=10)"
      ]
     },
     "execution_count": 38,
     "metadata": {},
     "output_type": "execute_result"
    }
   ],
   "source": [
    "model_rf.fit(X_train, y_train)"
   ]
  },
  {
   "cell_type": "code",
   "execution_count": 39,
   "id": "45ef8f77-9b92-4174-8975-20263ee0f666",
   "metadata": {},
   "outputs": [],
   "source": [
    "y_pred = model_rf.predict(X_test)"
   ]
  },
  {
   "cell_type": "code",
   "execution_count": 40,
   "id": "ac93d178-b5c2-4af1-b71c-6b5135cc2455",
   "metadata": {},
   "outputs": [
    {
     "name": "stdout",
     "output_type": "stream",
     "text": [
      "F1 = 0.9081797894970256\n",
      "Accuracy = 0.8503926437302748\n",
      "Precision = 0.8318474817783067\n",
      "Recall = 0.9999363306440611 \n",
      "\n"
     ]
    },
    {
     "data": {
      "image/png": "[encoded data removed]",
      "text/plain": [
       "<Figure size 432x288 with 2 Axes>"
      ]
     },
     "metadata": {
      "needs_background": "light"
     },
     "output_type": "display_data"
    }
   ],
   "source": [
    "print(f'F1 =', f1_score(y_test, y_pred))\n",
    "print(f'Accuracy =', accuracy_score(y_test, y_pred))\n",
    "print(f'Precision =', precision_score(y_test, y_pred))\n",
    "print(f'Recall =', recall_score(y_test, y_pred), '\\n')\n",
    "plot_confusion_matrix(y_test, y_pred)"
   ]
  },
  {
   "cell_type": "code",
   "execution_count": 47,
   "id": "a1c1cf39-ce1c-4339-aae0-70938ffe9476",
   "metadata": {},
   "outputs": [
    {
     "data": {
      "text/plain": [
       "<sklearn.metrics._plot.roc_curve.RocCurveDisplay at 0x1a3c6cb1490>"
      ]
     },
     "execution_count": 47,
     "metadata": {},
     "output_type": "execute_result"
    },
    {
     "data": {
      "image/png": "[encoded data removed]",
      "text/plain": [
       "<Figure size 432x288 with 1 Axes>"
      ]
     },
     "metadata": {
      "needs_background": "light"
     },
     "output_type": "display_data"
    }
   ],
   "source": [
    "plot_roc(y_test, y_pred)"
   ]
  },
  {
   "cell_type": "code",
   "execution_count": 31,
   "id": "8be84ba4-ec12-44ad-9ae8-11ba2d26007b",
   "metadata": {},
   "outputs": [
    {
     "data": {
      "text/html": [
       "<div>\n",
       "<style scoped>\n",
       "    .dataframe tbody tr th:only-of-type {\n",
       "        vertical-align: middle;\n",
       "    }\n",
       "\n",
       "    .dataframe tbody tr th {\n",
       "        vertical-align: top;\n",
       "    }\n",
       "\n",
       "    .dataframe thead th {\n",
       "        text-align: right;\n",
       "    }\n",
       "</style>\n",
       "<table border=\"1\" class=\"dataframe\">\n",
       "  <thead>\n",
       "    <tr style=\"text-align: right;\">\n",
       "      <th></th>\n",
       "      <th>importance</th>\n",
       "    </tr>\n",
       "  </thead>\n",
       "  <tbody>\n",
       "    <tr>\n",
       "      <th>duration</th>\n",
       "      <td>44.82%</td>\n",
       "    </tr>\n",
       "    <tr>\n",
       "      <th>conn_state_s0</th>\n",
       "      <td>25.29%</td>\n",
       "    </tr>\n",
       "    <tr>\n",
       "      <th>conn_state_rstos0</th>\n",
       "      <td>18.08%</td>\n",
       "    </tr>\n",
       "    <tr>\n",
       "      <th>orig_bytes</th>\n",
       "      <td>4.37%</td>\n",
       "    </tr>\n",
       "    <tr>\n",
       "      <th>conn_state_oth</th>\n",
       "      <td>2.20%</td>\n",
       "    </tr>\n",
       "    <tr>\n",
       "      <th>orig_ip_bytes</th>\n",
       "      <td>1.68%</td>\n",
       "    </tr>\n",
       "    <tr>\n",
       "      <th>orig_pkts</th>\n",
       "      <td>1.11%</td>\n",
       "    </tr>\n",
       "    <tr>\n",
       "      <th>proto_tcp</th>\n",
       "      <td>0.62%</td>\n",
       "    </tr>\n",
       "    <tr>\n",
       "      <th>resp_ip_bytes</th>\n",
       "      <td>0.46%</td>\n",
       "    </tr>\n",
       "    <tr>\n",
       "      <th>proto_icmp</th>\n",
       "      <td>0.38%</td>\n",
       "    </tr>\n",
       "  </tbody>\n",
       "</table>\n",
       "</div>"
      ],
      "text/plain": [
       "                  importance\n",
       "duration              44.82%\n",
       "conn_state_s0         25.29%\n",
       "conn_state_rstos0     18.08%\n",
       "orig_bytes             4.37%\n",
       "conn_state_oth         2.20%\n",
       "orig_ip_bytes          1.68%\n",
       "orig_pkts              1.11%\n",
       "proto_tcp              0.62%\n",
       "resp_ip_bytes          0.46%\n",
       "proto_icmp             0.38%"
      ]
     },
     "execution_count": 31,
     "metadata": {},
     "output_type": "execute_result"
    }
   ],
   "source": [
    "show_feature_importances(model_rf, X_train.columns).head(10)"
   ]
  },
  {
   "cell_type": "markdown",
   "id": "81504d30-fb50-4665-973b-05a44c9d6701",
   "metadata": {},
   "source": [
    "---"
   ]
  },
  {
   "cell_type": "code",
   "execution_count": 111,
   "id": "422d9934-4d0b-4bef-a785-6e277c7300f9",
   "metadata": {},
   "outputs": [
    {
     "name": "stdout",
     "output_type": "stream",
     "text": [
      "F1 = 0.8850851148492945 \n",
      "\n"
     ]
    },
    {
     "data": {
      "image/png": "[encoded data removed]",
      "text/plain": [
       "<Figure size 432x288 with 2 Axes>"
      ]
     },
     "metadata": {
      "needs_background": "light"
     },
     "output_type": "display_data"
    }
   ],
   "source": [
    "print(f'F1 =', f1_score(y_test, y_pred), '\\n')\n",
    "plot_confusion_matrix(y_test, y_pred)"
   ]
  },
  {
   "cell_type": "code",
   "execution_count": 95,
   "id": "204411b1-6923-43d9-a6f1-aba5144035cb",
   "metadata": {},
   "outputs": [
    {
     "data": {
      "text/html": [
       "<div>\n",
       "<style scoped>\n",
       "    .dataframe tbody tr th:only-of-type {\n",
       "        vertical-align: middle;\n",
       "    }\n",
       "\n",
       "    .dataframe tbody tr th {\n",
       "        vertical-align: top;\n",
       "    }\n",
       "\n",
       "    .dataframe thead th {\n",
       "        text-align: right;\n",
       "    }\n",
       "</style>\n",
       "<table border=\"1\" class=\"dataframe\">\n",
       "  <thead>\n",
       "    <tr style=\"text-align: right;\">\n",
       "      <th></th>\n",
       "      <th>importance</th>\n",
       "    </tr>\n",
       "  </thead>\n",
       "  <tbody>\n",
       "    <tr>\n",
       "      <th>duration</th>\n",
       "      <td>67.39%</td>\n",
       "    </tr>\n",
       "    <tr>\n",
       "      <th>conn_state_s0</th>\n",
       "      <td>10.29%</td>\n",
       "    </tr>\n",
       "    <tr>\n",
       "      <th>resp_pkts</th>\n",
       "      <td>7.37%</td>\n",
       "    </tr>\n",
       "    <tr>\n",
       "      <th>resp_ip_bytes</th>\n",
       "      <td>4.10%</td>\n",
       "    </tr>\n",
       "    <tr>\n",
       "      <th>proto_tcp</th>\n",
       "      <td>4.04%</td>\n",
       "    </tr>\n",
       "    <tr>\n",
       "      <th>proto_udp</th>\n",
       "      <td>2.61%</td>\n",
       "    </tr>\n",
       "    <tr>\n",
       "      <th>conn_state_sf</th>\n",
       "      <td>1.12%</td>\n",
       "    </tr>\n",
       "    <tr>\n",
       "      <th>proto_icmp</th>\n",
       "      <td>0.64%</td>\n",
       "    </tr>\n",
       "    <tr>\n",
       "      <th>service_dns</th>\n",
       "      <td>0.57%</td>\n",
       "    </tr>\n",
       "    <tr>\n",
       "      <th>conn_state_s3</th>\n",
       "      <td>0.56%</td>\n",
       "    </tr>\n",
       "  </tbody>\n",
       "</table>\n",
       "</div>"
      ],
      "text/plain": [
       "              importance\n",
       "duration          67.39%\n",
       "conn_state_s0     10.29%\n",
       "resp_pkts          7.37%\n",
       "resp_ip_bytes      4.10%\n",
       "proto_tcp          4.04%\n",
       "proto_udp          2.61%\n",
       "conn_state_sf      1.12%\n",
       "proto_icmp         0.64%\n",
       "service_dns        0.57%\n",
       "conn_state_s3      0.56%"
      ]
     },
     "execution_count": 95,
     "metadata": {},
     "output_type": "execute_result"
    }
   ],
   "source": [
    "show_feature_importances(best, X_train.columns).head(10)"
   ]
  },
  {
   "cell_type": "code",
   "execution_count": 101,
   "id": "2a61e66e-23ab-4d58-a59e-7b499445cdec",
   "metadata": {},
   "outputs": [
    {
     "data": {
      "text/html": [
       "<div>\n",
       "<style scoped>\n",
       "    .dataframe tbody tr th:only-of-type {\n",
       "        vertical-align: middle;\n",
       "    }\n",
       "\n",
       "    .dataframe tbody tr th {\n",
       "        vertical-align: top;\n",
       "    }\n",
       "\n",
       "    .dataframe thead th {\n",
       "        text-align: right;\n",
       "    }\n",
       "</style>\n",
       "<table border=\"1\" class=\"dataframe\">\n",
       "  <thead>\n",
       "    <tr style=\"text-align: right;\">\n",
       "      <th></th>\n",
       "      <th>duration</th>\n",
       "      <th>conn_state_s0</th>\n",
       "      <th>resp_pkts</th>\n",
       "      <th>resp_ip_bytes</th>\n",
       "      <th>conn_state_sf</th>\n",
       "      <th>label</th>\n",
       "    </tr>\n",
       "  </thead>\n",
       "  <tbody>\n",
       "    <tr>\n",
       "      <th>4060710</th>\n",
       "      <td>3.327853e-05</td>\n",
       "      <td>1</td>\n",
       "      <td>0.0</td>\n",
       "      <td>0.0</td>\n",
       "      <td>0</td>\n",
       "      <td>0</td>\n",
       "    </tr>\n",
       "    <tr>\n",
       "      <th>5516864</th>\n",
       "      <td>0.000000e+00</td>\n",
       "      <td>1</td>\n",
       "      <td>0.0</td>\n",
       "      <td>0.0</td>\n",
       "      <td>0</td>\n",
       "      <td>1</td>\n",
       "    </tr>\n",
       "    <tr>\n",
       "      <th>1535360</th>\n",
       "      <td>0.000000e+00</td>\n",
       "      <td>1</td>\n",
       "      <td>0.0</td>\n",
       "      <td>0.0</td>\n",
       "      <td>0</td>\n",
       "      <td>1</td>\n",
       "    </tr>\n",
       "    <tr>\n",
       "      <th>8524678</th>\n",
       "      <td>0.000000e+00</td>\n",
       "      <td>1</td>\n",
       "      <td>0.0</td>\n",
       "      <td>0.0</td>\n",
       "      <td>0</td>\n",
       "      <td>1</td>\n",
       "    </tr>\n",
       "    <tr>\n",
       "      <th>5121523</th>\n",
       "      <td>0.000000e+00</td>\n",
       "      <td>1</td>\n",
       "      <td>0.0</td>\n",
       "      <td>0.0</td>\n",
       "      <td>0</td>\n",
       "      <td>1</td>\n",
       "    </tr>\n",
       "    <tr>\n",
       "      <th>...</th>\n",
       "      <td>...</td>\n",
       "      <td>...</td>\n",
       "      <td>...</td>\n",
       "      <td>...</td>\n",
       "      <td>...</td>\n",
       "      <td>...</td>\n",
       "    </tr>\n",
       "    <tr>\n",
       "      <th>1978437</th>\n",
       "      <td>2.744424e-09</td>\n",
       "      <td>1</td>\n",
       "      <td>0.0</td>\n",
       "      <td>0.0</td>\n",
       "      <td>0</td>\n",
       "      <td>1</td>\n",
       "    </tr>\n",
       "    <tr>\n",
       "      <th>2444885</th>\n",
       "      <td>0.000000e+00</td>\n",
       "      <td>1</td>\n",
       "      <td>0.0</td>\n",
       "      <td>0.0</td>\n",
       "      <td>0</td>\n",
       "      <td>1</td>\n",
       "    </tr>\n",
       "    <tr>\n",
       "      <th>2354317</th>\n",
       "      <td>0.000000e+00</td>\n",
       "      <td>1</td>\n",
       "      <td>0.0</td>\n",
       "      <td>0.0</td>\n",
       "      <td>0</td>\n",
       "      <td>1</td>\n",
       "    </tr>\n",
       "    <tr>\n",
       "      <th>3946927</th>\n",
       "      <td>4.288163e-11</td>\n",
       "      <td>1</td>\n",
       "      <td>0.0</td>\n",
       "      <td>0.0</td>\n",
       "      <td>0</td>\n",
       "      <td>1</td>\n",
       "    </tr>\n",
       "    <tr>\n",
       "      <th>2406832</th>\n",
       "      <td>0.000000e+00</td>\n",
       "      <td>1</td>\n",
       "      <td>0.0</td>\n",
       "      <td>0.0</td>\n",
       "      <td>0</td>\n",
       "      <td>1</td>\n",
       "    </tr>\n",
       "  </tbody>\n",
       "</table>\n",
       "<p>630310 rows × 6 columns</p>\n",
       "</div>"
      ],
      "text/plain": [
       "             duration  conn_state_s0  resp_pkts  resp_ip_bytes  conn_state_sf  \\\n",
       "4060710  3.327853e-05              1        0.0            0.0              0   \n",
       "5516864  0.000000e+00              1        0.0            0.0              0   \n",
       "1535360  0.000000e+00              1        0.0            0.0              0   \n",
       "8524678  0.000000e+00              1        0.0            0.0              0   \n",
       "5121523  0.000000e+00              1        0.0            0.0              0   \n",
       "...               ...            ...        ...            ...            ...   \n",
       "1978437  2.744424e-09              1        0.0            0.0              0   \n",
       "2444885  0.000000e+00              1        0.0            0.0              0   \n",
       "2354317  0.000000e+00              1        0.0            0.0              0   \n",
       "3946927  4.288163e-11              1        0.0            0.0              0   \n",
       "2406832  0.000000e+00              1        0.0            0.0              0   \n",
       "\n",
       "         label  \n",
       "4060710      0  \n",
       "5516864      1  \n",
       "1535360      1  \n",
       "8524678      1  \n",
       "5121523      1  \n",
       "...        ...  \n",
       "1978437      1  \n",
       "2444885      1  \n",
       "2354317      1  \n",
       "3946927      1  \n",
       "2406832      1  \n",
       "\n",
       "[630310 rows x 6 columns]"
      ]
     },
     "execution_count": 101,
     "metadata": {},
     "output_type": "execute_result"
    }
   ],
   "source": [
    "aux = pd.concat([X_train, y_train], axis=1)[['duration', 'conn_state_s0', 'resp_pkts', 'resp_ip_bytes', 'conn_state_sf', 'label']]\n",
    "aux"
   ]
  },
  {
   "cell_type": "code",
   "execution_count": 102,
   "id": "5d427847-947f-4172-a7d9-6e35407eeea8",
   "metadata": {},
   "outputs": [
    {
     "data": {
      "text/html": [
       "<div>\n",
       "<style scoped>\n",
       "    .dataframe tbody tr th:only-of-type {\n",
       "        vertical-align: middle;\n",
       "    }\n",
       "\n",
       "    .dataframe tbody tr th {\n",
       "        vertical-align: top;\n",
       "    }\n",
       "\n",
       "    .dataframe thead th {\n",
       "        text-align: right;\n",
       "    }\n",
       "</style>\n",
       "<table border=\"1\" class=\"dataframe\">\n",
       "  <thead>\n",
       "    <tr style=\"text-align: right;\">\n",
       "      <th></th>\n",
       "      <th>duration</th>\n",
       "      <th>conn_state_s0</th>\n",
       "      <th>resp_pkts</th>\n",
       "      <th>resp_ip_bytes</th>\n",
       "      <th>conn_state_sf</th>\n",
       "      <th>label</th>\n",
       "    </tr>\n",
       "  </thead>\n",
       "  <tbody>\n",
       "    <tr>\n",
       "      <th>duration</th>\n",
       "      <td>1.000000</td>\n",
       "      <td>-0.057302</td>\n",
       "      <td>0.965244</td>\n",
       "      <td>0.268350</td>\n",
       "      <td>0.000629</td>\n",
       "      <td>-0.010054</td>\n",
       "    </tr>\n",
       "    <tr>\n",
       "      <th>conn_state_s0</th>\n",
       "      <td>-0.057302</td>\n",
       "      <td>1.000000</td>\n",
       "      <td>-0.190571</td>\n",
       "      <td>-0.127418</td>\n",
       "      <td>-0.679276</td>\n",
       "      <td>0.035680</td>\n",
       "    </tr>\n",
       "    <tr>\n",
       "      <th>resp_pkts</th>\n",
       "      <td>0.965244</td>\n",
       "      <td>-0.190571</td>\n",
       "      <td>1.000000</td>\n",
       "      <td>0.449830</td>\n",
       "      <td>0.081531</td>\n",
       "      <td>-0.005664</td>\n",
       "    </tr>\n",
       "    <tr>\n",
       "      <th>resp_ip_bytes</th>\n",
       "      <td>0.268350</td>\n",
       "      <td>-0.127418</td>\n",
       "      <td>0.449830</td>\n",
       "      <td>1.000000</td>\n",
       "      <td>0.129847</td>\n",
       "      <td>-0.000762</td>\n",
       "    </tr>\n",
       "    <tr>\n",
       "      <th>conn_state_sf</th>\n",
       "      <td>0.000629</td>\n",
       "      <td>-0.679276</td>\n",
       "      <td>0.081531</td>\n",
       "      <td>0.129847</td>\n",
       "      <td>1.000000</td>\n",
       "      <td>-0.023472</td>\n",
       "    </tr>\n",
       "    <tr>\n",
       "      <th>label</th>\n",
       "      <td>-0.010054</td>\n",
       "      <td>0.035680</td>\n",
       "      <td>-0.005664</td>\n",
       "      <td>-0.000762</td>\n",
       "      <td>-0.023472</td>\n",
       "      <td>1.000000</td>\n",
       "    </tr>\n",
       "  </tbody>\n",
       "</table>\n",
       "</div>"
      ],
      "text/plain": [
       "               duration  conn_state_s0  resp_pkts  resp_ip_bytes  \\\n",
       "duration       1.000000      -0.057302   0.965244       0.268350   \n",
       "conn_state_s0 -0.057302       1.000000  -0.190571      -0.127418   \n",
       "resp_pkts      0.965244      -0.190571   1.000000       0.449830   \n",
       "resp_ip_bytes  0.268350      -0.127418   0.449830       1.000000   \n",
       "conn_state_sf  0.000629      -0.679276   0.081531       0.129847   \n",
       "label         -0.010054       0.035680  -0.005664      -0.000762   \n",
       "\n",
       "               conn_state_sf     label  \n",
       "duration            0.000629 -0.010054  \n",
       "conn_state_s0      -0.679276  0.035680  \n",
       "resp_pkts           0.081531 -0.005664  \n",
       "resp_ip_bytes       0.129847 -0.000762  \n",
       "conn_state_sf       1.000000 -0.023472  \n",
       "label              -0.023472  1.000000  "
      ]
     },
     "execution_count": 102,
     "metadata": {},
     "output_type": "execute_result"
    }
   ],
   "source": [
    "aux.corr()"
   ]
  },
  {
   "cell_type": "markdown",
   "id": "5acf6910-6921-4616-92ee-e5c53e65ad77",
   "metadata": {},
   "source": [
    "---"
   ]
  },
  {
   "cell_type": "markdown",
   "id": "92e14a0a-8a9d-432d-aab8-79babbcfbbf9",
   "metadata": {},
   "source": [
    "### Gradient Boosting"
   ]
  },
  {
   "cell_type": "code",
   "execution_count": 117,
   "id": "13f09f2f-9a99-4926-bc9d-62001ff167df",
   "metadata": {},
   "outputs": [],
   "source": [
    "cv = GridSearchCV(GradientBoostingClassifier(verbose=1), {\n",
    "    'loss': ['deviance', 'exponential'],\n",
    "    'learning_rate': [0.001, 0.01, 0.1, 0.5],\n",
    "    'n_estimators': [1, 10, 100],\n",
    "    'criterion': ['friedman_mse', 'mse']\n",
    "}, scoring='f1', n_jobs=16, verbose=3, cv=StratifiedKFold())"
   ]
  },
  {
   "cell_type": "code",
   "execution_count": 118,
   "id": "e031da53-c126-465b-af24-cc19e81b7a70",
   "metadata": {},
   "outputs": [
    {
     "name": "stdout",
     "output_type": "stream",
     "text": [
      "Fitting 5 folds for each of 48 candidates, totalling 240 fits\n"
     ]
    },
    {
     "name": "stderr",
     "output_type": "stream",
     "text": [
      "C:\\Users\\Lucas\\anaconda3\\lib\\site-packages\\sklearn\\utils\\validation.py:63: DataConversionWarning: A column-vector y was passed when a 1d array was expected. Please change the shape of y to (n_samples, ), for example using ravel().\n",
      "  return f(*args, **kwargs)\n"
     ]
    },
    {
     "name": "stdout",
     "output_type": "stream",
     "text": [
      "      Iter       Train Loss   Remaining Time \n",
      "         1           1.1226           20.39s\n",
      "         2           1.1193           19.89s\n",
      "         3           1.1160           19.75s\n",
      "         4           1.1129           19.50s\n",
      "         5           1.1099           19.24s\n",
      "         6           1.1070           19.01s\n",
      "         7           1.1042           18.81s\n",
      "         8           1.1014           18.63s\n",
      "         9           1.0988           18.40s\n",
      "        10           1.0963           18.21s\n",
      "        20           1.0744           16.13s\n",
      "        30           1.0576           14.10s\n",
      "        40           1.0441           12.05s\n",
      "        50           1.0332           10.03s\n",
      "        60           1.0240            8.02s\n",
      "        70           1.0164            6.01s\n",
      "        80           1.0098            4.01s\n",
      "        90           1.0043            2.00s\n",
      "       100           0.9994            0.00s\n"
     ]
    },
    {
     "data": {
      "text/plain": [
       "GridSearchCV(cv=StratifiedKFold(n_splits=5, random_state=None, shuffle=False),\n",
       "             estimator=GradientBoostingClassifier(verbose=1), n_jobs=16,\n",
       "             param_grid={'criterion': ['friedman_mse', 'mse'],\n",
       "                         'learning_rate': [0.001, 0.01, 0.1, 0.5],\n",
       "                         'loss': ['deviance', 'exponential'],\n",
       "                         'n_estimators': [1, 10, 100]},\n",
       "             scoring='f1', verbose=3)"
      ]
     },
     "execution_count": 118,
     "metadata": {},
     "output_type": "execute_result"
    }
   ],
   "source": [
    "cv.fit(X_train, y_train)"
   ]
  },
  {
   "cell_type": "code",
   "execution_count": 119,
   "id": "9d581c9d-6a1f-4270-981a-5c3fd34dc852",
   "metadata": {},
   "outputs": [
    {
     "data": {
      "text/html": [
       "<div>\n",
       "<style scoped>\n",
       "    .dataframe tbody tr th:only-of-type {\n",
       "        vertical-align: middle;\n",
       "    }\n",
       "\n",
       "    .dataframe tbody tr th {\n",
       "        vertical-align: top;\n",
       "    }\n",
       "\n",
       "    .dataframe thead th {\n",
       "        text-align: right;\n",
       "    }\n",
       "</style>\n",
       "<table border=\"1\" class=\"dataframe\">\n",
       "  <thead>\n",
       "    <tr style=\"text-align: right;\">\n",
       "      <th></th>\n",
       "      <th>mean_fit_time</th>\n",
       "      <th>std_fit_time</th>\n",
       "      <th>mean_score_time</th>\n",
       "      <th>std_score_time</th>\n",
       "      <th>param_criterion</th>\n",
       "      <th>param_learning_rate</th>\n",
       "      <th>param_loss</th>\n",
       "      <th>param_n_estimators</th>\n",
       "      <th>split0_test_score</th>\n",
       "      <th>split1_test_score</th>\n",
       "      <th>split2_test_score</th>\n",
       "      <th>split3_test_score</th>\n",
       "      <th>split4_test_score</th>\n",
       "      <th>mean_test_score</th>\n",
       "      <th>std_test_score</th>\n",
       "      <th>rank_test_score</th>\n",
       "    </tr>\n",
       "  </thead>\n",
       "  <tbody>\n",
       "    <tr>\n",
       "      <th>16</th>\n",
       "      <td>12.546955</td>\n",
       "      <td>0.304843</td>\n",
       "      <td>0.356636</td>\n",
       "      <td>0.009651</td>\n",
       "      <td>friedman_mse</td>\n",
       "      <td>0.1</td>\n",
       "      <td>exponential</td>\n",
       "      <td>10</td>\n",
       "      <td>0.884715</td>\n",
       "      <td>0.884934</td>\n",
       "      <td>0.884720</td>\n",
       "      <td>0.884480</td>\n",
       "      <td>0.885018</td>\n",
       "      <td>0.884773</td>\n",
       "      <td>0.000189</td>\n",
       "      <td>1</td>\n",
       "    </tr>\n",
       "    <tr>\n",
       "      <th>46</th>\n",
       "      <td>12.802463</td>\n",
       "      <td>0.192085</td>\n",
       "      <td>0.392200</td>\n",
       "      <td>0.018581</td>\n",
       "      <td>mse</td>\n",
       "      <td>0.5</td>\n",
       "      <td>exponential</td>\n",
       "      <td>10</td>\n",
       "      <td>0.884715</td>\n",
       "      <td>0.884934</td>\n",
       "      <td>0.884720</td>\n",
       "      <td>0.884480</td>\n",
       "      <td>0.885018</td>\n",
       "      <td>0.884773</td>\n",
       "      <td>0.000189</td>\n",
       "      <td>1</td>\n",
       "    </tr>\n",
       "    <tr>\n",
       "      <th>32</th>\n",
       "      <td>105.179619</td>\n",
       "      <td>1.459828</td>\n",
       "      <td>1.114755</td>\n",
       "      <td>0.117892</td>\n",
       "      <td>mse</td>\n",
       "      <td>0.01</td>\n",
       "      <td>deviance</td>\n",
       "      <td>100</td>\n",
       "      <td>0.884715</td>\n",
       "      <td>0.884934</td>\n",
       "      <td>0.884720</td>\n",
       "      <td>0.884480</td>\n",
       "      <td>0.885018</td>\n",
       "      <td>0.884773</td>\n",
       "      <td>0.000189</td>\n",
       "      <td>1</td>\n",
       "    </tr>\n",
       "    <tr>\n",
       "      <th>35</th>\n",
       "      <td>111.243918</td>\n",
       "      <td>1.908517</td>\n",
       "      <td>1.101338</td>\n",
       "      <td>0.035882</td>\n",
       "      <td>mse</td>\n",
       "      <td>0.01</td>\n",
       "      <td>exponential</td>\n",
       "      <td>100</td>\n",
       "      <td>0.884715</td>\n",
       "      <td>0.884934</td>\n",
       "      <td>0.884720</td>\n",
       "      <td>0.884480</td>\n",
       "      <td>0.885018</td>\n",
       "      <td>0.884773</td>\n",
       "      <td>0.000189</td>\n",
       "      <td>1</td>\n",
       "    </tr>\n",
       "    <tr>\n",
       "      <th>22</th>\n",
       "      <td>12.760115</td>\n",
       "      <td>0.309715</td>\n",
       "      <td>0.396205</td>\n",
       "      <td>0.025951</td>\n",
       "      <td>friedman_mse</td>\n",
       "      <td>0.5</td>\n",
       "      <td>exponential</td>\n",
       "      <td>10</td>\n",
       "      <td>0.884715</td>\n",
       "      <td>0.884934</td>\n",
       "      <td>0.884720</td>\n",
       "      <td>0.884480</td>\n",
       "      <td>0.885018</td>\n",
       "      <td>0.884773</td>\n",
       "      <td>0.000189</td>\n",
       "      <td>1</td>\n",
       "    </tr>\n",
       "    <tr>\n",
       "      <th>41</th>\n",
       "      <td>107.572352</td>\n",
       "      <td>1.528137</td>\n",
       "      <td>1.229486</td>\n",
       "      <td>0.135867</td>\n",
       "      <td>mse</td>\n",
       "      <td>0.1</td>\n",
       "      <td>exponential</td>\n",
       "      <td>100</td>\n",
       "      <td>0.884715</td>\n",
       "      <td>0.884934</td>\n",
       "      <td>0.884720</td>\n",
       "      <td>0.884480</td>\n",
       "      <td>0.885018</td>\n",
       "      <td>0.884773</td>\n",
       "      <td>0.000189</td>\n",
       "      <td>1</td>\n",
       "    </tr>\n",
       "    <tr>\n",
       "      <th>8</th>\n",
       "      <td>106.274217</td>\n",
       "      <td>2.040451</td>\n",
       "      <td>1.095689</td>\n",
       "      <td>0.078076</td>\n",
       "      <td>friedman_mse</td>\n",
       "      <td>0.01</td>\n",
       "      <td>deviance</td>\n",
       "      <td>100</td>\n",
       "      <td>0.884715</td>\n",
       "      <td>0.884934</td>\n",
       "      <td>0.884720</td>\n",
       "      <td>0.884480</td>\n",
       "      <td>0.885018</td>\n",
       "      <td>0.884773</td>\n",
       "      <td>0.000189</td>\n",
       "      <td>1</td>\n",
       "    </tr>\n",
       "    <tr>\n",
       "      <th>40</th>\n",
       "      <td>12.848133</td>\n",
       "      <td>0.417106</td>\n",
       "      <td>0.375912</td>\n",
       "      <td>0.020172</td>\n",
       "      <td>mse</td>\n",
       "      <td>0.1</td>\n",
       "      <td>exponential</td>\n",
       "      <td>10</td>\n",
       "      <td>0.884715</td>\n",
       "      <td>0.884934</td>\n",
       "      <td>0.884720</td>\n",
       "      <td>0.884480</td>\n",
       "      <td>0.885018</td>\n",
       "      <td>0.884773</td>\n",
       "      <td>0.000189</td>\n",
       "      <td>1</td>\n",
       "    </tr>\n",
       "    <tr>\n",
       "      <th>11</th>\n",
       "      <td>111.509541</td>\n",
       "      <td>2.791832</td>\n",
       "      <td>1.189197</td>\n",
       "      <td>0.086453</td>\n",
       "      <td>friedman_mse</td>\n",
       "      <td>0.01</td>\n",
       "      <td>exponential</td>\n",
       "      <td>100</td>\n",
       "      <td>0.884715</td>\n",
       "      <td>0.884934</td>\n",
       "      <td>0.884720</td>\n",
       "      <td>0.884480</td>\n",
       "      <td>0.885018</td>\n",
       "      <td>0.884773</td>\n",
       "      <td>0.000189</td>\n",
       "      <td>1</td>\n",
       "    </tr>\n",
       "    <tr>\n",
       "      <th>18</th>\n",
       "      <td>2.417484</td>\n",
       "      <td>0.099380</td>\n",
       "      <td>0.301200</td>\n",
       "      <td>0.015740</td>\n",
       "      <td>friedman_mse</td>\n",
       "      <td>0.5</td>\n",
       "      <td>deviance</td>\n",
       "      <td>1</td>\n",
       "      <td>0.884715</td>\n",
       "      <td>0.884934</td>\n",
       "      <td>0.884720</td>\n",
       "      <td>0.884480</td>\n",
       "      <td>0.885018</td>\n",
       "      <td>0.884773</td>\n",
       "      <td>0.000189</td>\n",
       "      <td>1</td>\n",
       "    </tr>\n",
       "    <tr>\n",
       "      <th>13</th>\n",
       "      <td>12.184768</td>\n",
       "      <td>0.173365</td>\n",
       "      <td>0.376717</td>\n",
       "      <td>0.031292</td>\n",
       "      <td>friedman_mse</td>\n",
       "      <td>0.1</td>\n",
       "      <td>deviance</td>\n",
       "      <td>10</td>\n",
       "      <td>0.884715</td>\n",
       "      <td>0.884934</td>\n",
       "      <td>0.884720</td>\n",
       "      <td>0.884480</td>\n",
       "      <td>0.885018</td>\n",
       "      <td>0.884773</td>\n",
       "      <td>0.000189</td>\n",
       "      <td>1</td>\n",
       "    </tr>\n",
       "    <tr>\n",
       "      <th>17</th>\n",
       "      <td>111.892126</td>\n",
       "      <td>0.816885</td>\n",
       "      <td>1.515595</td>\n",
       "      <td>0.097359</td>\n",
       "      <td>friedman_mse</td>\n",
       "      <td>0.1</td>\n",
       "      <td>exponential</td>\n",
       "      <td>100</td>\n",
       "      <td>0.884715</td>\n",
       "      <td>0.884934</td>\n",
       "      <td>0.884720</td>\n",
       "      <td>0.884480</td>\n",
       "      <td>0.885018</td>\n",
       "      <td>0.884773</td>\n",
       "      <td>0.000189</td>\n",
       "      <td>1</td>\n",
       "    </tr>\n",
       "    <tr>\n",
       "      <th>37</th>\n",
       "      <td>12.440643</td>\n",
       "      <td>0.196148</td>\n",
       "      <td>0.410311</td>\n",
       "      <td>0.018529</td>\n",
       "      <td>mse</td>\n",
       "      <td>0.1</td>\n",
       "      <td>deviance</td>\n",
       "      <td>10</td>\n",
       "      <td>0.884715</td>\n",
       "      <td>0.884934</td>\n",
       "      <td>0.884720</td>\n",
       "      <td>0.884480</td>\n",
       "      <td>0.885018</td>\n",
       "      <td>0.884773</td>\n",
       "      <td>0.000189</td>\n",
       "      <td>1</td>\n",
       "    </tr>\n",
       "    <tr>\n",
       "      <th>14</th>\n",
       "      <td>104.707843</td>\n",
       "      <td>1.008150</td>\n",
       "      <td>1.479243</td>\n",
       "      <td>0.110011</td>\n",
       "      <td>friedman_mse</td>\n",
       "      <td>0.1</td>\n",
       "      <td>deviance</td>\n",
       "      <td>100</td>\n",
       "      <td>0.884715</td>\n",
       "      <td>0.884930</td>\n",
       "      <td>0.884720</td>\n",
       "      <td>0.884480</td>\n",
       "      <td>0.885018</td>\n",
       "      <td>0.884773</td>\n",
       "      <td>0.000188</td>\n",
       "      <td>14</td>\n",
       "    </tr>\n",
       "    <tr>\n",
       "      <th>42</th>\n",
       "      <td>2.270871</td>\n",
       "      <td>0.083444</td>\n",
       "      <td>0.286204</td>\n",
       "      <td>0.022878</td>\n",
       "      <td>mse</td>\n",
       "      <td>0.5</td>\n",
       "      <td>deviance</td>\n",
       "      <td>1</td>\n",
       "      <td>0.884715</td>\n",
       "      <td>0.884934</td>\n",
       "      <td>0.884720</td>\n",
       "      <td>0.884475</td>\n",
       "      <td>0.885018</td>\n",
       "      <td>0.884772</td>\n",
       "      <td>0.000191</td>\n",
       "      <td>15</td>\n",
       "    </tr>\n",
       "    <tr>\n",
       "      <th>20</th>\n",
       "      <td>104.019984</td>\n",
       "      <td>1.541078</td>\n",
       "      <td>1.465032</td>\n",
       "      <td>0.104245</td>\n",
       "      <td>friedman_mse</td>\n",
       "      <td>0.5</td>\n",
       "      <td>deviance</td>\n",
       "      <td>100</td>\n",
       "      <td>0.884710</td>\n",
       "      <td>0.884930</td>\n",
       "      <td>0.884720</td>\n",
       "      <td>0.884480</td>\n",
       "      <td>0.885018</td>\n",
       "      <td>0.884772</td>\n",
       "      <td>0.000188</td>\n",
       "      <td>16</td>\n",
       "    </tr>\n",
       "    <tr>\n",
       "      <th>47</th>\n",
       "      <td>59.546445</td>\n",
       "      <td>2.547710</td>\n",
       "      <td>0.236000</td>\n",
       "      <td>0.076229</td>\n",
       "      <td>mse</td>\n",
       "      <td>0.5</td>\n",
       "      <td>exponential</td>\n",
       "      <td>100</td>\n",
       "      <td>0.884710</td>\n",
       "      <td>0.884930</td>\n",
       "      <td>0.884720</td>\n",
       "      <td>0.884480</td>\n",
       "      <td>0.885018</td>\n",
       "      <td>0.884772</td>\n",
       "      <td>0.000188</td>\n",
       "      <td>16</td>\n",
       "    </tr>\n",
       "    <tr>\n",
       "      <th>44</th>\n",
       "      <td>90.269266</td>\n",
       "      <td>1.127160</td>\n",
       "      <td>0.653775</td>\n",
       "      <td>0.137844</td>\n",
       "      <td>mse</td>\n",
       "      <td>0.5</td>\n",
       "      <td>deviance</td>\n",
       "      <td>100</td>\n",
       "      <td>0.884710</td>\n",
       "      <td>0.884930</td>\n",
       "      <td>0.884720</td>\n",
       "      <td>0.884480</td>\n",
       "      <td>0.885018</td>\n",
       "      <td>0.884772</td>\n",
       "      <td>0.000188</td>\n",
       "      <td>16</td>\n",
       "    </tr>\n",
       "    <tr>\n",
       "      <th>38</th>\n",
       "      <td>103.622058</td>\n",
       "      <td>1.405397</td>\n",
       "      <td>1.474763</td>\n",
       "      <td>0.054175</td>\n",
       "      <td>mse</td>\n",
       "      <td>0.1</td>\n",
       "      <td>deviance</td>\n",
       "      <td>100</td>\n",
       "      <td>0.884715</td>\n",
       "      <td>0.884930</td>\n",
       "      <td>0.884720</td>\n",
       "      <td>0.884480</td>\n",
       "      <td>0.885014</td>\n",
       "      <td>0.884772</td>\n",
       "      <td>0.000187</td>\n",
       "      <td>19</td>\n",
       "    </tr>\n",
       "    <tr>\n",
       "      <th>23</th>\n",
       "      <td>111.498082</td>\n",
       "      <td>1.462789</td>\n",
       "      <td>1.399141</td>\n",
       "      <td>0.066960</td>\n",
       "      <td>friedman_mse</td>\n",
       "      <td>0.5</td>\n",
       "      <td>exponential</td>\n",
       "      <td>100</td>\n",
       "      <td>0.884710</td>\n",
       "      <td>0.884930</td>\n",
       "      <td>0.884720</td>\n",
       "      <td>0.884476</td>\n",
       "      <td>0.885018</td>\n",
       "      <td>0.884771</td>\n",
       "      <td>0.000190</td>\n",
       "      <td>20</td>\n",
       "    </tr>\n",
       "    <tr>\n",
       "      <th>19</th>\n",
       "      <td>12.397847</td>\n",
       "      <td>0.125967</td>\n",
       "      <td>0.427908</td>\n",
       "      <td>0.031112</td>\n",
       "      <td>friedman_mse</td>\n",
       "      <td>0.5</td>\n",
       "      <td>deviance</td>\n",
       "      <td>10</td>\n",
       "      <td>0.884715</td>\n",
       "      <td>0.884926</td>\n",
       "      <td>0.884720</td>\n",
       "      <td>0.884480</td>\n",
       "      <td>0.885014</td>\n",
       "      <td>0.884771</td>\n",
       "      <td>0.000186</td>\n",
       "      <td>21</td>\n",
       "    </tr>\n",
       "    <tr>\n",
       "      <th>43</th>\n",
       "      <td>12.036214</td>\n",
       "      <td>0.424045</td>\n",
       "      <td>0.377715</td>\n",
       "      <td>0.034965</td>\n",
       "      <td>mse</td>\n",
       "      <td>0.5</td>\n",
       "      <td>deviance</td>\n",
       "      <td>10</td>\n",
       "      <td>0.884715</td>\n",
       "      <td>0.884926</td>\n",
       "      <td>0.884720</td>\n",
       "      <td>0.884480</td>\n",
       "      <td>0.885014</td>\n",
       "      <td>0.884771</td>\n",
       "      <td>0.000186</td>\n",
       "      <td>21</td>\n",
       "    </tr>\n",
       "    <tr>\n",
       "      <th>30</th>\n",
       "      <td>2.259455</td>\n",
       "      <td>0.018684</td>\n",
       "      <td>0.286805</td>\n",
       "      <td>0.002708</td>\n",
       "      <td>mse</td>\n",
       "      <td>0.01</td>\n",
       "      <td>deviance</td>\n",
       "      <td>1</td>\n",
       "      <td>0.856710</td>\n",
       "      <td>0.856710</td>\n",
       "      <td>0.856715</td>\n",
       "      <td>0.856715</td>\n",
       "      <td>0.856715</td>\n",
       "      <td>0.856713</td>\n",
       "      <td>0.000003</td>\n",
       "      <td>23</td>\n",
       "    </tr>\n",
       "    <tr>\n",
       "      <th>39</th>\n",
       "      <td>2.379530</td>\n",
       "      <td>0.076006</td>\n",
       "      <td>0.272002</td>\n",
       "      <td>0.013083</td>\n",
       "      <td>mse</td>\n",
       "      <td>0.1</td>\n",
       "      <td>exponential</td>\n",
       "      <td>1</td>\n",
       "      <td>0.856710</td>\n",
       "      <td>0.856710</td>\n",
       "      <td>0.856715</td>\n",
       "      <td>0.856715</td>\n",
       "      <td>0.856715</td>\n",
       "      <td>0.856713</td>\n",
       "      <td>0.000003</td>\n",
       "      <td>23</td>\n",
       "    </tr>\n",
       "    <tr>\n",
       "      <th>36</th>\n",
       "      <td>2.343555</td>\n",
       "      <td>0.033830</td>\n",
       "      <td>0.292802</td>\n",
       "      <td>0.024373</td>\n",
       "      <td>mse</td>\n",
       "      <td>0.1</td>\n",
       "      <td>deviance</td>\n",
       "      <td>1</td>\n",
       "      <td>0.856710</td>\n",
       "      <td>0.856710</td>\n",
       "      <td>0.856715</td>\n",
       "      <td>0.856715</td>\n",
       "      <td>0.856715</td>\n",
       "      <td>0.856713</td>\n",
       "      <td>0.000003</td>\n",
       "      <td>23</td>\n",
       "    </tr>\n",
       "    <tr>\n",
       "      <th>34</th>\n",
       "      <td>12.988668</td>\n",
       "      <td>0.526787</td>\n",
       "      <td>0.346449</td>\n",
       "      <td>0.029683</td>\n",
       "      <td>mse</td>\n",
       "      <td>0.01</td>\n",
       "      <td>exponential</td>\n",
       "      <td>10</td>\n",
       "      <td>0.856710</td>\n",
       "      <td>0.856710</td>\n",
       "      <td>0.856715</td>\n",
       "      <td>0.856715</td>\n",
       "      <td>0.856715</td>\n",
       "      <td>0.856713</td>\n",
       "      <td>0.000003</td>\n",
       "      <td>23</td>\n",
       "    </tr>\n",
       "    <tr>\n",
       "      <th>33</th>\n",
       "      <td>2.409970</td>\n",
       "      <td>0.053845</td>\n",
       "      <td>0.266353</td>\n",
       "      <td>0.012774</td>\n",
       "      <td>mse</td>\n",
       "      <td>0.01</td>\n",
       "      <td>exponential</td>\n",
       "      <td>1</td>\n",
       "      <td>0.856710</td>\n",
       "      <td>0.856710</td>\n",
       "      <td>0.856715</td>\n",
       "      <td>0.856715</td>\n",
       "      <td>0.856715</td>\n",
       "      <td>0.856713</td>\n",
       "      <td>0.000003</td>\n",
       "      <td>23</td>\n",
       "    </tr>\n",
       "    <tr>\n",
       "      <th>45</th>\n",
       "      <td>2.426224</td>\n",
       "      <td>0.083569</td>\n",
       "      <td>0.302277</td>\n",
       "      <td>0.019285</td>\n",
       "      <td>mse</td>\n",
       "      <td>0.5</td>\n",
       "      <td>exponential</td>\n",
       "      <td>1</td>\n",
       "      <td>0.856710</td>\n",
       "      <td>0.856710</td>\n",
       "      <td>0.856715</td>\n",
       "      <td>0.856715</td>\n",
       "      <td>0.856715</td>\n",
       "      <td>0.856713</td>\n",
       "      <td>0.000003</td>\n",
       "      <td>23</td>\n",
       "    </tr>\n",
       "    <tr>\n",
       "      <th>31</th>\n",
       "      <td>11.939781</td>\n",
       "      <td>0.383270</td>\n",
       "      <td>0.359401</td>\n",
       "      <td>0.027041</td>\n",
       "      <td>mse</td>\n",
       "      <td>0.01</td>\n",
       "      <td>deviance</td>\n",
       "      <td>10</td>\n",
       "      <td>0.856710</td>\n",
       "      <td>0.856710</td>\n",
       "      <td>0.856715</td>\n",
       "      <td>0.856715</td>\n",
       "      <td>0.856715</td>\n",
       "      <td>0.856713</td>\n",
       "      <td>0.000003</td>\n",
       "      <td>23</td>\n",
       "    </tr>\n",
       "    <tr>\n",
       "      <th>0</th>\n",
       "      <td>2.345625</td>\n",
       "      <td>0.248956</td>\n",
       "      <td>0.277399</td>\n",
       "      <td>0.051278</td>\n",
       "      <td>friedman_mse</td>\n",
       "      <td>0.001</td>\n",
       "      <td>deviance</td>\n",
       "      <td>1</td>\n",
       "      <td>0.856710</td>\n",
       "      <td>0.856710</td>\n",
       "      <td>0.856715</td>\n",
       "      <td>0.856715</td>\n",
       "      <td>0.856715</td>\n",
       "      <td>0.856713</td>\n",
       "      <td>0.000003</td>\n",
       "      <td>23</td>\n",
       "    </tr>\n",
       "    <tr>\n",
       "      <th>29</th>\n",
       "      <td>112.482619</td>\n",
       "      <td>1.894610</td>\n",
       "      <td>1.035323</td>\n",
       "      <td>0.051706</td>\n",
       "      <td>mse</td>\n",
       "      <td>0.001</td>\n",
       "      <td>exponential</td>\n",
       "      <td>100</td>\n",
       "      <td>0.856710</td>\n",
       "      <td>0.856710</td>\n",
       "      <td>0.856715</td>\n",
       "      <td>0.856715</td>\n",
       "      <td>0.856715</td>\n",
       "      <td>0.856713</td>\n",
       "      <td>0.000003</td>\n",
       "      <td>23</td>\n",
       "    </tr>\n",
       "    <tr>\n",
       "      <th>28</th>\n",
       "      <td>13.689929</td>\n",
       "      <td>0.370841</td>\n",
       "      <td>0.360992</td>\n",
       "      <td>0.072456</td>\n",
       "      <td>mse</td>\n",
       "      <td>0.001</td>\n",
       "      <td>exponential</td>\n",
       "      <td>10</td>\n",
       "      <td>0.856710</td>\n",
       "      <td>0.856710</td>\n",
       "      <td>0.856715</td>\n",
       "      <td>0.856715</td>\n",
       "      <td>0.856715</td>\n",
       "      <td>0.856713</td>\n",
       "      <td>0.000003</td>\n",
       "      <td>23</td>\n",
       "    </tr>\n",
       "    <tr>\n",
       "      <th>2</th>\n",
       "      <td>103.998682</td>\n",
       "      <td>0.992501</td>\n",
       "      <td>1.072000</td>\n",
       "      <td>0.035685</td>\n",
       "      <td>friedman_mse</td>\n",
       "      <td>0.001</td>\n",
       "      <td>deviance</td>\n",
       "      <td>100</td>\n",
       "      <td>0.856710</td>\n",
       "      <td>0.856710</td>\n",
       "      <td>0.856715</td>\n",
       "      <td>0.856715</td>\n",
       "      <td>0.856715</td>\n",
       "      <td>0.856713</td>\n",
       "      <td>0.000003</td>\n",
       "      <td>23</td>\n",
       "    </tr>\n",
       "    <tr>\n",
       "      <th>3</th>\n",
       "      <td>2.243800</td>\n",
       "      <td>0.232886</td>\n",
       "      <td>0.295257</td>\n",
       "      <td>0.032648</td>\n",
       "      <td>friedman_mse</td>\n",
       "      <td>0.001</td>\n",
       "      <td>exponential</td>\n",
       "      <td>1</td>\n",
       "      <td>0.856710</td>\n",
       "      <td>0.856710</td>\n",
       "      <td>0.856715</td>\n",
       "      <td>0.856715</td>\n",
       "      <td>0.856715</td>\n",
       "      <td>0.856713</td>\n",
       "      <td>0.000003</td>\n",
       "      <td>23</td>\n",
       "    </tr>\n",
       "    <tr>\n",
       "      <th>4</th>\n",
       "      <td>12.481356</td>\n",
       "      <td>0.287530</td>\n",
       "      <td>0.370020</td>\n",
       "      <td>0.041522</td>\n",
       "      <td>friedman_mse</td>\n",
       "      <td>0.001</td>\n",
       "      <td>exponential</td>\n",
       "      <td>10</td>\n",
       "      <td>0.856710</td>\n",
       "      <td>0.856710</td>\n",
       "      <td>0.856715</td>\n",
       "      <td>0.856715</td>\n",
       "      <td>0.856715</td>\n",
       "      <td>0.856713</td>\n",
       "      <td>0.000003</td>\n",
       "      <td>23</td>\n",
       "    </tr>\n",
       "    <tr>\n",
       "      <th>5</th>\n",
       "      <td>111.859242</td>\n",
       "      <td>2.319663</td>\n",
       "      <td>0.978199</td>\n",
       "      <td>0.053072</td>\n",
       "      <td>friedman_mse</td>\n",
       "      <td>0.001</td>\n",
       "      <td>exponential</td>\n",
       "      <td>100</td>\n",
       "      <td>0.856710</td>\n",
       "      <td>0.856710</td>\n",
       "      <td>0.856715</td>\n",
       "      <td>0.856715</td>\n",
       "      <td>0.856715</td>\n",
       "      <td>0.856713</td>\n",
       "      <td>0.000003</td>\n",
       "      <td>23</td>\n",
       "    </tr>\n",
       "    <tr>\n",
       "      <th>6</th>\n",
       "      <td>2.227466</td>\n",
       "      <td>0.090780</td>\n",
       "      <td>0.283261</td>\n",
       "      <td>0.033968</td>\n",
       "      <td>friedman_mse</td>\n",
       "      <td>0.01</td>\n",
       "      <td>deviance</td>\n",
       "      <td>1</td>\n",
       "      <td>0.856710</td>\n",
       "      <td>0.856710</td>\n",
       "      <td>0.856715</td>\n",
       "      <td>0.856715</td>\n",
       "      <td>0.856715</td>\n",
       "      <td>0.856713</td>\n",
       "      <td>0.000003</td>\n",
       "      <td>23</td>\n",
       "    </tr>\n",
       "    <tr>\n",
       "      <th>7</th>\n",
       "      <td>12.723308</td>\n",
       "      <td>0.654445</td>\n",
       "      <td>0.419896</td>\n",
       "      <td>0.036841</td>\n",
       "      <td>friedman_mse</td>\n",
       "      <td>0.01</td>\n",
       "      <td>deviance</td>\n",
       "      <td>10</td>\n",
       "      <td>0.856710</td>\n",
       "      <td>0.856710</td>\n",
       "      <td>0.856715</td>\n",
       "      <td>0.856715</td>\n",
       "      <td>0.856715</td>\n",
       "      <td>0.856713</td>\n",
       "      <td>0.000003</td>\n",
       "      <td>23</td>\n",
       "    </tr>\n",
       "    <tr>\n",
       "      <th>9</th>\n",
       "      <td>2.429624</td>\n",
       "      <td>0.135751</td>\n",
       "      <td>0.297906</td>\n",
       "      <td>0.013661</td>\n",
       "      <td>friedman_mse</td>\n",
       "      <td>0.01</td>\n",
       "      <td>exponential</td>\n",
       "      <td>1</td>\n",
       "      <td>0.856710</td>\n",
       "      <td>0.856710</td>\n",
       "      <td>0.856715</td>\n",
       "      <td>0.856715</td>\n",
       "      <td>0.856715</td>\n",
       "      <td>0.856713</td>\n",
       "      <td>0.000003</td>\n",
       "      <td>23</td>\n",
       "    </tr>\n",
       "    <tr>\n",
       "      <th>10</th>\n",
       "      <td>13.327294</td>\n",
       "      <td>0.574109</td>\n",
       "      <td>0.352402</td>\n",
       "      <td>0.034390</td>\n",
       "      <td>friedman_mse</td>\n",
       "      <td>0.01</td>\n",
       "      <td>exponential</td>\n",
       "      <td>10</td>\n",
       "      <td>0.856710</td>\n",
       "      <td>0.856710</td>\n",
       "      <td>0.856715</td>\n",
       "      <td>0.856715</td>\n",
       "      <td>0.856715</td>\n",
       "      <td>0.856713</td>\n",
       "      <td>0.000003</td>\n",
       "      <td>23</td>\n",
       "    </tr>\n",
       "    <tr>\n",
       "      <th>12</th>\n",
       "      <td>2.304501</td>\n",
       "      <td>0.074759</td>\n",
       "      <td>0.297605</td>\n",
       "      <td>0.029866</td>\n",
       "      <td>friedman_mse</td>\n",
       "      <td>0.1</td>\n",
       "      <td>deviance</td>\n",
       "      <td>1</td>\n",
       "      <td>0.856710</td>\n",
       "      <td>0.856710</td>\n",
       "      <td>0.856715</td>\n",
       "      <td>0.856715</td>\n",
       "      <td>0.856715</td>\n",
       "      <td>0.856713</td>\n",
       "      <td>0.000003</td>\n",
       "      <td>23</td>\n",
       "    </tr>\n",
       "    <tr>\n",
       "      <th>15</th>\n",
       "      <td>2.299500</td>\n",
       "      <td>0.060622</td>\n",
       "      <td>0.279196</td>\n",
       "      <td>0.016964</td>\n",
       "      <td>friedman_mse</td>\n",
       "      <td>0.1</td>\n",
       "      <td>exponential</td>\n",
       "      <td>1</td>\n",
       "      <td>0.856710</td>\n",
       "      <td>0.856710</td>\n",
       "      <td>0.856715</td>\n",
       "      <td>0.856715</td>\n",
       "      <td>0.856715</td>\n",
       "      <td>0.856713</td>\n",
       "      <td>0.000003</td>\n",
       "      <td>23</td>\n",
       "    </tr>\n",
       "    <tr>\n",
       "      <th>21</th>\n",
       "      <td>2.365094</td>\n",
       "      <td>0.109817</td>\n",
       "      <td>0.282398</td>\n",
       "      <td>0.033660</td>\n",
       "      <td>friedman_mse</td>\n",
       "      <td>0.5</td>\n",
       "      <td>exponential</td>\n",
       "      <td>1</td>\n",
       "      <td>0.856710</td>\n",
       "      <td>0.856710</td>\n",
       "      <td>0.856715</td>\n",
       "      <td>0.856715</td>\n",
       "      <td>0.856715</td>\n",
       "      <td>0.856713</td>\n",
       "      <td>0.000003</td>\n",
       "      <td>23</td>\n",
       "    </tr>\n",
       "    <tr>\n",
       "      <th>1</th>\n",
       "      <td>11.950393</td>\n",
       "      <td>0.291754</td>\n",
       "      <td>0.327526</td>\n",
       "      <td>0.021302</td>\n",
       "      <td>friedman_mse</td>\n",
       "      <td>0.001</td>\n",
       "      <td>deviance</td>\n",
       "      <td>10</td>\n",
       "      <td>0.856710</td>\n",
       "      <td>0.856710</td>\n",
       "      <td>0.856715</td>\n",
       "      <td>0.856715</td>\n",
       "      <td>0.856715</td>\n",
       "      <td>0.856713</td>\n",
       "      <td>0.000003</td>\n",
       "      <td>23</td>\n",
       "    </tr>\n",
       "    <tr>\n",
       "      <th>25</th>\n",
       "      <td>12.105088</td>\n",
       "      <td>0.268107</td>\n",
       "      <td>0.374393</td>\n",
       "      <td>0.022636</td>\n",
       "      <td>mse</td>\n",
       "      <td>0.001</td>\n",
       "      <td>deviance</td>\n",
       "      <td>10</td>\n",
       "      <td>0.856710</td>\n",
       "      <td>0.856710</td>\n",
       "      <td>0.856715</td>\n",
       "      <td>0.856715</td>\n",
       "      <td>0.856715</td>\n",
       "      <td>0.856713</td>\n",
       "      <td>0.000003</td>\n",
       "      <td>23</td>\n",
       "    </tr>\n",
       "    <tr>\n",
       "      <th>26</th>\n",
       "      <td>106.518518</td>\n",
       "      <td>1.678660</td>\n",
       "      <td>1.042578</td>\n",
       "      <td>0.058952</td>\n",
       "      <td>mse</td>\n",
       "      <td>0.001</td>\n",
       "      <td>deviance</td>\n",
       "      <td>100</td>\n",
       "      <td>0.856710</td>\n",
       "      <td>0.856710</td>\n",
       "      <td>0.856715</td>\n",
       "      <td>0.856715</td>\n",
       "      <td>0.856715</td>\n",
       "      <td>0.856713</td>\n",
       "      <td>0.000003</td>\n",
       "      <td>23</td>\n",
       "    </tr>\n",
       "    <tr>\n",
       "      <th>27</th>\n",
       "      <td>2.486487</td>\n",
       "      <td>0.073527</td>\n",
       "      <td>0.290398</td>\n",
       "      <td>0.023637</td>\n",
       "      <td>mse</td>\n",
       "      <td>0.001</td>\n",
       "      <td>exponential</td>\n",
       "      <td>1</td>\n",
       "      <td>0.856710</td>\n",
       "      <td>0.856710</td>\n",
       "      <td>0.856715</td>\n",
       "      <td>0.856715</td>\n",
       "      <td>0.856715</td>\n",
       "      <td>0.856713</td>\n",
       "      <td>0.000003</td>\n",
       "      <td>23</td>\n",
       "    </tr>\n",
       "    <tr>\n",
       "      <th>24</th>\n",
       "      <td>2.352776</td>\n",
       "      <td>0.128085</td>\n",
       "      <td>0.301199</td>\n",
       "      <td>0.021964</td>\n",
       "      <td>mse</td>\n",
       "      <td>0.001</td>\n",
       "      <td>deviance</td>\n",
       "      <td>1</td>\n",
       "      <td>0.856710</td>\n",
       "      <td>0.856710</td>\n",
       "      <td>0.856715</td>\n",
       "      <td>0.856715</td>\n",
       "      <td>0.856715</td>\n",
       "      <td>0.856713</td>\n",
       "      <td>0.000003</td>\n",
       "      <td>23</td>\n",
       "    </tr>\n",
       "  </tbody>\n",
       "</table>\n",
       "</div>"
      ],
      "text/plain": [
       "    mean_fit_time  std_fit_time  mean_score_time  std_score_time  \\\n",
       "16      12.546955      0.304843         0.356636        0.009651   \n",
       "46      12.802463      0.192085         0.392200        0.018581   \n",
       "32     105.179619      1.459828         1.114755        0.117892   \n",
       "35     111.243918      1.908517         1.101338        0.035882   \n",
       "22      12.760115      0.309715         0.396205        0.025951   \n",
       "41     107.572352      1.528137         1.229486        0.135867   \n",
       "8      106.274217      2.040451         1.095689        0.078076   \n",
       "40      12.848133      0.417106         0.375912        0.020172   \n",
       "11     111.509541      2.791832         1.189197        0.086453   \n",
       "18       2.417484      0.099380         0.301200        0.015740   \n",
       "13      12.184768      0.173365         0.376717        0.031292   \n",
       "17     111.892126      0.816885         1.515595        0.097359   \n",
       "37      12.440643      0.196148         0.410311        0.018529   \n",
       "14     104.707843      1.008150         1.479243        0.110011   \n",
       "42       2.270871      0.083444         0.286204        0.022878   \n",
       "20     104.019984      1.541078         1.465032        0.104245   \n",
       "47      59.546445      2.547710         0.236000        0.076229   \n",
       "44      90.269266      1.127160         0.653775        0.137844   \n",
       "38     103.622058      1.405397         1.474763        0.054175   \n",
       "23     111.498082      1.462789         1.399141        0.066960   \n",
       "19      12.397847      0.125967         0.427908        0.031112   \n",
       "43      12.036214      0.424045         0.377715        0.034965   \n",
       "30       2.259455      0.018684         0.286805        0.002708   \n",
       "39       2.379530      0.076006         0.272002        0.013083   \n",
       "36       2.343555      0.033830         0.292802        0.024373   \n",
       "34      12.988668      0.526787         0.346449        0.029683   \n",
       "33       2.409970      0.053845         0.266353        0.012774   \n",
       "45       2.426224      0.083569         0.302277        0.019285   \n",
       "31      11.939781      0.383270         0.359401        0.027041   \n",
       "0        2.345625      0.248956         0.277399        0.051278   \n",
       "29     112.482619      1.894610         1.035323        0.051706   \n",
       "28      13.689929      0.370841         0.360992        0.072456   \n",
       "2      103.998682      0.992501         1.072000        0.035685   \n",
       "3        2.243800      0.232886         0.295257        0.032648   \n",
       "4       12.481356      0.287530         0.370020        0.041522   \n",
       "5      111.859242      2.319663         0.978199        0.053072   \n",
       "6        2.227466      0.090780         0.283261        0.033968   \n",
       "7       12.723308      0.654445         0.419896        0.036841   \n",
       "9        2.429624      0.135751         0.297906        0.013661   \n",
       "10      13.327294      0.574109         0.352402        0.034390   \n",
       "12       2.304501      0.074759         0.297605        0.029866   \n",
       "15       2.299500      0.060622         0.279196        0.016964   \n",
       "21       2.365094      0.109817         0.282398        0.033660   \n",
       "1       11.950393      0.291754         0.327526        0.021302   \n",
       "25      12.105088      0.268107         0.374393        0.022636   \n",
       "26     106.518518      1.678660         1.042578        0.058952   \n",
       "27       2.486487      0.073527         0.290398        0.023637   \n",
       "24       2.352776      0.128085         0.301199        0.021964   \n",
       "\n",
       "   param_criterion param_learning_rate   param_loss param_n_estimators  \\\n",
       "16    friedman_mse                 0.1  exponential                 10   \n",
       "46             mse                 0.5  exponential                 10   \n",
       "32             mse                0.01     deviance                100   \n",
       "35             mse                0.01  exponential                100   \n",
       "22    friedman_mse                 0.5  exponential                 10   \n",
       "41             mse                 0.1  exponential                100   \n",
       "8     friedman_mse                0.01     deviance                100   \n",
       "40             mse                 0.1  exponential                 10   \n",
       "11    friedman_mse                0.01  exponential                100   \n",
       "18    friedman_mse                 0.5     deviance                  1   \n",
       "13    friedman_mse                 0.1     deviance                 10   \n",
       "17    friedman_mse                 0.1  exponential                100   \n",
       "37             mse                 0.1     deviance                 10   \n",
       "14    friedman_mse                 0.1     deviance                100   \n",
       "42             mse                 0.5     deviance                  1   \n",
       "20    friedman_mse                 0.5     deviance                100   \n",
       "47             mse                 0.5  exponential                100   \n",
       "44             mse                 0.5     deviance                100   \n",
       "38             mse                 0.1     deviance                100   \n",
       "23    friedman_mse                 0.5  exponential                100   \n",
       "19    friedman_mse                 0.5     deviance                 10   \n",
       "43             mse                 0.5     deviance                 10   \n",
       "30             mse                0.01     deviance                  1   \n",
       "39             mse                 0.1  exponential                  1   \n",
       "36             mse                 0.1     deviance                  1   \n",
       "34             mse                0.01  exponential                 10   \n",
       "33             mse                0.01  exponential                  1   \n",
       "45             mse                 0.5  exponential                  1   \n",
       "31             mse                0.01     deviance                 10   \n",
       "0     friedman_mse               0.001     deviance                  1   \n",
       "29             mse               0.001  exponential                100   \n",
       "28             mse               0.001  exponential                 10   \n",
       "2     friedman_mse               0.001     deviance                100   \n",
       "3     friedman_mse               0.001  exponential                  1   \n",
       "4     friedman_mse               0.001  exponential                 10   \n",
       "5     friedman_mse               0.001  exponential                100   \n",
       "6     friedman_mse                0.01     deviance                  1   \n",
       "7     friedman_mse                0.01     deviance                 10   \n",
       "9     friedman_mse                0.01  exponential                  1   \n",
       "10    friedman_mse                0.01  exponential                 10   \n",
       "12    friedman_mse                 0.1     deviance                  1   \n",
       "15    friedman_mse                 0.1  exponential                  1   \n",
       "21    friedman_mse                 0.5  exponential                  1   \n",
       "1     friedman_mse               0.001     deviance                 10   \n",
       "25             mse               0.001     deviance                 10   \n",
       "26             mse               0.001     deviance                100   \n",
       "27             mse               0.001  exponential                  1   \n",
       "24             mse               0.001     deviance                  1   \n",
       "\n",
       "    split0_test_score  split1_test_score  split2_test_score  \\\n",
       "16           0.884715           0.884934           0.884720   \n",
       "46           0.884715           0.884934           0.884720   \n",
       "32           0.884715           0.884934           0.884720   \n",
       "35           0.884715           0.884934           0.884720   \n",
       "22           0.884715           0.884934           0.884720   \n",
       "41           0.884715           0.884934           0.884720   \n",
       "8            0.884715           0.884934           0.884720   \n",
       "40           0.884715           0.884934           0.884720   \n",
       "11           0.884715           0.884934           0.884720   \n",
       "18           0.884715           0.884934           0.884720   \n",
       "13           0.884715           0.884934           0.884720   \n",
       "17           0.884715           0.884934           0.884720   \n",
       "37           0.884715           0.884934           0.884720   \n",
       "14           0.884715           0.884930           0.884720   \n",
       "42           0.884715           0.884934           0.884720   \n",
       "20           0.884710           0.884930           0.884720   \n",
       "47           0.884710           0.884930           0.884720   \n",
       "44           0.884710           0.884930           0.884720   \n",
       "38           0.884715           0.884930           0.884720   \n",
       "23           0.884710           0.884930           0.884720   \n",
       "19           0.884715           0.884926           0.884720   \n",
       "43           0.884715           0.884926           0.884720   \n",
       "30           0.856710           0.856710           0.856715   \n",
       "39           0.856710           0.856710           0.856715   \n",
       "36           0.856710           0.856710           0.856715   \n",
       "34           0.856710           0.856710           0.856715   \n",
       "33           0.856710           0.856710           0.856715   \n",
       "45           0.856710           0.856710           0.856715   \n",
       "31           0.856710           0.856710           0.856715   \n",
       "0            0.856710           0.856710           0.856715   \n",
       "29           0.856710           0.856710           0.856715   \n",
       "28           0.856710           0.856710           0.856715   \n",
       "2            0.856710           0.856710           0.856715   \n",
       "3            0.856710           0.856710           0.856715   \n",
       "4            0.856710           0.856710           0.856715   \n",
       "5            0.856710           0.856710           0.856715   \n",
       "6            0.856710           0.856710           0.856715   \n",
       "7            0.856710           0.856710           0.856715   \n",
       "9            0.856710           0.856710           0.856715   \n",
       "10           0.856710           0.856710           0.856715   \n",
       "12           0.856710           0.856710           0.856715   \n",
       "15           0.856710           0.856710           0.856715   \n",
       "21           0.856710           0.856710           0.856715   \n",
       "1            0.856710           0.856710           0.856715   \n",
       "25           0.856710           0.856710           0.856715   \n",
       "26           0.856710           0.856710           0.856715   \n",
       "27           0.856710           0.856710           0.856715   \n",
       "24           0.856710           0.856710           0.856715   \n",
       "\n",
       "    split3_test_score  split4_test_score  mean_test_score  std_test_score  \\\n",
       "16           0.884480           0.885018         0.884773        0.000189   \n",
       "46           0.884480           0.885018         0.884773        0.000189   \n",
       "32           0.884480           0.885018         0.884773        0.000189   \n",
       "35           0.884480           0.885018         0.884773        0.000189   \n",
       "22           0.884480           0.885018         0.884773        0.000189   \n",
       "41           0.884480           0.885018         0.884773        0.000189   \n",
       "8            0.884480           0.885018         0.884773        0.000189   \n",
       "40           0.884480           0.885018         0.884773        0.000189   \n",
       "11           0.884480           0.885018         0.884773        0.000189   \n",
       "18           0.884480           0.885018         0.884773        0.000189   \n",
       "13           0.884480           0.885018         0.884773        0.000189   \n",
       "17           0.884480           0.885018         0.884773        0.000189   \n",
       "37           0.884480           0.885018         0.884773        0.000189   \n",
       "14           0.884480           0.885018         0.884773        0.000188   \n",
       "42           0.884475           0.885018         0.884772        0.000191   \n",
       "20           0.884480           0.885018         0.884772        0.000188   \n",
       "47           0.884480           0.885018         0.884772        0.000188   \n",
       "44           0.884480           0.885018         0.884772        0.000188   \n",
       "38           0.884480           0.885014         0.884772        0.000187   \n",
       "23           0.884476           0.885018         0.884771        0.000190   \n",
       "19           0.884480           0.885014         0.884771        0.000186   \n",
       "43           0.884480           0.885014         0.884771        0.000186   \n",
       "30           0.856715           0.856715         0.856713        0.000003   \n",
       "39           0.856715           0.856715         0.856713        0.000003   \n",
       "36           0.856715           0.856715         0.856713        0.000003   \n",
       "34           0.856715           0.856715         0.856713        0.000003   \n",
       "33           0.856715           0.856715         0.856713        0.000003   \n",
       "45           0.856715           0.856715         0.856713        0.000003   \n",
       "31           0.856715           0.856715         0.856713        0.000003   \n",
       "0            0.856715           0.856715         0.856713        0.000003   \n",
       "29           0.856715           0.856715         0.856713        0.000003   \n",
       "28           0.856715           0.856715         0.856713        0.000003   \n",
       "2            0.856715           0.856715         0.856713        0.000003   \n",
       "3            0.856715           0.856715         0.856713        0.000003   \n",
       "4            0.856715           0.856715         0.856713        0.000003   \n",
       "5            0.856715           0.856715         0.856713        0.000003   \n",
       "6            0.856715           0.856715         0.856713        0.000003   \n",
       "7            0.856715           0.856715         0.856713        0.000003   \n",
       "9            0.856715           0.856715         0.856713        0.000003   \n",
       "10           0.856715           0.856715         0.856713        0.000003   \n",
       "12           0.856715           0.856715         0.856713        0.000003   \n",
       "15           0.856715           0.856715         0.856713        0.000003   \n",
       "21           0.856715           0.856715         0.856713        0.000003   \n",
       "1            0.856715           0.856715         0.856713        0.000003   \n",
       "25           0.856715           0.856715         0.856713        0.000003   \n",
       "26           0.856715           0.856715         0.856713        0.000003   \n",
       "27           0.856715           0.856715         0.856713        0.000003   \n",
       "24           0.856715           0.856715         0.856713        0.000003   \n",
       "\n",
       "    rank_test_score  \n",
       "16                1  \n",
       "46                1  \n",
       "32                1  \n",
       "35                1  \n",
       "22                1  \n",
       "41                1  \n",
       "8                 1  \n",
       "40                1  \n",
       "11                1  \n",
       "18                1  \n",
       "13                1  \n",
       "17                1  \n",
       "37                1  \n",
       "14               14  \n",
       "42               15  \n",
       "20               16  \n",
       "47               16  \n",
       "44               16  \n",
       "38               19  \n",
       "23               20  \n",
       "19               21  \n",
       "43               21  \n",
       "30               23  \n",
       "39               23  \n",
       "36               23  \n",
       "34               23  \n",
       "33               23  \n",
       "45               23  \n",
       "31               23  \n",
       "0                23  \n",
       "29               23  \n",
       "28               23  \n",
       "2                23  \n",
       "3                23  \n",
       "4                23  \n",
       "5                23  \n",
       "6                23  \n",
       "7                23  \n",
       "9                23  \n",
       "10               23  \n",
       "12               23  \n",
       "15               23  \n",
       "21               23  \n",
       "1                23  \n",
       "25               23  \n",
       "26               23  \n",
       "27               23  \n",
       "24               23  "
      ]
     },
     "execution_count": 119,
     "metadata": {},
     "output_type": "execute_result"
    }
   ],
   "source": [
    "get_results_from_cv(cv)"
   ]
  },
  {
   "cell_type": "code",
   "execution_count": 120,
   "id": "b1abe475-8887-4fec-b347-bb20ac81c147",
   "metadata": {},
   "outputs": [
    {
     "data": {
      "text/plain": [
       "{'criterion': 'friedman_mse',\n",
       " 'learning_rate': 0.01,\n",
       " 'loss': 'deviance',\n",
       " 'n_estimators': 100}"
      ]
     },
     "execution_count": 120,
     "metadata": {},
     "output_type": "execute_result"
    }
   ],
   "source": [
    "cv.best_params_"
   ]
  },
  {
   "cell_type": "markdown",
   "id": "e0b7d5de-db75-4454-a06f-d480d44a72ab",
   "metadata": {},
   "source": [
    "---"
   ]
  },
  {
   "cell_type": "markdown",
   "id": "768c6d3a-b9d2-4d9c-aee9-d3358df4795d",
   "metadata": {},
   "source": [
    "### Training best params on 10 M rows"
   ]
  },
  {
   "cell_type": "code",
   "execution_count": 32,
   "id": "c83121ce-12ad-46c5-93d5-e65d81e582ae",
   "metadata": {},
   "outputs": [],
   "source": [
    "model_gb = GradientBoostingClassifier(criterion='friedman_mse', learning_rate=0.01, loss='deviance', n_estimators=100)"
   ]
  },
  {
   "cell_type": "code",
   "execution_count": 33,
   "id": "f607d398-a43c-4b7c-b5f7-e7e65be00fe5",
   "metadata": {},
   "outputs": [
    {
     "name": "stderr",
     "output_type": "stream",
     "text": [
      "C:\\Users\\Lucas\\anaconda3\\lib\\site-packages\\sklearn\\utils\\validation.py:63: DataConversionWarning: A column-vector y was passed when a 1d array was expected. Please change the shape of y to (n_samples, ), for example using ravel().\n",
      "  return f(*args, **kwargs)\n"
     ]
    },
    {
     "data": {
      "text/plain": [
       "GradientBoostingClassifier(learning_rate=0.01)"
      ]
     },
     "execution_count": 33,
     "metadata": {},
     "output_type": "execute_result"
    }
   ],
   "source": [
    "model_gb.fit(X_train, y_train)"
   ]
  },
  {
   "cell_type": "code",
   "execution_count": 34,
   "id": "4eede422-562d-493e-bb05-c5b71b1fe975",
   "metadata": {},
   "outputs": [],
   "source": [
    "y_pred = model_gb.predict(X_test)"
   ]
  },
  {
   "cell_type": "code",
   "execution_count": 35,
   "id": "77bf29fd-bac1-4cc9-bb18-20989436e65b",
   "metadata": {},
   "outputs": [
    {
     "name": "stdout",
     "output_type": "stream",
     "text": [
      "F1 = 0.9082599510506921\n",
      "Accuracy = 0.850565499066652\n",
      "Precision = 0.8321165963666037\n",
      "Recall = 0.9997419715575104 \n",
      "\n"
     ]
    },
    {
     "data": {
      "image/png": "[encoded data removed]",
      "text/plain": [
       "<Figure size 432x288 with 2 Axes>"
      ]
     },
     "metadata": {
      "needs_background": "light"
     },
     "output_type": "display_data"
    }
   ],
   "source": [
    "print(f'F1 =', f1_score(y_test, y_pred))\n",
    "print(f'Accuracy =', accuracy_score(y_test, y_pred))\n",
    "print(f'Precision =', precision_score(y_test, y_pred))\n",
    "print(f'Recall =', recall_score(y_test, y_pred), '\\n')\n",
    "plot_confusion_matrix(y_test, y_pred)"
   ]
  },
  {
   "cell_type": "code",
   "execution_count": 36,
   "id": "908b402d-328e-4776-9823-3c6fae4e7731",
   "metadata": {},
   "outputs": [
    {
     "data": {
      "text/html": [
       "<div>\n",
       "<style scoped>\n",
       "    .dataframe tbody tr th:only-of-type {\n",
       "        vertical-align: middle;\n",
       "    }\n",
       "\n",
       "    .dataframe tbody tr th {\n",
       "        vertical-align: top;\n",
       "    }\n",
       "\n",
       "    .dataframe thead th {\n",
       "        text-align: right;\n",
       "    }\n",
       "</style>\n",
       "<table border=\"1\" class=\"dataframe\">\n",
       "  <thead>\n",
       "    <tr style=\"text-align: right;\">\n",
       "      <th></th>\n",
       "      <th>importance</th>\n",
       "    </tr>\n",
       "  </thead>\n",
       "  <tbody>\n",
       "    <tr>\n",
       "      <th>duration</th>\n",
       "      <td>89.62%</td>\n",
       "    </tr>\n",
       "    <tr>\n",
       "      <th>conn_state_s0</th>\n",
       "      <td>10.04%</td>\n",
       "    </tr>\n",
       "    <tr>\n",
       "      <th>proto_tcp</th>\n",
       "      <td>0.19%</td>\n",
       "    </tr>\n",
       "    <tr>\n",
       "      <th>conn_state_rej</th>\n",
       "      <td>0.05%</td>\n",
       "    </tr>\n",
       "    <tr>\n",
       "      <th>resp_ip_bytes</th>\n",
       "      <td>0.05%</td>\n",
       "    </tr>\n",
       "    <tr>\n",
       "      <th>proto_udp</th>\n",
       "      <td>0.03%</td>\n",
       "    </tr>\n",
       "    <tr>\n",
       "      <th>resp_pkts</th>\n",
       "      <td>0.02%</td>\n",
       "    </tr>\n",
       "    <tr>\n",
       "      <th>conn_state_sf</th>\n",
       "      <td>0.00%</td>\n",
       "    </tr>\n",
       "    <tr>\n",
       "      <th>conn_state_rstos0</th>\n",
       "      <td>0.00%</td>\n",
       "    </tr>\n",
       "    <tr>\n",
       "      <th>conn_state_rsto</th>\n",
       "      <td>0.00%</td>\n",
       "    </tr>\n",
       "  </tbody>\n",
       "</table>\n",
       "</div>"
      ],
      "text/plain": [
       "                  importance\n",
       "duration              89.62%\n",
       "conn_state_s0         10.04%\n",
       "proto_tcp              0.19%\n",
       "conn_state_rej         0.05%\n",
       "resp_ip_bytes          0.05%\n",
       "proto_udp              0.03%\n",
       "resp_pkts              0.02%\n",
       "conn_state_sf          0.00%\n",
       "conn_state_rstos0      0.00%\n",
       "conn_state_rsto        0.00%"
      ]
     },
     "execution_count": 36,
     "metadata": {},
     "output_type": "execute_result"
    }
   ],
   "source": [
    "show_feature_importances(model_gb, X_train.columns).head(10)"
   ]
  },
  {
   "cell_type": "markdown",
   "id": "b4e1fd27-b495-41ec-a461-5d5a4188cde6",
   "metadata": {},
   "source": [
    "---"
   ]
  },
  {
   "cell_type": "code",
   "execution_count": 121,
   "id": "6194c4ae-53c7-4049-a9ce-065cf712cbce",
   "metadata": {},
   "outputs": [],
   "source": [
    "best = cv.best_estimator_\n",
    "y_pred = best.predict(X_test)"
   ]
  },
  {
   "cell_type": "code",
   "execution_count": 122,
   "id": "47525bf7-4379-472d-a752-d49df6041c3d",
   "metadata": {},
   "outputs": [
    {
     "name": "stdout",
     "output_type": "stream",
     "text": [
      "F1 = 0.8850831797421418 \n",
      "\n"
     ]
    },
    {
     "data": {
      "image/png": "[encoded data removed]",
      "text/plain": [
       "<Figure size 432x288 with 2 Axes>"
      ]
     },
     "metadata": {
      "needs_background": "light"
     },
     "output_type": "display_data"
    }
   ],
   "source": [
    "print(f'F1 =', f1_score(y_test, y_pred), '\\n')\n",
    "plot_confusion_matrix(y_test, y_pred)"
   ]
  },
  {
   "cell_type": "code",
   "execution_count": 123,
   "id": "2e7fa126-5153-4d29-8283-8a7de91b3f75",
   "metadata": {},
   "outputs": [
    {
     "data": {
      "text/html": [
       "<div>\n",
       "<style scoped>\n",
       "    .dataframe tbody tr th:only-of-type {\n",
       "        vertical-align: middle;\n",
       "    }\n",
       "\n",
       "    .dataframe tbody tr th {\n",
       "        vertical-align: top;\n",
       "    }\n",
       "\n",
       "    .dataframe thead th {\n",
       "        text-align: right;\n",
       "    }\n",
       "</style>\n",
       "<table border=\"1\" class=\"dataframe\">\n",
       "  <thead>\n",
       "    <tr style=\"text-align: right;\">\n",
       "      <th></th>\n",
       "      <th>importance</th>\n",
       "    </tr>\n",
       "  </thead>\n",
       "  <tbody>\n",
       "    <tr>\n",
       "      <th>duration</th>\n",
       "      <td>99.09%</td>\n",
       "    </tr>\n",
       "    <tr>\n",
       "      <th>conn_state_s0</th>\n",
       "      <td>0.72%</td>\n",
       "    </tr>\n",
       "    <tr>\n",
       "      <th>proto_tcp</th>\n",
       "      <td>0.07%</td>\n",
       "    </tr>\n",
       "    <tr>\n",
       "      <th>proto_udp</th>\n",
       "      <td>0.06%</td>\n",
       "    </tr>\n",
       "    <tr>\n",
       "      <th>resp_pkts</th>\n",
       "      <td>0.05%</td>\n",
       "    </tr>\n",
       "    <tr>\n",
       "      <th>conn_state_rsto</th>\n",
       "      <td>0.00%</td>\n",
       "    </tr>\n",
       "    <tr>\n",
       "      <th>orig_bytes</th>\n",
       "      <td>0.00%</td>\n",
       "    </tr>\n",
       "    <tr>\n",
       "      <th>orig_ip_bytes</th>\n",
       "      <td>0.00%</td>\n",
       "    </tr>\n",
       "    <tr>\n",
       "      <th>conn_state_oth</th>\n",
       "      <td>0.00%</td>\n",
       "    </tr>\n",
       "    <tr>\n",
       "      <th>orig_pkts</th>\n",
       "      <td>0.00%</td>\n",
       "    </tr>\n",
       "  </tbody>\n",
       "</table>\n",
       "</div>"
      ],
      "text/plain": [
       "                importance\n",
       "duration            99.09%\n",
       "conn_state_s0        0.72%\n",
       "proto_tcp            0.07%\n",
       "proto_udp            0.06%\n",
       "resp_pkts            0.05%\n",
       "conn_state_rsto      0.00%\n",
       "orig_bytes           0.00%\n",
       "orig_ip_bytes        0.00%\n",
       "conn_state_oth       0.00%\n",
       "orig_pkts            0.00%"
      ]
     },
     "execution_count": 123,
     "metadata": {},
     "output_type": "execute_result"
    }
   ],
   "source": [
    "show_feature_importances(best, X_train.columns).head(10)"
   ]
  },
  {
   "cell_type": "markdown",
   "id": "5bba9dfe-c724-426f-b7cc-5921d268b986",
   "metadata": {},
   "source": [
    "---"
   ]
  },
  {
   "cell_type": "markdown",
   "id": "66d86914-a129-47eb-a30f-9fa30f10b693",
   "metadata": {},
   "source": [
    "### XG Boost"
   ]
  },
  {
   "cell_type": "code",
   "execution_count": 15,
   "id": "3de2c7b0-b435-468b-a81e-7865e57f7200",
   "metadata": {},
   "outputs": [],
   "source": [
    "X_train, X_test, y_train, y_test = get_train_test_dfs('dataset/shuffled/part_6')\n",
    "train = xgb.DMatrix(X_train, label=y_train)"
   ]
  },
  {
   "cell_type": "markdown",
   "id": "b63bf924-bec9-439e-9c0e-222b7dea4b5c",
   "metadata": {},
   "source": [
    "#### params:\n",
    "\n",
    "- eta -> range: [0,1] (default=0.3)\n",
    "- gamma -> range: [0,∞] (default=0)\n",
    "- max_depth -> range: [0,∞] (default=6)\n",
    "- tree_method -> 'gpu_hist'"
   ]
  },
  {
   "cell_type": "code",
   "execution_count": 16,
   "id": "e5f34a14-d877-4f7a-b3dc-dc839e43a2ad",
   "metadata": {},
   "outputs": [
    {
     "name": "stdout",
     "output_type": "stream",
     "text": [
      "Wall time: 52.6 s\n"
     ]
    }
   ],
   "source": [
    "%%time\n",
    "model = xgb.train({'eta': 0.3, 'gamma': 0, 'max_depth': 6, 'tree_method': 'gpu_hist'}, train)      # start with default params"
   ]
  },
  {
   "cell_type": "code",
   "execution_count": 20,
   "id": "32d9a6b5-cb60-450a-8a3f-3b19f4f65a50",
   "metadata": {},
   "outputs": [],
   "source": [
    "test = xgb.DMatrix(X_test, label=y_test)"
   ]
  },
  {
   "cell_type": "code",
   "execution_count": 23,
   "id": "3fa1b824-6e28-4c6f-8939-c34ddd3d2553",
   "metadata": {},
   "outputs": [],
   "source": [
    "y_pred = model.predict(test)"
   ]
  },
  {
   "cell_type": "code",
   "execution_count": 30,
   "id": "3c971b66-78d1-4a16-8718-bc1e00b3dcd1",
   "metadata": {},
   "outputs": [],
   "source": [
    "def xgb_pred(model, rounding=0.5):\n",
    "    y_pred = model.predict(test)\n",
    "    return [1 if i >= rounding else 0 for i in y_pred]"
   ]
  },
  {
   "cell_type": "code",
   "execution_count": 31,
   "id": "75ca8e7a-a4e6-47df-bd66-eb18fe26efad",
   "metadata": {},
   "outputs": [],
   "source": [
    "def get_scores(threshold):\n",
    "    y_pred = xgb_pred(model, threshold)\n",
    "    return {\n",
    "        'f1': f1_score(y_test, y_pred),\n",
    "        'accuracy': accuracy_score(y_test, y_pred),\n",
    "        'precision': precision_score(y_test, y_pred),\n",
    "        'recall': recall_score(y_test, y_pred)\n",
    "    }"
   ]
  },
  {
   "cell_type": "code",
   "execution_count": 35,
   "id": "e4fc9ff8-7be4-4d5a-86b7-25e5e2b6f2a2",
   "metadata": {},
   "outputs": [
    {
     "name": "stderr",
     "output_type": "stream",
     "text": [
      "C:\\Users\\Lucas\\anaconda3\\lib\\site-packages\\sklearn\\metrics\\_classification.py:1245: UndefinedMetricWarning: Precision is ill-defined and being set to 0.0 due to no predicted samples. Use `zero_division` parameter to control this behavior.\n",
      "  _warn_prf(average, modifier, msg_start, len(result))\n",
      "C:\\Users\\Lucas\\anaconda3\\lib\\site-packages\\sklearn\\metrics\\_classification.py:1245: UndefinedMetricWarning: Precision is ill-defined and being set to 0.0 due to no predicted samples. Use `zero_division` parameter to control this behavior.\n",
      "  _warn_prf(average, modifier, msg_start, len(result))\n"
     ]
    }
   ],
   "source": [
    "res = pd.DataFrame({threshold: get_scores(threshold) for threshold in [0.001, 0.01, 0.1, 0.3, 0.5, 0.7, 0.9, 0.99, 0.999]}).T"
   ]
  },
  {
   "cell_type": "code",
   "execution_count": 39,
   "id": "19df7d84-eebc-4e90-bdfb-6bed670bb502",
   "metadata": {},
   "outputs": [
    {
     "data": {
      "text/html": [
       "<div>\n",
       "<style scoped>\n",
       "    .dataframe tbody tr th:only-of-type {\n",
       "        vertical-align: middle;\n",
       "    }\n",
       "\n",
       "    .dataframe tbody tr th {\n",
       "        vertical-align: top;\n",
       "    }\n",
       "\n",
       "    .dataframe thead th {\n",
       "        text-align: right;\n",
       "    }\n",
       "</style>\n",
       "<table border=\"1\" class=\"dataframe\">\n",
       "  <thead>\n",
       "    <tr style=\"text-align: right;\">\n",
       "      <th></th>\n",
       "      <th>f1</th>\n",
       "      <th>accuracy</th>\n",
       "      <th>precision</th>\n",
       "      <th>recall</th>\n",
       "    </tr>\n",
       "  </thead>\n",
       "  <tbody>\n",
       "    <tr>\n",
       "      <th>0.001</th>\n",
       "      <td>0.850526</td>\n",
       "      <td>0.739929</td>\n",
       "      <td>0.739927</td>\n",
       "      <td>0.999998</td>\n",
       "    </tr>\n",
       "    <tr>\n",
       "      <th>0.010</th>\n",
       "      <td>0.850526</td>\n",
       "      <td>0.739930</td>\n",
       "      <td>0.739928</td>\n",
       "      <td>0.999998</td>\n",
       "    </tr>\n",
       "    <tr>\n",
       "      <th>0.100</th>\n",
       "      <td>0.974427</td>\n",
       "      <td>0.961165</td>\n",
       "      <td>0.950172</td>\n",
       "      <td>0.999953</td>\n",
       "    </tr>\n",
       "    <tr>\n",
       "      <th>0.300</th>\n",
       "      <td>0.974979</td>\n",
       "      <td>0.962025</td>\n",
       "      <td>0.951231</td>\n",
       "      <td>0.999943</td>\n",
       "    </tr>\n",
       "    <tr>\n",
       "      <th>0.500</th>\n",
       "      <td>0.974989</td>\n",
       "      <td>0.962041</td>\n",
       "      <td>0.951262</td>\n",
       "      <td>0.999930</td>\n",
       "    </tr>\n",
       "    <tr>\n",
       "      <th>0.700</th>\n",
       "      <td>0.974988</td>\n",
       "      <td>0.962040</td>\n",
       "      <td>0.951262</td>\n",
       "      <td>0.999928</td>\n",
       "    </tr>\n",
       "    <tr>\n",
       "      <th>0.900</th>\n",
       "      <td>0.974944</td>\n",
       "      <td>0.961975</td>\n",
       "      <td>0.951258</td>\n",
       "      <td>0.999841</td>\n",
       "    </tr>\n",
       "    <tr>\n",
       "      <th>0.990</th>\n",
       "      <td>0.000000</td>\n",
       "      <td>0.260081</td>\n",
       "      <td>0.000000</td>\n",
       "      <td>0.000000</td>\n",
       "    </tr>\n",
       "    <tr>\n",
       "      <th>0.999</th>\n",
       "      <td>0.000000</td>\n",
       "      <td>0.260081</td>\n",
       "      <td>0.000000</td>\n",
       "      <td>0.000000</td>\n",
       "    </tr>\n",
       "  </tbody>\n",
       "</table>\n",
       "</div>"
      ],
      "text/plain": [
       "             f1  accuracy  precision    recall\n",
       "0.001  0.850526  0.739929   0.739927  0.999998\n",
       "0.010  0.850526  0.739930   0.739928  0.999998\n",
       "0.100  0.974427  0.961165   0.950172  0.999953\n",
       "0.300  0.974979  0.962025   0.951231  0.999943\n",
       "0.500  0.974989  0.962041   0.951262  0.999930\n",
       "0.700  0.974988  0.962040   0.951262  0.999928\n",
       "0.900  0.974944  0.961975   0.951258  0.999841\n",
       "0.990  0.000000  0.260081   0.000000  0.000000\n",
       "0.999  0.000000  0.260081   0.000000  0.000000"
      ]
     },
     "execution_count": 39,
     "metadata": {},
     "output_type": "execute_result"
    }
   ],
   "source": [
    "res"
   ]
  },
  {
   "cell_type": "code",
   "execution_count": 45,
   "id": "f8df10a8-b295-4500-b8c4-cefbf0427b2d",
   "metadata": {},
   "outputs": [
    {
     "data": {
      "application/vnd.plotly.v1+json": {
       "config": {
        "plotlyServerURL": "https://plot.ly"
       },
       "data": [
        {
         "name": "f1",
         "type": "scatter",
         "x": [
          0.001,
          0.01,
          0.1,
          0.3,
          0.5,
          0.7,
          0.9,
          0.99,
          0.999
         ],
         "y": [
          0.8505258906264761,
          0.8505260637774843,
          0.9744273460414833,
          0.9749790305558758,
          0.9749887156785085,
          0.9749882255522088,
          0.9749444453391386,
          0,
          0
         ]
        },
        {
         "name": "accuracy",
         "type": "scatter",
         "x": [
          0.001,
          0.01,
          0.1,
          0.3,
          0.5,
          0.7,
          0.9,
          0.99,
          0.999
         ],
         "y": [
          0.7399292284913768,
          0.7399295827031316,
          0.9611652858311756,
          0.9620249577602482,
          0.9620405430774626,
          0.9620398346539528,
          0.9619750139028114,
          0.26008104364951456,
          0.26008104364951456
         ]
        },
        {
         "name": "precision",
         "type": "scatter",
         "x": [
          0.001,
          0.01,
          0.1,
          0.3,
          0.5,
          0.7,
          0.9,
          0.99,
          0.999
         ],
         "y": [
          0.739927406840136,
          0.7399276689348347,
          0.9501723559129132,
          0.9512311414648008,
          0.951261710483111,
          0.9512620771159289,
          0.9512580148861224,
          0,
          0
         ]
        },
        {
         "name": "recall",
         "type": "scatter",
         "x": [
          0.001,
          0.01,
          0.1,
          0.3,
          0.5,
          0.7,
          0.9,
          0.99,
          0.999
         ],
         "y": [
          0.9999976064151903,
          0.9999976064151903,
          0.9999530857377291,
          0.9999430326815283,
          0.9999296286065937,
          0.999928192455708,
          0.9998405872516716,
          0,
          0
         ]
        }
       ],
       "layout": {
        "autosize": true,
        "template": {
         "data": {
          "bar": [
           {
            "error_x": {
             "color": "#2a3f5f"
            },
            "error_y": {
             "color": "#2a3f5f"
            },
            "marker": {
             "line": {
              "color": "#E5ECF6",
              "width": 0.5
             },
             "pattern": {
              "fillmode": "overlay",
              "size": 10,
              "solidity": 0.2
             }
            },
            "type": "bar"
           }
          ],
          "barpolar": [
           {
            "marker": {
             "line": {
              "color": "#E5ECF6",
              "width": 0.5
             },
             "pattern": {
              "fillmode": "overlay",
              "size": 10,
              "solidity": 0.2
             }
            },
            "type": "barpolar"
           }
          ],
          "carpet": [
           {
            "aaxis": {
             "endlinecolor": "#2a3f5f",
             "gridcolor": "white",
             "linecolor": "white",
             "minorgridcolor": "white",
             "startlinecolor": "#2a3f5f"
            },
            "baxis": {
             "endlinecolor": "#2a3f5f",
             "gridcolor": "white",
             "linecolor": "white",
             "minorgridcolor": "white",
             "startlinecolor": "#2a3f5f"
            },
            "type": "carpet"
           }
          ],
          "choropleth": [
           {
            "colorbar": {
             "outlinewidth": 0,
             "ticks": ""
            },
            "type": "choropleth"
           }
          ],
          "contour": [
           {
            "colorbar": {
             "outlinewidth": 0,
             "ticks": ""
            },
            "colorscale": [
             [
              0,
              "#0d0887"
             ],
             [
              0.1111111111111111,
              "#46039f"
             ],
             [
              0.2222222222222222,
              "#7201a8"
             ],
             [
              0.3333333333333333,
              "#9c179e"
             ],
             [
              0.4444444444444444,
              "#bd3786"
             ],
             [
              0.5555555555555556,
              "#d8576b"
             ],
             [
              0.6666666666666666,
              "#ed7953"
             ],
             [
              0.7777777777777778,
              "#fb9f3a"
             ],
             [
              0.8888888888888888,
              "#fdca26"
             ],
             [
              1,
              "#f0f921"
             ]
            ],
            "type": "contour"
           }
          ],
          "contourcarpet": [
           {
            "colorbar": {
             "outlinewidth": 0,
             "ticks": ""
            },
            "type": "contourcarpet"
           }
          ],
          "heatmap": [
           {
            "colorbar": {
             "outlinewidth": 0,
             "ticks": ""
            },
            "colorscale": [
             [
              0,
              "#0d0887"
             ],
             [
              0.1111111111111111,
              "#46039f"
             ],
             [
              0.2222222222222222,
              "#7201a8"
             ],
             [
              0.3333333333333333,
              "#9c179e"
             ],
             [
              0.4444444444444444,
              "#bd3786"
             ],
             [
              0.5555555555555556,
              "#d8576b"
             ],
             [
              0.6666666666666666,
              "#ed7953"
             ],
             [
              0.7777777777777778,
              "#fb9f3a"
             ],
             [
              0.8888888888888888,
              "#fdca26"
             ],
             [
              1,
              "#f0f921"
             ]
            ],
            "type": "heatmap"
           }
          ],
          "heatmapgl": [
           {
            "colorbar": {
             "outlinewidth": 0,
             "ticks": ""
            },
            "colorscale": [
             [
              0,
              "#0d0887"
             ],
             [
              0.1111111111111111,
              "#46039f"
             ],
             [
              0.2222222222222222,
              "#7201a8"
             ],
             [
              0.3333333333333333,
              "#9c179e"
             ],
             [
              0.4444444444444444,
              "#bd3786"
             ],
             [
              0.5555555555555556,
              "#d8576b"
             ],
             [
              0.6666666666666666,
              "#ed7953"
             ],
             [
              0.7777777777777778,
              "#fb9f3a"
             ],
             [
              0.8888888888888888,
              "#fdca26"
             ],
             [
              1,
              "#f0f921"
             ]
            ],
            "type": "heatmapgl"
           }
          ],
          "histogram": [
           {
            "marker": {
             "pattern": {
              "fillmode": "overlay",
              "size": 10,
              "solidity": 0.2
             }
            },
            "type": "histogram"
           }
          ],
          "histogram2d": [
           {
            "colorbar": {
             "outlinewidth": 0,
             "ticks": ""
            },
            "colorscale": [
             [
              0,
              "#0d0887"
             ],
             [
              0.1111111111111111,
              "#46039f"
             ],
             [
              0.2222222222222222,
              "#7201a8"
             ],
             [
              0.3333333333333333,
              "#9c179e"
             ],
             [
              0.4444444444444444,
              "#bd3786"
             ],
             [
              0.5555555555555556,
              "#d8576b"
             ],
             [
              0.6666666666666666,
              "#ed7953"
             ],
             [
              0.7777777777777778,
              "#fb9f3a"
             ],
             [
              0.8888888888888888,
              "#fdca26"
             ],
             [
              1,
              "#f0f921"
             ]
            ],
            "type": "histogram2d"
           }
          ],
          "histogram2dcontour": [
           {
            "colorbar": {
             "outlinewidth": 0,
             "ticks": ""
            },
            "colorscale": [
             [
              0,
              "#0d0887"
             ],
             [
              0.1111111111111111,
              "#46039f"
             ],
             [
              0.2222222222222222,
              "#7201a8"
             ],
             [
              0.3333333333333333,
              "#9c179e"
             ],
             [
              0.4444444444444444,
              "#bd3786"
             ],
             [
              0.5555555555555556,
              "#d8576b"
             ],
             [
              0.6666666666666666,
              "#ed7953"
             ],
             [
              0.7777777777777778,
              "#fb9f3a"
             ],
             [
              0.8888888888888888,
              "#fdca26"
             ],
             [
              1,
              "#f0f921"
             ]
            ],
            "type": "histogram2dcontour"
           }
          ],
          "mesh3d": [
           {
            "colorbar": {
             "outlinewidth": 0,
             "ticks": ""
            },
            "type": "mesh3d"
           }
          ],
          "parcoords": [
           {
            "line": {
             "colorbar": {
              "outlinewidth": 0,
              "ticks": ""
             }
            },
            "type": "parcoords"
           }
          ],
          "pie": [
           {
            "automargin": true,
            "type": "pie"
           }
          ],
          "scatter": [
           {
            "marker": {
             "colorbar": {
              "outlinewidth": 0,
              "ticks": ""
             }
            },
            "type": "scatter"
           }
          ],
          "scatter3d": [
           {
            "line": {
             "colorbar": {
              "outlinewidth": 0,
              "ticks": ""
             }
            },
            "marker": {
             "colorbar": {
              "outlinewidth": 0,
              "ticks": ""
             }
            },
            "type": "scatter3d"
           }
          ],
          "scattercarpet": [
           {
            "marker": {
             "colorbar": {
              "outlinewidth": 0,
              "ticks": ""
             }
            },
            "type": "scattercarpet"
           }
          ],
          "scattergeo": [
           {
            "marker": {
             "colorbar": {
              "outlinewidth": 0,
              "ticks": ""
             }
            },
            "type": "scattergeo"
           }
          ],
          "scattergl": [
           {
            "marker": {
             "colorbar": {
              "outlinewidth": 0,
              "ticks": ""
             }
            },
            "type": "scattergl"
           }
          ],
          "scattermapbox": [
           {
            "marker": {
             "colorbar": {
              "outlinewidth": 0,
              "ticks": ""
             }
            },
            "type": "scattermapbox"
           }
          ],
          "scatterpolar": [
           {
            "marker": {
             "colorbar": {
              "outlinewidth": 0,
              "ticks": ""
             }
            },
            "type": "scatterpolar"
           }
          ],
          "scatterpolargl": [
           {
            "marker": {
             "colorbar": {
              "outlinewidth": 0,
              "ticks": ""
             }
            },
            "type": "scatterpolargl"
           }
          ],
          "scatterternary": [
           {
            "marker": {
             "colorbar": {
              "outlinewidth": 0,
              "ticks": ""
             }
            },
            "type": "scatterternary"
           }
          ],
          "surface": [
           {
            "colorbar": {
             "outlinewidth": 0,
             "ticks": ""
            },
            "colorscale": [
             [
              0,
              "#0d0887"
             ],
             [
              0.1111111111111111,
              "#46039f"
             ],
             [
              0.2222222222222222,
              "#7201a8"
             ],
             [
              0.3333333333333333,
              "#9c179e"
             ],
             [
              0.4444444444444444,
              "#bd3786"
             ],
             [
              0.5555555555555556,
              "#d8576b"
             ],
             [
              0.6666666666666666,
              "#ed7953"
             ],
             [
              0.7777777777777778,
              "#fb9f3a"
             ],
             [
              0.8888888888888888,
              "#fdca26"
             ],
             [
              1,
              "#f0f921"
             ]
            ],
            "type": "surface"
           }
          ],
          "table": [
           {
            "cells": {
             "fill": {
              "color": "#EBF0F8"
             },
             "line": {
              "color": "white"
             }
            },
            "header": {
             "fill": {
              "color": "#C8D4E3"
             },
             "line": {
              "color": "white"
             }
            },
            "type": "table"
           }
          ]
         },
         "layout": {
          "annotationdefaults": {
           "arrowcolor": "#2a3f5f",
           "arrowhead": 0,
           "arrowwidth": 1
          },
          "autotypenumbers": "strict",
          "coloraxis": {
           "colorbar": {
            "outlinewidth": 0,
            "ticks": ""
           }
          },
          "colorscale": {
           "diverging": [
            [
             0,
             "#8e0152"
            ],
            [
             0.1,
             "#c51b7d"
            ],
            [
             0.2,
             "#de77ae"
            ],
            [
             0.3,
             "#f1b6da"
            ],
            [
             0.4,
             "#fde0ef"
            ],
            [
             0.5,
             "#f7f7f7"
            ],
            [
             0.6,
             "#e6f5d0"
            ],
            [
             0.7,
             "#b8e186"
            ],
            [
             0.8,
             "#7fbc41"
            ],
            [
             0.9,
             "#4d9221"
            ],
            [
             1,
             "#276419"
            ]
           ],
           "sequential": [
            [
             0,
             "#0d0887"
            ],
            [
             0.1111111111111111,
             "#46039f"
            ],
            [
             0.2222222222222222,
             "#7201a8"
            ],
            [
             0.3333333333333333,
             "#9c179e"
            ],
            [
             0.4444444444444444,
             "#bd3786"
            ],
            [
             0.5555555555555556,
             "#d8576b"
            ],
            [
             0.6666666666666666,
             "#ed7953"
            ],
            [
             0.7777777777777778,
             "#fb9f3a"
            ],
            [
             0.8888888888888888,
             "#fdca26"
            ],
            [
             1,
             "#f0f921"
            ]
           ],
           "sequentialminus": [
            [
             0,
             "#0d0887"
            ],
            [
             0.1111111111111111,
             "#46039f"
            ],
            [
             0.2222222222222222,
             "#7201a8"
            ],
            [
             0.3333333333333333,
             "#9c179e"
            ],
            [
             0.4444444444444444,
             "#bd3786"
            ],
            [
             0.5555555555555556,
             "#d8576b"
            ],
            [
             0.6666666666666666,
             "#ed7953"
            ],
            [
             0.7777777777777778,
             "#fb9f3a"
            ],
            [
             0.8888888888888888,
             "#fdca26"
            ],
            [
             1,
             "#f0f921"
            ]
           ]
          },
          "colorway": [
           "#636efa",
           "#EF553B",
           "#00cc96",
           "#ab63fa",
           "#FFA15A",
           "#19d3f3",
           "#FF6692",
           "#B6E880",
           "#FF97FF",
           "#FECB52"
          ],
          "font": {
           "color": "#2a3f5f"
          },
          "geo": {
           "bgcolor": "white",
           "lakecolor": "white",
           "landcolor": "#E5ECF6",
           "showlakes": true,
           "showland": true,
           "subunitcolor": "white"
          },
          "hoverlabel": {
           "align": "left"
          },
          "hovermode": "closest",
          "mapbox": {
           "style": "light"
          },
          "paper_bgcolor": "white",
          "plot_bgcolor": "#E5ECF6",
          "polar": {
           "angularaxis": {
            "gridcolor": "white",
            "linecolor": "white",
            "ticks": ""
           },
           "bgcolor": "#E5ECF6",
           "radialaxis": {
            "gridcolor": "white",
            "linecolor": "white",
            "ticks": ""
           }
          },
          "scene": {
           "xaxis": {
            "backgroundcolor": "#E5ECF6",
            "gridcolor": "white",
            "gridwidth": 2,
            "linecolor": "white",
            "showbackground": true,
            "ticks": "",
            "zerolinecolor": "white"
           },
           "yaxis": {
            "backgroundcolor": "#E5ECF6",
            "gridcolor": "white",
            "gridwidth": 2,
            "linecolor": "white",
            "showbackground": true,
            "ticks": "",
            "zerolinecolor": "white"
           },
           "zaxis": {
            "backgroundcolor": "#E5ECF6",
            "gridcolor": "white",
            "gridwidth": 2,
            "linecolor": "white",
            "showbackground": true,
            "ticks": "",
            "zerolinecolor": "white"
           }
          },
          "shapedefaults": {
           "line": {
            "color": "#2a3f5f"
           }
          },
          "ternary": {
           "aaxis": {
            "gridcolor": "white",
            "linecolor": "white",
            "ticks": ""
           },
           "baxis": {
            "gridcolor": "white",
            "linecolor": "white",
            "ticks": ""
           },
           "bgcolor": "#E5ECF6",
           "caxis": {
            "gridcolor": "white",
            "linecolor": "white",
            "ticks": ""
           }
          },
          "title": {
           "x": 0.05
          },
          "xaxis": {
           "automargin": true,
           "gridcolor": "white",
           "linecolor": "white",
           "ticks": "",
           "title": {
            "standoff": 15
           },
           "zerolinecolor": "white",
           "zerolinewidth": 2
          },
          "yaxis": {
           "automargin": true,
           "gridcolor": "white",
           "linecolor": "white",
           "ticks": "",
           "title": {
            "standoff": 15
           },
           "zerolinecolor": "white",
           "zerolinewidth": 2
          }
         }
        },
        "xaxis": {
         "autorange": true,
         "range": [
          -0.057805528612997106,
          1.057805528612997
         ],
         "type": "linear"
        },
        "yaxis": {
         "autorange": true,
         "range": [
          -0.08252407431581668,
          1.082521680731007
         ],
         "type": "linear"
        }
       }
      },
      "image/png": "[encoded data removed]",
      "text/html": [
       "<div>                            <div id=\"07fcb33b-04ce-4335-bc7a-b1bfaa1c0ed0\" class=\"plotly-graph-div\" style=\"height:525px; width:100%;\"></div>            <script type=\"text/javascript\">                require([\"plotly\"], function(Plotly) {                    window.PLOTLYENV=window.PLOTLYENV || {};                                    if (document.getElementById(\"07fcb33b-04ce-4335-bc7a-b1bfaa1c0ed0\")) {                    Plotly.newPlot(                        \"07fcb33b-04ce-4335-bc7a-b1bfaa1c0ed0\",                        [{\"name\":\"f1\",\"type\":\"scatter\",\"x\":[0.001,0.01,0.1,0.3,0.5,0.7,0.9,0.99,0.999],\"y\":[0.8505258906264761,0.8505260637774843,0.9744273460414833,0.9749790305558758,0.9749887156785085,0.9749882255522088,0.9749444453391386,0.0,0.0]},{\"name\":\"accuracy\",\"type\":\"scatter\",\"x\":[0.001,0.01,0.1,0.3,0.5,0.7,0.9,0.99,0.999],\"y\":[0.7399292284913768,0.7399295827031316,0.9611652858311756,0.9620249577602482,0.9620405430774626,0.9620398346539528,0.9619750139028114,0.26008104364951456,0.26008104364951456]},{\"name\":\"precision\",\"type\":\"scatter\",\"x\":[0.001,0.01,0.1,0.3,0.5,0.7,0.9,0.99,0.999],\"y\":[0.739927406840136,0.7399276689348347,0.9501723559129132,0.9512311414648008,0.951261710483111,0.9512620771159289,0.9512580148861224,0.0,0.0]},{\"name\":\"recall\",\"type\":\"scatter\",\"x\":[0.001,0.01,0.1,0.3,0.5,0.7,0.9,0.99,0.999],\"y\":[0.9999976064151903,0.9999976064151903,0.9999530857377291,0.9999430326815283,0.9999296286065937,0.999928192455708,0.9998405872516716,0.0,0.0]}],                        {\"template\":{\"data\":{\"bar\":[{\"error_x\":{\"color\":\"#2a3f5f\"},\"error_y\":{\"color\":\"#2a3f5f\"},\"marker\":{\"line\":{\"color\":\"#E5ECF6\",\"width\":0.5},\"pattern\":{\"fillmode\":\"overlay\",\"size\":10,\"solidity\":0.2}},\"type\":\"bar\"}],\"barpolar\":[{\"marker\":{\"line\":{\"color\":\"#E5ECF6\",\"width\":0.5},\"pattern\":{\"fillmode\":\"overlay\",\"size\":10,\"solidity\":0.2}},\"type\":\"barpolar\"}],\"carpet\":[{\"aaxis\":{\"endlinecolor\":\"#2a3f5f\",\"gridcolor\":\"white\",\"linecolor\":\"white\",\"minorgridcolor\":\"white\",\"startlinecolor\":\"#2a3f5f\"},\"baxis\":{\"endlinecolor\":\"#2a3f5f\",\"gridcolor\":\"white\",\"linecolor\":\"white\",\"minorgridcolor\":\"white\",\"startlinecolor\":\"#2a3f5f\"},\"type\":\"carpet\"}],\"choropleth\":[{\"colorbar\":{\"outlinewidth\":0,\"ticks\":\"\"},\"type\":\"choropleth\"}],\"contour\":[{\"colorbar\":{\"outlinewidth\":0,\"ticks\":\"\"},\"colorscale\":[[0.0,\"#0d0887\"],[0.1111111111111111,\"#46039f\"],[0.2222222222222222,\"#7201a8\"],[0.3333333333333333,\"#9c179e\"],[0.4444444444444444,\"#bd3786\"],[0.5555555555555556,\"#d8576b\"],[0.6666666666666666,\"#ed7953\"],[0.7777777777777778,\"#fb9f3a\"],[0.8888888888888888,\"#fdca26\"],[1.0,\"#f0f921\"]],\"type\":\"contour\"}],\"contourcarpet\":[{\"colorbar\":{\"outlinewidth\":0,\"ticks\":\"\"},\"type\":\"contourcarpet\"}],\"heatmap\":[{\"colorbar\":{\"outlinewidth\":0,\"ticks\":\"\"},\"colorscale\":[[0.0,\"#0d0887\"],[0.1111111111111111,\"#46039f\"],[0.2222222222222222,\"#7201a8\"],[0.3333333333333333,\"#9c179e\"],[0.4444444444444444,\"#bd3786\"],[0.5555555555555556,\"#d8576b\"],[0.6666666666666666,\"#ed7953\"],[0.7777777777777778,\"#fb9f3a\"],[0.8888888888888888,\"#fdca26\"],[1.0,\"#f0f921\"]],\"type\":\"heatmap\"}],\"heatmapgl\":[{\"colorbar\":{\"outlinewidth\":0,\"ticks\":\"\"},\"colorscale\":[[0.0,\"#0d0887\"],[0.1111111111111111,\"#46039f\"],[0.2222222222222222,\"#7201a8\"],[0.3333333333333333,\"#9c179e\"],[0.4444444444444444,\"#bd3786\"],[0.5555555555555556,\"#d8576b\"],[0.6666666666666666,\"#ed7953\"],[0.7777777777777778,\"#fb9f3a\"],[0.8888888888888888,\"#fdca26\"],[1.0,\"#f0f921\"]],\"type\":\"heatmapgl\"}],\"histogram\":[{\"marker\":{\"pattern\":{\"fillmode\":\"overlay\",\"size\":10,\"solidity\":0.2}},\"type\":\"histogram\"}],\"histogram2d\":[{\"colorbar\":{\"outlinewidth\":0,\"ticks\":\"\"},\"colorscale\":[[0.0,\"#0d0887\"],[0.1111111111111111,\"#46039f\"],[0.2222222222222222,\"#7201a8\"],[0.3333333333333333,\"#9c179e\"],[0.4444444444444444,\"#bd3786\"],[0.5555555555555556,\"#d8576b\"],[0.6666666666666666,\"#ed7953\"],[0.7777777777777778,\"#fb9f3a\"],[0.8888888888888888,\"#fdca26\"],[1.0,\"#f0f921\"]],\"type\":\"histogram2d\"}],\"histogram2dcontour\":[{\"colorbar\":{\"outlinewidth\":0,\"ticks\":\"\"},\"colorscale\":[[0.0,\"#0d0887\"],[0.1111111111111111,\"#46039f\"],[0.2222222222222222,\"#7201a8\"],[0.3333333333333333,\"#9c179e\"],[0.4444444444444444,\"#bd3786\"],[0.5555555555555556,\"#d8576b\"],[0.6666666666666666,\"#ed7953\"],[0.7777777777777778,\"#fb9f3a\"],[0.8888888888888888,\"#fdca26\"],[1.0,\"#f0f921\"]],\"type\":\"histogram2dcontour\"}],\"mesh3d\":[{\"colorbar\":{\"outlinewidth\":0,\"ticks\":\"\"},\"type\":\"mesh3d\"}],\"parcoords\":[{\"line\":{\"colorbar\":{\"outlinewidth\":0,\"ticks\":\"\"}},\"type\":\"parcoords\"}],\"pie\":[{\"automargin\":true,\"type\":\"pie\"}],\"scatter\":[{\"marker\":{\"colorbar\":{\"outlinewidth\":0,\"ticks\":\"\"}},\"type\":\"scatter\"}],\"scatter3d\":[{\"line\":{\"colorbar\":{\"outlinewidth\":0,\"ticks\":\"\"}},\"marker\":{\"colorbar\":{\"outlinewidth\":0,\"ticks\":\"\"}},\"type\":\"scatter3d\"}],\"scattercarpet\":[{\"marker\":{\"colorbar\":{\"outlinewidth\":0,\"ticks\":\"\"}},\"type\":\"scattercarpet\"}],\"scattergeo\":[{\"marker\":{\"colorbar\":{\"outlinewidth\":0,\"ticks\":\"\"}},\"type\":\"scattergeo\"}],\"scattergl\":[{\"marker\":{\"colorbar\":{\"outlinewidth\":0,\"ticks\":\"\"}},\"type\":\"scattergl\"}],\"scattermapbox\":[{\"marker\":{\"colorbar\":{\"outlinewidth\":0,\"ticks\":\"\"}},\"type\":\"scattermapbox\"}],\"scatterpolar\":[{\"marker\":{\"colorbar\":{\"outlinewidth\":0,\"ticks\":\"\"}},\"type\":\"scatterpolar\"}],\"scatterpolargl\":[{\"marker\":{\"colorbar\":{\"outlinewidth\":0,\"ticks\":\"\"}},\"type\":\"scatterpolargl\"}],\"scatterternary\":[{\"marker\":{\"colorbar\":{\"outlinewidth\":0,\"ticks\":\"\"}},\"type\":\"scatterternary\"}],\"surface\":[{\"colorbar\":{\"outlinewidth\":0,\"ticks\":\"\"},\"colorscale\":[[0.0,\"#0d0887\"],[0.1111111111111111,\"#46039f\"],[0.2222222222222222,\"#7201a8\"],[0.3333333333333333,\"#9c179e\"],[0.4444444444444444,\"#bd3786\"],[0.5555555555555556,\"#d8576b\"],[0.6666666666666666,\"#ed7953\"],[0.7777777777777778,\"#fb9f3a\"],[0.8888888888888888,\"#fdca26\"],[1.0,\"#f0f921\"]],\"type\":\"surface\"}],\"table\":[{\"cells\":{\"fill\":{\"color\":\"#EBF0F8\"},\"line\":{\"color\":\"white\"}},\"header\":{\"fill\":{\"color\":\"#C8D4E3\"},\"line\":{\"color\":\"white\"}},\"type\":\"table\"}]},\"layout\":{\"annotationdefaults\":{\"arrowcolor\":\"#2a3f5f\",\"arrowhead\":0,\"arrowwidth\":1},\"autotypenumbers\":\"strict\",\"coloraxis\":{\"colorbar\":{\"outlinewidth\":0,\"ticks\":\"\"}},\"colorscale\":{\"diverging\":[[0,\"#8e0152\"],[0.1,\"#c51b7d\"],[0.2,\"#de77ae\"],[0.3,\"#f1b6da\"],[0.4,\"#fde0ef\"],[0.5,\"#f7f7f7\"],[0.6,\"#e6f5d0\"],[0.7,\"#b8e186\"],[0.8,\"#7fbc41\"],[0.9,\"#4d9221\"],[1,\"#276419\"]],\"sequential\":[[0.0,\"#0d0887\"],[0.1111111111111111,\"#46039f\"],[0.2222222222222222,\"#7201a8\"],[0.3333333333333333,\"#9c179e\"],[0.4444444444444444,\"#bd3786\"],[0.5555555555555556,\"#d8576b\"],[0.6666666666666666,\"#ed7953\"],[0.7777777777777778,\"#fb9f3a\"],[0.8888888888888888,\"#fdca26\"],[1.0,\"#f0f921\"]],\"sequentialminus\":[[0.0,\"#0d0887\"],[0.1111111111111111,\"#46039f\"],[0.2222222222222222,\"#7201a8\"],[0.3333333333333333,\"#9c179e\"],[0.4444444444444444,\"#bd3786\"],[0.5555555555555556,\"#d8576b\"],[0.6666666666666666,\"#ed7953\"],[0.7777777777777778,\"#fb9f3a\"],[0.8888888888888888,\"#fdca26\"],[1.0,\"#f0f921\"]]},\"colorway\":[\"#636efa\",\"#EF553B\",\"#00cc96\",\"#ab63fa\",\"#FFA15A\",\"#19d3f3\",\"#FF6692\",\"#B6E880\",\"#FF97FF\",\"#FECB52\"],\"font\":{\"color\":\"#2a3f5f\"},\"geo\":{\"bgcolor\":\"white\",\"lakecolor\":\"white\",\"landcolor\":\"#E5ECF6\",\"showlakes\":true,\"showland\":true,\"subunitcolor\":\"white\"},\"hoverlabel\":{\"align\":\"left\"},\"hovermode\":\"closest\",\"mapbox\":{\"style\":\"light\"},\"paper_bgcolor\":\"white\",\"plot_bgcolor\":\"#E5ECF6\",\"polar\":{\"angularaxis\":{\"gridcolor\":\"white\",\"linecolor\":\"white\",\"ticks\":\"\"},\"bgcolor\":\"#E5ECF6\",\"radialaxis\":{\"gridcolor\":\"white\",\"linecolor\":\"white\",\"ticks\":\"\"}},\"scene\":{\"xaxis\":{\"backgroundcolor\":\"#E5ECF6\",\"gridcolor\":\"white\",\"gridwidth\":2,\"linecolor\":\"white\",\"showbackground\":true,\"ticks\":\"\",\"zerolinecolor\":\"white\"},\"yaxis\":{\"backgroundcolor\":\"#E5ECF6\",\"gridcolor\":\"white\",\"gridwidth\":2,\"linecolor\":\"white\",\"showbackground\":true,\"ticks\":\"\",\"zerolinecolor\":\"white\"},\"zaxis\":{\"backgroundcolor\":\"#E5ECF6\",\"gridcolor\":\"white\",\"gridwidth\":2,\"linecolor\":\"white\",\"showbackground\":true,\"ticks\":\"\",\"zerolinecolor\":\"white\"}},\"shapedefaults\":{\"line\":{\"color\":\"#2a3f5f\"}},\"ternary\":{\"aaxis\":{\"gridcolor\":\"white\",\"linecolor\":\"white\",\"ticks\":\"\"},\"baxis\":{\"gridcolor\":\"white\",\"linecolor\":\"white\",\"ticks\":\"\"},\"bgcolor\":\"#E5ECF6\",\"caxis\":{\"gridcolor\":\"white\",\"linecolor\":\"white\",\"ticks\":\"\"}},\"title\":{\"x\":0.05},\"xaxis\":{\"automargin\":true,\"gridcolor\":\"white\",\"linecolor\":\"white\",\"ticks\":\"\",\"title\":{\"standoff\":15},\"zerolinecolor\":\"white\",\"zerolinewidth\":2},\"yaxis\":{\"automargin\":true,\"gridcolor\":\"white\",\"linecolor\":\"white\",\"ticks\":\"\",\"title\":{\"standoff\":15},\"zerolinecolor\":\"white\",\"zerolinewidth\":2}}}},                        {\"responsive\": true}                    ).then(function(){\n",
       "                            \n",
       "var gd = document.getElementById('07fcb33b-04ce-4335-bc7a-b1bfaa1c0ed0');\n",
       "var x = new MutationObserver(function (mutations, observer) {{\n",
       "        var display = window.getComputedStyle(gd).display;\n",
       "        if (!display || display === 'none') {{\n",
       "            console.log([gd, 'removed!']);\n",
       "            Plotly.purge(gd);\n",
       "            observer.disconnect();\n",
       "        }}\n",
       "}});\n",
       "\n",
       "// Listen for the removal of the full notebook cells\n",
       "var notebookContainer = gd.closest('#notebook-container');\n",
       "if (notebookContainer) {{\n",
       "    x.observe(notebookContainer, {childList: true});\n",
       "}}\n",
       "\n",
       "// Listen for the clearing of the current output cell\n",
       "var outputEl = gd.closest('.output');\n",
       "if (outputEl) {{\n",
       "    x.observe(outputEl, {childList: true});\n",
       "}}\n",
       "\n",
       "                        })                };                });            </script>        </div>"
      ]
     },
     "metadata": {},
     "output_type": "display_data"
    }
   ],
   "source": [
    "fig = go.Figure()\n",
    "for col in res.columns:\n",
    "    fig.add_trace(go.Scatter(x=res.index, y=res[col], name=col))\n",
    "    \n",
    "fig"
   ]
  },
  {
   "cell_type": "code",
   "execution_count": 49,
   "id": "dcf65674-6460-44a4-86ae-81c43bbf255d",
   "metadata": {},
   "outputs": [],
   "source": [
    "res = res.loc[0.1:0.9]"
   ]
  },
  {
   "cell_type": "code",
   "execution_count": 51,
   "id": "85c6ab90-fe6e-43d5-aa98-a275a4c1ce1a",
   "metadata": {},
   "outputs": [
    {
     "data": {
      "application/vnd.plotly.v1+json": {
       "config": {
        "plotlyServerURL": "https://plot.ly"
       },
       "data": [
        {
         "name": "f1",
         "type": "scatter",
         "x": [
          0.1,
          0.3,
          0.5,
          0.7,
          0.9
         ],
         "y": [
          0.9744273460414833,
          0.9749790305558758,
          0.9749887156785085,
          0.9749882255522088,
          0.9749444453391386
         ]
        },
        {
         "name": "accuracy",
         "type": "scatter",
         "x": [
          0.1,
          0.3,
          0.5,
          0.7,
          0.9
         ],
         "y": [
          0.9611652858311756,
          0.9620249577602482,
          0.9620405430774626,
          0.9620398346539528,
          0.9619750139028114
         ]
        },
        {
         "name": "precision",
         "type": "scatter",
         "x": [
          0.1,
          0.3,
          0.5,
          0.7,
          0.9
         ],
         "y": [
          0.9501723559129132,
          0.9512311414648008,
          0.951261710483111,
          0.9512620771159289,
          0.9512580148861224
         ]
        },
        {
         "name": "recall",
         "type": "scatter",
         "x": [
          0.1,
          0.3,
          0.5,
          0.7,
          0.9
         ],
         "y": [
          0.9999530857377291,
          0.9999430326815283,
          0.9999296286065937,
          0.999928192455708,
          0.9998405872516716
         ]
        }
       ],
       "layout": {
        "autosize": true,
        "template": {
         "data": {
          "bar": [
           {
            "error_x": {
             "color": "#2a3f5f"
            },
            "error_y": {
             "color": "#2a3f5f"
            },
            "marker": {
             "line": {
              "color": "#E5ECF6",
              "width": 0.5
             },
             "pattern": {
              "fillmode": "overlay",
              "size": 10,
              "solidity": 0.2
             }
            },
            "type": "bar"
           }
          ],
          "barpolar": [
           {
            "marker": {
             "line": {
              "color": "#E5ECF6",
              "width": 0.5
             },
             "pattern": {
              "fillmode": "overlay",
              "size": 10,
              "solidity": 0.2
             }
            },
            "type": "barpolar"
           }
          ],
          "carpet": [
           {
            "aaxis": {
             "endlinecolor": "#2a3f5f",
             "gridcolor": "white",
             "linecolor": "white",
             "minorgridcolor": "white",
             "startlinecolor": "#2a3f5f"
            },
            "baxis": {
             "endlinecolor": "#2a3f5f",
             "gridcolor": "white",
             "linecolor": "white",
             "minorgridcolor": "white",
             "startlinecolor": "#2a3f5f"
            },
            "type": "carpet"
           }
          ],
          "choropleth": [
           {
            "colorbar": {
             "outlinewidth": 0,
             "ticks": ""
            },
            "type": "choropleth"
           }
          ],
          "contour": [
           {
            "colorbar": {
             "outlinewidth": 0,
             "ticks": ""
            },
            "colorscale": [
             [
              0,
              "#0d0887"
             ],
             [
              0.1111111111111111,
              "#46039f"
             ],
             [
              0.2222222222222222,
              "#7201a8"
             ],
             [
              0.3333333333333333,
              "#9c179e"
             ],
             [
              0.4444444444444444,
              "#bd3786"
             ],
             [
              0.5555555555555556,
              "#d8576b"
             ],
             [
              0.6666666666666666,
              "#ed7953"
             ],
             [
              0.7777777777777778,
              "#fb9f3a"
             ],
             [
              0.8888888888888888,
              "#fdca26"
             ],
             [
              1,
              "#f0f921"
             ]
            ],
            "type": "contour"
           }
          ],
          "contourcarpet": [
           {
            "colorbar": {
             "outlinewidth": 0,
             "ticks": ""
            },
            "type": "contourcarpet"
           }
          ],
          "heatmap": [
           {
            "colorbar": {
             "outlinewidth": 0,
             "ticks": ""
            },
            "colorscale": [
             [
              0,
              "#0d0887"
             ],
             [
              0.1111111111111111,
              "#46039f"
             ],
             [
              0.2222222222222222,
              "#7201a8"
             ],
             [
              0.3333333333333333,
              "#9c179e"
             ],
             [
              0.4444444444444444,
              "#bd3786"
             ],
             [
              0.5555555555555556,
              "#d8576b"
             ],
             [
              0.6666666666666666,
              "#ed7953"
             ],
             [
              0.7777777777777778,
              "#fb9f3a"
             ],
             [
              0.8888888888888888,
              "#fdca26"
             ],
             [
              1,
              "#f0f921"
             ]
            ],
            "type": "heatmap"
           }
          ],
          "heatmapgl": [
           {
            "colorbar": {
             "outlinewidth": 0,
             "ticks": ""
            },
            "colorscale": [
             [
              0,
              "#0d0887"
             ],
             [
              0.1111111111111111,
              "#46039f"
             ],
             [
              0.2222222222222222,
              "#7201a8"
             ],
             [
              0.3333333333333333,
              "#9c179e"
             ],
             [
              0.4444444444444444,
              "#bd3786"
             ],
             [
              0.5555555555555556,
              "#d8576b"
             ],
             [
              0.6666666666666666,
              "#ed7953"
             ],
             [
              0.7777777777777778,
              "#fb9f3a"
             ],
             [
              0.8888888888888888,
              "#fdca26"
             ],
             [
              1,
              "#f0f921"
             ]
            ],
            "type": "heatmapgl"
           }
          ],
          "histogram": [
           {
            "marker": {
             "pattern": {
              "fillmode": "overlay",
              "size": 10,
              "solidity": 0.2
             }
            },
            "type": "histogram"
           }
          ],
          "histogram2d": [
           {
            "colorbar": {
             "outlinewidth": 0,
             "ticks": ""
            },
            "colorscale": [
             [
              0,
              "#0d0887"
             ],
             [
              0.1111111111111111,
              "#46039f"
             ],
             [
              0.2222222222222222,
              "#7201a8"
             ],
             [
              0.3333333333333333,
              "#9c179e"
             ],
             [
              0.4444444444444444,
              "#bd3786"
             ],
             [
              0.5555555555555556,
              "#d8576b"
             ],
             [
              0.6666666666666666,
              "#ed7953"
             ],
             [
              0.7777777777777778,
              "#fb9f3a"
             ],
             [
              0.8888888888888888,
              "#fdca26"
             ],
             [
              1,
              "#f0f921"
             ]
            ],
            "type": "histogram2d"
           }
          ],
          "histogram2dcontour": [
           {
            "colorbar": {
             "outlinewidth": 0,
             "ticks": ""
            },
            "colorscale": [
             [
              0,
              "#0d0887"
             ],
             [
              0.1111111111111111,
              "#46039f"
             ],
             [
              0.2222222222222222,
              "#7201a8"
             ],
             [
              0.3333333333333333,
              "#9c179e"
             ],
             [
              0.4444444444444444,
              "#bd3786"
             ],
             [
              0.5555555555555556,
              "#d8576b"
             ],
             [
              0.6666666666666666,
              "#ed7953"
             ],
             [
              0.7777777777777778,
              "#fb9f3a"
             ],
             [
              0.8888888888888888,
              "#fdca26"
             ],
             [
              1,
              "#f0f921"
             ]
            ],
            "type": "histogram2dcontour"
           }
          ],
          "mesh3d": [
           {
            "colorbar": {
             "outlinewidth": 0,
             "ticks": ""
            },
            "type": "mesh3d"
           }
          ],
          "parcoords": [
           {
            "line": {
             "colorbar": {
              "outlinewidth": 0,
              "ticks": ""
             }
            },
            "type": "parcoords"
           }
          ],
          "pie": [
           {
            "automargin": true,
            "type": "pie"
           }
          ],
          "scatter": [
           {
            "marker": {
             "colorbar": {
              "outlinewidth": 0,
              "ticks": ""
             }
            },
            "type": "scatter"
           }
          ],
          "scatter3d": [
           {
            "line": {
             "colorbar": {
              "outlinewidth": 0,
              "ticks": ""
             }
            },
            "marker": {
             "colorbar": {
              "outlinewidth": 0,
              "ticks": ""
             }
            },
            "type": "scatter3d"
           }
          ],
          "scattercarpet": [
           {
            "marker": {
             "colorbar": {
              "outlinewidth": 0,
              "ticks": ""
             }
            },
            "type": "scattercarpet"
           }
          ],
          "scattergeo": [
           {
            "marker": {
             "colorbar": {
              "outlinewidth": 0,
              "ticks": ""
             }
            },
            "type": "scattergeo"
           }
          ],
          "scattergl": [
           {
            "marker": {
             "colorbar": {
              "outlinewidth": 0,
              "ticks": ""
             }
            },
            "type": "scattergl"
           }
          ],
          "scattermapbox": [
           {
            "marker": {
             "colorbar": {
              "outlinewidth": 0,
              "ticks": ""
             }
            },
            "type": "scattermapbox"
           }
          ],
          "scatterpolar": [
           {
            "marker": {
             "colorbar": {
              "outlinewidth": 0,
              "ticks": ""
             }
            },
            "type": "scatterpolar"
           }
          ],
          "scatterpolargl": [
           {
            "marker": {
             "colorbar": {
              "outlinewidth": 0,
              "ticks": ""
             }
            },
            "type": "scatterpolargl"
           }
          ],
          "scatterternary": [
           {
            "marker": {
             "colorbar": {
              "outlinewidth": 0,
              "ticks": ""
             }
            },
            "type": "scatterternary"
           }
          ],
          "surface": [
           {
            "colorbar": {
             "outlinewidth": 0,
             "ticks": ""
            },
            "colorscale": [
             [
              0,
              "#0d0887"
             ],
             [
              0.1111111111111111,
              "#46039f"
             ],
             [
              0.2222222222222222,
              "#7201a8"
             ],
             [
              0.3333333333333333,
              "#9c179e"
             ],
             [
              0.4444444444444444,
              "#bd3786"
             ],
             [
              0.5555555555555556,
              "#d8576b"
             ],
             [
              0.6666666666666666,
              "#ed7953"
             ],
             [
              0.7777777777777778,
              "#fb9f3a"
             ],
             [
              0.8888888888888888,
              "#fdca26"
             ],
             [
              1,
              "#f0f921"
             ]
            ],
            "type": "surface"
           }
          ],
          "table": [
           {
            "cells": {
             "fill": {
              "color": "#EBF0F8"
             },
             "line": {
              "color": "white"
             }
            },
            "header": {
             "fill": {
              "color": "#C8D4E3"
             },
             "line": {
              "color": "white"
             }
            },
            "type": "table"
           }
          ]
         },
         "layout": {
          "annotationdefaults": {
           "arrowcolor": "#2a3f5f",
           "arrowhead": 0,
           "arrowwidth": 1
          },
          "autotypenumbers": "strict",
          "coloraxis": {
           "colorbar": {
            "outlinewidth": 0,
            "ticks": ""
           }
          },
          "colorscale": {
           "diverging": [
            [
             0,
             "#8e0152"
            ],
            [
             0.1,
             "#c51b7d"
            ],
            [
             0.2,
             "#de77ae"
            ],
            [
             0.3,
             "#f1b6da"
            ],
            [
             0.4,
             "#fde0ef"
            ],
            [
             0.5,
             "#f7f7f7"
            ],
            [
             0.6,
             "#e6f5d0"
            ],
            [
             0.7,
             "#b8e186"
            ],
            [
             0.8,
             "#7fbc41"
            ],
            [
             0.9,
             "#4d9221"
            ],
            [
             1,
             "#276419"
            ]
           ],
           "sequential": [
            [
             0,
             "#0d0887"
            ],
            [
             0.1111111111111111,
             "#46039f"
            ],
            [
             0.2222222222222222,
             "#7201a8"
            ],
            [
             0.3333333333333333,
             "#9c179e"
            ],
            [
             0.4444444444444444,
             "#bd3786"
            ],
            [
             0.5555555555555556,
             "#d8576b"
            ],
            [
             0.6666666666666666,
             "#ed7953"
            ],
            [
             0.7777777777777778,
             "#fb9f3a"
            ],
            [
             0.8888888888888888,
             "#fdca26"
            ],
            [
             1,
             "#f0f921"
            ]
           ],
           "sequentialminus": [
            [
             0,
             "#0d0887"
            ],
            [
             0.1111111111111111,
             "#46039f"
            ],
            [
             0.2222222222222222,
             "#7201a8"
            ],
            [
             0.3333333333333333,
             "#9c179e"
            ],
            [
             0.4444444444444444,
             "#bd3786"
            ],
            [
             0.5555555555555556,
             "#d8576b"
            ],
            [
             0.6666666666666666,
             "#ed7953"
            ],
            [
             0.7777777777777778,
             "#fb9f3a"
            ],
            [
             0.8888888888888888,
             "#fdca26"
            ],
            [
             1,
             "#f0f921"
            ]
           ]
          },
          "colorway": [
           "#636efa",
           "#EF553B",
           "#00cc96",
           "#ab63fa",
           "#FFA15A",
           "#19d3f3",
           "#FF6692",
           "#B6E880",
           "#FF97FF",
           "#FECB52"
          ],
          "font": {
           "color": "#2a3f5f"
          },
          "geo": {
           "bgcolor": "white",
           "lakecolor": "white",
           "landcolor": "#E5ECF6",
           "showlakes": true,
           "showland": true,
           "subunitcolor": "white"
          },
          "hoverlabel": {
           "align": "left"
          },
          "hovermode": "closest",
          "mapbox": {
           "style": "light"
          },
          "paper_bgcolor": "white",
          "plot_bgcolor": "#E5ECF6",
          "polar": {
           "angularaxis": {
            "gridcolor": "white",
            "linecolor": "white",
            "ticks": ""
           },
           "bgcolor": "#E5ECF6",
           "radialaxis": {
            "gridcolor": "white",
            "linecolor": "white",
            "ticks": ""
           }
          },
          "scene": {
           "xaxis": {
            "backgroundcolor": "#E5ECF6",
            "gridcolor": "white",
            "gridwidth": 2,
            "linecolor": "white",
            "showbackground": true,
            "ticks": "",
            "zerolinecolor": "white"
           },
           "yaxis": {
            "backgroundcolor": "#E5ECF6",
            "gridcolor": "white",
            "gridwidth": 2,
            "linecolor": "white",
            "showbackground": true,
            "ticks": "",
            "zerolinecolor": "white"
           },
           "zaxis": {
            "backgroundcolor": "#E5ECF6",
            "gridcolor": "white",
            "gridwidth": 2,
            "linecolor": "white",
            "showbackground": true,
            "ticks": "",
            "zerolinecolor": "white"
           }
          },
          "shapedefaults": {
           "line": {
            "color": "#2a3f5f"
           }
          },
          "ternary": {
           "aaxis": {
            "gridcolor": "white",
            "linecolor": "white",
            "ticks": ""
           },
           "baxis": {
            "gridcolor": "white",
            "linecolor": "white",
            "ticks": ""
           },
           "bgcolor": "#E5ECF6",
           "caxis": {
            "gridcolor": "white",
            "linecolor": "white",
            "ticks": ""
           }
          },
          "title": {
           "x": 0.05
          },
          "xaxis": {
           "automargin": true,
           "gridcolor": "white",
           "linecolor": "white",
           "ticks": "",
           "title": {
            "standoff": 15
           },
           "zerolinecolor": "white",
           "zerolinewidth": 2
          },
          "yaxis": {
           "automargin": true,
           "gridcolor": "white",
           "linecolor": "white",
           "ticks": "",
           "title": {
            "standoff": 15
           },
           "zerolinecolor": "white",
           "zerolinewidth": 2
          }
         }
        },
        "xaxis": {
         "autorange": true,
         "range": [
          0.05286129970902036,
          0.9471387002909797
         ],
         "type": "linear"
        },
        "yaxis": {
         "autorange": true,
         "range": [
          0.9460642374322245,
          1.0040612042184178
         ],
         "type": "linear"
        }
       }
      },
      "image/png": "[encoded data removed]",
      "text/html": [
       "<div>                            <div id=\"69ba61a5-c53f-4870-ada5-a520bd090727\" class=\"plotly-graph-div\" style=\"height:525px; width:100%;\"></div>            <script type=\"text/javascript\">                require([\"plotly\"], function(Plotly) {                    window.PLOTLYENV=window.PLOTLYENV || {};                                    if (document.getElementById(\"69ba61a5-c53f-4870-ada5-a520bd090727\")) {                    Plotly.newPlot(                        \"69ba61a5-c53f-4870-ada5-a520bd090727\",                        [{\"name\":\"f1\",\"type\":\"scatter\",\"x\":[0.1,0.3,0.5,0.7,0.9],\"y\":[0.9744273460414833,0.9749790305558758,0.9749887156785085,0.9749882255522088,0.9749444453391386]},{\"name\":\"accuracy\",\"type\":\"scatter\",\"x\":[0.1,0.3,0.5,0.7,0.9],\"y\":[0.9611652858311756,0.9620249577602482,0.9620405430774626,0.9620398346539528,0.9619750139028114]},{\"name\":\"precision\",\"type\":\"scatter\",\"x\":[0.1,0.3,0.5,0.7,0.9],\"y\":[0.9501723559129132,0.9512311414648008,0.951261710483111,0.9512620771159289,0.9512580148861224]},{\"name\":\"recall\",\"type\":\"scatter\",\"x\":[0.1,0.3,0.5,0.7,0.9],\"y\":[0.9999530857377291,0.9999430326815283,0.9999296286065937,0.999928192455708,0.9998405872516716]}],                        {\"template\":{\"data\":{\"bar\":[{\"error_x\":{\"color\":\"#2a3f5f\"},\"error_y\":{\"color\":\"#2a3f5f\"},\"marker\":{\"line\":{\"color\":\"#E5ECF6\",\"width\":0.5},\"pattern\":{\"fillmode\":\"overlay\",\"size\":10,\"solidity\":0.2}},\"type\":\"bar\"}],\"barpolar\":[{\"marker\":{\"line\":{\"color\":\"#E5ECF6\",\"width\":0.5},\"pattern\":{\"fillmode\":\"overlay\",\"size\":10,\"solidity\":0.2}},\"type\":\"barpolar\"}],\"carpet\":[{\"aaxis\":{\"endlinecolor\":\"#2a3f5f\",\"gridcolor\":\"white\",\"linecolor\":\"white\",\"minorgridcolor\":\"white\",\"startlinecolor\":\"#2a3f5f\"},\"baxis\":{\"endlinecolor\":\"#2a3f5f\",\"gridcolor\":\"white\",\"linecolor\":\"white\",\"minorgridcolor\":\"white\",\"startlinecolor\":\"#2a3f5f\"},\"type\":\"carpet\"}],\"choropleth\":[{\"colorbar\":{\"outlinewidth\":0,\"ticks\":\"\"},\"type\":\"choropleth\"}],\"contour\":[{\"colorbar\":{\"outlinewidth\":0,\"ticks\":\"\"},\"colorscale\":[[0.0,\"#0d0887\"],[0.1111111111111111,\"#46039f\"],[0.2222222222222222,\"#7201a8\"],[0.3333333333333333,\"#9c179e\"],[0.4444444444444444,\"#bd3786\"],[0.5555555555555556,\"#d8576b\"],[0.6666666666666666,\"#ed7953\"],[0.7777777777777778,\"#fb9f3a\"],[0.8888888888888888,\"#fdca26\"],[1.0,\"#f0f921\"]],\"type\":\"contour\"}],\"contourcarpet\":[{\"colorbar\":{\"outlinewidth\":0,\"ticks\":\"\"},\"type\":\"contourcarpet\"}],\"heatmap\":[{\"colorbar\":{\"outlinewidth\":0,\"ticks\":\"\"},\"colorscale\":[[0.0,\"#0d0887\"],[0.1111111111111111,\"#46039f\"],[0.2222222222222222,\"#7201a8\"],[0.3333333333333333,\"#9c179e\"],[0.4444444444444444,\"#bd3786\"],[0.5555555555555556,\"#d8576b\"],[0.6666666666666666,\"#ed7953\"],[0.7777777777777778,\"#fb9f3a\"],[0.8888888888888888,\"#fdca26\"],[1.0,\"#f0f921\"]],\"type\":\"heatmap\"}],\"heatmapgl\":[{\"colorbar\":{\"outlinewidth\":0,\"ticks\":\"\"},\"colorscale\":[[0.0,\"#0d0887\"],[0.1111111111111111,\"#46039f\"],[0.2222222222222222,\"#7201a8\"],[0.3333333333333333,\"#9c179e\"],[0.4444444444444444,\"#bd3786\"],[0.5555555555555556,\"#d8576b\"],[0.6666666666666666,\"#ed7953\"],[0.7777777777777778,\"#fb9f3a\"],[0.8888888888888888,\"#fdca26\"],[1.0,\"#f0f921\"]],\"type\":\"heatmapgl\"}],\"histogram\":[{\"marker\":{\"pattern\":{\"fillmode\":\"overlay\",\"size\":10,\"solidity\":0.2}},\"type\":\"histogram\"}],\"histogram2d\":[{\"colorbar\":{\"outlinewidth\":0,\"ticks\":\"\"},\"colorscale\":[[0.0,\"#0d0887\"],[0.1111111111111111,\"#46039f\"],[0.2222222222222222,\"#7201a8\"],[0.3333333333333333,\"#9c179e\"],[0.4444444444444444,\"#bd3786\"],[0.5555555555555556,\"#d8576b\"],[0.6666666666666666,\"#ed7953\"],[0.7777777777777778,\"#fb9f3a\"],[0.8888888888888888,\"#fdca26\"],[1.0,\"#f0f921\"]],\"type\":\"histogram2d\"}],\"histogram2dcontour\":[{\"colorbar\":{\"outlinewidth\":0,\"ticks\":\"\"},\"colorscale\":[[0.0,\"#0d0887\"],[0.1111111111111111,\"#46039f\"],[0.2222222222222222,\"#7201a8\"],[0.3333333333333333,\"#9c179e\"],[0.4444444444444444,\"#bd3786\"],[0.5555555555555556,\"#d8576b\"],[0.6666666666666666,\"#ed7953\"],[0.7777777777777778,\"#fb9f3a\"],[0.8888888888888888,\"#fdca26\"],[1.0,\"#f0f921\"]],\"type\":\"histogram2dcontour\"}],\"mesh3d\":[{\"colorbar\":{\"outlinewidth\":0,\"ticks\":\"\"},\"type\":\"mesh3d\"}],\"parcoords\":[{\"line\":{\"colorbar\":{\"outlinewidth\":0,\"ticks\":\"\"}},\"type\":\"parcoords\"}],\"pie\":[{\"automargin\":true,\"type\":\"pie\"}],\"scatter\":[{\"marker\":{\"colorbar\":{\"outlinewidth\":0,\"ticks\":\"\"}},\"type\":\"scatter\"}],\"scatter3d\":[{\"line\":{\"colorbar\":{\"outlinewidth\":0,\"ticks\":\"\"}},\"marker\":{\"colorbar\":{\"outlinewidth\":0,\"ticks\":\"\"}},\"type\":\"scatter3d\"}],\"scattercarpet\":[{\"marker\":{\"colorbar\":{\"outlinewidth\":0,\"ticks\":\"\"}},\"type\":\"scattercarpet\"}],\"scattergeo\":[{\"marker\":{\"colorbar\":{\"outlinewidth\":0,\"ticks\":\"\"}},\"type\":\"scattergeo\"}],\"scattergl\":[{\"marker\":{\"colorbar\":{\"outlinewidth\":0,\"ticks\":\"\"}},\"type\":\"scattergl\"}],\"scattermapbox\":[{\"marker\":{\"colorbar\":{\"outlinewidth\":0,\"ticks\":\"\"}},\"type\":\"scattermapbox\"}],\"scatterpolar\":[{\"marker\":{\"colorbar\":{\"outlinewidth\":0,\"ticks\":\"\"}},\"type\":\"scatterpolar\"}],\"scatterpolargl\":[{\"marker\":{\"colorbar\":{\"outlinewidth\":0,\"ticks\":\"\"}},\"type\":\"scatterpolargl\"}],\"scatterternary\":[{\"marker\":{\"colorbar\":{\"outlinewidth\":0,\"ticks\":\"\"}},\"type\":\"scatterternary\"}],\"surface\":[{\"colorbar\":{\"outlinewidth\":0,\"ticks\":\"\"},\"colorscale\":[[0.0,\"#0d0887\"],[0.1111111111111111,\"#46039f\"],[0.2222222222222222,\"#7201a8\"],[0.3333333333333333,\"#9c179e\"],[0.4444444444444444,\"#bd3786\"],[0.5555555555555556,\"#d8576b\"],[0.6666666666666666,\"#ed7953\"],[0.7777777777777778,\"#fb9f3a\"],[0.8888888888888888,\"#fdca26\"],[1.0,\"#f0f921\"]],\"type\":\"surface\"}],\"table\":[{\"cells\":{\"fill\":{\"color\":\"#EBF0F8\"},\"line\":{\"color\":\"white\"}},\"header\":{\"fill\":{\"color\":\"#C8D4E3\"},\"line\":{\"color\":\"white\"}},\"type\":\"table\"}]},\"layout\":{\"annotationdefaults\":{\"arrowcolor\":\"#2a3f5f\",\"arrowhead\":0,\"arrowwidth\":1},\"autotypenumbers\":\"strict\",\"coloraxis\":{\"colorbar\":{\"outlinewidth\":0,\"ticks\":\"\"}},\"colorscale\":{\"diverging\":[[0,\"#8e0152\"],[0.1,\"#c51b7d\"],[0.2,\"#de77ae\"],[0.3,\"#f1b6da\"],[0.4,\"#fde0ef\"],[0.5,\"#f7f7f7\"],[0.6,\"#e6f5d0\"],[0.7,\"#b8e186\"],[0.8,\"#7fbc41\"],[0.9,\"#4d9221\"],[1,\"#276419\"]],\"sequential\":[[0.0,\"#0d0887\"],[0.1111111111111111,\"#46039f\"],[0.2222222222222222,\"#7201a8\"],[0.3333333333333333,\"#9c179e\"],[0.4444444444444444,\"#bd3786\"],[0.5555555555555556,\"#d8576b\"],[0.6666666666666666,\"#ed7953\"],[0.7777777777777778,\"#fb9f3a\"],[0.8888888888888888,\"#fdca26\"],[1.0,\"#f0f921\"]],\"sequentialminus\":[[0.0,\"#0d0887\"],[0.1111111111111111,\"#46039f\"],[0.2222222222222222,\"#7201a8\"],[0.3333333333333333,\"#9c179e\"],[0.4444444444444444,\"#bd3786\"],[0.5555555555555556,\"#d8576b\"],[0.6666666666666666,\"#ed7953\"],[0.7777777777777778,\"#fb9f3a\"],[0.8888888888888888,\"#fdca26\"],[1.0,\"#f0f921\"]]},\"colorway\":[\"#636efa\",\"#EF553B\",\"#00cc96\",\"#ab63fa\",\"#FFA15A\",\"#19d3f3\",\"#FF6692\",\"#B6E880\",\"#FF97FF\",\"#FECB52\"],\"font\":{\"color\":\"#2a3f5f\"},\"geo\":{\"bgcolor\":\"white\",\"lakecolor\":\"white\",\"landcolor\":\"#E5ECF6\",\"showlakes\":true,\"showland\":true,\"subunitcolor\":\"white\"},\"hoverlabel\":{\"align\":\"left\"},\"hovermode\":\"closest\",\"mapbox\":{\"style\":\"light\"},\"paper_bgcolor\":\"white\",\"plot_bgcolor\":\"#E5ECF6\",\"polar\":{\"angularaxis\":{\"gridcolor\":\"white\",\"linecolor\":\"white\",\"ticks\":\"\"},\"bgcolor\":\"#E5ECF6\",\"radialaxis\":{\"gridcolor\":\"white\",\"linecolor\":\"white\",\"ticks\":\"\"}},\"scene\":{\"xaxis\":{\"backgroundcolor\":\"#E5ECF6\",\"gridcolor\":\"white\",\"gridwidth\":2,\"linecolor\":\"white\",\"showbackground\":true,\"ticks\":\"\",\"zerolinecolor\":\"white\"},\"yaxis\":{\"backgroundcolor\":\"#E5ECF6\",\"gridcolor\":\"white\",\"gridwidth\":2,\"linecolor\":\"white\",\"showbackground\":true,\"ticks\":\"\",\"zerolinecolor\":\"white\"},\"zaxis\":{\"backgroundcolor\":\"#E5ECF6\",\"gridcolor\":\"white\",\"gridwidth\":2,\"linecolor\":\"white\",\"showbackground\":true,\"ticks\":\"\",\"zerolinecolor\":\"white\"}},\"shapedefaults\":{\"line\":{\"color\":\"#2a3f5f\"}},\"ternary\":{\"aaxis\":{\"gridcolor\":\"white\",\"linecolor\":\"white\",\"ticks\":\"\"},\"baxis\":{\"gridcolor\":\"white\",\"linecolor\":\"white\",\"ticks\":\"\"},\"bgcolor\":\"#E5ECF6\",\"caxis\":{\"gridcolor\":\"white\",\"linecolor\":\"white\",\"ticks\":\"\"}},\"title\":{\"x\":0.05},\"xaxis\":{\"automargin\":true,\"gridcolor\":\"white\",\"linecolor\":\"white\",\"ticks\":\"\",\"title\":{\"standoff\":15},\"zerolinecolor\":\"white\",\"zerolinewidth\":2},\"yaxis\":{\"automargin\":true,\"gridcolor\":\"white\",\"linecolor\":\"white\",\"ticks\":\"\",\"title\":{\"standoff\":15},\"zerolinecolor\":\"white\",\"zerolinewidth\":2}}}},                        {\"responsive\": true}                    ).then(function(){\n",
       "                            \n",
       "var gd = document.getElementById('69ba61a5-c53f-4870-ada5-a520bd090727');\n",
       "var x = new MutationObserver(function (mutations, observer) {{\n",
       "        var display = window.getComputedStyle(gd).display;\n",
       "        if (!display || display === 'none') {{\n",
       "            console.log([gd, 'removed!']);\n",
       "            Plotly.purge(gd);\n",
       "            observer.disconnect();\n",
       "        }}\n",
       "}});\n",
       "\n",
       "// Listen for the removal of the full notebook cells\n",
       "var notebookContainer = gd.closest('#notebook-container');\n",
       "if (notebookContainer) {{\n",
       "    x.observe(notebookContainer, {childList: true});\n",
       "}}\n",
       "\n",
       "// Listen for the clearing of the current output cell\n",
       "var outputEl = gd.closest('.output');\n",
       "if (outputEl) {{\n",
       "    x.observe(outputEl, {childList: true});\n",
       "}}\n",
       "\n",
       "                        })                };                });            </script>        </div>"
      ]
     },
     "metadata": {},
     "output_type": "display_data"
    }
   ],
   "source": [
    "fig = go.Figure()\n",
    "for col in res.columns:\n",
    "    fig.add_trace(go.Scatter(x=res.index, y=res[col], name=col))\n",
    "    \n",
    "fig"
   ]
  },
  {
   "cell_type": "markdown",
   "id": "9e6c4f03-a7e4-4e22-92e4-3da21cbb41a5",
   "metadata": {},
   "source": [
    "Based on the results, will pick 0.3 as rounding, as this will target more false positives and should increase score in the whole (skewed) dataset. Also, for this problem false positives are better than false negatives, but we don't want to distort the results so heavily"
   ]
  },
  {
   "cell_type": "code",
   "execution_count": 19,
   "id": "dfe2fa25-82c5-44f3-af96-e3b6199b0ae2",
   "metadata": {},
   "outputs": [
    {
     "name": "stdout",
     "output_type": "stream",
     "text": [
      "F1 = 0.9749887156785085\n",
      "Accuracy = 0.9620405430774626\n",
      "Precision = 0.951261710483111\n",
      "Recall = 0.9999296286065937 \n",
      "\n"
     ]
    },
    {
     "data": {
      "image/png": "[encoded data removed]",
      "text/plain": [
       "<Figure size 432x288 with 2 Axes>"
      ]
     },
     "metadata": {
      "needs_background": "light"
     },
     "output_type": "display_data"
    }
   ],
   "source": [
    "print(f'F1 =', f1_score(y_test, y_pred))\n",
    "print(f'Accuracy =', accuracy_score(y_test, y_pred))\n",
    "print(f'Precision =', precision_score(y_test, y_pred))\n",
    "print(f'Recall =', recall_score(y_test, y_pred), '\\n')\n",
    "plot_confusion_matrix(y_test, y_pred)"
   ]
  },
  {
   "cell_type": "code",
   "execution_count": 31,
   "id": "b0a52658-248c-4535-b019-9c994aff0ad3",
   "metadata": {},
   "outputs": [
    {
     "data": {
      "text/plain": [
       "<AxesSubplot:title={'center':'Feature importance'}, xlabel='F score', ylabel='Features'>"
      ]
     },
     "execution_count": 31,
     "metadata": {},
     "output_type": "execute_result"
    },
    {
     "data": {
      "image/png": "[encoded data removed]",
      "text/plain": [
       "<Figure size 432x288 with 1 Axes>"
      ]
     },
     "metadata": {
      "needs_background": "light"
     },
     "output_type": "display_data"
    }
   ],
   "source": [
    "xgb.plot_importance(model)"
   ]
  },
  {
   "cell_type": "code",
   "execution_count": 25,
   "id": "b755ed04-dc1d-473a-a4fe-8cc4e94cf0ab",
   "metadata": {},
   "outputs": [],
   "source": [
    "def xgb_grid_search(params_list):\n",
    "    res_df = pd.DataFrame()\n",
    "    for params in progressbar(params_list):\n",
    "        model = xgb.train(params, train)\n",
    "        y_pred = model.predict(xgb.DMatrix(X_test, label=y_test)).round()\n",
    "        res_df = res_df.append(pd.DataFrame(data={\n",
    "            **{key: [val] for key, val in params.items()},\n",
    "            **{\n",
    "                'f1': f1_score(y_test, y_pred),\n",
    "                'accuracy': accuracy_score(y_test, y_pred),\n",
    "                'precision': precision_score(y_test, y_pred),\n",
    "                'recall': recall_score(y_test, y_pred)\n",
    "            }\n",
    "        }))\n",
    "    display(res_df.sort_values('precision', ascending=False))"
   ]
  },
  {
   "cell_type": "code",
   "execution_count": 45,
   "id": "ed27fd2e-5747-4ace-89b2-0e17b800cfb1",
   "metadata": {},
   "outputs": [
    {
     "name": "stderr",
     "output_type": "stream",
     "text": [
      "100% (4 of 4) |##########################| Elapsed Time: 0:00:19 Time:  0:00:19\n"
     ]
    },
    {
     "data": {
      "text/html": [
       "<div>\n",
       "<style scoped>\n",
       "    .dataframe tbody tr th:only-of-type {\n",
       "        vertical-align: middle;\n",
       "    }\n",
       "\n",
       "    .dataframe tbody tr th {\n",
       "        vertical-align: top;\n",
       "    }\n",
       "\n",
       "    .dataframe thead th {\n",
       "        text-align: right;\n",
       "    }\n",
       "</style>\n",
       "<table border=\"1\" class=\"dataframe\">\n",
       "  <thead>\n",
       "    <tr style=\"text-align: right;\">\n",
       "      <th></th>\n",
       "      <th>eta</th>\n",
       "      <th>gamma</th>\n",
       "      <th>max_depth</th>\n",
       "      <th>tree_method</th>\n",
       "      <th>f1</th>\n",
       "      <th>accuracy</th>\n",
       "      <th>precision</th>\n",
       "      <th>recall</th>\n",
       "    </tr>\n",
       "  </thead>\n",
       "  <tbody>\n",
       "    <tr>\n",
       "      <th>0</th>\n",
       "      <td>0.30</td>\n",
       "      <td>0</td>\n",
       "      <td>6</td>\n",
       "      <td>gpu_hist</td>\n",
       "      <td>0.975120</td>\n",
       "      <td>0.962245</td>\n",
       "      <td>0.951523</td>\n",
       "      <td>0.999917</td>\n",
       "    </tr>\n",
       "    <tr>\n",
       "      <th>0</th>\n",
       "      <td>0.50</td>\n",
       "      <td>0</td>\n",
       "      <td>6</td>\n",
       "      <td>gpu_hist</td>\n",
       "      <td>0.975120</td>\n",
       "      <td>0.962245</td>\n",
       "      <td>0.951522</td>\n",
       "      <td>0.999917</td>\n",
       "    </tr>\n",
       "    <tr>\n",
       "      <th>0</th>\n",
       "      <td>0.10</td>\n",
       "      <td>0</td>\n",
       "      <td>6</td>\n",
       "      <td>gpu_hist</td>\n",
       "      <td>0.974549</td>\n",
       "      <td>0.961355</td>\n",
       "      <td>0.950425</td>\n",
       "      <td>0.999929</td>\n",
       "    </tr>\n",
       "    <tr>\n",
       "      <th>0</th>\n",
       "      <td>0.01</td>\n",
       "      <td>0</td>\n",
       "      <td>6</td>\n",
       "      <td>gpu_hist</td>\n",
       "      <td>0.974547</td>\n",
       "      <td>0.961353</td>\n",
       "      <td>0.950424</td>\n",
       "      <td>0.999928</td>\n",
       "    </tr>\n",
       "  </tbody>\n",
       "</table>\n",
       "</div>"
      ],
      "text/plain": [
       "    eta  gamma  max_depth tree_method        f1  accuracy  precision    recall\n",
       "0  0.30      0          6    gpu_hist  0.975120  0.962245   0.951523  0.999917\n",
       "0  0.50      0          6    gpu_hist  0.975120  0.962245   0.951522  0.999917\n",
       "0  0.10      0          6    gpu_hist  0.974549  0.961355   0.950425  0.999929\n",
       "0  0.01      0          6    gpu_hist  0.974547  0.961353   0.950424  0.999928"
      ]
     },
     "metadata": {},
     "output_type": "display_data"
    }
   ],
   "source": [
    "xgb_grid_search(params_list = [\n",
    "    {'eta': 0.5, 'gamma': 0, 'max_depth': 6, 'tree_method': 'gpu_hist'},          # gpu_hist -> run with gpu\n",
    "    {'eta': 0.3, 'gamma': 0, 'max_depth': 6, 'tree_method': 'gpu_hist'},\n",
    "    {'eta': 0.1, 'gamma': 0, 'max_depth': 6, 'tree_method': 'gpu_hist'},\n",
    "    {'eta': 0.01, 'gamma': 0, 'max_depth': 6, 'tree_method': 'gpu_hist'}\n",
    "])"
   ]
  },
  {
   "cell_type": "code",
   "execution_count": 46,
   "id": "bd3e6247-129d-49d0-97f6-d48935ca59d4",
   "metadata": {},
   "outputs": [
    {
     "name": "stderr",
     "output_type": "stream",
     "text": [
      "100% (7 of 7) |##########################| Elapsed Time: 0:00:33 Time:  0:00:33\n"
     ]
    },
    {
     "data": {
      "text/html": [
       "<div>\n",
       "<style scoped>\n",
       "    .dataframe tbody tr th:only-of-type {\n",
       "        vertical-align: middle;\n",
       "    }\n",
       "\n",
       "    .dataframe tbody tr th {\n",
       "        vertical-align: top;\n",
       "    }\n",
       "\n",
       "    .dataframe thead th {\n",
       "        text-align: right;\n",
       "    }\n",
       "</style>\n",
       "<table border=\"1\" class=\"dataframe\">\n",
       "  <thead>\n",
       "    <tr style=\"text-align: right;\">\n",
       "      <th></th>\n",
       "      <th>gamma</th>\n",
       "      <th>max_depth</th>\n",
       "      <th>tree_method</th>\n",
       "      <th>f1</th>\n",
       "      <th>accuracy</th>\n",
       "      <th>precision</th>\n",
       "      <th>recall</th>\n",
       "    </tr>\n",
       "  </thead>\n",
       "  <tbody>\n",
       "    <tr>\n",
       "      <th>0</th>\n",
       "      <td>0.0</td>\n",
       "      <td>6</td>\n",
       "      <td>gpu_hist</td>\n",
       "      <td>0.975120</td>\n",
       "      <td>0.962245</td>\n",
       "      <td>0.951523</td>\n",
       "      <td>0.999917</td>\n",
       "    </tr>\n",
       "    <tr>\n",
       "      <th>0</th>\n",
       "      <td>0.1</td>\n",
       "      <td>6</td>\n",
       "      <td>gpu_hist</td>\n",
       "      <td>0.975120</td>\n",
       "      <td>0.962245</td>\n",
       "      <td>0.951523</td>\n",
       "      <td>0.999917</td>\n",
       "    </tr>\n",
       "    <tr>\n",
       "      <th>0</th>\n",
       "      <td>1.0</td>\n",
       "      <td>6</td>\n",
       "      <td>gpu_hist</td>\n",
       "      <td>0.975119</td>\n",
       "      <td>0.962245</td>\n",
       "      <td>0.951523</td>\n",
       "      <td>0.999916</td>\n",
       "    </tr>\n",
       "    <tr>\n",
       "      <th>0</th>\n",
       "      <td>10.0</td>\n",
       "      <td>6</td>\n",
       "      <td>gpu_hist</td>\n",
       "      <td>0.975117</td>\n",
       "      <td>0.962240</td>\n",
       "      <td>0.951516</td>\n",
       "      <td>0.999918</td>\n",
       "    </tr>\n",
       "    <tr>\n",
       "      <th>0</th>\n",
       "      <td>100.0</td>\n",
       "      <td>6</td>\n",
       "      <td>gpu_hist</td>\n",
       "      <td>0.974518</td>\n",
       "      <td>0.961306</td>\n",
       "      <td>0.950345</td>\n",
       "      <td>0.999953</td>\n",
       "    </tr>\n",
       "    <tr>\n",
       "      <th>0</th>\n",
       "      <td>1000.0</td>\n",
       "      <td>6</td>\n",
       "      <td>gpu_hist</td>\n",
       "      <td>0.974467</td>\n",
       "      <td>0.961227</td>\n",
       "      <td>0.950248</td>\n",
       "      <td>0.999953</td>\n",
       "    </tr>\n",
       "    <tr>\n",
       "      <th>0</th>\n",
       "      <td>1000000.0</td>\n",
       "      <td>6</td>\n",
       "      <td>gpu_hist</td>\n",
       "      <td>0.850521</td>\n",
       "      <td>0.739919</td>\n",
       "      <td>0.739919</td>\n",
       "      <td>1.000000</td>\n",
       "    </tr>\n",
       "  </tbody>\n",
       "</table>\n",
       "</div>"
      ],
      "text/plain": [
       "       gamma  max_depth tree_method        f1  accuracy  precision    recall\n",
       "0        0.0          6    gpu_hist  0.975120  0.962245   0.951523  0.999917\n",
       "0        0.1          6    gpu_hist  0.975120  0.962245   0.951523  0.999917\n",
       "0        1.0          6    gpu_hist  0.975119  0.962245   0.951523  0.999916\n",
       "0       10.0          6    gpu_hist  0.975117  0.962240   0.951516  0.999918\n",
       "0      100.0          6    gpu_hist  0.974518  0.961306   0.950345  0.999953\n",
       "0     1000.0          6    gpu_hist  0.974467  0.961227   0.950248  0.999953\n",
       "0  1000000.0          6    gpu_hist  0.850521  0.739919   0.739919  1.000000"
      ]
     },
     "metadata": {},
     "output_type": "display_data"
    }
   ],
   "source": [
    "xgb_grid_search(params_list = [\n",
    "    {'gamma': 0, 'max_depth': 6, 'tree_method': 'gpu_hist'},\n",
    "    {'gamma': 0.1, 'max_depth': 6, 'tree_method': 'gpu_hist'},\n",
    "    {'gamma': 1, 'max_depth': 6, 'tree_method': 'gpu_hist'},\n",
    "    {'gamma': 10, 'max_depth': 6, 'tree_method': 'gpu_hist'},\n",
    "    {'gamma': 100, 'max_depth': 6, 'tree_method': 'gpu_hist'},\n",
    "    {'gamma': 1000, 'max_depth': 6, 'tree_method': 'gpu_hist'},\n",
    "    {'gamma': 1_000_000, 'max_depth': 6, 'tree_method': 'gpu_hist'}\n",
    "])"
   ]
  },
  {
   "cell_type": "code",
   "execution_count": 22,
   "id": "81355a41-cedb-430f-88e2-fc0012501d80",
   "metadata": {},
   "outputs": [
    {
     "name": "stderr",
     "output_type": "stream",
     "text": [
      "100% (4 of 4) |##########################| Elapsed Time: 0:00:19 Time:  0:00:19\n"
     ]
    },
    {
     "data": {
      "text/html": [
       "<div>\n",
       "<style scoped>\n",
       "    .dataframe tbody tr th:only-of-type {\n",
       "        vertical-align: middle;\n",
       "    }\n",
       "\n",
       "    .dataframe tbody tr th {\n",
       "        vertical-align: top;\n",
       "    }\n",
       "\n",
       "    .dataframe thead th {\n",
       "        text-align: right;\n",
       "    }\n",
       "</style>\n",
       "<table border=\"1\" class=\"dataframe\">\n",
       "  <thead>\n",
       "    <tr style=\"text-align: right;\">\n",
       "      <th></th>\n",
       "      <th>max_depth</th>\n",
       "      <th>tree_method</th>\n",
       "      <th>f1</th>\n",
       "      <th>accuracy</th>\n",
       "      <th>precision</th>\n",
       "      <th>recall</th>\n",
       "    </tr>\n",
       "  </thead>\n",
       "  <tbody>\n",
       "    <tr>\n",
       "      <th>0</th>\n",
       "      <td>6</td>\n",
       "      <td>gpu_hist</td>\n",
       "      <td>0.975136</td>\n",
       "      <td>0.962270</td>\n",
       "      <td>0.951554</td>\n",
       "      <td>0.999917</td>\n",
       "    </tr>\n",
       "    <tr>\n",
       "      <th>0</th>\n",
       "      <td>10</td>\n",
       "      <td>gpu_hist</td>\n",
       "      <td>0.975143</td>\n",
       "      <td>0.962280</td>\n",
       "      <td>0.951548</td>\n",
       "      <td>0.999937</td>\n",
       "    </tr>\n",
       "    <tr>\n",
       "      <th>0</th>\n",
       "      <td>20</td>\n",
       "      <td>gpu_hist</td>\n",
       "      <td>0.975143</td>\n",
       "      <td>0.962280</td>\n",
       "      <td>0.951548</td>\n",
       "      <td>0.999937</td>\n",
       "    </tr>\n",
       "    <tr>\n",
       "      <th>0</th>\n",
       "      <td>1</td>\n",
       "      <td>gpu_hist</td>\n",
       "      <td>0.904465</td>\n",
       "      <td>0.844721</td>\n",
       "      <td>0.830139</td>\n",
       "      <td>0.993409</td>\n",
       "    </tr>\n",
       "  </tbody>\n",
       "</table>\n",
       "</div>"
      ],
      "text/plain": [
       "   max_depth tree_method        f1  accuracy  precision    recall\n",
       "0          6    gpu_hist  0.975136  0.962270   0.951554  0.999917\n",
       "0         10    gpu_hist  0.975143  0.962280   0.951548  0.999937\n",
       "0         20    gpu_hist  0.975143  0.962280   0.951548  0.999937\n",
       "0          1    gpu_hist  0.904465  0.844721   0.830139  0.993409"
      ]
     },
     "metadata": {},
     "output_type": "display_data"
    }
   ],
   "source": [
    "xgb_grid_search(params_list = [\n",
    "    {'max_depth': 1, 'tree_method': 'gpu_hist'},\n",
    "    {'max_depth': 6, 'tree_method': 'gpu_hist'},\n",
    "    {'max_depth': 10, 'tree_method': 'gpu_hist'},\n",
    "    {'max_depth': 20, 'tree_method': 'gpu_hist'}      # error when > 20 (memory)\n",
    "])"
   ]
  },
  {
   "cell_type": "code",
   "execution_count": 26,
   "id": "6fddb0aa-870b-49bf-9a6c-31ff4e887268",
   "metadata": {},
   "outputs": [
    {
     "name": "stderr",
     "output_type": "stream",
     "text": [
      "100% (4 of 4) |##########################| Elapsed Time: 0:00:19 Time:  0:00:19\n"
     ]
    },
    {
     "data": {
      "text/html": [
       "<div>\n",
       "<style scoped>\n",
       "    .dataframe tbody tr th:only-of-type {\n",
       "        vertical-align: middle;\n",
       "    }\n",
       "\n",
       "    .dataframe tbody tr th {\n",
       "        vertical-align: top;\n",
       "    }\n",
       "\n",
       "    .dataframe thead th {\n",
       "        text-align: right;\n",
       "    }\n",
       "</style>\n",
       "<table border=\"1\" class=\"dataframe\">\n",
       "  <thead>\n",
       "    <tr style=\"text-align: right;\">\n",
       "      <th></th>\n",
       "      <th>min_child_weight</th>\n",
       "      <th>max_depth</th>\n",
       "      <th>tree_method</th>\n",
       "      <th>f1</th>\n",
       "      <th>accuracy</th>\n",
       "      <th>precision</th>\n",
       "      <th>recall</th>\n",
       "    </tr>\n",
       "  </thead>\n",
       "  <tbody>\n",
       "    <tr>\n",
       "      <th>0</th>\n",
       "      <td>10.0</td>\n",
       "      <td>6</td>\n",
       "      <td>gpu_hist</td>\n",
       "      <td>0.975071</td>\n",
       "      <td>0.962169</td>\n",
       "      <td>0.951429</td>\n",
       "      <td>0.999918</td>\n",
       "    </tr>\n",
       "    <tr>\n",
       "      <th>0</th>\n",
       "      <td>0.0</td>\n",
       "      <td>6</td>\n",
       "      <td>gpu_hist</td>\n",
       "      <td>0.975073</td>\n",
       "      <td>0.962171</td>\n",
       "      <td>0.951427</td>\n",
       "      <td>0.999923</td>\n",
       "    </tr>\n",
       "    <tr>\n",
       "      <th>0</th>\n",
       "      <td>0.1</td>\n",
       "      <td>6</td>\n",
       "      <td>gpu_hist</td>\n",
       "      <td>0.975073</td>\n",
       "      <td>0.962171</td>\n",
       "      <td>0.951427</td>\n",
       "      <td>0.999923</td>\n",
       "    </tr>\n",
       "    <tr>\n",
       "      <th>0</th>\n",
       "      <td>1.0</td>\n",
       "      <td>6</td>\n",
       "      <td>gpu_hist</td>\n",
       "      <td>0.975073</td>\n",
       "      <td>0.962171</td>\n",
       "      <td>0.951427</td>\n",
       "      <td>0.999923</td>\n",
       "    </tr>\n",
       "  </tbody>\n",
       "</table>\n",
       "</div>"
      ],
      "text/plain": [
       "   min_child_weight  max_depth tree_method        f1  accuracy  precision  \\\n",
       "0              10.0          6    gpu_hist  0.975071  0.962169   0.951429   \n",
       "0               0.0          6    gpu_hist  0.975073  0.962171   0.951427   \n",
       "0               0.1          6    gpu_hist  0.975073  0.962171   0.951427   \n",
       "0               1.0          6    gpu_hist  0.975073  0.962171   0.951427   \n",
       "\n",
       "     recall  \n",
       "0  0.999918  \n",
       "0  0.999923  \n",
       "0  0.999923  \n",
       "0  0.999923  "
      ]
     },
     "metadata": {},
     "output_type": "display_data"
    }
   ],
   "source": [
    "xgb_grid_search(params_list = [\n",
    "    {'min_child_weight': 0, 'max_depth': 6, 'tree_method': 'gpu_hist'},\n",
    "    {'min_child_weight': 0.1, 'max_depth': 6, 'tree_method': 'gpu_hist'},\n",
    "    {'min_child_weight': 1, 'max_depth': 6, 'tree_method': 'gpu_hist'},        # default\n",
    "    {'min_child_weight': 10, 'max_depth': 6, 'tree_method': 'gpu_hist'}\n",
    "])"
   ]
  },
  {
   "cell_type": "code",
   "execution_count": 26,
   "id": "d1277f8a-1053-4ea5-b7c3-d6061829c101",
   "metadata": {},
   "outputs": [
    {
     "name": "stderr",
     "output_type": "stream",
     "text": [
      "100% (6 of 6) |##########################| Elapsed Time: 0:00:31 Time:  0:00:31\n"
     ]
    },
    {
     "data": {
      "text/html": [
       "<div>\n",
       "<style scoped>\n",
       "    .dataframe tbody tr th:only-of-type {\n",
       "        vertical-align: middle;\n",
       "    }\n",
       "\n",
       "    .dataframe tbody tr th {\n",
       "        vertical-align: top;\n",
       "    }\n",
       "\n",
       "    .dataframe thead th {\n",
       "        text-align: right;\n",
       "    }\n",
       "</style>\n",
       "<table border=\"1\" class=\"dataframe\">\n",
       "  <thead>\n",
       "    <tr style=\"text-align: right;\">\n",
       "      <th></th>\n",
       "      <th>scale_pos_weight</th>\n",
       "      <th>tree_method</th>\n",
       "      <th>f1</th>\n",
       "      <th>accuracy</th>\n",
       "      <th>precision</th>\n",
       "      <th>recall</th>\n",
       "    </tr>\n",
       "  </thead>\n",
       "  <tbody>\n",
       "    <tr>\n",
       "      <th>0</th>\n",
       "      <td>0.3</td>\n",
       "      <td>gpu_hist</td>\n",
       "      <td>0.975099</td>\n",
       "      <td>0.962213</td>\n",
       "      <td>0.951478</td>\n",
       "      <td>0.999924</td>\n",
       "    </tr>\n",
       "    <tr>\n",
       "      <th>0</th>\n",
       "      <td>0.5</td>\n",
       "      <td>gpu_hist</td>\n",
       "      <td>0.975099</td>\n",
       "      <td>0.962213</td>\n",
       "      <td>0.951478</td>\n",
       "      <td>0.999924</td>\n",
       "    </tr>\n",
       "    <tr>\n",
       "      <th>0</th>\n",
       "      <td>0.1</td>\n",
       "      <td>gpu_hist</td>\n",
       "      <td>0.975097</td>\n",
       "      <td>0.962209</td>\n",
       "      <td>0.951477</td>\n",
       "      <td>0.999918</td>\n",
       "    </tr>\n",
       "    <tr>\n",
       "      <th>0</th>\n",
       "      <td>1.0</td>\n",
       "      <td>gpu_hist</td>\n",
       "      <td>0.975096</td>\n",
       "      <td>0.962207</td>\n",
       "      <td>0.951476</td>\n",
       "      <td>0.999917</td>\n",
       "    </tr>\n",
       "    <tr>\n",
       "      <th>0</th>\n",
       "      <td>1.5</td>\n",
       "      <td>gpu_hist</td>\n",
       "      <td>0.975096</td>\n",
       "      <td>0.962207</td>\n",
       "      <td>0.951476</td>\n",
       "      <td>0.999917</td>\n",
       "    </tr>\n",
       "    <tr>\n",
       "      <th>0</th>\n",
       "      <td>2.0</td>\n",
       "      <td>gpu_hist</td>\n",
       "      <td>0.975096</td>\n",
       "      <td>0.962207</td>\n",
       "      <td>0.951468</td>\n",
       "      <td>0.999927</td>\n",
       "    </tr>\n",
       "  </tbody>\n",
       "</table>\n",
       "</div>"
      ],
      "text/plain": [
       "   scale_pos_weight tree_method        f1  accuracy  precision    recall\n",
       "0               0.3    gpu_hist  0.975099  0.962213   0.951478  0.999924\n",
       "0               0.5    gpu_hist  0.975099  0.962213   0.951478  0.999924\n",
       "0               0.1    gpu_hist  0.975097  0.962209   0.951477  0.999918\n",
       "0               1.0    gpu_hist  0.975096  0.962207   0.951476  0.999917\n",
       "0               1.5    gpu_hist  0.975096  0.962207   0.951476  0.999917\n",
       "0               2.0    gpu_hist  0.975096  0.962207   0.951468  0.999927"
      ]
     },
     "metadata": {},
     "output_type": "display_data"
    }
   ],
   "source": [
    "xgb_grid_search(params_list = [\n",
    "    {'scale_pos_weight': 0.1, 'tree_method': 'gpu_hist'},\n",
    "    {'scale_pos_weight': 0.3, 'tree_method': 'gpu_hist'},\n",
    "    {'scale_pos_weight': 0.5, 'tree_method': 'gpu_hist'},        \n",
    "    {'scale_pos_weight': 1, 'tree_method': 'gpu_hist'},        # default \n",
    "    {'scale_pos_weight': 1.5, 'tree_method': 'gpu_hist'},\n",
    "    {'scale_pos_weight': 2, 'tree_method': 'gpu_hist'}\n",
    "])"
   ]
  },
  {
   "cell_type": "code",
   "execution_count": 27,
   "id": "8b20ffaf-70c3-4993-a569-cc90de2d4dad",
   "metadata": {},
   "outputs": [],
   "source": [
    "best_params = {'eta': 0.3, 'gamma': 0, 'max_depth': 6, 'min_child_weight': 0, 'scale_pos_weight': 0.3, 'tree_method': 'gpu_hist'}"
   ]
  },
  {
   "cell_type": "code",
   "execution_count": 28,
   "id": "1e2f974a-0fb2-4bb0-9209-655a5124f796",
   "metadata": {},
   "outputs": [],
   "source": [
    "model_xgb = xgb.train(best_params, train)"
   ]
  },
  {
   "cell_type": "code",
   "execution_count": 29,
   "id": "28ddfa9b-2b20-4ff8-92e9-9b90b886a8a5",
   "metadata": {},
   "outputs": [],
   "source": [
    "y_pred = model_xgb.predict(xgb.DMatrix(X_test)).round()"
   ]
  },
  {
   "cell_type": "code",
   "execution_count": 30,
   "id": "68fff264-ffe2-4f53-b7d6-f64909cfa1f5",
   "metadata": {},
   "outputs": [
    {
     "name": "stdout",
     "output_type": "stream",
     "text": [
      "F1 = 0.9750996453010087\n",
      "Accuracy = 0.9622133984138398\n",
      "Precision = 0.951477693723668\n",
      "Recall = 0.9999243627200123 \n",
      "\n"
     ]
    },
    {
     "data": {
      "image/png": "[encoded data removed]",
      "text/plain": [
       "<Figure size 432x288 with 2 Axes>"
      ]
     },
     "metadata": {
      "needs_background": "light"
     },
     "output_type": "display_data"
    }
   ],
   "source": [
    "print(f'F1 =', f1_score(y_test, y_pred))\n",
    "print(f'Accuracy =', accuracy_score(y_test, y_pred))\n",
    "print(f'Precision =', precision_score(y_test, y_pred))\n",
    "print(f'Recall =', recall_score(y_test, y_pred), '\\n')\n",
    "display(plot_confusion_matrix(y_test, y_pred))"
   ]
  },
  {
   "cell_type": "code",
   "execution_count": 48,
   "id": "dc987365-af1f-4582-8d7c-50275802b026",
   "metadata": {},
   "outputs": [
    {
     "data": {
      "text/plain": [
       "<sklearn.metrics._plot.roc_curve.RocCurveDisplay at 0x1a3c6c162b0>"
      ]
     },
     "execution_count": 48,
     "metadata": {},
     "output_type": "execute_result"
    },
    {
     "data": {
      "image/png": "[encoded data removed]",
      "text/plain": [
       "<Figure size 432x288 with 1 Axes>"
      ]
     },
     "metadata": {
      "needs_background": "light"
     },
     "output_type": "display_data"
    }
   ],
   "source": [
    "plot_roc(y_test, model_xgb.predict(xgb.DMatrix(X_test)))"
   ]
  },
  {
   "cell_type": "markdown",
   "id": "0fe44e0b-6387-4cbf-bdbf-cbaad0155f2b",
   "metadata": {},
   "source": [
    "---"
   ]
  },
  {
   "cell_type": "code",
   "execution_count": 71,
   "id": "b0ed9f53-e8eb-4e0d-b780-77dd05dbcec1",
   "metadata": {},
   "outputs": [],
   "source": [
    "models = {'rf': model_rf, 'gb': model_gb, 'xgb': model_xgb}\n",
    "pred_funcs = {\n",
    "    'rf': model_rf.predict,\n",
    "    'gb': model_gb.predict,\n",
    "    'xgb': lambda X_test: model_xgb.predict(xgb.DMatrix(X_test)).round()\n",
    "}\n",
    "res = {model_name: {'tp': 0, 'tn': 0, 'fp': 0, 'fn': 0} for model_name in models}\n",
    "total_obs = 0"
   ]
  },
  {
   "cell_type": "code",
   "execution_count": 72,
   "id": "be09f915-f339-4255-ba0e-9fe8ce1ef1c7",
   "metadata": {},
   "outputs": [
    {
     "name": "stderr",
     "output_type": "stream",
     "text": [
      "N/A% (0 of 35) |                         | Elapsed Time: 0:00:00 ETA:  --:--:--"
     ]
    },
    {
     "name": "stdout",
     "output_type": "stream",
     "text": [
      "running dataset/shuffled/part_31\n",
      "distrib: 0.8846232078959143\n"
     ]
    },
    {
     "name": "stderr",
     "output_type": "stream",
     "text": [
      "  2% (1 of 35) |                         | Elapsed Time: 0:00:46 ETA:   0:26:07"
     ]
    },
    {
     "name": "stdout",
     "output_type": "stream",
     "text": [
      "total_obs=8023390\n",
      "{'rf': {'tp': 6595472, 'tn': 4852, 'fp': 920861, 'fn': 502205}, 'gb': {'tp': 6596952, 'tn': 4704, 'fp': 921009, 'fn': 500725}, 'xgb': {'tp': 6575987, 'tn': 4887, 'fp': 920826, 'fn': 521690}}\n",
      "running dataset/shuffled/part_16\n",
      "distrib: 0.9947733052266948\n"
     ]
    },
    {
     "name": "stderr",
     "output_type": "stream",
     "text": [
      "  5% (2 of 35) |#                        | Elapsed Time: 0:01:43 ETA:   0:31:30"
     ]
    },
    {
     "name": "stdout",
     "output_type": "stream",
     "text": [
      "total_obs=18023400\n",
      "{'rf': {'tp': 16542975, 'tn': 6461, 'fp': 971519, 'fn': 502445}, 'gb': {'tp': 16544439, 'tn': 6203, 'fp': 971777, 'fn': 500981}, 'xgb': {'tp': 15523904, 'tn': 7081, 'fp': 970899, 'fn': 1521516}}\n",
      "running dataset/shuffled/part_34\n",
      "distrib: 0.8256905455599589\n"
     ]
    },
    {
     "name": "stderr",
     "output_type": "stream",
     "text": [
      "  8% (3 of 35) |##                       | Elapsed Time: 0:02:35 ETA:   0:27:47"
     ]
    },
    {
     "name": "stdout",
     "output_type": "stream",
     "text": [
      "total_obs=27033812\n",
      "{'rf': {'tp': 23980309, 'tn': 317466, 'fp': 2231114, 'fn': 504923}, 'gb': {'tp': 23981733, 'tn': 317354, 'fp': 2231226, 'fn': 503499}, 'xgb': {'tp': 22955003, 'tn': 629767, 'fp': 1918813, 'fn': 1530229}}\n",
      "running dataset/shuffled/part_32\n",
      "distrib: 0.9045593954406046\n"
     ]
    },
    {
     "name": "stderr",
     "output_type": "stream",
     "text": [
      " 11% (4 of 35) |##                       | Elapsed Time: 0:03:31 ETA:   0:29:07"
     ]
    },
    {
     "name": "stdout",
     "output_type": "stream",
     "text": [
      "total_obs=37033822\n",
      "{'rf': {'tp': 33025202, 'tn': 320521, 'fp': 3182466, 'fn': 505633}, 'gb': {'tp': 33023531, 'tn': 320185, 'fp': 3182802, 'fn': 507304}, 'xgb': {'tp': 31999908, 'tn': 632802, 'fp': 2870185, 'fn': 1530927}}\n",
      "running dataset/shuffled/part_18\n",
      "distrib: 0.8954972544261396\n"
     ]
    },
    {
     "name": "stderr",
     "output_type": "stream",
     "text": [
      " 14% (5 of 35) |###                      | Elapsed Time: 0:04:22 ETA:   0:25:15"
     ]
    },
    {
     "name": "stdout",
     "output_type": "stream",
     "text": [
      "total_obs=46037040\n",
      "{'rf': {'tp': 41085665, 'tn': 326682, 'fp': 4117166, 'fn': 507527}, 'gb': {'tp': 41083971, 'tn': 326150, 'fp': 4117698, 'fn': 509221}, 'xgb': {'tp': 40060258, 'tn': 638954, 'fp': 3804894, 'fn': 1532934}}\n",
      "running dataset/shuffled/part_21\n",
      "distrib: 0.9661127338872662\n"
     ]
    },
    {
     "name": "stderr",
     "output_type": "stream",
     "text": [
      " 17% (6 of 35) |####                     | Elapsed Time: 0:05:18 ETA:   0:27:07"
     ]
    },
    {
     "name": "stdout",
     "output_type": "stream",
     "text": [
      "total_obs=56037050\n",
      "{'rf': {'tp': 50746188, 'tn': 333039, 'fp': 4449682, 'fn': 508141}, 'gb': {'tp': 50744486, 'tn': 332345, 'fp': 4450376, 'fn': 509843}, 'xgb': {'tp': 49720692, 'tn': 645244, 'fp': 4137477, 'fn': 1533637}}\n",
      "running dataset/shuffled/part_29\n",
      "distrib: 0.9312561678807592\n"
     ]
    },
    {
     "name": "stderr",
     "output_type": "stream",
     "text": [
      " 20% (7 of 35) |#####                    | Elapsed Time: 0:06:09 ETA:   0:23:35"
     ]
    },
    {
     "name": "stdout",
     "output_type": "stream",
     "text": [
      "total_obs=65040345\n",
      "{'rf': {'tp': 59129873, 'tn': 339996, 'fp': 5061646, 'fn': 508830}, 'gb': {'tp': 59128145, 'tn': 339171, 'fp': 5062471, 'fn': 510558}, 'xgb': {'tp': 58104342, 'tn': 652127, 'fp': 4749515, 'fn': 1534361}}\n",
      "running dataset/shuffled/part_28\n",
      "distrib: 0.9591060408939591\n"
     ]
    },
    {
     "name": "stderr",
     "output_type": "stream",
     "text": [
      " 22% (8 of 35) |#####                    | Elapsed Time: 0:07:05 ETA:   0:25:20"
     ]
    },
    {
     "name": "stdout",
     "output_type": "stream",
     "text": [
      "total_obs=75040355\n",
      "{'rf': {'tp': 68720089, 'tn': 343145, 'fp': 5467437, 'fn': 509684}, 'gb': {'tp': 68718305, 'tn': 342089, 'fp': 5468493, 'fn': 511468}, 'xgb': {'tp': 67694318, 'tn': 655269, 'fp': 5155313, 'fn': 1535455}}\n",
      "running dataset/shuffled/part_30\n",
      "distrib: 0.8999579000421\n"
     ]
    },
    {
     "name": "stderr",
     "output_type": "stream",
     "text": [
      " 25% (9 of 35) |######                   | Elapsed Time: 0:08:02 ETA:   0:24:56"
     ]
    },
    {
     "name": "stdout",
     "output_type": "stream",
     "text": [
      "total_obs=85040365\n",
      "{'rf': {'tp': 77155905, 'tn': 345999, 'fp': 6465005, 'fn': 1073456}, 'gb': {'tp': 77153985, 'tn': 344837, 'fp': 6466167, 'fn': 1075376}, 'xgb': {'tp': 76123858, 'tn': 658117, 'fp': 6152887, 'fn': 2105503}}\n",
      "running dataset/shuffled/part_33\n",
      "distrib: 0.8191319751771953\n"
     ]
    },
    {
     "name": "stderr",
     "output_type": "stream",
     "text": [
      " 28% (10 of 35) |######                  | Elapsed Time: 0:08:49 ETA:   0:19:25"
     ]
    },
    {
     "name": "stdout",
     "output_type": "stream",
     "text": [
      "total_obs=93057509\n",
      "{'rf': {'tp': 83720697, 'tn': 1067605, 'fp': 7193444, 'fn': 1075763}, 'gb': {'tp': 83718823, 'tn': 1066324, 'fp': 7194725, 'fn': 1077637}, 'xgb': {'tp': 82687916, 'tn': 2107948, 'fp': 6153101, 'fn': 2108544}}\n",
      "running dataset/shuffled/part_9\n",
      "distrib: 0.872955427044573\n"
     ]
    },
    {
     "name": "stderr",
     "output_type": "stream",
     "text": [
      " 31% (11 of 35) |#######                 | Elapsed Time: 0:09:45 ETA:   0:22:30"
     ]
    },
    {
     "name": "stdout",
     "output_type": "stream",
     "text": [
      "total_obs=103057519\n",
      "{'rf': {'tp': 92449783, 'tn': 1069051, 'fp': 8462445, 'fn': 1076240}, 'gb': {'tp': 92447830, 'tn': 1067656, 'fp': 8463840, 'fn': 1078193}, 'xgb': {'tp': 91416822, 'tn': 2109381, 'fp': 7422115, 'fn': 2109201}}\n",
      "running dataset/shuffled/part_8\n",
      "distrib: 0.7493422963239781\n"
     ]
    },
    {
     "name": "stderr",
     "output_type": "stream",
     "text": [
      " 34% (12 of 35) |########                | Elapsed Time: 0:10:36 ETA:   0:19:36"
     ]
    },
    {
     "name": "stdout",
     "output_type": "stream",
     "text": [
      "total_obs=112061954\n",
      "{'rf': {'tp': 99196780, 'tn': 1570083, 'fp': 10218444, 'fn': 1076647}, 'gb': {'tp': 99191732, 'tn': 1569160, 'fp': 10219367, 'fn': 1081695}, 'xgb': {'tp': 98163777, 'tn': 3114185, 'fp': 8674342, 'fn': 2109650}}\n",
      "running dataset/shuffled/part_23\n",
      "distrib: 0.8748351251648748\n"
     ]
    },
    {
     "name": "stderr",
     "output_type": "stream",
     "text": [
      " 37% (13 of 35) |########                | Elapsed Time: 0:11:33 ETA:   0:20:32"
     ]
    },
    {
     "name": "stdout",
     "output_type": "stream",
     "text": [
      "total_obs=122061964\n",
      "{'rf': {'tp': 107944532, 'tn': 1572165, 'fp': 11468012, 'fn': 1077255}, 'gb': {'tp': 107939410, 'tn': 1571016, 'fp': 11469161, 'fn': 1082377}, 'xgb': {'tp': 106911441, 'tn': 3116257, 'fp': 9923920, 'fn': 2110346}}\n",
      "running dataset/shuffled/part_5\n",
      "distrib: 0.8668877784334915\n"
     ]
    },
    {
     "name": "stderr",
     "output_type": "stream",
     "text": [
      " 40% (14 of 35) |#########               | Elapsed Time: 0:12:25 ETA:   0:18:31"
     ]
    },
    {
     "name": "stdout",
     "output_type": "stream",
     "text": [
      "total_obs=131456308\n",
      "{'rf': {'tp': 115891287, 'tn': 1573834, 'fp': 12716845, 'fn': 1274342}, 'gb': {'tp': 115886046, 'tn': 1572585, 'fp': 12718094, 'fn': 1279583}, 'xgb': {'tp': 114855421, 'tn': 3117920, 'fp': 11172759, 'fn': 2310208}}\n",
      "running dataset/shuffled/part_14\n",
      "distrib: 0.906038093961906\n"
     ]
    },
    {
     "name": "stderr",
     "output_type": "stream",
     "text": [
      " 42% (15 of 35) |##########              | Elapsed Time: 0:13:22 ETA:   0:18:54"
     ]
    },
    {
     "name": "stdout",
     "output_type": "stream",
     "text": [
      "total_obs=141456318\n",
      "{'rf': {'tp': 124453802, 'tn': 1576083, 'fp': 13654216, 'fn': 1772217}, 'gb': {'tp': 124448455, 'tn': 1574761, 'fp': 13655538, 'fn': 1777564}, 'xgb': {'tp': 123412483, 'tn': 3120163, 'fp': 12110136, 'fn': 2813536}}\n",
      "running dataset/shuffled/part_26\n",
      "distrib: 0.8839383062838712\n"
     ]
    },
    {
     "name": "stderr",
     "output_type": "stream",
     "text": [
      " 45% (16 of 35) |##########              | Elapsed Time: 0:14:11 ETA:   0:15:29"
     ]
    },
    {
     "name": "stdout",
     "output_type": "stream",
     "text": [
      "total_obs=150232771\n",
      "{'rf': {'tp': 132209972, 'tn': 1577561, 'fp': 14671348, 'fn': 1773890}, 'gb': {'tp': 132204628, 'tn': 1576205, 'fp': 14672704, 'fn': 1779234}, 'xgb': {'tp': 131168062, 'tn': 3121640, 'fp': 13127269, 'fn': 2815800}}\n",
      "running dataset/shuffled/part_3\n",
      "distrib: 0.990500971701867\n"
     ]
    },
    {
     "name": "stderr",
     "output_type": "stream",
     "text": [
      " 48% (17 of 35) |###########             | Elapsed Time: 0:15:04 ETA:   0:15:50"
     ]
    },
    {
     "name": "stdout",
     "output_type": "stream",
     "text": [
      "total_obs=159687317\n",
      "{'rf': {'tp': 141571875, 'tn': 1580920, 'fp': 14757798, 'fn': 1776724}, 'gb': {'tp': 141566539, 'tn': 1579406, 'fp': 14759312, 'fn': 1782060}, 'xgb': {'tp': 140528958, 'tn': 3124993, 'fp': 13213725, 'fn': 2819641}}\n",
      "running dataset/shuffled/part_20\n",
      "distrib: 0.8796316077207247\n"
     ]
    },
    {
     "name": "stderr",
     "output_type": "stream",
     "text": [
      " 51% (18 of 35) |############            | Elapsed Time: 0:15:56 ETA:   0:14:37"
     ]
    },
    {
     "name": "stdout",
     "output_type": "stream",
     "text": [
      "total_obs=168688700\n",
      "{'rf': {'tp': 149304627, 'tn': 2022188, 'fp': 15400012, 'fn': 1961873}, 'gb': {'tp': 149302945, 'tn': 2020209, 'fp': 15401991, 'fn': 1963555}, 'xgb': {'tp': 147911593, 'tn': 3198662, 'fp': 14223538, 'fn': 3354907}}\n",
      "running dataset/shuffled/part_11\n",
      "distrib: 0.9590757409242591\n"
     ]
    },
    {
     "name": "stderr",
     "output_type": "stream",
     "text": [
      " 54% (19 of 35) |#############           | Elapsed Time: 0:16:53 ETA:   0:15:12"
     ]
    },
    {
     "name": "stdout",
     "output_type": "stream",
     "text": [
      "total_obs=178688710\n",
      "{'rf': {'tp': 158893802, 'tn': 2025512, 'fp': 15805931, 'fn': 1963465}, 'gb': {'tp': 158892113, 'tn': 2023302, 'fp': 15808141, 'fn': 1965154}, 'xgb': {'tp': 156501159, 'tn': 3202532, 'fp': 14628911, 'fn': 4356108}}\n",
      "running dataset/shuffled/part_27\n",
      "distrib: 0.7337409662590337\n"
     ]
    },
    {
     "name": "stderr",
     "output_type": "stream",
     "text": [
      " 57% (20 of 35) |#############           | Elapsed Time: 0:17:50 ETA:   0:14:21"
     ]
    },
    {
     "name": "stdout",
     "output_type": "stream",
     "text": [
      "total_obs=188688720\n",
      "{'rf': {'tp': 166188199, 'tn': 3067361, 'fp': 17426675, 'fn': 2006485}, 'gb': {'tp': 166186532, 'tn': 3067617, 'fp': 17426419, 'fn': 2008152}, 'xgb': {'tp': 163794703, 'tn': 5250612, 'fp': 15243424, 'fn': 4399981}}\n",
      "running dataset/shuffled/part_10\n",
      "distrib: 0.9965342276284956\n"
     ]
    },
    {
     "name": "stderr",
     "output_type": "stream",
     "text": [
      " 60% (21 of 35) |##############          | Elapsed Time: 0:18:42 ETA:   0:12:02"
     ]
    },
    {
     "name": "stdout",
     "output_type": "stream",
     "text": [
      "total_obs=197844832\n",
      "{'rf': {'tp': 175239522, 'tn': 3073998, 'fp': 17451771, 'fn': 2079541}, 'gb': {'tp': 175237771, 'tn': 3073844, 'fp': 17451925, 'fn': 2081292}, 'xgb': {'tp': 172770387, 'tn': 5257198, 'fp': 15268571, 'fn': 4548676}}\n",
      "running dataset/shuffled/part_6\n",
      "distrib: 0.7399189102885958\n"
     ]
    },
    {
     "name": "stderr",
     "output_type": "stream",
     "text": [
      " 62% (22 of 35) |###############         | Elapsed Time: 0:19:37 ETA:   0:11:59"
     ]
    },
    {
     "name": "stdout",
     "output_type": "stream",
     "text": [
      "total_obs=207255397\n",
      "{'rf': {'tp': 182202171, 'tn': 4113687, 'fp': 18859592, 'fn': 2079947}, 'gb': {'tp': 182199076, 'tn': 4115923, 'fp': 18857356, 'fn': 2083042}, 'xgb': {'tp': 179732881, 'tn': 7349722, 'fp': 15623557, 'fn': 4549237}}\n",
      "running dataset/shuffled/part_19\n",
      "distrib: 0.9594395735707536\n"
     ]
    },
    {
     "name": "stderr",
     "output_type": "stream",
     "text": [
      " 65% (23 of 35) |###############         | Elapsed Time: 0:20:24 ETA:   0:09:24"
     ]
    },
    {
     "name": "stdout",
     "output_type": "stream",
     "text": [
      "total_obs=215642439\n",
      "{'rf': {'tp': 190246349, 'tn': 4124739, 'fp': 19188722, 'fn': 2082629}, 'gb': {'tp': 190243236, 'tn': 4126754, 'fp': 19186707, 'fn': 2085742}, 'xgb': {'tp': 187773389, 'tn': 7357162, 'fp': 15956299, 'fn': 4555589}}\n",
      "running dataset/shuffled/part_15\n",
      "distrib: 0.9304872695127305\n"
     ]
    },
    {
     "name": "stderr",
     "output_type": "stream",
     "text": [
      " 68% (24 of 35) |################        | Elapsed Time: 0:21:20 ETA:   0:10:14"
     ]
    },
    {
     "name": "stdout",
     "output_type": "stream",
     "text": [
      "total_obs=225642449\n",
      "{'rf': {'tp': 199549614, 'tn': 4126338, 'fp': 19882251, 'fn': 2084246}, 'gb': {'tp': 199546475, 'tn': 4128268, 'fp': 19880321, 'fn': 2087385}, 'xgb': {'tp': 197075279, 'tn': 7358752, 'fp': 16649837, 'fn': 4558581}}\n",
      "running dataset/shuffled/part_7\n",
      "distrib: 0.8667358332641667\n"
     ]
    },
    {
     "name": "stderr",
     "output_type": "stream",
     "text": [
      " 71% (25 of 35) |#################       | Elapsed Time: 0:22:16 ETA:   0:09:24"
     ]
    },
    {
     "name": "stdout",
     "output_type": "stream",
     "text": [
      "total_obs=235642459\n",
      "{'rf': {'tp': 208215052, 'tn': 4626101, 'fp': 20715131, 'fn': 2086175}, 'gb': {'tp': 208211945, 'tn': 4628055, 'fp': 20713177, 'fn': 2089282}, 'xgb': {'tp': 205740512, 'tn': 8361086, 'fp': 16980146, 'fn': 4560715}}\n",
      "running dataset/shuffled/part_35\n",
      "distrib: 0.9747475252524748\n"
     ]
    },
    {
     "name": "stderr",
     "output_type": "stream",
     "text": [
      " 74% (26 of 35) |#################       | Elapsed Time: 0:22:28 ETA:   0:01:43"
     ]
    },
    {
     "name": "stdout",
     "output_type": "stream",
     "text": [
      "total_obs=237642461\n",
      "{'rf': {'tp': 210164415, 'tn': 4626701, 'fp': 20765036, 'fn': 2086309}, 'gb': {'tp': 210161294, 'tn': 4628632, 'fp': 20763105, 'fn': 2089430}, 'xgb': {'tp': 207689735, 'tn': 8361683, 'fp': 17030054, 'fn': 4560989}}\n",
      "running dataset/shuffled/part_4\n",
      "distrib: 0.9379483620516379\n"
     ]
    },
    {
     "name": "stderr",
     "output_type": "stream",
     "text": [
      " 77% (27 of 35) |##################      | Elapsed Time: 0:23:24 ETA:   0:07:31"
     ]
    },
    {
     "name": "stdout",
     "output_type": "stream",
     "text": [
      "total_obs=247642471\n",
      "{'rf': {'tp': 219541408, 'tn': 4633671, 'fp': 21378583, 'fn': 2088809}, 'gb': {'tp': 219538279, 'tn': 4635403, 'fp': 21376851, 'fn': 2091938}, 'xgb': {'tp': 217066402, 'tn': 8368608, 'fp': 17643646, 'fn': 4563815}}\n",
      "running dataset/shuffled/part_13\n",
      "distrib: 0.961571620267786\n"
     ]
    },
    {
     "name": "stderr",
     "output_type": "stream",
     "text": [
      " 80% (28 of 35) |###################     | Elapsed Time: 0:24:16 ETA:   0:06:04"
     ]
    },
    {
     "name": "stdout",
     "output_type": "stream",
     "text": [
      "total_obs=256947365\n",
      "{'rf': {'tp': 228487225, 'tn': 4636012, 'fp': 21733814, 'fn': 2090314}, 'gb': {'tp': 228484072, 'tn': 4637625, 'fp': 21732201, 'fn': 2093467}, 'xgb': {'tp': 226011169, 'tn': 8370941, 'fp': 17998885, 'fn': 4566370}}\n",
      "running dataset/shuffled/part_25\n",
      "distrib: 0.9620911379088621\n"
     ]
    },
    {
     "name": "stderr",
     "output_type": "stream",
     "text": [
      " 82% (29 of 35) |###################     | Elapsed Time: 0:25:13 ETA:   0:05:38"
     ]
    },
    {
     "name": "stdout",
     "output_type": "stream",
     "text": [
      "total_obs=266947375\n",
      "{'rf': {'tp': 238106386, 'tn': 4658417, 'fp': 22090498, 'fn': 2092074}, 'gb': {'tp': 238100230, 'tn': 4659918, 'fp': 22088997, 'fn': 2098230}, 'xgb': {'tp': 235630184, 'tn': 8393329, 'fp': 18355586, 'fn': 4568276}}\n",
      "running dataset/shuffled/part_1\n",
      "distrib: 0.9908448080635199\n"
     ]
    },
    {
     "name": "stderr",
     "output_type": "stream",
     "text": [
      " 85% (30 of 35) |####################    | Elapsed Time: 0:26:03 ETA:   0:04:12"
     ]
    },
    {
     "name": "stdout",
     "output_type": "stream",
     "text": [
      "total_obs=275947514\n",
      "{'rf': {'tp': 247022714, 'tn': 4665845, 'fp': 22165468, 'fn': 2093487}, 'gb': {'tp': 247010492, 'tn': 4667162, 'fp': 22164151, 'fn': 2105709}, 'xgb': {'tp': 244545731, 'tn': 8400752, 'fp': 18430561, 'fn': 4570470}}\n",
      "running dataset/shuffled/part_22\n",
      "distrib: 0.9227950761890626\n"
     ]
    },
    {
     "name": "stderr",
     "output_type": "stream",
     "text": [
      " 88% (31 of 35) |#####################   | Elapsed Time: 0:26:58 ETA:   0:03:38"
     ]
    },
    {
     "name": "stdout",
     "output_type": "stream",
     "text": [
      "total_obs=285528548\n",
      "{'rf': {'tp': 255861759, 'tn': 4669113, 'fp': 22901903, 'fn': 2095773}, 'gb': {'tp': 255849499, 'tn': 4670306, 'fp': 22900710, 'fn': 2108033}, 'xgb': {'tp': 252803733, 'tn': 8404325, 'fp': 19166691, 'fn': 5153799}}\n",
      "running dataset/shuffled/part_24\n",
      "distrib: 0.9689065310934689\n"
     ]
    },
    {
     "name": "stderr",
     "output_type": "stream",
     "text": [
      " 91% (32 of 35) |#####################   | Elapsed Time: 0:27:54 ETA:   0:02:48"
     ]
    },
    {
     "name": "stdout",
     "output_type": "stream",
     "text": [
      "total_obs=295528558\n",
      "{'rf': {'tp': 265548490, 'tn': 4674470, 'fp': 23207481, 'fn': 2098117}, 'gb': {'tp': 265536237, 'tn': 4675484, 'fp': 23206467, 'fn': 2110370}, 'xgb': {'tp': 262489803, 'tn': 8409618, 'fp': 19472333, 'fn': 5156804}}\n",
      "running dataset/shuffled/part_12\n",
      "distrib: 0.9945575097471029\n"
     ]
    },
    {
     "name": "stderr",
     "output_type": "stream",
     "text": [
      " 94% (33 of 35) |######################  | Elapsed Time: 0:28:50 ETA:   0:01:51"
     ]
    },
    {
     "name": "stdout",
     "output_type": "stream",
     "text": [
      "total_obs=305309926\n",
      "{'rf': {'tp': 275276054, 'tn': 4677045, 'fp': 23258141, 'fn': 2098686}, 'gb': {'tp': 275263790, 'tn': 4677850, 'fp': 23257336, 'fn': 2110950}, 'xgb': {'tp': 271217771, 'tn': 8412683, 'fp': 19522503, 'fn': 6156969}}\n",
      "running dataset/shuffled/part_17\n",
      "distrib: 0.8093635906364094\n"
     ]
    },
    {
     "name": "stderr",
     "output_type": "stream",
     "text": [
      " 97% (34 of 35) |####################### | Elapsed Time: 0:29:45 ETA:   0:00:55"
     ]
    },
    {
     "name": "stdout",
     "output_type": "stream",
     "text": [
      "total_obs=315309936\n",
      "{'rf': {'tp': 283369095, 'tn': 4678657, 'fp': 25162895, 'fn': 2099289}, 'gb': {'tp': 283356736, 'tn': 4679374, 'fp': 25162178, 'fn': 2111648}, 'xgb': {'tp': 279310643, 'tn': 8414285, 'fp': 21427267, 'fn': 6157741}}\n",
      "running dataset/shuffled/part_2\n",
      "distrib: 0.8980862019137981\n"
     ]
    },
    {
     "name": "stderr",
     "output_type": "stream",
     "text": [
      "100% (35 of 35) |########################| Elapsed Time: 0:30:43 Time:  0:30:43\n"
     ]
    },
    {
     "name": "stdout",
     "output_type": "stream",
     "text": [
      "total_obs=325309946\n",
      "{'rf': {'tp': 292349629, 'tn': 4731923, 'fp': 26128768, 'fn': 2099626}, 'gb': {'tp': 292337226, 'tn': 4732509, 'fp': 26128182, 'fn': 2112029}, 'xgb': {'tp': 288291127, 'tn': 8519736, 'fp': 22340955, 'fn': 6158128}}\n"
     ]
    }
   ],
   "source": [
    "for file in progressbar(shuffled_files):\n",
    "    print(f'running {file}')\n",
    "    df = pd.read_parquet(file)\n",
    "    df = df.fillna(0)\n",
    "    X = df[[i for i in df.columns if not i == 'label']]\n",
    "    y = df[['label']]\n",
    "    print('distrib:', check_distrib(y))\n",
    "    total_obs += len(y)\n",
    "    for model_name, model in models.items():\n",
    "        y_pred = pred_funcs[model_name](X)\n",
    "        aux = y.reset_index(drop=True).join(pd.DataFrame(data={'predicted': y_pred}).applymap(int))\n",
    "        res[model_name]['tp'] += len(aux[(aux['label'] == 1) & (aux['predicted'] == 1)])\n",
    "        res[model_name]['tn'] += len(aux[(aux['label'] == 0) & (aux['predicted'] == 0)])\n",
    "        res[model_name]['fp'] += len(aux[(aux['label'] == 0) & (aux['predicted'] == 1)])\n",
    "        res[model_name]['fn'] += len(aux[(aux['label'] == 1) & (aux['predicted'] == 0)])\n",
    "    \n",
    "    print(f'total_obs={total_obs}')\n",
    "    print(res)"
   ]
  },
  {
   "cell_type": "code",
   "execution_count": 73,
   "id": "f24d3e12-f7e1-497a-a98e-4ef02c2885e0",
   "metadata": {},
   "outputs": [
    {
     "data": {
      "text/plain": [
       "{'rf': {'tp': 292349629, 'tn': 4731923, 'fp': 26128768, 'fn': 2099626},\n",
       " 'gb': {'tp': 292337226, 'tn': 4732509, 'fp': 26128182, 'fn': 2112029},\n",
       " 'xgb': {'tp': 288291127, 'tn': 8519736, 'fp': 22340955, 'fn': 6158128}}"
      ]
     },
     "execution_count": 73,
     "metadata": {},
     "output_type": "execute_result"
    }
   ],
   "source": [
    "res"
   ]
  },
  {
   "cell_type": "code",
   "execution_count": 74,
   "id": "940796a4-81e8-4d0f-b86f-95ad88d57111",
   "metadata": {},
   "outputs": [
    {
     "data": {
      "text/plain": [
       "325309946"
      ]
     },
     "execution_count": 74,
     "metadata": {},
     "output_type": "execute_result"
    }
   ],
   "source": [
    "total_obs"
   ]
  },
  {
   "cell_type": "code",
   "execution_count": 75,
   "id": "bf6810d9-92e7-4806-9197-03ef42715f71",
   "metadata": {},
   "outputs": [],
   "source": [
    "for model_name, model_res in res.items():\n",
    "    total_res = sum([value for key, value in model_res.items()])\n",
    "    assert total_obs == total_res, f'Error in {model_name}'"
   ]
  },
  {
   "cell_type": "code",
   "execution_count": 76,
   "id": "26837142-5d1a-4458-8fa5-4eb1d00cc6f8",
   "metadata": {},
   "outputs": [],
   "source": [
    "for model_name, model_res in res.items():\n",
    "    res[model_name]['accuracy'] = (res[model_name]['tp'] + res[model_name]['tn']) / total_obs\n",
    "    res[model_name]['precision'] = res[model_name]['tp'] / (res[model_name]['tp'] + res[model_name]['fp'])\n",
    "    res[model_name]['recall'] = res[model_name]['tp'] / (res[model_name]['tp'] + res[model_name]['fn'])\n",
    "    res[model_name]['f1'] = (2 * res[model_name]['precision'] * res[model_name]['recall']) / (res[model_name]['precision'] + res[model_name]['recall'])"
   ]
  },
  {
   "cell_type": "code",
   "execution_count": 80,
   "id": "6cfd7a31-a751-4a07-8cc8-0f010ecf8720",
   "metadata": {},
   "outputs": [
    {
     "data": {
      "text/html": [
       "<div>\n",
       "<style scoped>\n",
       "    .dataframe tbody tr th:only-of-type {\n",
       "        vertical-align: middle;\n",
       "    }\n",
       "\n",
       "    .dataframe tbody tr th {\n",
       "        vertical-align: top;\n",
       "    }\n",
       "\n",
       "    .dataframe thead th {\n",
       "        text-align: right;\n",
       "    }\n",
       "</style>\n",
       "<table border=\"1\" class=\"dataframe\">\n",
       "  <thead>\n",
       "    <tr style=\"text-align: right;\">\n",
       "      <th></th>\n",
       "      <th>accuracy</th>\n",
       "      <th>precision</th>\n",
       "      <th>recall</th>\n",
       "      <th>f1</th>\n",
       "    </tr>\n",
       "  </thead>\n",
       "  <tbody>\n",
       "    <tr>\n",
       "      <th>rf</th>\n",
       "      <td>0.913226</td>\n",
       "      <td>0.917957</td>\n",
       "      <td>0.992869</td>\n",
       "      <td>0.953945</td>\n",
       "    </tr>\n",
       "    <tr>\n",
       "      <th>gb</th>\n",
       "      <td>0.913190</td>\n",
       "      <td>0.917956</td>\n",
       "      <td>0.992827</td>\n",
       "      <td>0.953925</td>\n",
       "    </tr>\n",
       "    <tr>\n",
       "      <th>xgb</th>\n",
       "      <td>0.912394</td>\n",
       "      <td>0.928079</td>\n",
       "      <td>0.979086</td>\n",
       "      <td>0.952900</td>\n",
       "    </tr>\n",
       "  </tbody>\n",
       "</table>\n",
       "</div>"
      ],
      "text/plain": [
       "     accuracy  precision    recall        f1\n",
       "rf   0.913226   0.917957  0.992869  0.953945\n",
       "gb   0.913190   0.917956  0.992827  0.953925\n",
       "xgb  0.912394   0.928079  0.979086  0.952900"
      ]
     },
     "execution_count": 80,
     "metadata": {},
     "output_type": "execute_result"
    }
   ],
   "source": [
    "pd.DataFrame(res).T[['accuracy', 'precision', 'recall', 'f1']]"
   ]
  },
  {
   "cell_type": "markdown",
   "id": "f738454c-8568-4741-af19-ff2e3d57feeb",
   "metadata": {},
   "source": [
    "#### XGB confusion matrix"
   ]
  },
  {
   "cell_type": "code",
   "execution_count": 25,
   "id": "a32348a8-cd5e-483b-902e-13106ebebb69",
   "metadata": {},
   "outputs": [
    {
     "data": {
      "application/vnd.plotly.v1+json": {
       "config": {
        "plotlyServerURL": "https://plot.ly"
       },
       "data": [
        {
         "colorscale": [
          [
           0,
           "#440154"
          ],
          [
           0.1111111111111111,
           "#482878"
          ],
          [
           0.2222222222222222,
           "#3e4989"
          ],
          [
           0.3333333333333333,
           "#31688e"
          ],
          [
           0.4444444444444444,
           "#26828e"
          ],
          [
           0.5555555555555556,
           "#1f9e89"
          ],
          [
           0.6666666666666666,
           "#35b779"
          ],
          [
           0.7777777777777778,
           "#6ece58"
          ],
          [
           0.8888888888888888,
           "#b5de2b"
          ],
          [
           1,
           "#fde725"
          ]
         ],
         "reversescale": false,
         "showscale": false,
         "type": "heatmap",
         "x": [
          "0",
          "1"
         ],
         "y": [
          "0",
          "1"
         ],
         "z": [
          [
           8519736,
           22340955
          ],
          [
           6158128,
           288291127
          ]
         ]
        }
       ],
       "layout": {
        "annotations": [
         {
          "font": {
           "color": "#FFFFFF"
          },
          "showarrow": false,
          "text": "8519736",
          "x": "0",
          "xref": "x",
          "y": "0",
          "yref": "y"
         },
         {
          "font": {
           "color": "#FFFFFF"
          },
          "showarrow": false,
          "text": "22340955",
          "x": "1",
          "xref": "x",
          "y": "0",
          "yref": "y"
         },
         {
          "font": {
           "color": "#FFFFFF"
          },
          "showarrow": false,
          "text": "6158128",
          "x": "0",
          "xref": "x",
          "y": "1",
          "yref": "y"
         },
         {
          "font": {
           "color": "#000000"
          },
          "showarrow": false,
          "text": "288291127",
          "x": "1",
          "xref": "x",
          "y": "1",
          "yref": "y"
         }
        ],
        "grid": {
         "xside": "bottom"
        },
        "height": 600,
        "template": {
         "data": {
          "bar": [
           {
            "error_x": {
             "color": "#2a3f5f"
            },
            "error_y": {
             "color": "#2a3f5f"
            },
            "marker": {
             "line": {
              "color": "#E5ECF6",
              "width": 0.5
             },
             "pattern": {
              "fillmode": "overlay",
              "size": 10,
              "solidity": 0.2
             }
            },
            "type": "bar"
           }
          ],
          "barpolar": [
           {
            "marker": {
             "line": {
              "color": "#E5ECF6",
              "width": 0.5
             },
             "pattern": {
              "fillmode": "overlay",
              "size": 10,
              "solidity": 0.2
             }
            },
            "type": "barpolar"
           }
          ],
          "carpet": [
           {
            "aaxis": {
             "endlinecolor": "#2a3f5f",
             "gridcolor": "white",
             "linecolor": "white",
             "minorgridcolor": "white",
             "startlinecolor": "#2a3f5f"
            },
            "baxis": {
             "endlinecolor": "#2a3f5f",
             "gridcolor": "white",
             "linecolor": "white",
             "minorgridcolor": "white",
             "startlinecolor": "#2a3f5f"
            },
            "type": "carpet"
           }
          ],
          "choropleth": [
           {
            "colorbar": {
             "outlinewidth": 0,
             "ticks": ""
            },
            "type": "choropleth"
           }
          ],
          "contour": [
           {
            "colorbar": {
             "outlinewidth": 0,
             "ticks": ""
            },
            "colorscale": [
             [
              0,
              "#0d0887"
             ],
             [
              0.1111111111111111,
              "#46039f"
             ],
             [
              0.2222222222222222,
              "#7201a8"
             ],
             [
              0.3333333333333333,
              "#9c179e"
             ],
             [
              0.4444444444444444,
              "#bd3786"
             ],
             [
              0.5555555555555556,
              "#d8576b"
             ],
             [
              0.6666666666666666,
              "#ed7953"
             ],
             [
              0.7777777777777778,
              "#fb9f3a"
             ],
             [
              0.8888888888888888,
              "#fdca26"
             ],
             [
              1,
              "#f0f921"
             ]
            ],
            "type": "contour"
           }
          ],
          "contourcarpet": [
           {
            "colorbar": {
             "outlinewidth": 0,
             "ticks": ""
            },
            "type": "contourcarpet"
           }
          ],
          "heatmap": [
           {
            "colorbar": {
             "outlinewidth": 0,
             "ticks": ""
            },
            "colorscale": [
             [
              0,
              "#0d0887"
             ],
             [
              0.1111111111111111,
              "#46039f"
             ],
             [
              0.2222222222222222,
              "#7201a8"
             ],
             [
              0.3333333333333333,
              "#9c179e"
             ],
             [
              0.4444444444444444,
              "#bd3786"
             ],
             [
              0.5555555555555556,
              "#d8576b"
             ],
             [
              0.6666666666666666,
              "#ed7953"
             ],
             [
              0.7777777777777778,
              "#fb9f3a"
             ],
             [
              0.8888888888888888,
              "#fdca26"
             ],
             [
              1,
              "#f0f921"
             ]
            ],
            "type": "heatmap"
           }
          ],
          "heatmapgl": [
           {
            "colorbar": {
             "outlinewidth": 0,
             "ticks": ""
            },
            "colorscale": [
             [
              0,
              "#0d0887"
             ],
             [
              0.1111111111111111,
              "#46039f"
             ],
             [
              0.2222222222222222,
              "#7201a8"
             ],
             [
              0.3333333333333333,
              "#9c179e"
             ],
             [
              0.4444444444444444,
              "#bd3786"
             ],
             [
              0.5555555555555556,
              "#d8576b"
             ],
             [
              0.6666666666666666,
              "#ed7953"
             ],
             [
              0.7777777777777778,
              "#fb9f3a"
             ],
             [
              0.8888888888888888,
              "#fdca26"
             ],
             [
              1,
              "#f0f921"
             ]
            ],
            "type": "heatmapgl"
           }
          ],
          "histogram": [
           {
            "marker": {
             "pattern": {
              "fillmode": "overlay",
              "size": 10,
              "solidity": 0.2
             }
            },
            "type": "histogram"
           }
          ],
          "histogram2d": [
           {
            "colorbar": {
             "outlinewidth": 0,
             "ticks": ""
            },
            "colorscale": [
             [
              0,
              "#0d0887"
             ],
             [
              0.1111111111111111,
              "#46039f"
             ],
             [
              0.2222222222222222,
              "#7201a8"
             ],
             [
              0.3333333333333333,
              "#9c179e"
             ],
             [
              0.4444444444444444,
              "#bd3786"
             ],
             [
              0.5555555555555556,
              "#d8576b"
             ],
             [
              0.6666666666666666,
              "#ed7953"
             ],
             [
              0.7777777777777778,
              "#fb9f3a"
             ],
             [
              0.8888888888888888,
              "#fdca26"
             ],
             [
              1,
              "#f0f921"
             ]
            ],
            "type": "histogram2d"
           }
          ],
          "histogram2dcontour": [
           {
            "colorbar": {
             "outlinewidth": 0,
             "ticks": ""
            },
            "colorscale": [
             [
              0,
              "#0d0887"
             ],
             [
              0.1111111111111111,
              "#46039f"
             ],
             [
              0.2222222222222222,
              "#7201a8"
             ],
             [
              0.3333333333333333,
              "#9c179e"
             ],
             [
              0.4444444444444444,
              "#bd3786"
             ],
             [
              0.5555555555555556,
              "#d8576b"
             ],
             [
              0.6666666666666666,
              "#ed7953"
             ],
             [
              0.7777777777777778,
              "#fb9f3a"
             ],
             [
              0.8888888888888888,
              "#fdca26"
             ],
             [
              1,
              "#f0f921"
             ]
            ],
            "type": "histogram2dcontour"
           }
          ],
          "mesh3d": [
           {
            "colorbar": {
             "outlinewidth": 0,
             "ticks": ""
            },
            "type": "mesh3d"
           }
          ],
          "parcoords": [
           {
            "line": {
             "colorbar": {
              "outlinewidth": 0,
              "ticks": ""
             }
            },
            "type": "parcoords"
           }
          ],
          "pie": [
           {
            "automargin": true,
            "type": "pie"
           }
          ],
          "scatter": [
           {
            "marker": {
             "colorbar": {
              "outlinewidth": 0,
              "ticks": ""
             }
            },
            "type": "scatter"
           }
          ],
          "scatter3d": [
           {
            "line": {
             "colorbar": {
              "outlinewidth": 0,
              "ticks": ""
             }
            },
            "marker": {
             "colorbar": {
              "outlinewidth": 0,
              "ticks": ""
             }
            },
            "type": "scatter3d"
           }
          ],
          "scattercarpet": [
           {
            "marker": {
             "colorbar": {
              "outlinewidth": 0,
              "ticks": ""
             }
            },
            "type": "scattercarpet"
           }
          ],
          "scattergeo": [
           {
            "marker": {
             "colorbar": {
              "outlinewidth": 0,
              "ticks": ""
             }
            },
            "type": "scattergeo"
           }
          ],
          "scattergl": [
           {
            "marker": {
             "colorbar": {
              "outlinewidth": 0,
              "ticks": ""
             }
            },
            "type": "scattergl"
           }
          ],
          "scattermapbox": [
           {
            "marker": {
             "colorbar": {
              "outlinewidth": 0,
              "ticks": ""
             }
            },
            "type": "scattermapbox"
           }
          ],
          "scatterpolar": [
           {
            "marker": {
             "colorbar": {
              "outlinewidth": 0,
              "ticks": ""
             }
            },
            "type": "scatterpolar"
           }
          ],
          "scatterpolargl": [
           {
            "marker": {
             "colorbar": {
              "outlinewidth": 0,
              "ticks": ""
             }
            },
            "type": "scatterpolargl"
           }
          ],
          "scatterternary": [
           {
            "marker": {
             "colorbar": {
              "outlinewidth": 0,
              "ticks": ""
             }
            },
            "type": "scatterternary"
           }
          ],
          "surface": [
           {
            "colorbar": {
             "outlinewidth": 0,
             "ticks": ""
            },
            "colorscale": [
             [
              0,
              "#0d0887"
             ],
             [
              0.1111111111111111,
              "#46039f"
             ],
             [
              0.2222222222222222,
              "#7201a8"
             ],
             [
              0.3333333333333333,
              "#9c179e"
             ],
             [
              0.4444444444444444,
              "#bd3786"
             ],
             [
              0.5555555555555556,
              "#d8576b"
             ],
             [
              0.6666666666666666,
              "#ed7953"
             ],
             [
              0.7777777777777778,
              "#fb9f3a"
             ],
             [
              0.8888888888888888,
              "#fdca26"
             ],
             [
              1,
              "#f0f921"
             ]
            ],
            "type": "surface"
           }
          ],
          "table": [
           {
            "cells": {
             "fill": {
              "color": "#EBF0F8"
             },
             "line": {
              "color": "white"
             }
            },
            "header": {
             "fill": {
              "color": "#C8D4E3"
             },
             "line": {
              "color": "white"
             }
            },
            "type": "table"
           }
          ]
         },
         "layout": {
          "annotationdefaults": {
           "arrowcolor": "#2a3f5f",
           "arrowhead": 0,
           "arrowwidth": 1
          },
          "autotypenumbers": "strict",
          "coloraxis": {
           "colorbar": {
            "outlinewidth": 0,
            "ticks": ""
           }
          },
          "colorscale": {
           "diverging": [
            [
             0,
             "#8e0152"
            ],
            [
             0.1,
             "#c51b7d"
            ],
            [
             0.2,
             "#de77ae"
            ],
            [
             0.3,
             "#f1b6da"
            ],
            [
             0.4,
             "#fde0ef"
            ],
            [
             0.5,
             "#f7f7f7"
            ],
            [
             0.6,
             "#e6f5d0"
            ],
            [
             0.7,
             "#b8e186"
            ],
            [
             0.8,
             "#7fbc41"
            ],
            [
             0.9,
             "#4d9221"
            ],
            [
             1,
             "#276419"
            ]
           ],
           "sequential": [
            [
             0,
             "#0d0887"
            ],
            [
             0.1111111111111111,
             "#46039f"
            ],
            [
             0.2222222222222222,
             "#7201a8"
            ],
            [
             0.3333333333333333,
             "#9c179e"
            ],
            [
             0.4444444444444444,
             "#bd3786"
            ],
            [
             0.5555555555555556,
             "#d8576b"
            ],
            [
             0.6666666666666666,
             "#ed7953"
            ],
            [
             0.7777777777777778,
             "#fb9f3a"
            ],
            [
             0.8888888888888888,
             "#fdca26"
            ],
            [
             1,
             "#f0f921"
            ]
           ],
           "sequentialminus": [
            [
             0,
             "#0d0887"
            ],
            [
             0.1111111111111111,
             "#46039f"
            ],
            [
             0.2222222222222222,
             "#7201a8"
            ],
            [
             0.3333333333333333,
             "#9c179e"
            ],
            [
             0.4444444444444444,
             "#bd3786"
            ],
            [
             0.5555555555555556,
             "#d8576b"
            ],
            [
             0.6666666666666666,
             "#ed7953"
            ],
            [
             0.7777777777777778,
             "#fb9f3a"
            ],
            [
             0.8888888888888888,
             "#fdca26"
            ],
            [
             1,
             "#f0f921"
            ]
           ]
          },
          "colorway": [
           "#636efa",
           "#EF553B",
           "#00cc96",
           "#ab63fa",
           "#FFA15A",
           "#19d3f3",
           "#FF6692",
           "#B6E880",
           "#FF97FF",
           "#FECB52"
          ],
          "font": {
           "color": "#2a3f5f"
          },
          "geo": {
           "bgcolor": "white",
           "lakecolor": "white",
           "landcolor": "#E5ECF6",
           "showlakes": true,
           "showland": true,
           "subunitcolor": "white"
          },
          "hoverlabel": {
           "align": "left"
          },
          "hovermode": "closest",
          "mapbox": {
           "style": "light"
          },
          "paper_bgcolor": "white",
          "plot_bgcolor": "#E5ECF6",
          "polar": {
           "angularaxis": {
            "gridcolor": "white",
            "linecolor": "white",
            "ticks": ""
           },
           "bgcolor": "#E5ECF6",
           "radialaxis": {
            "gridcolor": "white",
            "linecolor": "white",
            "ticks": ""
           }
          },
          "scene": {
           "xaxis": {
            "backgroundcolor": "#E5ECF6",
            "gridcolor": "white",
            "gridwidth": 2,
            "linecolor": "white",
            "showbackground": true,
            "ticks": "",
            "zerolinecolor": "white"
           },
           "yaxis": {
            "backgroundcolor": "#E5ECF6",
            "gridcolor": "white",
            "gridwidth": 2,
            "linecolor": "white",
            "showbackground": true,
            "ticks": "",
            "zerolinecolor": "white"
           },
           "zaxis": {
            "backgroundcolor": "#E5ECF6",
            "gridcolor": "white",
            "gridwidth": 2,
            "linecolor": "white",
            "showbackground": true,
            "ticks": "",
            "zerolinecolor": "white"
           }
          },
          "shapedefaults": {
           "line": {
            "color": "#2a3f5f"
           }
          },
          "ternary": {
           "aaxis": {
            "gridcolor": "white",
            "linecolor": "white",
            "ticks": ""
           },
           "baxis": {
            "gridcolor": "white",
            "linecolor": "white",
            "ticks": ""
           },
           "bgcolor": "#E5ECF6",
           "caxis": {
            "gridcolor": "white",
            "linecolor": "white",
            "ticks": ""
           }
          },
          "title": {
           "x": 0.05
          },
          "xaxis": {
           "automargin": true,
           "gridcolor": "white",
           "linecolor": "white",
           "ticks": "",
           "title": {
            "standoff": 15
           },
           "zerolinecolor": "white",
           "zerolinewidth": 2
          },
          "yaxis": {
           "automargin": true,
           "gridcolor": "white",
           "linecolor": "white",
           "ticks": "",
           "title": {
            "standoff": 15
           },
           "zerolinecolor": "white",
           "zerolinewidth": 2
          }
         }
        },
        "title": {
         "text": "Confusion Matrix"
        },
        "width": 600,
        "xaxis": {
         "autorange": true,
         "dtick": 1,
         "gridcolor": "rgb(0, 0, 0)",
         "range": [
          -0.5,
          1.5
         ],
         "side": "top",
         "ticks": "",
         "title": {
          "text": "Predicted Label"
         },
         "type": "category"
        },
        "yaxis": {
         "autorange": true,
         "dtick": 1,
         "range": [
          -0.5,
          1.5
         ],
         "ticks": "",
         "ticksuffix": "  ",
         "title": {
          "text": "True Label"
         },
         "type": "category"
        }
       }
      },
      "image/png": "[encoded data removed]",
      "text/html": [
       "<div>                            <div id=\"a9d2e527-c942-4c66-9d29-7b559a7c5236\" class=\"plotly-graph-div\" style=\"height:600px; width:600px;\"></div>            <script type=\"text/javascript\">                require([\"plotly\"], function(Plotly) {                    window.PLOTLYENV=window.PLOTLYENV || {};                                    if (document.getElementById(\"a9d2e527-c942-4c66-9d29-7b559a7c5236\")) {                    Plotly.newPlot(                        \"a9d2e527-c942-4c66-9d29-7b559a7c5236\",                        [{\"colorscale\":[[0.0,\"#440154\"],[0.1111111111111111,\"#482878\"],[0.2222222222222222,\"#3e4989\"],[0.3333333333333333,\"#31688e\"],[0.4444444444444444,\"#26828e\"],[0.5555555555555556,\"#1f9e89\"],[0.6666666666666666,\"#35b779\"],[0.7777777777777778,\"#6ece58\"],[0.8888888888888888,\"#b5de2b\"],[1.0,\"#fde725\"]],\"reversescale\":false,\"showscale\":false,\"type\":\"heatmap\",\"x\":[\"0\",\"1\"],\"y\":[\"0\",\"1\"],\"z\":[[8519736,22340955],[6158128,288291127]]}],                        {\"annotations\":[{\"font\":{\"color\":\"#FFFFFF\"},\"showarrow\":false,\"text\":\"8519736\",\"x\":\"0\",\"xref\":\"x\",\"y\":\"0\",\"yref\":\"y\"},{\"font\":{\"color\":\"#FFFFFF\"},\"showarrow\":false,\"text\":\"22340955\",\"x\":\"1\",\"xref\":\"x\",\"y\":\"0\",\"yref\":\"y\"},{\"font\":{\"color\":\"#FFFFFF\"},\"showarrow\":false,\"text\":\"6158128\",\"x\":\"0\",\"xref\":\"x\",\"y\":\"1\",\"yref\":\"y\"},{\"font\":{\"color\":\"#000000\"},\"showarrow\":false,\"text\":\"288291127\",\"x\":\"1\",\"xref\":\"x\",\"y\":\"1\",\"yref\":\"y\"}],\"grid\":{\"xside\":\"bottom\"},\"height\":600,\"template\":{\"data\":{\"bar\":[{\"error_x\":{\"color\":\"#2a3f5f\"},\"error_y\":{\"color\":\"#2a3f5f\"},\"marker\":{\"line\":{\"color\":\"#E5ECF6\",\"width\":0.5},\"pattern\":{\"fillmode\":\"overlay\",\"size\":10,\"solidity\":0.2}},\"type\":\"bar\"}],\"barpolar\":[{\"marker\":{\"line\":{\"color\":\"#E5ECF6\",\"width\":0.5},\"pattern\":{\"fillmode\":\"overlay\",\"size\":10,\"solidity\":0.2}},\"type\":\"barpolar\"}],\"carpet\":[{\"aaxis\":{\"endlinecolor\":\"#2a3f5f\",\"gridcolor\":\"white\",\"linecolor\":\"white\",\"minorgridcolor\":\"white\",\"startlinecolor\":\"#2a3f5f\"},\"baxis\":{\"endlinecolor\":\"#2a3f5f\",\"gridcolor\":\"white\",\"linecolor\":\"white\",\"minorgridcolor\":\"white\",\"startlinecolor\":\"#2a3f5f\"},\"type\":\"carpet\"}],\"choropleth\":[{\"colorbar\":{\"outlinewidth\":0,\"ticks\":\"\"},\"type\":\"choropleth\"}],\"contour\":[{\"colorbar\":{\"outlinewidth\":0,\"ticks\":\"\"},\"colorscale\":[[0.0,\"#0d0887\"],[0.1111111111111111,\"#46039f\"],[0.2222222222222222,\"#7201a8\"],[0.3333333333333333,\"#9c179e\"],[0.4444444444444444,\"#bd3786\"],[0.5555555555555556,\"#d8576b\"],[0.6666666666666666,\"#ed7953\"],[0.7777777777777778,\"#fb9f3a\"],[0.8888888888888888,\"#fdca26\"],[1.0,\"#f0f921\"]],\"type\":\"contour\"}],\"contourcarpet\":[{\"colorbar\":{\"outlinewidth\":0,\"ticks\":\"\"},\"type\":\"contourcarpet\"}],\"heatmap\":[{\"colorbar\":{\"outlinewidth\":0,\"ticks\":\"\"},\"colorscale\":[[0.0,\"#0d0887\"],[0.1111111111111111,\"#46039f\"],[0.2222222222222222,\"#7201a8\"],[0.3333333333333333,\"#9c179e\"],[0.4444444444444444,\"#bd3786\"],[0.5555555555555556,\"#d8576b\"],[0.6666666666666666,\"#ed7953\"],[0.7777777777777778,\"#fb9f3a\"],[0.8888888888888888,\"#fdca26\"],[1.0,\"#f0f921\"]],\"type\":\"heatmap\"}],\"heatmapgl\":[{\"colorbar\":{\"outlinewidth\":0,\"ticks\":\"\"},\"colorscale\":[[0.0,\"#0d0887\"],[0.1111111111111111,\"#46039f\"],[0.2222222222222222,\"#7201a8\"],[0.3333333333333333,\"#9c179e\"],[0.4444444444444444,\"#bd3786\"],[0.5555555555555556,\"#d8576b\"],[0.6666666666666666,\"#ed7953\"],[0.7777777777777778,\"#fb9f3a\"],[0.8888888888888888,\"#fdca26\"],[1.0,\"#f0f921\"]],\"type\":\"heatmapgl\"}],\"histogram\":[{\"marker\":{\"pattern\":{\"fillmode\":\"overlay\",\"size\":10,\"solidity\":0.2}},\"type\":\"histogram\"}],\"histogram2d\":[{\"colorbar\":{\"outlinewidth\":0,\"ticks\":\"\"},\"colorscale\":[[0.0,\"#0d0887\"],[0.1111111111111111,\"#46039f\"],[0.2222222222222222,\"#7201a8\"],[0.3333333333333333,\"#9c179e\"],[0.4444444444444444,\"#bd3786\"],[0.5555555555555556,\"#d8576b\"],[0.6666666666666666,\"#ed7953\"],[0.7777777777777778,\"#fb9f3a\"],[0.8888888888888888,\"#fdca26\"],[1.0,\"#f0f921\"]],\"type\":\"histogram2d\"}],\"histogram2dcontour\":[{\"colorbar\":{\"outlinewidth\":0,\"ticks\":\"\"},\"colorscale\":[[0.0,\"#0d0887\"],[0.1111111111111111,\"#46039f\"],[0.2222222222222222,\"#7201a8\"],[0.3333333333333333,\"#9c179e\"],[0.4444444444444444,\"#bd3786\"],[0.5555555555555556,\"#d8576b\"],[0.6666666666666666,\"#ed7953\"],[0.7777777777777778,\"#fb9f3a\"],[0.8888888888888888,\"#fdca26\"],[1.0,\"#f0f921\"]],\"type\":\"histogram2dcontour\"}],\"mesh3d\":[{\"colorbar\":{\"outlinewidth\":0,\"ticks\":\"\"},\"type\":\"mesh3d\"}],\"parcoords\":[{\"line\":{\"colorbar\":{\"outlinewidth\":0,\"ticks\":\"\"}},\"type\":\"parcoords\"}],\"pie\":[{\"automargin\":true,\"type\":\"pie\"}],\"scatter\":[{\"marker\":{\"colorbar\":{\"outlinewidth\":0,\"ticks\":\"\"}},\"type\":\"scatter\"}],\"scatter3d\":[{\"line\":{\"colorbar\":{\"outlinewidth\":0,\"ticks\":\"\"}},\"marker\":{\"colorbar\":{\"outlinewidth\":0,\"ticks\":\"\"}},\"type\":\"scatter3d\"}],\"scattercarpet\":[{\"marker\":{\"colorbar\":{\"outlinewidth\":0,\"ticks\":\"\"}},\"type\":\"scattercarpet\"}],\"scattergeo\":[{\"marker\":{\"colorbar\":{\"outlinewidth\":0,\"ticks\":\"\"}},\"type\":\"scattergeo\"}],\"scattergl\":[{\"marker\":{\"colorbar\":{\"outlinewidth\":0,\"ticks\":\"\"}},\"type\":\"scattergl\"}],\"scattermapbox\":[{\"marker\":{\"colorbar\":{\"outlinewidth\":0,\"ticks\":\"\"}},\"type\":\"scattermapbox\"}],\"scatterpolar\":[{\"marker\":{\"colorbar\":{\"outlinewidth\":0,\"ticks\":\"\"}},\"type\":\"scatterpolar\"}],\"scatterpolargl\":[{\"marker\":{\"colorbar\":{\"outlinewidth\":0,\"ticks\":\"\"}},\"type\":\"scatterpolargl\"}],\"scatterternary\":[{\"marker\":{\"colorbar\":{\"outlinewidth\":0,\"ticks\":\"\"}},\"type\":\"scatterternary\"}],\"surface\":[{\"colorbar\":{\"outlinewidth\":0,\"ticks\":\"\"},\"colorscale\":[[0.0,\"#0d0887\"],[0.1111111111111111,\"#46039f\"],[0.2222222222222222,\"#7201a8\"],[0.3333333333333333,\"#9c179e\"],[0.4444444444444444,\"#bd3786\"],[0.5555555555555556,\"#d8576b\"],[0.6666666666666666,\"#ed7953\"],[0.7777777777777778,\"#fb9f3a\"],[0.8888888888888888,\"#fdca26\"],[1.0,\"#f0f921\"]],\"type\":\"surface\"}],\"table\":[{\"cells\":{\"fill\":{\"color\":\"#EBF0F8\"},\"line\":{\"color\":\"white\"}},\"header\":{\"fill\":{\"color\":\"#C8D4E3\"},\"line\":{\"color\":\"white\"}},\"type\":\"table\"}]},\"layout\":{\"annotationdefaults\":{\"arrowcolor\":\"#2a3f5f\",\"arrowhead\":0,\"arrowwidth\":1},\"autotypenumbers\":\"strict\",\"coloraxis\":{\"colorbar\":{\"outlinewidth\":0,\"ticks\":\"\"}},\"colorscale\":{\"diverging\":[[0,\"#8e0152\"],[0.1,\"#c51b7d\"],[0.2,\"#de77ae\"],[0.3,\"#f1b6da\"],[0.4,\"#fde0ef\"],[0.5,\"#f7f7f7\"],[0.6,\"#e6f5d0\"],[0.7,\"#b8e186\"],[0.8,\"#7fbc41\"],[0.9,\"#4d9221\"],[1,\"#276419\"]],\"sequential\":[[0.0,\"#0d0887\"],[0.1111111111111111,\"#46039f\"],[0.2222222222222222,\"#7201a8\"],[0.3333333333333333,\"#9c179e\"],[0.4444444444444444,\"#bd3786\"],[0.5555555555555556,\"#d8576b\"],[0.6666666666666666,\"#ed7953\"],[0.7777777777777778,\"#fb9f3a\"],[0.8888888888888888,\"#fdca26\"],[1.0,\"#f0f921\"]],\"sequentialminus\":[[0.0,\"#0d0887\"],[0.1111111111111111,\"#46039f\"],[0.2222222222222222,\"#7201a8\"],[0.3333333333333333,\"#9c179e\"],[0.4444444444444444,\"#bd3786\"],[0.5555555555555556,\"#d8576b\"],[0.6666666666666666,\"#ed7953\"],[0.7777777777777778,\"#fb9f3a\"],[0.8888888888888888,\"#fdca26\"],[1.0,\"#f0f921\"]]},\"colorway\":[\"#636efa\",\"#EF553B\",\"#00cc96\",\"#ab63fa\",\"#FFA15A\",\"#19d3f3\",\"#FF6692\",\"#B6E880\",\"#FF97FF\",\"#FECB52\"],\"font\":{\"color\":\"#2a3f5f\"},\"geo\":{\"bgcolor\":\"white\",\"lakecolor\":\"white\",\"landcolor\":\"#E5ECF6\",\"showlakes\":true,\"showland\":true,\"subunitcolor\":\"white\"},\"hoverlabel\":{\"align\":\"left\"},\"hovermode\":\"closest\",\"mapbox\":{\"style\":\"light\"},\"paper_bgcolor\":\"white\",\"plot_bgcolor\":\"#E5ECF6\",\"polar\":{\"angularaxis\":{\"gridcolor\":\"white\",\"linecolor\":\"white\",\"ticks\":\"\"},\"bgcolor\":\"#E5ECF6\",\"radialaxis\":{\"gridcolor\":\"white\",\"linecolor\":\"white\",\"ticks\":\"\"}},\"scene\":{\"xaxis\":{\"backgroundcolor\":\"#E5ECF6\",\"gridcolor\":\"white\",\"gridwidth\":2,\"linecolor\":\"white\",\"showbackground\":true,\"ticks\":\"\",\"zerolinecolor\":\"white\"},\"yaxis\":{\"backgroundcolor\":\"#E5ECF6\",\"gridcolor\":\"white\",\"gridwidth\":2,\"linecolor\":\"white\",\"showbackground\":true,\"ticks\":\"\",\"zerolinecolor\":\"white\"},\"zaxis\":{\"backgroundcolor\":\"#E5ECF6\",\"gridcolor\":\"white\",\"gridwidth\":2,\"linecolor\":\"white\",\"showbackground\":true,\"ticks\":\"\",\"zerolinecolor\":\"white\"}},\"shapedefaults\":{\"line\":{\"color\":\"#2a3f5f\"}},\"ternary\":{\"aaxis\":{\"gridcolor\":\"white\",\"linecolor\":\"white\",\"ticks\":\"\"},\"baxis\":{\"gridcolor\":\"white\",\"linecolor\":\"white\",\"ticks\":\"\"},\"bgcolor\":\"#E5ECF6\",\"caxis\":{\"gridcolor\":\"white\",\"linecolor\":\"white\",\"ticks\":\"\"}},\"title\":{\"x\":0.05},\"xaxis\":{\"automargin\":true,\"gridcolor\":\"white\",\"linecolor\":\"white\",\"ticks\":\"\",\"title\":{\"standoff\":15},\"zerolinecolor\":\"white\",\"zerolinewidth\":2},\"yaxis\":{\"automargin\":true,\"gridcolor\":\"white\",\"linecolor\":\"white\",\"ticks\":\"\",\"title\":{\"standoff\":15},\"zerolinecolor\":\"white\",\"zerolinewidth\":2}}},\"title\":{\"text\":\"Confusion Matrix\"},\"width\":600,\"xaxis\":{\"dtick\":1,\"gridcolor\":\"rgb(0, 0, 0)\",\"side\":\"top\",\"ticks\":\"\",\"title\":{\"text\":\"Predicted Label\"}},\"yaxis\":{\"dtick\":1,\"ticks\":\"\",\"ticksuffix\":\"  \",\"title\":{\"text\":\"True Label\"}}},                        {\"responsive\": true}                    ).then(function(){\n",
       "                            \n",
       "var gd = document.getElementById('a9d2e527-c942-4c66-9d29-7b559a7c5236');\n",
       "var x = new MutationObserver(function (mutations, observer) {{\n",
       "        var display = window.getComputedStyle(gd).display;\n",
       "        if (!display || display === 'none') {{\n",
       "            console.log([gd, 'removed!']);\n",
       "            Plotly.purge(gd);\n",
       "            observer.disconnect();\n",
       "        }}\n",
       "}});\n",
       "\n",
       "// Listen for the removal of the full notebook cells\n",
       "var notebookContainer = gd.closest('#notebook-container');\n",
       "if (notebookContainer) {{\n",
       "    x.observe(notebookContainer, {childList: true});\n",
       "}}\n",
       "\n",
       "// Listen for the clearing of the current output cell\n",
       "var outputEl = gd.closest('.output');\n",
       "if (outputEl) {{\n",
       "    x.observe(outputEl, {childList: true});\n",
       "}}\n",
       "\n",
       "                        })                };                });            </script>        </div>"
      ]
     },
     "metadata": {},
     "output_type": "display_data"
    }
   ],
   "source": [
    "fig = ff.create_annotated_heatmap(\n",
    "    [[8519736, 22340955], [6158128, 288291127]],\n",
    "    colorscale='Viridis',\n",
    "    x=['0', '1'],\n",
    "    y=['0', '1']\n",
    ")\n",
    "fig.update_layout(\n",
    "    title='Confusion Matrix', \n",
    "    xaxis_title=\"Predicted Label\",\n",
    "    yaxis_title=\"True Label\",\n",
    "    height=600,\n",
    "    width=600,\n",
    "    grid_xside=\"bottom\"\n",
    ")"
   ]
  },
  {
   "cell_type": "markdown",
   "id": "ca9f0231-ac5f-4264-9de2-92cd6475c68e",
   "metadata": {},
   "source": [
    "### Train XGB on 60% of data and re-evaluate model"
   ]
  },
  {
   "cell_type": "code",
   "execution_count": 66,
   "id": "968d9c66-a528-49ec-b948-e3e97d5c09f0",
   "metadata": {},
   "outputs": [],
   "source": [
    "def get_DMaxtrix(df):\n",
    "    return xgb.DMatrix(df[[i for i in df.columns if i != 'label']], label=df[['label']])"
   ]
  },
  {
   "cell_type": "code",
   "execution_count": 76,
   "id": "8bbc66f6-ac0e-42e8-81bd-893b46e15d31",
   "metadata": {},
   "outputs": [
    {
     "name": "stderr",
     "output_type": "stream",
     "text": [
      "N/A% (0 of 21) |                         | Elapsed Time: 0:00:00 ETA:  --:--:--"
     ]
    },
    {
     "name": "stdout",
     "output_type": "stream",
     "text": [
      "start training on 60% of the files\n"
     ]
    },
    {
     "name": "stderr",
     "output_type": "stream",
     "text": [
      "100% (21 of 21) |########################| Elapsed Time: 0:03:04 Time:  0:03:04\n",
      "N/A% (0 of 14) |                         | Elapsed Time: 0:00:00 ETA:  --:--:--"
     ]
    },
    {
     "name": "stdout",
     "output_type": "stream",
     "text": [
      "saving model\n",
      "start testing model\n"
     ]
    },
    {
     "name": "stderr",
     "output_type": "stream",
     "text": [
      "100% (14 of 14) |########################| Elapsed Time: 0:05:57 Time:  0:05:57\n"
     ]
    },
    {
     "name": "stdout",
     "output_type": "stream",
     "text": [
      "total rows = 325309946\n",
      "total_training_rows=201039883\ttotal_test_rows=124270063\n",
      "real training % = 61.80\n",
      "training 1s distribution = 90.43\n",
      "test 1s distribution = 90.65\n",
      "\n",
      "Accuracy=0.903880486485309\n",
      "Precision=0.9066599046427338\n",
      "Recall=0.9965566988632021\n",
      "F1 Score=0.9494852029957822\n"
     ]
    },
    {
     "data": {
      "application/vnd.plotly.v1+json": {
       "config": {
        "plotlyServerURL": "https://plot.ly"
       },
       "data": [
        {
         "colorscale": [
          [
           0,
           "#440154"
          ],
          [
           0.1111111111111111,
           "#482878"
          ],
          [
           0.2222222222222222,
           "#3e4989"
          ],
          [
           0.3333333333333333,
           "#31688e"
          ],
          [
           0.4444444444444444,
           "#26828e"
          ],
          [
           0.5555555555555556,
           "#1f9e89"
          ],
          [
           0.6666666666666666,
           "#35b779"
          ],
          [
           0.7777777777777778,
           "#6ece58"
          ],
          [
           0.8888888888888888,
           "#b5de2b"
          ],
          [
           1,
           "#fde725"
          ]
         ],
         "reversescale": false,
         "showscale": false,
         "type": "heatmap",
         "x": [
          "0",
          "1"
         ],
         "y": [
          "0",
          "1"
         ],
         "z": [
          [
           67188,
           11556904
          ],
          [
           387874,
           112258097
          ]
         ]
        }
       ],
       "layout": {
        "annotations": [
         {
          "font": {
           "color": "#FFFFFF"
          },
          "showarrow": false,
          "text": "67188",
          "x": "0",
          "xref": "x",
          "y": "0",
          "yref": "y"
         },
         {
          "font": {
           "color": "#FFFFFF"
          },
          "showarrow": false,
          "text": "11556904",
          "x": "1",
          "xref": "x",
          "y": "0",
          "yref": "y"
         },
         {
          "font": {
           "color": "#FFFFFF"
          },
          "showarrow": false,
          "text": "387874",
          "x": "0",
          "xref": "x",
          "y": "1",
          "yref": "y"
         },
         {
          "font": {
           "color": "#000000"
          },
          "showarrow": false,
          "text": "112258097",
          "x": "1",
          "xref": "x",
          "y": "1",
          "yref": "y"
         }
        ],
        "grid": {
         "xside": "bottom"
        },
        "height": 600,
        "template": {
         "data": {
          "bar": [
           {
            "error_x": {
             "color": "#2a3f5f"
            },
            "error_y": {
             "color": "#2a3f5f"
            },
            "marker": {
             "line": {
              "color": "#E5ECF6",
              "width": 0.5
             },
             "pattern": {
              "fillmode": "overlay",
              "size": 10,
              "solidity": 0.2
             }
            },
            "type": "bar"
           }
          ],
          "barpolar": [
           {
            "marker": {
             "line": {
              "color": "#E5ECF6",
              "width": 0.5
             },
             "pattern": {
              "fillmode": "overlay",
              "size": 10,
              "solidity": 0.2
             }
            },
            "type": "barpolar"
           }
          ],
          "carpet": [
           {
            "aaxis": {
             "endlinecolor": "#2a3f5f",
             "gridcolor": "white",
             "linecolor": "white",
             "minorgridcolor": "white",
             "startlinecolor": "#2a3f5f"
            },
            "baxis": {
             "endlinecolor": "#2a3f5f",
             "gridcolor": "white",
             "linecolor": "white",
             "minorgridcolor": "white",
             "startlinecolor": "#2a3f5f"
            },
            "type": "carpet"
           }
          ],
          "choropleth": [
           {
            "colorbar": {
             "outlinewidth": 0,
             "ticks": ""
            },
            "type": "choropleth"
           }
          ],
          "contour": [
           {
            "colorbar": {
             "outlinewidth": 0,
             "ticks": ""
            },
            "colorscale": [
             [
              0,
              "#0d0887"
             ],
             [
              0.1111111111111111,
              "#46039f"
             ],
             [
              0.2222222222222222,
              "#7201a8"
             ],
             [
              0.3333333333333333,
              "#9c179e"
             ],
             [
              0.4444444444444444,
              "#bd3786"
             ],
             [
              0.5555555555555556,
              "#d8576b"
             ],
             [
              0.6666666666666666,
              "#ed7953"
             ],
             [
              0.7777777777777778,
              "#fb9f3a"
             ],
             [
              0.8888888888888888,
              "#fdca26"
             ],
             [
              1,
              "#f0f921"
             ]
            ],
            "type": "contour"
           }
          ],
          "contourcarpet": [
           {
            "colorbar": {
             "outlinewidth": 0,
             "ticks": ""
            },
            "type": "contourcarpet"
           }
          ],
          "heatmap": [
           {
            "colorbar": {
             "outlinewidth": 0,
             "ticks": ""
            },
            "colorscale": [
             [
              0,
              "#0d0887"
             ],
             [
              0.1111111111111111,
              "#46039f"
             ],
             [
              0.2222222222222222,
              "#7201a8"
             ],
             [
              0.3333333333333333,
              "#9c179e"
             ],
             [
              0.4444444444444444,
              "#bd3786"
             ],
             [
              0.5555555555555556,
              "#d8576b"
             ],
             [
              0.6666666666666666,
              "#ed7953"
             ],
             [
              0.7777777777777778,
              "#fb9f3a"
             ],
             [
              0.8888888888888888,
              "#fdca26"
             ],
             [
              1,
              "#f0f921"
             ]
            ],
            "type": "heatmap"
           }
          ],
          "heatmapgl": [
           {
            "colorbar": {
             "outlinewidth": 0,
             "ticks": ""
            },
            "colorscale": [
             [
              0,
              "#0d0887"
             ],
             [
              0.1111111111111111,
              "#46039f"
             ],
             [
              0.2222222222222222,
              "#7201a8"
             ],
             [
              0.3333333333333333,
              "#9c179e"
             ],
             [
              0.4444444444444444,
              "#bd3786"
             ],
             [
              0.5555555555555556,
              "#d8576b"
             ],
             [
              0.6666666666666666,
              "#ed7953"
             ],
             [
              0.7777777777777778,
              "#fb9f3a"
             ],
             [
              0.8888888888888888,
              "#fdca26"
             ],
             [
              1,
              "#f0f921"
             ]
            ],
            "type": "heatmapgl"
           }
          ],
          "histogram": [
           {
            "marker": {
             "pattern": {
              "fillmode": "overlay",
              "size": 10,
              "solidity": 0.2
             }
            },
            "type": "histogram"
           }
          ],
          "histogram2d": [
           {
            "colorbar": {
             "outlinewidth": 0,
             "ticks": ""
            },
            "colorscale": [
             [
              0,
              "#0d0887"
             ],
             [
              0.1111111111111111,
              "#46039f"
             ],
             [
              0.2222222222222222,
              "#7201a8"
             ],
             [
              0.3333333333333333,
              "#9c179e"
             ],
             [
              0.4444444444444444,
              "#bd3786"
             ],
             [
              0.5555555555555556,
              "#d8576b"
             ],
             [
              0.6666666666666666,
              "#ed7953"
             ],
             [
              0.7777777777777778,
              "#fb9f3a"
             ],
             [
              0.8888888888888888,
              "#fdca26"
             ],
             [
              1,
              "#f0f921"
             ]
            ],
            "type": "histogram2d"
           }
          ],
          "histogram2dcontour": [
           {
            "colorbar": {
             "outlinewidth": 0,
             "ticks": ""
            },
            "colorscale": [
             [
              0,
              "#0d0887"
             ],
             [
              0.1111111111111111,
              "#46039f"
             ],
             [
              0.2222222222222222,
              "#7201a8"
             ],
             [
              0.3333333333333333,
              "#9c179e"
             ],
             [
              0.4444444444444444,
              "#bd3786"
             ],
             [
              0.5555555555555556,
              "#d8576b"
             ],
             [
              0.6666666666666666,
              "#ed7953"
             ],
             [
              0.7777777777777778,
              "#fb9f3a"
             ],
             [
              0.8888888888888888,
              "#fdca26"
             ],
             [
              1,
              "#f0f921"
             ]
            ],
            "type": "histogram2dcontour"
           }
          ],
          "mesh3d": [
           {
            "colorbar": {
             "outlinewidth": 0,
             "ticks": ""
            },
            "type": "mesh3d"
           }
          ],
          "parcoords": [
           {
            "line": {
             "colorbar": {
              "outlinewidth": 0,
              "ticks": ""
             }
            },
            "type": "parcoords"
           }
          ],
          "pie": [
           {
            "automargin": true,
            "type": "pie"
           }
          ],
          "scatter": [
           {
            "marker": {
             "colorbar": {
              "outlinewidth": 0,
              "ticks": ""
             }
            },
            "type": "scatter"
           }
          ],
          "scatter3d": [
           {
            "line": {
             "colorbar": {
              "outlinewidth": 0,
              "ticks": ""
             }
            },
            "marker": {
             "colorbar": {
              "outlinewidth": 0,
              "ticks": ""
             }
            },
            "type": "scatter3d"
           }
          ],
          "scattercarpet": [
           {
            "marker": {
             "colorbar": {
              "outlinewidth": 0,
              "ticks": ""
             }
            },
            "type": "scattercarpet"
           }
          ],
          "scattergeo": [
           {
            "marker": {
             "colorbar": {
              "outlinewidth": 0,
              "ticks": ""
             }
            },
            "type": "scattergeo"
           }
          ],
          "scattergl": [
           {
            "marker": {
             "colorbar": {
              "outlinewidth": 0,
              "ticks": ""
             }
            },
            "type": "scattergl"
           }
          ],
          "scattermapbox": [
           {
            "marker": {
             "colorbar": {
              "outlinewidth": 0,
              "ticks": ""
             }
            },
            "type": "scattermapbox"
           }
          ],
          "scatterpolar": [
           {
            "marker": {
             "colorbar": {
              "outlinewidth": 0,
              "ticks": ""
             }
            },
            "type": "scatterpolar"
           }
          ],
          "scatterpolargl": [
           {
            "marker": {
             "colorbar": {
              "outlinewidth": 0,
              "ticks": ""
             }
            },
            "type": "scatterpolargl"
           }
          ],
          "scatterternary": [
           {
            "marker": {
             "colorbar": {
              "outlinewidth": 0,
              "ticks": ""
             }
            },
            "type": "scatterternary"
           }
          ],
          "surface": [
           {
            "colorbar": {
             "outlinewidth": 0,
             "ticks": ""
            },
            "colorscale": [
             [
              0,
              "#0d0887"
             ],
             [
              0.1111111111111111,
              "#46039f"
             ],
             [
              0.2222222222222222,
              "#7201a8"
             ],
             [
              0.3333333333333333,
              "#9c179e"
             ],
             [
              0.4444444444444444,
              "#bd3786"
             ],
             [
              0.5555555555555556,
              "#d8576b"
             ],
             [
              0.6666666666666666,
              "#ed7953"
             ],
             [
              0.7777777777777778,
              "#fb9f3a"
             ],
             [
              0.8888888888888888,
              "#fdca26"
             ],
             [
              1,
              "#f0f921"
             ]
            ],
            "type": "surface"
           }
          ],
          "table": [
           {
            "cells": {
             "fill": {
              "color": "#EBF0F8"
             },
             "line": {
              "color": "white"
             }
            },
            "header": {
             "fill": {
              "color": "#C8D4E3"
             },
             "line": {
              "color": "white"
             }
            },
            "type": "table"
           }
          ]
         },
         "layout": {
          "annotationdefaults": {
           "arrowcolor": "#2a3f5f",
           "arrowhead": 0,
           "arrowwidth": 1
          },
          "autotypenumbers": "strict",
          "coloraxis": {
           "colorbar": {
            "outlinewidth": 0,
            "ticks": ""
           }
          },
          "colorscale": {
           "diverging": [
            [
             0,
             "#8e0152"
            ],
            [
             0.1,
             "#c51b7d"
            ],
            [
             0.2,
             "#de77ae"
            ],
            [
             0.3,
             "#f1b6da"
            ],
            [
             0.4,
             "#fde0ef"
            ],
            [
             0.5,
             "#f7f7f7"
            ],
            [
             0.6,
             "#e6f5d0"
            ],
            [
             0.7,
             "#b8e186"
            ],
            [
             0.8,
             "#7fbc41"
            ],
            [
             0.9,
             "#4d9221"
            ],
            [
             1,
             "#276419"
            ]
           ],
           "sequential": [
            [
             0,
             "#0d0887"
            ],
            [
             0.1111111111111111,
             "#46039f"
            ],
            [
             0.2222222222222222,
             "#7201a8"
            ],
            [
             0.3333333333333333,
             "#9c179e"
            ],
            [
             0.4444444444444444,
             "#bd3786"
            ],
            [
             0.5555555555555556,
             "#d8576b"
            ],
            [
             0.6666666666666666,
             "#ed7953"
            ],
            [
             0.7777777777777778,
             "#fb9f3a"
            ],
            [
             0.8888888888888888,
             "#fdca26"
            ],
            [
             1,
             "#f0f921"
            ]
           ],
           "sequentialminus": [
            [
             0,
             "#0d0887"
            ],
            [
             0.1111111111111111,
             "#46039f"
            ],
            [
             0.2222222222222222,
             "#7201a8"
            ],
            [
             0.3333333333333333,
             "#9c179e"
            ],
            [
             0.4444444444444444,
             "#bd3786"
            ],
            [
             0.5555555555555556,
             "#d8576b"
            ],
            [
             0.6666666666666666,
             "#ed7953"
            ],
            [
             0.7777777777777778,
             "#fb9f3a"
            ],
            [
             0.8888888888888888,
             "#fdca26"
            ],
            [
             1,
             "#f0f921"
            ]
           ]
          },
          "colorway": [
           "#636efa",
           "#EF553B",
           "#00cc96",
           "#ab63fa",
           "#FFA15A",
           "#19d3f3",
           "#FF6692",
           "#B6E880",
           "#FF97FF",
           "#FECB52"
          ],
          "font": {
           "color": "#2a3f5f"
          },
          "geo": {
           "bgcolor": "white",
           "lakecolor": "white",
           "landcolor": "#E5ECF6",
           "showlakes": true,
           "showland": true,
           "subunitcolor": "white"
          },
          "hoverlabel": {
           "align": "left"
          },
          "hovermode": "closest",
          "mapbox": {
           "style": "light"
          },
          "paper_bgcolor": "white",
          "plot_bgcolor": "#E5ECF6",
          "polar": {
           "angularaxis": {
            "gridcolor": "white",
            "linecolor": "white",
            "ticks": ""
           },
           "bgcolor": "#E5ECF6",
           "radialaxis": {
            "gridcolor": "white",
            "linecolor": "white",
            "ticks": ""
           }
          },
          "scene": {
           "xaxis": {
            "backgroundcolor": "#E5ECF6",
            "gridcolor": "white",
            "gridwidth": 2,
            "linecolor": "white",
            "showbackground": true,
            "ticks": "",
            "zerolinecolor": "white"
           },
           "yaxis": {
            "backgroundcolor": "#E5ECF6",
            "gridcolor": "white",
            "gridwidth": 2,
            "linecolor": "white",
            "showbackground": true,
            "ticks": "",
            "zerolinecolor": "white"
           },
           "zaxis": {
            "backgroundcolor": "#E5ECF6",
            "gridcolor": "white",
            "gridwidth": 2,
            "linecolor": "white",
            "showbackground": true,
            "ticks": "",
            "zerolinecolor": "white"
           }
          },
          "shapedefaults": {
           "line": {
            "color": "#2a3f5f"
           }
          },
          "ternary": {
           "aaxis": {
            "gridcolor": "white",
            "linecolor": "white",
            "ticks": ""
           },
           "baxis": {
            "gridcolor": "white",
            "linecolor": "white",
            "ticks": ""
           },
           "bgcolor": "#E5ECF6",
           "caxis": {
            "gridcolor": "white",
            "linecolor": "white",
            "ticks": ""
           }
          },
          "title": {
           "x": 0.05
          },
          "xaxis": {
           "automargin": true,
           "gridcolor": "white",
           "linecolor": "white",
           "ticks": "",
           "title": {
            "standoff": 15
           },
           "zerolinecolor": "white",
           "zerolinewidth": 2
          },
          "yaxis": {
           "automargin": true,
           "gridcolor": "white",
           "linecolor": "white",
           "ticks": "",
           "title": {
            "standoff": 15
           },
           "zerolinecolor": "white",
           "zerolinewidth": 2
          }
         }
        },
        "title": {
         "text": "Confusion Matrix"
        },
        "width": 600,
        "xaxis": {
         "autorange": true,
         "dtick": 1,
         "gridcolor": "rgb(0, 0, 0)",
         "range": [
          -0.5,
          1.5
         ],
         "side": "top",
         "ticks": "",
         "title": {
          "text": "Predicted Label"
         },
         "type": "category"
        },
        "yaxis": {
         "autorange": true,
         "dtick": 1,
         "range": [
          -0.5,
          1.5
         ],
         "ticks": "",
         "ticksuffix": "  ",
         "title": {
          "text": "True Label"
         },
         "type": "category"
        }
       }
      },
      "image/png": "[encoded data removed]",
      "text/html": [
       "<div>                            <div id=\"6c0f0108-79f9-46da-888a-d05ced573e12\" class=\"plotly-graph-div\" style=\"height:600px; width:600px;\"></div>            <script type=\"text/javascript\">                require([\"plotly\"], function(Plotly) {                    window.PLOTLYENV=window.PLOTLYENV || {};                                    if (document.getElementById(\"6c0f0108-79f9-46da-888a-d05ced573e12\")) {                    Plotly.newPlot(                        \"6c0f0108-79f9-46da-888a-d05ced573e12\",                        [{\"colorscale\":[[0.0,\"#440154\"],[0.1111111111111111,\"#482878\"],[0.2222222222222222,\"#3e4989\"],[0.3333333333333333,\"#31688e\"],[0.4444444444444444,\"#26828e\"],[0.5555555555555556,\"#1f9e89\"],[0.6666666666666666,\"#35b779\"],[0.7777777777777778,\"#6ece58\"],[0.8888888888888888,\"#b5de2b\"],[1.0,\"#fde725\"]],\"reversescale\":false,\"showscale\":false,\"type\":\"heatmap\",\"x\":[\"0\",\"1\"],\"y\":[\"0\",\"1\"],\"z\":[[67188,11556904],[387874,112258097]]}],                        {\"annotations\":[{\"font\":{\"color\":\"#FFFFFF\"},\"showarrow\":false,\"text\":\"67188\",\"x\":\"0\",\"xref\":\"x\",\"y\":\"0\",\"yref\":\"y\"},{\"font\":{\"color\":\"#FFFFFF\"},\"showarrow\":false,\"text\":\"11556904\",\"x\":\"1\",\"xref\":\"x\",\"y\":\"0\",\"yref\":\"y\"},{\"font\":{\"color\":\"#FFFFFF\"},\"showarrow\":false,\"text\":\"387874\",\"x\":\"0\",\"xref\":\"x\",\"y\":\"1\",\"yref\":\"y\"},{\"font\":{\"color\":\"#000000\"},\"showarrow\":false,\"text\":\"112258097\",\"x\":\"1\",\"xref\":\"x\",\"y\":\"1\",\"yref\":\"y\"}],\"grid\":{\"xside\":\"bottom\"},\"height\":600,\"template\":{\"data\":{\"bar\":[{\"error_x\":{\"color\":\"#2a3f5f\"},\"error_y\":{\"color\":\"#2a3f5f\"},\"marker\":{\"line\":{\"color\":\"#E5ECF6\",\"width\":0.5},\"pattern\":{\"fillmode\":\"overlay\",\"size\":10,\"solidity\":0.2}},\"type\":\"bar\"}],\"barpolar\":[{\"marker\":{\"line\":{\"color\":\"#E5ECF6\",\"width\":0.5},\"pattern\":{\"fillmode\":\"overlay\",\"size\":10,\"solidity\":0.2}},\"type\":\"barpolar\"}],\"carpet\":[{\"aaxis\":{\"endlinecolor\":\"#2a3f5f\",\"gridcolor\":\"white\",\"linecolor\":\"white\",\"minorgridcolor\":\"white\",\"startlinecolor\":\"#2a3f5f\"},\"baxis\":{\"endlinecolor\":\"#2a3f5f\",\"gridcolor\":\"white\",\"linecolor\":\"white\",\"minorgridcolor\":\"white\",\"startlinecolor\":\"#2a3f5f\"},\"type\":\"carpet\"}],\"choropleth\":[{\"colorbar\":{\"outlinewidth\":0,\"ticks\":\"\"},\"type\":\"choropleth\"}],\"contour\":[{\"colorbar\":{\"outlinewidth\":0,\"ticks\":\"\"},\"colorscale\":[[0.0,\"#0d0887\"],[0.1111111111111111,\"#46039f\"],[0.2222222222222222,\"#7201a8\"],[0.3333333333333333,\"#9c179e\"],[0.4444444444444444,\"#bd3786\"],[0.5555555555555556,\"#d8576b\"],[0.6666666666666666,\"#ed7953\"],[0.7777777777777778,\"#fb9f3a\"],[0.8888888888888888,\"#fdca26\"],[1.0,\"#f0f921\"]],\"type\":\"contour\"}],\"contourcarpet\":[{\"colorbar\":{\"outlinewidth\":0,\"ticks\":\"\"},\"type\":\"contourcarpet\"}],\"heatmap\":[{\"colorbar\":{\"outlinewidth\":0,\"ticks\":\"\"},\"colorscale\":[[0.0,\"#0d0887\"],[0.1111111111111111,\"#46039f\"],[0.2222222222222222,\"#7201a8\"],[0.3333333333333333,\"#9c179e\"],[0.4444444444444444,\"#bd3786\"],[0.5555555555555556,\"#d8576b\"],[0.6666666666666666,\"#ed7953\"],[0.7777777777777778,\"#fb9f3a\"],[0.8888888888888888,\"#fdca26\"],[1.0,\"#f0f921\"]],\"type\":\"heatmap\"}],\"heatmapgl\":[{\"colorbar\":{\"outlinewidth\":0,\"ticks\":\"\"},\"colorscale\":[[0.0,\"#0d0887\"],[0.1111111111111111,\"#46039f\"],[0.2222222222222222,\"#7201a8\"],[0.3333333333333333,\"#9c179e\"],[0.4444444444444444,\"#bd3786\"],[0.5555555555555556,\"#d8576b\"],[0.6666666666666666,\"#ed7953\"],[0.7777777777777778,\"#fb9f3a\"],[0.8888888888888888,\"#fdca26\"],[1.0,\"#f0f921\"]],\"type\":\"heatmapgl\"}],\"histogram\":[{\"marker\":{\"pattern\":{\"fillmode\":\"overlay\",\"size\":10,\"solidity\":0.2}},\"type\":\"histogram\"}],\"histogram2d\":[{\"colorbar\":{\"outlinewidth\":0,\"ticks\":\"\"},\"colorscale\":[[0.0,\"#0d0887\"],[0.1111111111111111,\"#46039f\"],[0.2222222222222222,\"#7201a8\"],[0.3333333333333333,\"#9c179e\"],[0.4444444444444444,\"#bd3786\"],[0.5555555555555556,\"#d8576b\"],[0.6666666666666666,\"#ed7953\"],[0.7777777777777778,\"#fb9f3a\"],[0.8888888888888888,\"#fdca26\"],[1.0,\"#f0f921\"]],\"type\":\"histogram2d\"}],\"histogram2dcontour\":[{\"colorbar\":{\"outlinewidth\":0,\"ticks\":\"\"},\"colorscale\":[[0.0,\"#0d0887\"],[0.1111111111111111,\"#46039f\"],[0.2222222222222222,\"#7201a8\"],[0.3333333333333333,\"#9c179e\"],[0.4444444444444444,\"#bd3786\"],[0.5555555555555556,\"#d8576b\"],[0.6666666666666666,\"#ed7953\"],[0.7777777777777778,\"#fb9f3a\"],[0.8888888888888888,\"#fdca26\"],[1.0,\"#f0f921\"]],\"type\":\"histogram2dcontour\"}],\"mesh3d\":[{\"colorbar\":{\"outlinewidth\":0,\"ticks\":\"\"},\"type\":\"mesh3d\"}],\"parcoords\":[{\"line\":{\"colorbar\":{\"outlinewidth\":0,\"ticks\":\"\"}},\"type\":\"parcoords\"}],\"pie\":[{\"automargin\":true,\"type\":\"pie\"}],\"scatter\":[{\"marker\":{\"colorbar\":{\"outlinewidth\":0,\"ticks\":\"\"}},\"type\":\"scatter\"}],\"scatter3d\":[{\"line\":{\"colorbar\":{\"outlinewidth\":0,\"ticks\":\"\"}},\"marker\":{\"colorbar\":{\"outlinewidth\":0,\"ticks\":\"\"}},\"type\":\"scatter3d\"}],\"scattercarpet\":[{\"marker\":{\"colorbar\":{\"outlinewidth\":0,\"ticks\":\"\"}},\"type\":\"scattercarpet\"}],\"scattergeo\":[{\"marker\":{\"colorbar\":{\"outlinewidth\":0,\"ticks\":\"\"}},\"type\":\"scattergeo\"}],\"scattergl\":[{\"marker\":{\"colorbar\":{\"outlinewidth\":0,\"ticks\":\"\"}},\"type\":\"scattergl\"}],\"scattermapbox\":[{\"marker\":{\"colorbar\":{\"outlinewidth\":0,\"ticks\":\"\"}},\"type\":\"scattermapbox\"}],\"scatterpolar\":[{\"marker\":{\"colorbar\":{\"outlinewidth\":0,\"ticks\":\"\"}},\"type\":\"scatterpolar\"}],\"scatterpolargl\":[{\"marker\":{\"colorbar\":{\"outlinewidth\":0,\"ticks\":\"\"}},\"type\":\"scatterpolargl\"}],\"scatterternary\":[{\"marker\":{\"colorbar\":{\"outlinewidth\":0,\"ticks\":\"\"}},\"type\":\"scatterternary\"}],\"surface\":[{\"colorbar\":{\"outlinewidth\":0,\"ticks\":\"\"},\"colorscale\":[[0.0,\"#0d0887\"],[0.1111111111111111,\"#46039f\"],[0.2222222222222222,\"#7201a8\"],[0.3333333333333333,\"#9c179e\"],[0.4444444444444444,\"#bd3786\"],[0.5555555555555556,\"#d8576b\"],[0.6666666666666666,\"#ed7953\"],[0.7777777777777778,\"#fb9f3a\"],[0.8888888888888888,\"#fdca26\"],[1.0,\"#f0f921\"]],\"type\":\"surface\"}],\"table\":[{\"cells\":{\"fill\":{\"color\":\"#EBF0F8\"},\"line\":{\"color\":\"white\"}},\"header\":{\"fill\":{\"color\":\"#C8D4E3\"},\"line\":{\"color\":\"white\"}},\"type\":\"table\"}]},\"layout\":{\"annotationdefaults\":{\"arrowcolor\":\"#2a3f5f\",\"arrowhead\":0,\"arrowwidth\":1},\"autotypenumbers\":\"strict\",\"coloraxis\":{\"colorbar\":{\"outlinewidth\":0,\"ticks\":\"\"}},\"colorscale\":{\"diverging\":[[0,\"#8e0152\"],[0.1,\"#c51b7d\"],[0.2,\"#de77ae\"],[0.3,\"#f1b6da\"],[0.4,\"#fde0ef\"],[0.5,\"#f7f7f7\"],[0.6,\"#e6f5d0\"],[0.7,\"#b8e186\"],[0.8,\"#7fbc41\"],[0.9,\"#4d9221\"],[1,\"#276419\"]],\"sequential\":[[0.0,\"#0d0887\"],[0.1111111111111111,\"#46039f\"],[0.2222222222222222,\"#7201a8\"],[0.3333333333333333,\"#9c179e\"],[0.4444444444444444,\"#bd3786\"],[0.5555555555555556,\"#d8576b\"],[0.6666666666666666,\"#ed7953\"],[0.7777777777777778,\"#fb9f3a\"],[0.8888888888888888,\"#fdca26\"],[1.0,\"#f0f921\"]],\"sequentialminus\":[[0.0,\"#0d0887\"],[0.1111111111111111,\"#46039f\"],[0.2222222222222222,\"#7201a8\"],[0.3333333333333333,\"#9c179e\"],[0.4444444444444444,\"#bd3786\"],[0.5555555555555556,\"#d8576b\"],[0.6666666666666666,\"#ed7953\"],[0.7777777777777778,\"#fb9f3a\"],[0.8888888888888888,\"#fdca26\"],[1.0,\"#f0f921\"]]},\"colorway\":[\"#636efa\",\"#EF553B\",\"#00cc96\",\"#ab63fa\",\"#FFA15A\",\"#19d3f3\",\"#FF6692\",\"#B6E880\",\"#FF97FF\",\"#FECB52\"],\"font\":{\"color\":\"#2a3f5f\"},\"geo\":{\"bgcolor\":\"white\",\"lakecolor\":\"white\",\"landcolor\":\"#E5ECF6\",\"showlakes\":true,\"showland\":true,\"subunitcolor\":\"white\"},\"hoverlabel\":{\"align\":\"left\"},\"hovermode\":\"closest\",\"mapbox\":{\"style\":\"light\"},\"paper_bgcolor\":\"white\",\"plot_bgcolor\":\"#E5ECF6\",\"polar\":{\"angularaxis\":{\"gridcolor\":\"white\",\"linecolor\":\"white\",\"ticks\":\"\"},\"bgcolor\":\"#E5ECF6\",\"radialaxis\":{\"gridcolor\":\"white\",\"linecolor\":\"white\",\"ticks\":\"\"}},\"scene\":{\"xaxis\":{\"backgroundcolor\":\"#E5ECF6\",\"gridcolor\":\"white\",\"gridwidth\":2,\"linecolor\":\"white\",\"showbackground\":true,\"ticks\":\"\",\"zerolinecolor\":\"white\"},\"yaxis\":{\"backgroundcolor\":\"#E5ECF6\",\"gridcolor\":\"white\",\"gridwidth\":2,\"linecolor\":\"white\",\"showbackground\":true,\"ticks\":\"\",\"zerolinecolor\":\"white\"},\"zaxis\":{\"backgroundcolor\":\"#E5ECF6\",\"gridcolor\":\"white\",\"gridwidth\":2,\"linecolor\":\"white\",\"showbackground\":true,\"ticks\":\"\",\"zerolinecolor\":\"white\"}},\"shapedefaults\":{\"line\":{\"color\":\"#2a3f5f\"}},\"ternary\":{\"aaxis\":{\"gridcolor\":\"white\",\"linecolor\":\"white\",\"ticks\":\"\"},\"baxis\":{\"gridcolor\":\"white\",\"linecolor\":\"white\",\"ticks\":\"\"},\"bgcolor\":\"#E5ECF6\",\"caxis\":{\"gridcolor\":\"white\",\"linecolor\":\"white\",\"ticks\":\"\"}},\"title\":{\"x\":0.05},\"xaxis\":{\"automargin\":true,\"gridcolor\":\"white\",\"linecolor\":\"white\",\"ticks\":\"\",\"title\":{\"standoff\":15},\"zerolinecolor\":\"white\",\"zerolinewidth\":2},\"yaxis\":{\"automargin\":true,\"gridcolor\":\"white\",\"linecolor\":\"white\",\"ticks\":\"\",\"title\":{\"standoff\":15},\"zerolinecolor\":\"white\",\"zerolinewidth\":2}}},\"title\":{\"text\":\"Confusion Matrix\"},\"width\":600,\"xaxis\":{\"dtick\":1,\"gridcolor\":\"rgb(0, 0, 0)\",\"side\":\"top\",\"ticks\":\"\",\"title\":{\"text\":\"Predicted Label\"}},\"yaxis\":{\"dtick\":1,\"ticks\":\"\",\"ticksuffix\":\"  \",\"title\":{\"text\":\"True Label\"}}},                        {\"responsive\": true}                    ).then(function(){\n",
       "                            \n",
       "var gd = document.getElementById('6c0f0108-79f9-46da-888a-d05ced573e12');\n",
       "var x = new MutationObserver(function (mutations, observer) {{\n",
       "        var display = window.getComputedStyle(gd).display;\n",
       "        if (!display || display === 'none') {{\n",
       "            console.log([gd, 'removed!']);\n",
       "            Plotly.purge(gd);\n",
       "            observer.disconnect();\n",
       "        }}\n",
       "}});\n",
       "\n",
       "// Listen for the removal of the full notebook cells\n",
       "var notebookContainer = gd.closest('#notebook-container');\n",
       "if (notebookContainer) {{\n",
       "    x.observe(notebookContainer, {childList: true});\n",
       "}}\n",
       "\n",
       "// Listen for the clearing of the current output cell\n",
       "var outputEl = gd.closest('.output');\n",
       "if (outputEl) {{\n",
       "    x.observe(outputEl, {childList: true});\n",
       "}}\n",
       "\n",
       "                        })                };                });            </script>        </div>"
      ]
     },
     "metadata": {},
     "output_type": "display_data"
    }
   ],
   "source": [
    "params = {'eta': 0.3, 'gamma': 0, 'max_depth': 6, 'min_child_weight': 0, 'tree_method': 'gpu_hist'}    # params defined with cross validation above\n",
    "rounding_threshold = 0.5\n",
    "total_training_rows = 0\n",
    "total_training_ones = 0\n",
    "total_test_rows = 0\n",
    "total_test_ones = 0\n",
    "model = None\n",
    "\n",
    "print('start training on 60% of the files')\n",
    "for file in progressbar(training_files, max_value=len(training_files)):\n",
    "    df = pd.read_parquet(file)\n",
    "    total_training_rows += len(df)\n",
    "    total_training_ones += len(df[df['label'] == 1])\n",
    "    model = xgb.train(params, get_DMaxtrix(df), xgb_model=model)\n",
    "\n",
    "print('saving model')\n",
    "model.save_model('xgb_full_model.bin')\n",
    "results = {'tp': 0, 'tn': 0, 'fp': 0, 'fn': 0}\n",
    "\n",
    "print('start testing model')\n",
    "for file in progressbar(test_files, max_value=len(test_files)):\n",
    "    df = pd.read_parquet(file).reset_index(drop=True)\n",
    "    total_test_rows += len(df)\n",
    "    total_test_ones += len(df[df['label'] == 1])\n",
    "    y_pred = [1 if i >= rounding_threshold else 0 for i in model.predict(get_DMaxtrix(df))]\n",
    "    aux = df[['label']].join(pd.DataFrame(data={'predicted': y_pred}).applymap(int))\n",
    "    results['tp'] += len(aux[(aux['label'] == 1) & (aux['predicted'] == 1)])\n",
    "    results['tn'] += len(aux[(aux['label'] == 0) & (aux['predicted'] == 0)])\n",
    "    results['fp'] += len(aux[(aux['label'] == 0) & (aux['predicted'] == 1)])\n",
    "    results['fn'] += len(aux[(aux['label'] == 1) & (aux['predicted'] == 0)])\n",
    "\n",
    "results['accuracy'] = (results['tp'] + results['tn']) / total_test_rows\n",
    "results['precision'] = results['tp'] / (results['tp'] + results['fp'])\n",
    "results['recall'] = results['tp'] / (results['tp'] + results['fn'])\n",
    "results['f1'] = (2 * results['precision'] * results['recall']) / (results['precision'] + results['recall'])\n",
    "\n",
    "total_rows = total_training_rows + total_test_rows\n",
    "print(f'total rows = {total_rows}')\n",
    "print(f'{total_training_rows=}\\t{total_test_rows=}')\n",
    "print(f'real training % = {100 * total_training_rows / total_rows:.2f}')\n",
    "print(f'training 1s distribution = {100 * total_training_ones / total_training_rows:.2f}')\n",
    "print(f'test 1s distribution = {100 * total_test_ones / total_test_rows:.2f}')\n",
    "print(f'\\nAccuracy={results[\"accuracy\"]}')\n",
    "print(f'Precision={results[\"precision\"]}')\n",
    "print(f'Recall={results[\"recall\"]}')\n",
    "print(f'F1 Score={results[\"f1\"]}')\n",
    "\n",
    "fig = ff.create_annotated_heatmap(\n",
    "    [[results['tn'], results['fp']], [results['fn'], results['tp']]],\n",
    "    colorscale='Viridis',\n",
    "    x=['0', '1'],\n",
    "    y=['0', '1']\n",
    ")\n",
    "fig.update_layout(\n",
    "    title='Confusion Matrix', \n",
    "    xaxis_title=\"Predicted Label\",\n",
    "    yaxis_title=\"True Label\",\n",
    "    height=600,\n",
    "    width=600,\n",
    "    grid_xside=\"bottom\"\n",
    ")"
   ]
  }
 ],
 "metadata": {
  "kernelspec": {
   "display_name": "Python 3",
   "language": "python",
   "name": "python3"
  },
  "language_info": {
   "codemirror_mode": {
    "name": "ipython",
    "version": 3
   },
   "file_extension": ".py",
   "mimetype": "text/x-python",
   "name": "python",
   "nbconvert_exporter": "python",
   "pygments_lexer": "ipython3",
   "version": "3.8.8"
  }
 },
 "nbformat": 4,
 "nbformat_minor": 5
}
